{
 "cells": [
  {
   "cell_type": "markdown",
   "metadata": {},
   "source": [
    "# Text Mining Assignment\n",
    "\n",
    "- Khatiwada Angelina\n",
    "- Data Science and Economics student\n",
    "- ID: 943505\n",
    "\n",
    "Feb 2021"
   ]
  },
  {
   "cell_type": "markdown",
   "metadata": {},
   "source": [
    "## Part (a): Text data pre-processing"
   ]
  },
  {
   "cell_type": "markdown",
   "metadata": {},
   "source": [
    "Corpus: The SMS Spam Collection v.1, a public set of SMS labeled messages that have been collected for mobile phone spam research. It has one collection composed by 5,574 English, real and non-enconded messages, tagged according being legitimate (ham) or spam.\n",
    "\n",
    "Source: http://www.dt.fee.unicamp.br/~tiago/smsspamcollection/"
   ]
  },
  {
   "cell_type": "markdown",
   "metadata": {},
   "source": [
    "### Task 1"
   ]
  },
  {
   "cell_type": "markdown",
   "metadata": {},
   "source": [
    "Importing Dataset"
   ]
  },
  {
   "cell_type": "code",
   "execution_count": 1,
   "metadata": {},
   "outputs": [],
   "source": [
    "import pandas as pd\n",
    "import numpy as np"
   ]
  },
  {
   "cell_type": "code",
   "execution_count": 2,
   "metadata": {},
   "outputs": [
    {
     "data": {
      "text/html": [
       "<div>\n",
       "<style scoped>\n",
       "    .dataframe tbody tr th:only-of-type {\n",
       "        vertical-align: middle;\n",
       "    }\n",
       "\n",
       "    .dataframe tbody tr th {\n",
       "        vertical-align: top;\n",
       "    }\n",
       "\n",
       "    .dataframe thead th {\n",
       "        text-align: right;\n",
       "    }\n",
       "</style>\n",
       "<table border=\"1\" class=\"dataframe\">\n",
       "  <thead>\n",
       "    <tr style=\"text-align: right;\">\n",
       "      <th></th>\n",
       "      <th>class</th>\n",
       "      <th>text</th>\n",
       "    </tr>\n",
       "  </thead>\n",
       "  <tbody>\n",
       "    <tr>\n",
       "      <th>0</th>\n",
       "      <td>ham</td>\n",
       "      <td>Ok lar... Joking wif u oni...</td>\n",
       "    </tr>\n",
       "    <tr>\n",
       "      <th>1</th>\n",
       "      <td>spam</td>\n",
       "      <td>Free entry in 2 a wkly comp to win FA Cup final tkts 21st May 2005. Text FA to 87121 to receive entry question(std txt rate)T&amp;C's apply 08452810075over18's</td>\n",
       "    </tr>\n",
       "    <tr>\n",
       "      <th>2</th>\n",
       "      <td>ham</td>\n",
       "      <td>U dun say so early hor... U c already then say...</td>\n",
       "    </tr>\n",
       "    <tr>\n",
       "      <th>3</th>\n",
       "      <td>ham</td>\n",
       "      <td>Nah I don't think he goes to usf, he lives around here though</td>\n",
       "    </tr>\n",
       "    <tr>\n",
       "      <th>4</th>\n",
       "      <td>spam</td>\n",
       "      <td>FreeMsg Hey there darling it's been 3 week's now and no word back! I'd like some fun you up for it still? Tb ok! XxX std chgs to send, £1.50 to rcv</td>\n",
       "    </tr>\n",
       "  </tbody>\n",
       "</table>\n",
       "</div>"
      ],
      "text/plain": [
       "  class  \\\n",
       "0   ham   \n",
       "1  spam   \n",
       "2   ham   \n",
       "3   ham   \n",
       "4  spam   \n",
       "\n",
       "                                                                                                                                                          text  \n",
       "0                                                                                                                                Ok lar... Joking wif u oni...  \n",
       "1  Free entry in 2 a wkly comp to win FA Cup final tkts 21st May 2005. Text FA to 87121 to receive entry question(std txt rate)T&C's apply 08452810075over18's  \n",
       "2                                                                                                            U dun say so early hor... U c already then say...  \n",
       "3                                                                                                Nah I don't think he goes to usf, he lives around here though  \n",
       "4          FreeMsg Hey there darling it's been 3 week's now and no word back! I'd like some fun you up for it still? Tb ok! XxX std chgs to send, £1.50 to rcv  "
      ]
     },
     "execution_count": 2,
     "metadata": {},
     "output_type": "execute_result"
    }
   ],
   "source": [
    "pd.set_option('display.max_colwidth', None)\n",
    "emails = pd.read_csv('SMSSpamCollection.txt', delimiter= '\\t')\n",
    "emails = pd.DataFrame(emails)\n",
    "emails.columns = [\"class\", \"text\"]\n",
    "emails.head()\n",
    "# a lot of heterogeneity in data"
   ]
  },
  {
   "cell_type": "markdown",
   "metadata": {},
   "source": [
    "Encoding categories (ham - 1; spam - 0)"
   ]
  },
  {
   "cell_type": "code",
   "execution_count": 3,
   "metadata": {},
   "outputs": [
    {
     "data": {
      "text/html": [
       "<div>\n",
       "<style scoped>\n",
       "    .dataframe tbody tr th:only-of-type {\n",
       "        vertical-align: middle;\n",
       "    }\n",
       "\n",
       "    .dataframe tbody tr th {\n",
       "        vertical-align: top;\n",
       "    }\n",
       "\n",
       "    .dataframe thead th {\n",
       "        text-align: right;\n",
       "    }\n",
       "</style>\n",
       "<table border=\"1\" class=\"dataframe\">\n",
       "  <thead>\n",
       "    <tr style=\"text-align: right;\">\n",
       "      <th></th>\n",
       "      <th>class</th>\n",
       "      <th>text</th>\n",
       "    </tr>\n",
       "  </thead>\n",
       "  <tbody>\n",
       "    <tr>\n",
       "      <th>0</th>\n",
       "      <td>1</td>\n",
       "      <td>Ok lar... Joking wif u oni...</td>\n",
       "    </tr>\n",
       "    <tr>\n",
       "      <th>1</th>\n",
       "      <td>0</td>\n",
       "      <td>Free entry in 2 a wkly comp to win FA Cup final tkts 21st May 2005. Text FA to 87121 to receive entry question(std txt rate)T&amp;C's apply 08452810075over18's</td>\n",
       "    </tr>\n",
       "    <tr>\n",
       "      <th>2</th>\n",
       "      <td>1</td>\n",
       "      <td>U dun say so early hor... U c already then say...</td>\n",
       "    </tr>\n",
       "    <tr>\n",
       "      <th>3</th>\n",
       "      <td>1</td>\n",
       "      <td>Nah I don't think he goes to usf, he lives around here though</td>\n",
       "    </tr>\n",
       "    <tr>\n",
       "      <th>4</th>\n",
       "      <td>0</td>\n",
       "      <td>FreeMsg Hey there darling it's been 3 week's now and no word back! I'd like some fun you up for it still? Tb ok! XxX std chgs to send, £1.50 to rcv</td>\n",
       "    </tr>\n",
       "  </tbody>\n",
       "</table>\n",
       "</div>"
      ],
      "text/plain": [
       "   class  \\\n",
       "0      1   \n",
       "1      0   \n",
       "2      1   \n",
       "3      1   \n",
       "4      0   \n",
       "\n",
       "                                                                                                                                                          text  \n",
       "0                                                                                                                                Ok lar... Joking wif u oni...  \n",
       "1  Free entry in 2 a wkly comp to win FA Cup final tkts 21st May 2005. Text FA to 87121 to receive entry question(std txt rate)T&C's apply 08452810075over18's  \n",
       "2                                                                                                            U dun say so early hor... U c already then say...  \n",
       "3                                                                                                Nah I don't think he goes to usf, he lives around here though  \n",
       "4          FreeMsg Hey there darling it's been 3 week's now and no word back! I'd like some fun you up for it still? Tb ok! XxX std chgs to send, £1.50 to rcv  "
      ]
     },
     "execution_count": 3,
     "metadata": {},
     "output_type": "execute_result"
    }
   ],
   "source": [
    "emails['class'] = np.where(emails['class']=='ham',1,0)\n",
    "emails.head()"
   ]
  },
  {
   "cell_type": "markdown",
   "metadata": {},
   "source": [
    "Visualizing the most frequent terms in ham and spam using wordcloud"
   ]
  },
  {
   "cell_type": "code",
   "execution_count": 4,
   "metadata": {},
   "outputs": [],
   "source": [
    "import matplotlib.pyplot as plt\n",
    "from wordcloud import WordCloud\n",
    "\n",
    "def visualize(target):\n",
    "    words = ''\n",
    "    for msg in emails[emails['class'] == target]['text']:\n",
    "        msg = msg.lower()\n",
    "        words += msg + ' '\n",
    "    wordcloud = WordCloud(width=1000, height=1000, random_state=1, background_color='white').generate(words)\n",
    "    plt.imshow(wordcloud)\n",
    "    plt.axis('off')\n",
    "    plt.show()  "
   ]
  },
  {
   "cell_type": "code",
   "execution_count": 5,
   "metadata": {},
   "outputs": [
    {
     "data": {
      "image/png": "[encoded data removed]",
      "text/plain": [
       "<Figure size 432x288 with 1 Axes>"
      ]
     },
     "metadata": {
      "needs_background": "light"
     },
     "output_type": "display_data"
    },
    {
     "data": {
      "image/png": "[encoded data removed]",
      "text/plain": [
       "<Figure size 432x288 with 1 Axes>"
      ]
     },
     "metadata": {
      "needs_background": "light"
     },
     "output_type": "display_data"
    }
   ],
   "source": [
    "visualize(1) #ham\n",
    "visualize(0) #spam"
   ]
  },
  {
   "cell_type": "markdown",
   "metadata": {},
   "source": [
    "Downloading stopwords and punctuation disctionary from nltk"
   ]
  },
  {
   "cell_type": "code",
   "execution_count": 6,
   "metadata": {},
   "outputs": [
    {
     "name": "stderr",
     "output_type": "stream",
     "text": [
      "[nltk_data] Downloading package stopwords to\n",
      "[nltk_data]     C:\\Users\\Admin\\AppData\\Roaming\\nltk_data...\n",
      "[nltk_data]   Package stopwords is already up-to-date!\n",
      "[nltk_data] Downloading package punkt to\n",
      "[nltk_data]     C:\\Users\\Admin\\AppData\\Roaming\\nltk_data...\n",
      "[nltk_data]   Package punkt is already up-to-date!\n"
     ]
    },
    {
     "data": {
      "text/plain": [
       "True"
      ]
     },
     "execution_count": 6,
     "metadata": {},
     "output_type": "execute_result"
    }
   ],
   "source": [
    "import nltk\n",
    "nltk.download('stopwords')\n",
    "nltk.download('punkt')"
   ]
  },
  {
   "cell_type": "code",
   "execution_count": 7,
   "metadata": {},
   "outputs": [],
   "source": [
    "from nltk.corpus import stopwords \n",
    "import string\n",
    "stopword = stopwords.words(\"english\")\n",
    "stopword = stopword+ list(string.punctuation)"
   ]
  },
  {
   "cell_type": "markdown",
   "metadata": {},
   "source": [
    "Tokenizing corpus and eliminating punctuation and stop words"
   ]
  },
  {
   "cell_type": "code",
   "execution_count": 8,
   "metadata": {},
   "outputs": [],
   "source": [
    "e_text = emails['text']"
   ]
  },
  {
   "cell_type": "code",
   "execution_count": 9,
   "metadata": {
    "scrolled": false
   },
   "outputs": [
    {
     "name": "stdout",
     "output_type": "stream",
     "text": [
      "['ok', 'lar', 'joking', 'wif', 'u', 'oni']\n",
      "['free', 'entry', 'wkly', 'comp', 'win', 'fa', 'cup', 'final', 'tkts', 'may', 'text', 'fa', 'receive', 'entry', 'question', 'std', 'txt', 'rate', 'c', 'apply']\n",
      "['u', 'dun', 'say', 'early', 'hor', 'u', 'c', 'already', 'say']\n",
      "['nah', 'think', 'goes', 'usf', 'lives', 'around', 'though']\n",
      "['freemsg', 'hey', 'darling', 'week', 'word', 'back', 'like', 'fun', 'still', 'tb', 'ok', 'xxx', 'std', 'chgs', 'send', 'rcv']\n"
     ]
    }
   ],
   "source": [
    "from nltk.tokenize import word_tokenize\n",
    "result = []\n",
    "for x in e_text:\n",
    "    tok = [w for w in word_tokenize(x.lower())\n",
    "              if w.isalpha() and w not in stopword]\n",
    "    result.append(tok)\n",
    "print(*result[:5], sep='\\n')#printing first 5 rows"
   ]
  },
  {
   "cell_type": "markdown",
   "metadata": {},
   "source": [
    "Creating a list of bigrams "
   ]
  },
  {
   "cell_type": "code",
   "execution_count": 10,
   "metadata": {},
   "outputs": [
    {
     "name": "stdout",
     "output_type": "stream",
     "text": [
      "[('ok', 'lar'), ('lar', 'joking'), ('joking', 'wif'), ('wif', 'u'), ('u', 'oni')]\n",
      "[('free', 'entry'), ('entry', 'wkly'), ('wkly', 'comp'), ('comp', 'win'), ('win', 'fa'), ('fa', 'cup'), ('cup', 'final'), ('final', 'tkts'), ('tkts', 'may'), ('may', 'text'), ('text', 'fa'), ('fa', 'receive'), ('receive', 'entry'), ('entry', 'question'), ('question', 'std'), ('std', 'txt'), ('txt', 'rate'), ('rate', 'c'), ('c', 'apply')]\n",
      "[('u', 'dun'), ('dun', 'say'), ('say', 'early'), ('early', 'hor'), ('hor', 'u'), ('u', 'c'), ('c', 'already'), ('already', 'say')]\n",
      "[('nah', 'think'), ('think', 'goes'), ('goes', 'usf'), ('usf', 'lives'), ('lives', 'around'), ('around', 'though')]\n",
      "[('freemsg', 'hey'), ('hey', 'darling'), ('darling', 'week'), ('week', 'word'), ('word', 'back'), ('back', 'like'), ('like', 'fun'), ('fun', 'still'), ('still', 'tb'), ('tb', 'ok'), ('ok', 'xxx'), ('xxx', 'std'), ('std', 'chgs'), ('chgs', 'send'), ('send', 'rcv')]\n"
     ]
    }
   ],
   "source": [
    "bigrams_list =[]\n",
    "for x in result:\n",
    "    doc =[]\n",
    "    bigrams = nltk.ngrams(x, n = 2)\n",
    "    for grams in bigrams:\n",
    "        doc.append(grams)\n",
    "    bigrams_list.append(doc)\n",
    "print(*bigrams_list[:5],sep='\\n') "
   ]
  },
  {
   "cell_type": "markdown",
   "metadata": {},
   "source": [
    "### Task  2"
   ]
  },
  {
   "cell_type": "markdown",
   "metadata": {},
   "source": [
    "Splititng original corpus in sentences"
   ]
  },
  {
   "cell_type": "code",
   "execution_count": 11,
   "metadata": {},
   "outputs": [
    {
     "name": "stdout",
     "output_type": "stream",
     "text": [
      "['Ok lar...', 'Joking wif u oni...']\n",
      "['Free entry in 2 a wkly comp to win FA Cup final tkts 21st May 2005.', \"Text FA to 87121 to receive entry question(std txt rate)T&C's apply 08452810075over18's\"]\n",
      "['U dun say so early hor... U c already then say...']\n",
      "[\"Nah I don't think he goes to usf, he lives around here though\"]\n",
      "[\"FreeMsg Hey there darling it's been 3 week's now and no word back!\", \"I'd like some fun you up for it still?\", 'Tb ok!', 'XxX std chgs to send, £1.50 to rcv']\n"
     ]
    }
   ],
   "source": [
    "sent=[]\n",
    "for x in e_text:\n",
    "    s = nltk.sent_tokenize(x)\n",
    "    sent.append(s)\n",
    "print(*sent[:5],sep='\\n')"
   ]
  },
  {
   "cell_type": "markdown",
   "metadata": {},
   "source": [
    "Vectorizing **cleaned corpus** from task 1 with a bag-of words (unigrams)"
   ]
  },
  {
   "cell_type": "code",
   "execution_count": 12,
   "metadata": {},
   "outputs": [],
   "source": [
    "#transforming corpus to series\n",
    "text =[]\n",
    "for x in result:\n",
    "    xtostr = ' '.join(map(str, x))\n",
    "    text.append(xtostr)\n",
    "text = pd.Series(text)"
   ]
  },
  {
   "cell_type": "code",
   "execution_count": 13,
   "metadata": {},
   "outputs": [
    {
     "data": {
      "text/html": [
       "<div>\n",
       "<style scoped>\n",
       "    .dataframe tbody tr th:only-of-type {\n",
       "        vertical-align: middle;\n",
       "    }\n",
       "\n",
       "    .dataframe tbody tr th {\n",
       "        vertical-align: top;\n",
       "    }\n",
       "\n",
       "    .dataframe thead th {\n",
       "        text-align: right;\n",
       "    }\n",
       "</style>\n",
       "<table border=\"1\" class=\"dataframe\">\n",
       "  <thead>\n",
       "    <tr style=\"text-align: right;\">\n",
       "      <th></th>\n",
       "      <th>0</th>\n",
       "      <th>1</th>\n",
       "      <th>2</th>\n",
       "      <th>3</th>\n",
       "      <th>4</th>\n",
       "      <th>5</th>\n",
       "      <th>6</th>\n",
       "      <th>7</th>\n",
       "      <th>8</th>\n",
       "      <th>9</th>\n",
       "      <th>...</th>\n",
       "      <th>5561</th>\n",
       "      <th>5562</th>\n",
       "      <th>5563</th>\n",
       "      <th>5564</th>\n",
       "      <th>5565</th>\n",
       "      <th>5566</th>\n",
       "      <th>5567</th>\n",
       "      <th>5568</th>\n",
       "      <th>5569</th>\n",
       "      <th>5570</th>\n",
       "    </tr>\n",
       "  </thead>\n",
       "  <tbody>\n",
       "    <tr>\n",
       "      <th>aa</th>\n",
       "      <td>0</td>\n",
       "      <td>0</td>\n",
       "      <td>0</td>\n",
       "      <td>0</td>\n",
       "      <td>0</td>\n",
       "      <td>0</td>\n",
       "      <td>0</td>\n",
       "      <td>0</td>\n",
       "      <td>0</td>\n",
       "      <td>0</td>\n",
       "      <td>...</td>\n",
       "      <td>0</td>\n",
       "      <td>0</td>\n",
       "      <td>0</td>\n",
       "      <td>0</td>\n",
       "      <td>0</td>\n",
       "      <td>0</td>\n",
       "      <td>0</td>\n",
       "      <td>0</td>\n",
       "      <td>0</td>\n",
       "      <td>0</td>\n",
       "    </tr>\n",
       "    <tr>\n",
       "      <th>aah</th>\n",
       "      <td>0</td>\n",
       "      <td>0</td>\n",
       "      <td>0</td>\n",
       "      <td>0</td>\n",
       "      <td>0</td>\n",
       "      <td>0</td>\n",
       "      <td>0</td>\n",
       "      <td>0</td>\n",
       "      <td>0</td>\n",
       "      <td>0</td>\n",
       "      <td>...</td>\n",
       "      <td>0</td>\n",
       "      <td>0</td>\n",
       "      <td>0</td>\n",
       "      <td>0</td>\n",
       "      <td>0</td>\n",
       "      <td>0</td>\n",
       "      <td>0</td>\n",
       "      <td>0</td>\n",
       "      <td>0</td>\n",
       "      <td>0</td>\n",
       "    </tr>\n",
       "    <tr>\n",
       "      <th>aaniye</th>\n",
       "      <td>0</td>\n",
       "      <td>0</td>\n",
       "      <td>0</td>\n",
       "      <td>0</td>\n",
       "      <td>0</td>\n",
       "      <td>0</td>\n",
       "      <td>0</td>\n",
       "      <td>0</td>\n",
       "      <td>0</td>\n",
       "      <td>0</td>\n",
       "      <td>...</td>\n",
       "      <td>0</td>\n",
       "      <td>0</td>\n",
       "      <td>0</td>\n",
       "      <td>0</td>\n",
       "      <td>0</td>\n",
       "      <td>0</td>\n",
       "      <td>0</td>\n",
       "      <td>0</td>\n",
       "      <td>0</td>\n",
       "      <td>0</td>\n",
       "    </tr>\n",
       "    <tr>\n",
       "      <th>aaooooright</th>\n",
       "      <td>0</td>\n",
       "      <td>0</td>\n",
       "      <td>0</td>\n",
       "      <td>0</td>\n",
       "      <td>0</td>\n",
       "      <td>0</td>\n",
       "      <td>0</td>\n",
       "      <td>0</td>\n",
       "      <td>0</td>\n",
       "      <td>0</td>\n",
       "      <td>...</td>\n",
       "      <td>0</td>\n",
       "      <td>0</td>\n",
       "      <td>0</td>\n",
       "      <td>0</td>\n",
       "      <td>0</td>\n",
       "      <td>0</td>\n",
       "      <td>0</td>\n",
       "      <td>0</td>\n",
       "      <td>0</td>\n",
       "      <td>0</td>\n",
       "    </tr>\n",
       "    <tr>\n",
       "      <th>aathi</th>\n",
       "      <td>0</td>\n",
       "      <td>0</td>\n",
       "      <td>0</td>\n",
       "      <td>0</td>\n",
       "      <td>0</td>\n",
       "      <td>0</td>\n",
       "      <td>0</td>\n",
       "      <td>0</td>\n",
       "      <td>0</td>\n",
       "      <td>0</td>\n",
       "      <td>...</td>\n",
       "      <td>0</td>\n",
       "      <td>0</td>\n",
       "      <td>0</td>\n",
       "      <td>0</td>\n",
       "      <td>0</td>\n",
       "      <td>0</td>\n",
       "      <td>0</td>\n",
       "      <td>0</td>\n",
       "      <td>0</td>\n",
       "      <td>0</td>\n",
       "    </tr>\n",
       "  </tbody>\n",
       "</table>\n",
       "<p>5 rows × 5571 columns</p>\n",
       "</div>"
      ],
      "text/plain": [
       "             0     1     2     3     4     5     6     7     8     9     ...  \\\n",
       "aa              0     0     0     0     0     0     0     0     0     0  ...   \n",
       "aah             0     0     0     0     0     0     0     0     0     0  ...   \n",
       "aaniye          0     0     0     0     0     0     0     0     0     0  ...   \n",
       "aaooooright     0     0     0     0     0     0     0     0     0     0  ...   \n",
       "aathi           0     0     0     0     0     0     0     0     0     0  ...   \n",
       "\n",
       "             5561  5562  5563  5564  5565  5566  5567  5568  5569  5570  \n",
       "aa              0     0     0     0     0     0     0     0     0     0  \n",
       "aah             0     0     0     0     0     0     0     0     0     0  \n",
       "aaniye          0     0     0     0     0     0     0     0     0     0  \n",
       "aaooooright     0     0     0     0     0     0     0     0     0     0  \n",
       "aathi           0     0     0     0     0     0     0     0     0     0  \n",
       "\n",
       "[5 rows x 5571 columns]"
      ]
     },
     "execution_count": 13,
     "metadata": {},
     "output_type": "execute_result"
    }
   ],
   "source": [
    "from sklearn.feature_extraction.text import CountVectorizer \n",
    "vec = CountVectorizer()\n",
    "X1 = vec.fit_transform(text)\n",
    "df = pd.DataFrame(X1.toarray(), columns=vec.get_feature_names())\n",
    "df = df.transpose()\n",
    "df.head()"
   ]
  },
  {
   "cell_type": "code",
   "execution_count": 14,
   "metadata": {},
   "outputs": [
    {
     "name": "stdout",
     "output_type": "stream",
     "text": [
      "(7195, 5571)\n"
     ]
    }
   ],
   "source": [
    "print(df.shape) #number of features (terms) and documents"
   ]
  },
  {
   "cell_type": "markdown",
   "metadata": {},
   "source": [
    "Vectorizing **cleaned corpus** from task 1 with a bag-of words (unigrams and bigrams)"
   ]
  },
  {
   "cell_type": "code",
   "execution_count": 15,
   "metadata": {},
   "outputs": [
    {
     "data": {
      "text/html": [
       "<div>\n",
       "<style scoped>\n",
       "    .dataframe tbody tr th:only-of-type {\n",
       "        vertical-align: middle;\n",
       "    }\n",
       "\n",
       "    .dataframe tbody tr th {\n",
       "        vertical-align: top;\n",
       "    }\n",
       "\n",
       "    .dataframe thead th {\n",
       "        text-align: right;\n",
       "    }\n",
       "</style>\n",
       "<table border=\"1\" class=\"dataframe\">\n",
       "  <thead>\n",
       "    <tr style=\"text-align: right;\">\n",
       "      <th></th>\n",
       "      <th>0</th>\n",
       "      <th>1</th>\n",
       "      <th>2</th>\n",
       "      <th>3</th>\n",
       "      <th>4</th>\n",
       "      <th>5</th>\n",
       "      <th>6</th>\n",
       "      <th>7</th>\n",
       "      <th>8</th>\n",
       "      <th>9</th>\n",
       "      <th>...</th>\n",
       "      <th>5561</th>\n",
       "      <th>5562</th>\n",
       "      <th>5563</th>\n",
       "      <th>5564</th>\n",
       "      <th>5565</th>\n",
       "      <th>5566</th>\n",
       "      <th>5567</th>\n",
       "      <th>5568</th>\n",
       "      <th>5569</th>\n",
       "      <th>5570</th>\n",
       "    </tr>\n",
       "  </thead>\n",
       "  <tbody>\n",
       "    <tr>\n",
       "      <th>aa</th>\n",
       "      <td>0</td>\n",
       "      <td>0</td>\n",
       "      <td>0</td>\n",
       "      <td>0</td>\n",
       "      <td>0</td>\n",
       "      <td>0</td>\n",
       "      <td>0</td>\n",
       "      <td>0</td>\n",
       "      <td>0</td>\n",
       "      <td>0</td>\n",
       "      <td>...</td>\n",
       "      <td>0</td>\n",
       "      <td>0</td>\n",
       "      <td>0</td>\n",
       "      <td>0</td>\n",
       "      <td>0</td>\n",
       "      <td>0</td>\n",
       "      <td>0</td>\n",
       "      <td>0</td>\n",
       "      <td>0</td>\n",
       "      <td>0</td>\n",
       "    </tr>\n",
       "    <tr>\n",
       "      <th>aa exhaust</th>\n",
       "      <td>0</td>\n",
       "      <td>0</td>\n",
       "      <td>0</td>\n",
       "      <td>0</td>\n",
       "      <td>0</td>\n",
       "      <td>0</td>\n",
       "      <td>0</td>\n",
       "      <td>0</td>\n",
       "      <td>0</td>\n",
       "      <td>0</td>\n",
       "      <td>...</td>\n",
       "      <td>0</td>\n",
       "      <td>0</td>\n",
       "      <td>0</td>\n",
       "      <td>0</td>\n",
       "      <td>0</td>\n",
       "      <td>0</td>\n",
       "      <td>0</td>\n",
       "      <td>0</td>\n",
       "      <td>0</td>\n",
       "      <td>0</td>\n",
       "    </tr>\n",
       "    <tr>\n",
       "      <th>aah</th>\n",
       "      <td>0</td>\n",
       "      <td>0</td>\n",
       "      <td>0</td>\n",
       "      <td>0</td>\n",
       "      <td>0</td>\n",
       "      <td>0</td>\n",
       "      <td>0</td>\n",
       "      <td>0</td>\n",
       "      <td>0</td>\n",
       "      <td>0</td>\n",
       "      <td>...</td>\n",
       "      <td>0</td>\n",
       "      <td>0</td>\n",
       "      <td>0</td>\n",
       "      <td>0</td>\n",
       "      <td>0</td>\n",
       "      <td>0</td>\n",
       "      <td>0</td>\n",
       "      <td>0</td>\n",
       "      <td>0</td>\n",
       "      <td>0</td>\n",
       "    </tr>\n",
       "    <tr>\n",
       "      <th>aah bless</th>\n",
       "      <td>0</td>\n",
       "      <td>0</td>\n",
       "      <td>0</td>\n",
       "      <td>0</td>\n",
       "      <td>0</td>\n",
       "      <td>0</td>\n",
       "      <td>0</td>\n",
       "      <td>0</td>\n",
       "      <td>0</td>\n",
       "      <td>0</td>\n",
       "      <td>...</td>\n",
       "      <td>0</td>\n",
       "      <td>0</td>\n",
       "      <td>0</td>\n",
       "      <td>0</td>\n",
       "      <td>0</td>\n",
       "      <td>0</td>\n",
       "      <td>0</td>\n",
       "      <td>0</td>\n",
       "      <td>0</td>\n",
       "      <td>0</td>\n",
       "    </tr>\n",
       "    <tr>\n",
       "      <th>aah cuddle</th>\n",
       "      <td>0</td>\n",
       "      <td>0</td>\n",
       "      <td>0</td>\n",
       "      <td>0</td>\n",
       "      <td>0</td>\n",
       "      <td>0</td>\n",
       "      <td>0</td>\n",
       "      <td>0</td>\n",
       "      <td>0</td>\n",
       "      <td>0</td>\n",
       "      <td>...</td>\n",
       "      <td>0</td>\n",
       "      <td>0</td>\n",
       "      <td>0</td>\n",
       "      <td>0</td>\n",
       "      <td>0</td>\n",
       "      <td>0</td>\n",
       "      <td>0</td>\n",
       "      <td>0</td>\n",
       "      <td>0</td>\n",
       "      <td>0</td>\n",
       "    </tr>\n",
       "  </tbody>\n",
       "</table>\n",
       "<p>5 rows × 5571 columns</p>\n",
       "</div>"
      ],
      "text/plain": [
       "            0     1     2     3     4     5     6     7     8     9     ...  \\\n",
       "aa             0     0     0     0     0     0     0     0     0     0  ...   \n",
       "aa exhaust     0     0     0     0     0     0     0     0     0     0  ...   \n",
       "aah            0     0     0     0     0     0     0     0     0     0  ...   \n",
       "aah bless      0     0     0     0     0     0     0     0     0     0  ...   \n",
       "aah cuddle     0     0     0     0     0     0     0     0     0     0  ...   \n",
       "\n",
       "            5561  5562  5563  5564  5565  5566  5567  5568  5569  5570  \n",
       "aa             0     0     0     0     0     0     0     0     0     0  \n",
       "aa exhaust     0     0     0     0     0     0     0     0     0     0  \n",
       "aah            0     0     0     0     0     0     0     0     0     0  \n",
       "aah bless      0     0     0     0     0     0     0     0     0     0  \n",
       "aah cuddle     0     0     0     0     0     0     0     0     0     0  \n",
       "\n",
       "[5 rows x 5571 columns]"
      ]
     },
     "execution_count": 15,
     "metadata": {},
     "output_type": "execute_result"
    }
   ],
   "source": [
    "vec2 = CountVectorizer(analyzer='word', ngram_range=(1, 2))\n",
    "X2 = vec2.fit_transform(text)\n",
    "df2 = pd.DataFrame(X2.toarray(), columns=vec2.get_feature_names())\n",
    "df2 = df2.transpose()\n",
    "df2.head()"
   ]
  },
  {
   "cell_type": "markdown",
   "metadata": {},
   "source": [
    "Vectorizing **cleaned corpus** from task 1 with TF-IDF methods"
   ]
  },
  {
   "cell_type": "code",
   "execution_count": 16,
   "metadata": {},
   "outputs": [
    {
     "data": {
      "text/html": [
       "<div>\n",
       "<style scoped>\n",
       "    .dataframe tbody tr th:only-of-type {\n",
       "        vertical-align: middle;\n",
       "    }\n",
       "\n",
       "    .dataframe tbody tr th {\n",
       "        vertical-align: top;\n",
       "    }\n",
       "\n",
       "    .dataframe thead th {\n",
       "        text-align: right;\n",
       "    }\n",
       "</style>\n",
       "<table border=\"1\" class=\"dataframe\">\n",
       "  <thead>\n",
       "    <tr style=\"text-align: right;\">\n",
       "      <th></th>\n",
       "      <th>0</th>\n",
       "      <th>1</th>\n",
       "      <th>2</th>\n",
       "      <th>3</th>\n",
       "      <th>4</th>\n",
       "      <th>5</th>\n",
       "      <th>6</th>\n",
       "      <th>7</th>\n",
       "      <th>8</th>\n",
       "      <th>9</th>\n",
       "      <th>...</th>\n",
       "      <th>5561</th>\n",
       "      <th>5562</th>\n",
       "      <th>5563</th>\n",
       "      <th>5564</th>\n",
       "      <th>5565</th>\n",
       "      <th>5566</th>\n",
       "      <th>5567</th>\n",
       "      <th>5568</th>\n",
       "      <th>5569</th>\n",
       "      <th>5570</th>\n",
       "    </tr>\n",
       "  </thead>\n",
       "  <tbody>\n",
       "    <tr>\n",
       "      <th>aa</th>\n",
       "      <td>0.0</td>\n",
       "      <td>0.0</td>\n",
       "      <td>0.0</td>\n",
       "      <td>0.0</td>\n",
       "      <td>0.0</td>\n",
       "      <td>0.0</td>\n",
       "      <td>0.0</td>\n",
       "      <td>0.0</td>\n",
       "      <td>0.0</td>\n",
       "      <td>0.0</td>\n",
       "      <td>...</td>\n",
       "      <td>0.0</td>\n",
       "      <td>0.0</td>\n",
       "      <td>0.0</td>\n",
       "      <td>0.0</td>\n",
       "      <td>0.0</td>\n",
       "      <td>0.0</td>\n",
       "      <td>0.0</td>\n",
       "      <td>0.0</td>\n",
       "      <td>0.0</td>\n",
       "      <td>0.0</td>\n",
       "    </tr>\n",
       "    <tr>\n",
       "      <th>aah</th>\n",
       "      <td>0.0</td>\n",
       "      <td>0.0</td>\n",
       "      <td>0.0</td>\n",
       "      <td>0.0</td>\n",
       "      <td>0.0</td>\n",
       "      <td>0.0</td>\n",
       "      <td>0.0</td>\n",
       "      <td>0.0</td>\n",
       "      <td>0.0</td>\n",
       "      <td>0.0</td>\n",
       "      <td>...</td>\n",
       "      <td>0.0</td>\n",
       "      <td>0.0</td>\n",
       "      <td>0.0</td>\n",
       "      <td>0.0</td>\n",
       "      <td>0.0</td>\n",
       "      <td>0.0</td>\n",
       "      <td>0.0</td>\n",
       "      <td>0.0</td>\n",
       "      <td>0.0</td>\n",
       "      <td>0.0</td>\n",
       "    </tr>\n",
       "    <tr>\n",
       "      <th>aaniye</th>\n",
       "      <td>0.0</td>\n",
       "      <td>0.0</td>\n",
       "      <td>0.0</td>\n",
       "      <td>0.0</td>\n",
       "      <td>0.0</td>\n",
       "      <td>0.0</td>\n",
       "      <td>0.0</td>\n",
       "      <td>0.0</td>\n",
       "      <td>0.0</td>\n",
       "      <td>0.0</td>\n",
       "      <td>...</td>\n",
       "      <td>0.0</td>\n",
       "      <td>0.0</td>\n",
       "      <td>0.0</td>\n",
       "      <td>0.0</td>\n",
       "      <td>0.0</td>\n",
       "      <td>0.0</td>\n",
       "      <td>0.0</td>\n",
       "      <td>0.0</td>\n",
       "      <td>0.0</td>\n",
       "      <td>0.0</td>\n",
       "    </tr>\n",
       "    <tr>\n",
       "      <th>aaooooright</th>\n",
       "      <td>0.0</td>\n",
       "      <td>0.0</td>\n",
       "      <td>0.0</td>\n",
       "      <td>0.0</td>\n",
       "      <td>0.0</td>\n",
       "      <td>0.0</td>\n",
       "      <td>0.0</td>\n",
       "      <td>0.0</td>\n",
       "      <td>0.0</td>\n",
       "      <td>0.0</td>\n",
       "      <td>...</td>\n",
       "      <td>0.0</td>\n",
       "      <td>0.0</td>\n",
       "      <td>0.0</td>\n",
       "      <td>0.0</td>\n",
       "      <td>0.0</td>\n",
       "      <td>0.0</td>\n",
       "      <td>0.0</td>\n",
       "      <td>0.0</td>\n",
       "      <td>0.0</td>\n",
       "      <td>0.0</td>\n",
       "    </tr>\n",
       "    <tr>\n",
       "      <th>aathi</th>\n",
       "      <td>0.0</td>\n",
       "      <td>0.0</td>\n",
       "      <td>0.0</td>\n",
       "      <td>0.0</td>\n",
       "      <td>0.0</td>\n",
       "      <td>0.0</td>\n",
       "      <td>0.0</td>\n",
       "      <td>0.0</td>\n",
       "      <td>0.0</td>\n",
       "      <td>0.0</td>\n",
       "      <td>...</td>\n",
       "      <td>0.0</td>\n",
       "      <td>0.0</td>\n",
       "      <td>0.0</td>\n",
       "      <td>0.0</td>\n",
       "      <td>0.0</td>\n",
       "      <td>0.0</td>\n",
       "      <td>0.0</td>\n",
       "      <td>0.0</td>\n",
       "      <td>0.0</td>\n",
       "      <td>0.0</td>\n",
       "    </tr>\n",
       "  </tbody>\n",
       "</table>\n",
       "<p>5 rows × 5571 columns</p>\n",
       "</div>"
      ],
      "text/plain": [
       "             0     1     2     3     4     5     6     7     8     9     ...  \\\n",
       "aa            0.0   0.0   0.0   0.0   0.0   0.0   0.0   0.0   0.0   0.0  ...   \n",
       "aah           0.0   0.0   0.0   0.0   0.0   0.0   0.0   0.0   0.0   0.0  ...   \n",
       "aaniye        0.0   0.0   0.0   0.0   0.0   0.0   0.0   0.0   0.0   0.0  ...   \n",
       "aaooooright   0.0   0.0   0.0   0.0   0.0   0.0   0.0   0.0   0.0   0.0  ...   \n",
       "aathi         0.0   0.0   0.0   0.0   0.0   0.0   0.0   0.0   0.0   0.0  ...   \n",
       "\n",
       "             5561  5562  5563  5564  5565  5566  5567  5568  5569  5570  \n",
       "aa            0.0   0.0   0.0   0.0   0.0   0.0   0.0   0.0   0.0   0.0  \n",
       "aah           0.0   0.0   0.0   0.0   0.0   0.0   0.0   0.0   0.0   0.0  \n",
       "aaniye        0.0   0.0   0.0   0.0   0.0   0.0   0.0   0.0   0.0   0.0  \n",
       "aaooooright   0.0   0.0   0.0   0.0   0.0   0.0   0.0   0.0   0.0   0.0  \n",
       "aathi         0.0   0.0   0.0   0.0   0.0   0.0   0.0   0.0   0.0   0.0  \n",
       "\n",
       "[5 rows x 5571 columns]"
      ]
     },
     "execution_count": 16,
     "metadata": {},
     "output_type": "execute_result"
    }
   ],
   "source": [
    "from sklearn.feature_extraction.text import TfidfVectorizer\n",
    "vec3 = TfidfVectorizer()\n",
    "X3 = vec3.fit_transform(text)\n",
    "tfidf = pd.DataFrame(X3.toarray(), columns=vec3.get_feature_names())\n",
    "tfidf = tfidf.transpose()\n",
    "tfidf.head()"
   ]
  },
  {
   "cell_type": "code",
   "execution_count": 17,
   "metadata": {},
   "outputs": [
    {
     "name": "stdout",
     "output_type": "stream",
     "text": [
      "  (0, 4321)\t0.5420590563241163\n",
      "  (0, 6957)\t0.42802217002637843\n",
      "  (0, 3225)\t0.5297301927430984\n",
      "  (0, 3402)\t0.4049125581115893\n",
      "  (0, 4296)\t0.28000132964471275\n",
      "  (1, 289)\t0.1896203019897564\n",
      "  (1, 4974)\t0.19721955593027554\n",
      "  (1, 6559)\t0.14007593053623113\n",
      "  (1, 5917)\t0.2254263280142869\n",
      "  (1, 4924)\t0.2011547335431004\n",
      "  (1, 5027)\t0.18686171276890262\n",
      "  (1, 6255)\t0.13784963668955105\n",
      "  (1, 3783)\t0.17588195656076158\n",
      "  (1, 6381)\t0.24676392738380085\n",
      "  (1, 2196)\t0.20566772340473133\n",
      "  (1, 1423)\t0.2254263280142869\n",
      "  (1, 2079)\t0.5249780079624702\n",
      "  (1, 6968)\t0.16596705123971575\n",
      "  (1, 1212)\t0.21981380524220726\n",
      "  (1, 7007)\t0.21294463252770984\n",
      "  (1, 1953)\t0.4023094670862008\n",
      "  (1, 2344)\t0.1293085427694372\n",
      "  (2, 188)\t0.3092765333905295\n",
      "  (2, 2867)\t0.5144993525987204\n",
      "  (2, 1831)\t0.37167089338446296\n",
      "  (2, 5348)\t0.6199014250157037\n",
      "  (2, 1813)\t0.3423761270061474\n",
      "  (3, 6320)\t0.36259436916979954\n",
      "  (3, 337)\t0.32063625860603523\n",
      "  (3, 3546)\t0.46185310287686804\n",
      "  (3, 6686)\t0.41141219092523446\n",
      "  (3, 2531)\t0.3668641660669661\n",
      "  (3, 6302)\t0.2741349656182099\n",
      "  (3, 4062)\t0.41642542899789237\n"
     ]
    }
   ],
   "source": [
    "print(X3[:4]) #print for the first 4 elements"
   ]
  },
  {
   "cell_type": "markdown",
   "metadata": {},
   "source": [
    "### Task 3"
   ]
  },
  {
   "cell_type": "markdown",
   "metadata": {},
   "source": [
    "Creating Pipeline for Data Cleaning and Vectorization"
   ]
  },
  {
   "cell_type": "code",
   "execution_count": 18,
   "metadata": {},
   "outputs": [],
   "source": [
    "from sklearn.base import BaseEstimator\n",
    "from sklearn.base import TransformerMixin\n",
    "from nltk.corpus import stopwords\n",
    "from nltk.tokenize import word_tokenize\n",
    "\n",
    "#Create CleanText transformer which inherits from BaseEstimator, TransformerMixin Classes\n",
    "class CleanText( BaseEstimator, TransformerMixin ):\n",
    "    \n",
    "    def __init__( self ):\n",
    "        return \n",
    "    \n",
    "    def fit( self, X, y = None ):\n",
    "        return self \n",
    "    \n",
    "    def clean( self, x ):\n",
    "        stop = stopwords.words(\"english\")\n",
    "        stop = stop + list(string.punctuation)\n",
    "        words  = [w for w in word_tokenize(x.lower()) if w.isalpha() and w not in stop]\n",
    "        return \" \".join(words)\n",
    "\n",
    "    def transform( self, X, y = None ):\n",
    "        return X[\"text\"].apply(self.clean)"
   ]
  },
  {
   "cell_type": "code",
   "execution_count": 19,
   "metadata": {},
   "outputs": [],
   "source": [
    "from sklearn.pipeline import Pipeline\n",
    "\n",
    "#cleaning text\n",
    "pipe_cleaning = Pipeline([('clean', CleanText())])\n",
    "\n",
    "# vectorising text\n",
    "pipe_extract = Pipeline([('clean', CleanText()), ('tfidf', TfidfVectorizer())])"
   ]
  },
  {
   "cell_type": "code",
   "execution_count": 20,
   "metadata": {},
   "outputs": [
    {
     "name": "stdout",
     "output_type": "stream",
     "text": [
      "  (0, 4321)\t0.5420590563241163\n",
      "  (0, 6957)\t0.42802217002637843\n",
      "  (0, 3225)\t0.5297301927430984\n",
      "  (0, 3402)\t0.4049125581115893\n",
      "  (0, 4296)\t0.28000132964471275\n",
      "  (1, 289)\t0.1896203019897564\n",
      "  (1, 4974)\t0.19721955593027554\n",
      "  (1, 6559)\t0.14007593053623113\n",
      "  (1, 5917)\t0.2254263280142869\n",
      "  (1, 4924)\t0.2011547335431004\n",
      "  (1, 5027)\t0.18686171276890262\n",
      "  (1, 6255)\t0.13784963668955105\n",
      "  (1, 3783)\t0.17588195656076158\n",
      "  (1, 6381)\t0.24676392738380085\n",
      "  (1, 2196)\t0.20566772340473133\n",
      "  (1, 1423)\t0.2254263280142869\n",
      "  (1, 2079)\t0.5249780079624702\n",
      "  (1, 6968)\t0.16596705123971575\n",
      "  (1, 1212)\t0.21981380524220726\n",
      "  (1, 7007)\t0.21294463252770984\n",
      "  (1, 1953)\t0.4023094670862008\n",
      "  (1, 2344)\t0.1293085427694372\n",
      "  (2, 188)\t0.3092765333905295\n",
      "  (2, 2867)\t0.5144993525987204\n",
      "  (2, 1831)\t0.37167089338446296\n",
      "  (2, 5348)\t0.6199014250157037\n",
      "  (2, 1813)\t0.3423761270061474\n",
      "  (3, 6320)\t0.36259436916979954\n",
      "  (3, 337)\t0.32063625860603523\n",
      "  (3, 3546)\t0.46185310287686804\n",
      "  (3, 6686)\t0.41141219092523446\n",
      "  (3, 2531)\t0.3668641660669661\n",
      "  (3, 6302)\t0.2741349656182099\n",
      "  (3, 4062)\t0.41642542899789237\n"
     ]
    }
   ],
   "source": [
    "extract = pipe_extract.fit_transform(emails)\n",
    "print(extract[:4]) #print for the first 4 elements"
   ]
  },
  {
   "cell_type": "code",
   "execution_count": 21,
   "metadata": {},
   "outputs": [
    {
     "name": "stdout",
     "output_type": "stream",
     "text": [
      "Sparse matrices are equal\n"
     ]
    }
   ],
   "source": [
    "#comparing TF-IDF sparse matrices build with and without pipeline\n",
    "if (X3 - extract).nnz == 0:\n",
    "    print('Sparse matrices are equal')"
   ]
  },
  {
   "cell_type": "markdown",
   "metadata": {},
   "source": [
    "Cleaning and Vectorizing Pipeline is built correctly"
   ]
  },
  {
   "cell_type": "markdown",
   "metadata": {},
   "source": [
    "Document-term matrix is very sparse: we have 7195 features and 5571 documents. We need to apply feature reduction or feature selection to decrease the number of features"
   ]
  },
  {
   "cell_type": "markdown",
   "metadata": {},
   "source": [
    "### Additional part - Feature extraction and selection"
   ]
  },
  {
   "cell_type": "markdown",
   "metadata": {},
   "source": [
    "PCA does not support sparse input, we need to use **TruncatedSVD**"
   ]
  },
  {
   "cell_type": "code",
   "execution_count": 22,
   "metadata": {},
   "outputs": [],
   "source": [
    "import matplotlib.pyplot as plt\n",
    "from sklearn.decomposition import TruncatedSVD\n",
    "\n",
    "def components(n, text):\n",
    "    svd = TruncatedSVD(n_components = n)\n",
    "    principalComponents = svd.fit_transform(text)\n",
    "    return pd.DataFrame(svd.components_, columns=text.columns)\n",
    "\n",
    "def variance_explained(n, text):\n",
    "    svd = TruncatedSVD(n_components = n)\n",
    "    principalComponents = svd.fit_transform(text)\n",
    "    return svd.explained_variance_ratio_"
   ]
  },
  {
   "cell_type": "markdown",
   "metadata": {},
   "source": [
    "Reducing number of features to 100 features"
   ]
  },
  {
   "cell_type": "code",
   "execution_count": 23,
   "metadata": {},
   "outputs": [
    {
     "data": {
      "text/html": [
       "<div>\n",
       "<style scoped>\n",
       "    .dataframe tbody tr th:only-of-type {\n",
       "        vertical-align: middle;\n",
       "    }\n",
       "\n",
       "    .dataframe tbody tr th {\n",
       "        vertical-align: top;\n",
       "    }\n",
       "\n",
       "    .dataframe thead th {\n",
       "        text-align: right;\n",
       "    }\n",
       "</style>\n",
       "<table border=\"1\" class=\"dataframe\">\n",
       "  <thead>\n",
       "    <tr style=\"text-align: right;\">\n",
       "      <th></th>\n",
       "      <th>0</th>\n",
       "      <th>1</th>\n",
       "      <th>2</th>\n",
       "      <th>3</th>\n",
       "      <th>4</th>\n",
       "      <th>5</th>\n",
       "      <th>6</th>\n",
       "      <th>7</th>\n",
       "      <th>8</th>\n",
       "      <th>9</th>\n",
       "      <th>...</th>\n",
       "      <th>5561</th>\n",
       "      <th>5562</th>\n",
       "      <th>5563</th>\n",
       "      <th>5564</th>\n",
       "      <th>5565</th>\n",
       "      <th>5566</th>\n",
       "      <th>5567</th>\n",
       "      <th>5568</th>\n",
       "      <th>5569</th>\n",
       "      <th>5570</th>\n",
       "    </tr>\n",
       "  </thead>\n",
       "  <tbody>\n",
       "    <tr>\n",
       "      <th>0</th>\n",
       "      <td>0.011516</td>\n",
       "      <td>0.006684</td>\n",
       "      <td>0.003343</td>\n",
       "      <td>0.002803</td>\n",
       "      <td>0.013114</td>\n",
       "      <td>0.004080</td>\n",
       "      <td>0.001307</td>\n",
       "      <td>0.020329</td>\n",
       "      <td>0.020558</td>\n",
       "      <td>0.009690</td>\n",
       "      <td>...</td>\n",
       "      <td>0.011081</td>\n",
       "      <td>0.008359</td>\n",
       "      <td>0.007117</td>\n",
       "      <td>0.001008</td>\n",
       "      <td>0.022440</td>\n",
       "      <td>0.026144</td>\n",
       "      <td>0.006492</td>\n",
       "      <td>0.000087</td>\n",
       "      <td>0.007219</td>\n",
       "      <td>0.000804</td>\n",
       "    </tr>\n",
       "    <tr>\n",
       "      <th>1</th>\n",
       "      <td>0.032601</td>\n",
       "      <td>-0.000162</td>\n",
       "      <td>0.004536</td>\n",
       "      <td>0.002721</td>\n",
       "      <td>0.022976</td>\n",
       "      <td>0.003644</td>\n",
       "      <td>0.000124</td>\n",
       "      <td>-0.011815</td>\n",
       "      <td>-0.008985</td>\n",
       "      <td>0.007290</td>\n",
       "      <td>...</td>\n",
       "      <td>0.027539</td>\n",
       "      <td>0.015358</td>\n",
       "      <td>0.005864</td>\n",
       "      <td>0.001202</td>\n",
       "      <td>-0.003346</td>\n",
       "      <td>-0.011167</td>\n",
       "      <td>0.006375</td>\n",
       "      <td>0.000084</td>\n",
       "      <td>0.002512</td>\n",
       "      <td>0.000566</td>\n",
       "    </tr>\n",
       "    <tr>\n",
       "      <th>2</th>\n",
       "      <td>-0.018823</td>\n",
       "      <td>0.004322</td>\n",
       "      <td>0.002936</td>\n",
       "      <td>0.005612</td>\n",
       "      <td>-0.001165</td>\n",
       "      <td>0.007376</td>\n",
       "      <td>0.001482</td>\n",
       "      <td>-0.003071</td>\n",
       "      <td>0.001558</td>\n",
       "      <td>0.010638</td>\n",
       "      <td>...</td>\n",
       "      <td>-0.012128</td>\n",
       "      <td>0.001570</td>\n",
       "      <td>0.010571</td>\n",
       "      <td>0.000540</td>\n",
       "      <td>0.007423</td>\n",
       "      <td>0.000567</td>\n",
       "      <td>0.006708</td>\n",
       "      <td>0.000146</td>\n",
       "      <td>0.007946</td>\n",
       "      <td>0.001638</td>\n",
       "    </tr>\n",
       "    <tr>\n",
       "      <th>3</th>\n",
       "      <td>0.008426</td>\n",
       "      <td>-0.014264</td>\n",
       "      <td>-0.005980</td>\n",
       "      <td>-0.003652</td>\n",
       "      <td>-0.008080</td>\n",
       "      <td>-0.003405</td>\n",
       "      <td>-0.001094</td>\n",
       "      <td>-0.011672</td>\n",
       "      <td>-0.020722</td>\n",
       "      <td>-0.014818</td>\n",
       "      <td>...</td>\n",
       "      <td>0.001384</td>\n",
       "      <td>-0.006032</td>\n",
       "      <td>-0.015482</td>\n",
       "      <td>-0.001816</td>\n",
       "      <td>-0.024900</td>\n",
       "      <td>-0.014995</td>\n",
       "      <td>-0.010556</td>\n",
       "      <td>-0.000252</td>\n",
       "      <td>-0.011936</td>\n",
       "      <td>-0.001730</td>\n",
       "    </tr>\n",
       "    <tr>\n",
       "      <th>4</th>\n",
       "      <td>-0.003745</td>\n",
       "      <td>-0.015411</td>\n",
       "      <td>0.007818</td>\n",
       "      <td>0.005678</td>\n",
       "      <td>0.000118</td>\n",
       "      <td>0.003888</td>\n",
       "      <td>-0.001538</td>\n",
       "      <td>-0.041221</td>\n",
       "      <td>-0.038561</td>\n",
       "      <td>0.017808</td>\n",
       "      <td>...</td>\n",
       "      <td>0.002054</td>\n",
       "      <td>0.013113</td>\n",
       "      <td>0.007620</td>\n",
       "      <td>0.002385</td>\n",
       "      <td>-0.021693</td>\n",
       "      <td>-0.037721</td>\n",
       "      <td>0.015965</td>\n",
       "      <td>0.000188</td>\n",
       "      <td>-0.003991</td>\n",
       "      <td>-0.000095</td>\n",
       "    </tr>\n",
       "  </tbody>\n",
       "</table>\n",
       "<p>5 rows × 5571 columns</p>\n",
       "</div>"
      ],
      "text/plain": [
       "       0         1         2         3         4         5         6     \\\n",
       "0  0.011516  0.006684  0.003343  0.002803  0.013114  0.004080  0.001307   \n",
       "1  0.032601 -0.000162  0.004536  0.002721  0.022976  0.003644  0.000124   \n",
       "2 -0.018823  0.004322  0.002936  0.005612 -0.001165  0.007376  0.001482   \n",
       "3  0.008426 -0.014264 -0.005980 -0.003652 -0.008080 -0.003405 -0.001094   \n",
       "4 -0.003745 -0.015411  0.007818  0.005678  0.000118  0.003888 -0.001538   \n",
       "\n",
       "       7         8         9     ...      5561      5562      5563      5564  \\\n",
       "0  0.020329  0.020558  0.009690  ...  0.011081  0.008359  0.007117  0.001008   \n",
       "1 -0.011815 -0.008985  0.007290  ...  0.027539  0.015358  0.005864  0.001202   \n",
       "2 -0.003071  0.001558  0.010638  ... -0.012128  0.001570  0.010571  0.000540   \n",
       "3 -0.011672 -0.020722 -0.014818  ...  0.001384 -0.006032 -0.015482 -0.001816   \n",
       "4 -0.041221 -0.038561  0.017808  ...  0.002054  0.013113  0.007620  0.002385   \n",
       "\n",
       "       5565      5566      5567      5568      5569      5570  \n",
       "0  0.022440  0.026144  0.006492  0.000087  0.007219  0.000804  \n",
       "1 -0.003346 -0.011167  0.006375  0.000084  0.002512  0.000566  \n",
       "2  0.007423  0.000567  0.006708  0.000146  0.007946  0.001638  \n",
       "3 -0.024900 -0.014995 -0.010556 -0.000252 -0.011936 -0.001730  \n",
       "4 -0.021693 -0.037721  0.015965  0.000188 -0.003991 -0.000095  \n",
       "\n",
       "[5 rows x 5571 columns]"
      ]
     },
     "execution_count": 23,
     "metadata": {},
     "output_type": "execute_result"
    }
   ],
   "source": [
    "principalDF = components(100, tfidf)\n",
    "principalDF.head()"
   ]
  },
  {
   "cell_type": "code",
   "execution_count": 24,
   "metadata": {},
   "outputs": [
    {
     "name": "stdout",
     "output_type": "stream",
     "text": [
      "Variance explained by 10 first components: 0.12458407076748562\n",
      "Variance explained by 100 first components: 0.3966693169677859\n",
      "Variance explained by 1000 first components: 0.7346029054681211\n"
     ]
    }
   ],
   "source": [
    "print('Variance explained by 10 first components: ' + str(variance_explained(10, df).sum()))\n",
    "print('Variance explained by 100 first components: ' + str(variance_explained(100, df).sum()))\n",
    "print('Variance explained by 1000 first components: ' + str(variance_explained(1000, tfidf).sum()))"
   ]
  },
  {
   "cell_type": "markdown",
   "metadata": {},
   "source": [
    "The interpretation of the new features with respect to the original set loses semantic meaning. The number of documents should be greater than the number of features to apply PCA or SVD (not in our case). It's better to apply **feature selection methods, for example chi2**."
   ]
  },
  {
   "cell_type": "code",
   "execution_count": 25,
   "metadata": {},
   "outputs": [
    {
     "name": "stdout",
     "output_type": "stream",
     "text": [
      "(5571, 7195)\n",
      "(5571,)\n"
     ]
    }
   ],
   "source": [
    "from sklearn.feature_selection import SelectKBest, chi2\n",
    "X_s = tfidf.transpose()\n",
    "y_s = emails['class']\n",
    "print(X_s.shape)\n",
    "print(y_s.shape)\n",
    "df_s = SelectKBest(chi2, k=500).fit_transform(X_s, y_s)"
   ]
  },
  {
   "cell_type": "markdown",
   "metadata": {},
   "source": [
    "Standartization"
   ]
  },
  {
   "cell_type": "code",
   "execution_count": 26,
   "metadata": {},
   "outputs": [
    {
     "name": "stdout",
     "output_type": "stream",
     "text": [
      "  (0, 280)\t3.0854451468620443\n",
      "  (1, 17)\t9.89395346115323\n",
      "  (1, 73)\t14.968701342189997\n",
      "  (1, 124)\t18.823274288530747\n",
      "  (1, 134)\t52.787312482554945\n",
      "  (1, 141)\t11.325145273389756\n",
      "  (1, 148)\t2.361429812759835\n",
      "  (1, 332)\t11.404167153992075\n",
      "  (1, 337)\t7.34289484149551\n",
      "  (1, 395)\t22.091156110461633\n",
      "  (1, 414)\t2.8877216565040706\n",
      "  (1, 423)\t24.422402511747936\n",
      "  (1, 437)\t4.05671374996478\n",
      "  (1, 486)\t5.8538134375507225\n",
      "  (1, 490)\t14.862420946332795\n"
     ]
    }
   ],
   "source": [
    "import scipy\n",
    "from sklearn.preprocessing import StandardScaler\n",
    "scaler = StandardScaler(with_mean=False)\n",
    "scaled = scaler.fit_transform(df_s, y_s)\n",
    "print(scipy.sparse.csr.csr_matrix(scaled)[:4]) #print for the first 4 elements"
   ]
  },
  {
   "cell_type": "markdown",
   "metadata": {},
   "source": [
    "Selecting features and standartizing with Pipeline"
   ]
  },
  {
   "cell_type": "code",
   "execution_count": 27,
   "metadata": {},
   "outputs": [],
   "source": [
    "# select and scale features\n",
    "pipe_select_scale = Pipeline([(\"select\", SelectKBest(score_func = chi2, k=500)),\n",
    "                              (\"scale\", StandardScaler(with_mean = False))])"
   ]
  },
  {
   "cell_type": "code",
   "execution_count": 28,
   "metadata": {},
   "outputs": [
    {
     "name": "stdout",
     "output_type": "stream",
     "text": [
      "  (0, 280)\t3.0854451468620443\n",
      "  (1, 17)\t9.89395346115323\n",
      "  (1, 73)\t14.968701342189997\n",
      "  (1, 124)\t18.823274288530747\n",
      "  (1, 134)\t52.787312482554945\n",
      "  (1, 141)\t11.325145273389756\n",
      "  (1, 148)\t2.361429812759835\n",
      "  (1, 332)\t11.404167153992075\n",
      "  (1, 337)\t7.34289484149551\n",
      "  (1, 395)\t22.091156110461633\n",
      "  (1, 414)\t2.8877216565040706\n",
      "  (1, 423)\t24.422402511747936\n",
      "  (1, 437)\t4.05671374996478\n",
      "  (1, 486)\t5.8538134375507225\n",
      "  (1, 490)\t14.862420946332795\n"
     ]
    }
   ],
   "source": [
    "select_scale = pipe_select_scale.fit_transform(X_s, y_s)\n",
    "print(scipy.sparse.csr.csr_matrix(select_scale)[:4]) #print for the first 4 elements"
   ]
  },
  {
   "cell_type": "code",
   "execution_count": 29,
   "metadata": {},
   "outputs": [
    {
     "name": "stdout",
     "output_type": "stream",
     "text": [
      "Sparse matrices are equal\n"
     ]
    }
   ],
   "source": [
    "#comparing standartized feature selection matrices build with and without pipeline\n",
    "if (scipy.sparse.csr.csr_matrix(scaled) - scipy.sparse.csr.csr_matrix(select_scale)).nnz == 0:\n",
    "    print('Sparse matrices are equal')"
   ]
  },
  {
   "cell_type": "markdown",
   "metadata": {},
   "source": [
    "Pipeline for cleaning, vectorizing text, extracting features and standartizing was implemented correctly."
   ]
  },
  {
   "cell_type": "markdown",
   "metadata": {},
   "source": [
    "## Part (b): (Classication and clustering, topic model and summarisation)"
   ]
  },
  {
   "cell_type": "markdown",
   "metadata": {},
   "source": [
    "Pipelines for data processing"
   ]
  },
  {
   "cell_type": "code",
   "execution_count": 30,
   "metadata": {},
   "outputs": [],
   "source": [
    "pipe_extract = Pipeline([('clean', CleanText()), ('tfidf', TfidfVectorizer())]) #using unigrams"
   ]
  },
  {
   "cell_type": "code",
   "execution_count": 31,
   "metadata": {},
   "outputs": [],
   "source": [
    "pipe_select_scale = Pipeline([(\"select\", SelectKBest(score_func = chi2)),\n",
    "                              (\"scale\", StandardScaler(with_mean = False))])"
   ]
  },
  {
   "cell_type": "code",
   "execution_count": 32,
   "metadata": {},
   "outputs": [],
   "source": [
    "# using only unigrams\n",
    "pipe = Pipeline([('clean', CleanText()),\n",
    "                 ('tfidf', TfidfVectorizer()),\n",
    "                 (\"select\", SelectKBest(score_func = chi2)),\n",
    "                 (\"scale\", StandardScaler(with_mean = False))])"
   ]
  },
  {
   "cell_type": "code",
   "execution_count": 33,
   "metadata": {},
   "outputs": [],
   "source": [
    "# using unigrams and bigrams\n",
    "pipe2 = Pipeline([('clean', CleanText()),\n",
    "                 ('tfidf', TfidfVectorizer(ngram_range =[1,2])),\n",
    "                 (\"select\", SelectKBest(score_func = chi2)),\n",
    "                 (\"scale\", StandardScaler(with_mean = False))])"
   ]
  },
  {
   "cell_type": "markdown",
   "metadata": {},
   "source": [
    "### Task 1 - Classification"
   ]
  },
  {
   "cell_type": "code",
   "execution_count": 34,
   "metadata": {},
   "outputs": [],
   "source": [
    "# split data into training and test\n",
    "from sklearn.model_selection import train_test_split\n",
    "X = emails[['text']]\n",
    "y = emails['class']\n",
    "X_train, X_test, y_train, y_test = train_test_split(X, y, test_size=0.33, random_state=42)"
   ]
  },
  {
   "cell_type": "markdown",
   "metadata": {},
   "source": [
    "### Logistic Model"
   ]
  },
  {
   "cell_type": "markdown",
   "metadata": {},
   "source": [
    "Applying Logistic Regression Model using pipe (unigrams)"
   ]
  },
  {
   "cell_type": "code",
   "execution_count": 35,
   "metadata": {},
   "outputs": [],
   "source": [
    "from sklearn.linear_model import LogisticRegression\n",
    "pipe_logistic = Pipeline([('pre_process', pipe),\n",
    "                          ('classify', LogisticRegression(max_iter=10000, tol=0.1, solver='lbfgs'))])"
   ]
  },
  {
   "cell_type": "code",
   "execution_count": 36,
   "metadata": {},
   "outputs": [
    {
     "name": "stdout",
     "output_type": "stream",
     "text": [
      "f1 score: 0.959778937672705\n",
      "accuracy score: 0.9287656334964655\n"
     ]
    }
   ],
   "source": [
    "pipe_logistic.fit(X_train, y_train)\n",
    "from sklearn.metrics import f1_score\n",
    "from sklearn.metrics import accuracy_score\n",
    "y_pred = pipe_logistic.predict(X_test)\n",
    "print(\"f1 score: \" + str(f1_score(y_test, y_pred)))\n",
    "print(\"accuracy score: \" + str(accuracy_score(y_test, y_pred)))"
   ]
  },
  {
   "cell_type": "code",
   "execution_count": 37,
   "metadata": {},
   "outputs": [
    {
     "name": "stdout",
     "output_type": "stream",
     "text": [
      "              precision    recall  f1-score   support\n",
      "\n",
      "           0    0.84302   0.58233   0.68884       249\n",
      "           1    0.93761   0.98302   0.95978      1590\n",
      "\n",
      "    accuracy                        0.92877      1839\n",
      "   macro avg    0.89032   0.78267   0.82431      1839\n",
      "weighted avg    0.92481   0.92877   0.92309      1839\n",
      "\n"
     ]
    }
   ],
   "source": [
    "from sklearn.metrics import classification_report\n",
    "print(classification_report(y_test, y_pred, digits=5))"
   ]
  },
  {
   "cell_type": "markdown",
   "metadata": {},
   "source": [
    "Applying Logistic Regression Model using pipe2 (unigrams and bigrams)"
   ]
  },
  {
   "cell_type": "code",
   "execution_count": 38,
   "metadata": {},
   "outputs": [],
   "source": [
    "from sklearn.linear_model import LogisticRegression\n",
    "pipe_logistic2 = Pipeline([('pre_process', pipe2),\n",
    "                          ('classify', LogisticRegression(max_iter=10000, tol=0.1, solver='lbfgs'))])"
   ]
  },
  {
   "cell_type": "code",
   "execution_count": 39,
   "metadata": {},
   "outputs": [
    {
     "name": "stdout",
     "output_type": "stream",
     "text": [
      "f1 score: 0.9591584158415842\n",
      "accuracy score: 0.9282218597063622\n"
     ]
    }
   ],
   "source": [
    "pipe_logistic2.fit(X_train, y_train)\n",
    "y_pred = pipe_logistic2.predict(X_test)\n",
    "f1_score_log = f1_score(y_test, y_pred)\n",
    "accuracy_score_log = accuracy_score(y_test, y_pred)\n",
    "print(\"f1 score: \" + str(f1_score(y_test, y_pred)))\n",
    "print(\"accuracy score: \" + str(accuracy_score(y_test, y_pred)))"
   ]
  },
  {
   "cell_type": "code",
   "execution_count": 40,
   "metadata": {},
   "outputs": [
    {
     "name": "stdout",
     "output_type": "stream",
     "text": [
      "              precision    recall  f1-score   support\n",
      "\n",
      "           0    0.79695   0.63052   0.70404       249\n",
      "           1    0.94397   0.97484   0.95916      1590\n",
      "\n",
      "    accuracy                        0.92822      1839\n",
      "   macro avg    0.87046   0.80268   0.83160      1839\n",
      "weighted avg    0.92406   0.92822   0.92461      1839\n",
      "\n"
     ]
    }
   ],
   "source": [
    "print(classification_report(y_test, y_pred, digits=5))"
   ]
  },
  {
   "cell_type": "markdown",
   "metadata": {},
   "source": [
    "Model using bigrams and unigrams showed a bit worse performance, so in the following classification tasks we will use only models with unigrams."
   ]
  },
  {
   "cell_type": "markdown",
   "metadata": {},
   "source": [
    "**Finding best parameters using GridSearchCV** "
   ]
  },
  {
   "cell_type": "markdown",
   "metadata": {},
   "source": [
    "Accuracy measures all the correctly identified cases. It is most used when all the classes are equally important.\n",
    "F1-score is the harmonic mean of Precision and Recall, gives a better measure of the incorrectly classified cases than the Accuracy and  penalizes the extreme values.\n",
    "\n",
    "Accuracy is used when the True Positives and True negatives are more important while F1-score is used when the False Negatives and False Positives are crucial.\n",
    "\n",
    "We have imbalanced class distribution in our classification problem (ham/spam), therefore **F1-score is a better metric**."
   ]
  },
  {
   "cell_type": "code",
   "execution_count": 41,
   "metadata": {},
   "outputs": [],
   "source": [
    "X_extract = pipe_extract.fit_transform(X_train, y_train)"
   ]
  },
  {
   "cell_type": "code",
   "execution_count": 42,
   "metadata": {},
   "outputs": [
    {
     "data": {
      "text/plain": [
       "GridSearchCV(cv=10,\n",
       "             estimator=Pipeline(steps=[('select_scale',\n",
       "                                        Pipeline(steps=[('select',\n",
       "                                                         SelectKBest(score_func=<function chi2 at 0x000002F5898078B0>)),\n",
       "                                                        ('scale',\n",
       "                                                         StandardScaler(with_mean=False))])),\n",
       "                                       ('classify',\n",
       "                                        LogisticRegression(max_iter=10000,\n",
       "                                                           tol=0.1))]),\n",
       "             param_grid={'classify__C': array([1.e-04, 1.e+00, 1.e+04]),\n",
       "                         'classify__solver': ['lbfgs', 'liblinear'],\n",
       "                         'select_scale__select__k': [100, 500, 1000, 2500,\n",
       "                                                     5000]},\n",
       "             scoring='f1')"
      ]
     },
     "execution_count": 42,
     "metadata": {},
     "output_type": "execute_result"
    }
   ],
   "source": [
    "from sklearn.model_selection import GridSearchCV\n",
    "\n",
    "pipe_logistic = Pipeline([('select_scale', pipe_select_scale),\n",
    "                          ('classify', LogisticRegression(max_iter=10000, tol=0.1))])\n",
    "param_logistic = {\n",
    "    'classify__C': np.logspace(-4, 4, 3),\n",
    "    'classify__solver': ['lbfgs', 'liblinear'],\n",
    "    'select_scale__select__k': [100, 500, 1000, 2500, 5000],\n",
    "}\n",
    "\n",
    "cv_logistic = GridSearchCV(pipe_logistic, param_logistic, cv=10, scoring='f1') #10 folds for CV, optimize f1-score\n",
    "cv_logistic.fit(X_extract, y_train)"
   ]
  },
  {
   "cell_type": "code",
   "execution_count": 43,
   "metadata": {},
   "outputs": [
    {
     "name": "stdout",
     "output_type": "stream",
     "text": [
      "{'classify__C': 1.0, 'classify__solver': 'lbfgs', 'select_scale__select__k': 5000}\n",
      "0.9824586620970284\n"
     ]
    }
   ],
   "source": [
    "print(cv_logistic.best_params_)\n",
    "print(cv_logistic.best_score_)"
   ]
  },
  {
   "cell_type": "markdown",
   "metadata": {},
   "source": [
    "Entire logistic regression pipeline"
   ]
  },
  {
   "cell_type": "code",
   "execution_count": 44,
   "metadata": {},
   "outputs": [
    {
     "name": "stdout",
     "output_type": "stream",
     "text": [
      "f1 score: 0.9881175734834272\n",
      "accuracy score: 0.9793365959760739\n"
     ]
    }
   ],
   "source": [
    "log_model = Pipeline([(\"extract\", pipe_extract),\n",
    "                 (\"select\", SelectKBest(score_func = chi2, k = 5000)),\n",
    "                 (\"scale\", StandardScaler(with_mean = False)),\n",
    "                 (\"classify\", LogisticRegression(C = 1,max_iter=10000, tol=0.1, solver='lbfgs'))]) \n",
    "\n",
    "log_model.fit(X_train, y_train)\n",
    "\n",
    "y_pred = log_model.predict(X_test)\n",
    "f1_score_log = f1_score(y_test, y_pred)\n",
    "accuracy_score_log = accuracy_score(y_test, y_pred)\n",
    "print(\"f1 score: \" + str(f1_score_log))\n",
    "print(\"accuracy score: \" + str(accuracy_score_log))"
   ]
  },
  {
   "cell_type": "code",
   "execution_count": 45,
   "metadata": {},
   "outputs": [
    {
     "name": "stdout",
     "output_type": "stream",
     "text": [
      "              precision    recall  f1-score   support\n",
      "\n",
      "           0    0.95671   0.88755   0.92083       249\n",
      "           1    0.98259   0.99371   0.98812      1590\n",
      "\n",
      "    accuracy                        0.97934      1839\n",
      "   macro avg    0.96965   0.94063   0.95448      1839\n",
      "weighted avg    0.97908   0.97934   0.97901      1839\n",
      "\n"
     ]
    }
   ],
   "source": [
    "print(classification_report(y_test, y_pred, digits=5))"
   ]
  },
  {
   "cell_type": "markdown",
   "metadata": {},
   "source": [
    "Logistic Regression: F1 score and accuracy have improved with parameter tuning from 0.95978 to  0.98812 and from 0.92822 to 0.97934 respectively."
   ]
  },
  {
   "cell_type": "code",
   "execution_count": 46,
   "metadata": {},
   "outputs": [],
   "source": [
    "from sklearn.metrics import roc_auc_score\n",
    "from sklearn.metrics import roc_curve\n",
    "\n",
    "#Plotting ROC curve\n",
    "\n",
    "def roc_plot(model, lab):\n",
    "    roc_auc = roc_auc_score(y_test, model.predict(X_test))\n",
    "    fpr, tpr, thresholds = roc_curve(y_test, model.predict_proba(X_test)[:,1])\n",
    "    plt.figure()\n",
    "    plt.title('Receiver operating characteristic')\n",
    "    plt.plot(fpr, tpr, label= lab +' (area = %0.2f)' % roc_auc)\n",
    "    plt.plot([0, 1], [0, 1],'r--')\n",
    "    plt.xlim([0.0, 1.0])\n",
    "    plt.ylim([0.0, 1.05])\n",
    "    plt.xlabel('False Positive Rate')\n",
    "    plt.ylabel('True Positive Rate')\n",
    "    plt.legend(loc=\"lower right\")\n",
    "    plt.show()"
   ]
  },
  {
   "cell_type": "code",
   "execution_count": 47,
   "metadata": {},
   "outputs": [
    {
     "data": {
      "image/png": "[encoded data removed]",
      "text/plain": [
       "<Figure size 432x288 with 1 Axes>"
      ]
     },
     "metadata": {
      "needs_background": "light"
     },
     "output_type": "display_data"
    }
   ],
   "source": [
    "roc_plot(log_model, 'Logistic Regression')"
   ]
  },
  {
   "cell_type": "markdown",
   "metadata": {},
   "source": [
    "Trying to classify new messages (1 - ham; 0 - spam)"
   ]
  },
  {
   "cell_type": "code",
   "execution_count": 48,
   "metadata": {},
   "outputs": [
    {
     "data": {
      "text/plain": [
       "array([0])"
      ]
     },
     "execution_count": 48,
     "metadata": {},
     "output_type": "execute_result"
    }
   ],
   "source": [
    "msg = pd.DataFrame(columns = [\"text\"],\n",
    "                   data    = [\" Call 03652945 and win a Christmas gift! You can get it immediately!\"])\n",
    "                   \n",
    "log_model.predict(msg)"
   ]
  },
  {
   "cell_type": "code",
   "execution_count": 49,
   "metadata": {},
   "outputs": [
    {
     "data": {
      "text/plain": [
       "array([1])"
      ]
     },
     "execution_count": 49,
     "metadata": {},
     "output_type": "execute_result"
    }
   ],
   "source": [
    "msg = pd.DataFrame(columns = [\"text\"],\n",
    "                   data    = ['Hi! How are you?'])\n",
    "\n",
    "log_model.predict(msg)"
   ]
  },
  {
   "cell_type": "markdown",
   "metadata": {},
   "source": [
    "Messages are classified correctly."
   ]
  },
  {
   "cell_type": "markdown",
   "metadata": {},
   "source": [
    "### Naive Bayes classifier"
   ]
  },
  {
   "cell_type": "code",
   "execution_count": 50,
   "metadata": {},
   "outputs": [
    {
     "data": {
      "text/plain": [
       "GridSearchCV(cv=10,\n",
       "             estimator=Pipeline(steps=[('select_scale',\n",
       "                                        Pipeline(steps=[('select',\n",
       "                                                         SelectKBest(score_func=<function chi2 at 0x000002F5898078B0>)),\n",
       "                                                        ('scale',\n",
       "                                                         StandardScaler(with_mean=False))])),\n",
       "                                       ('classify', MultinomialNB())]),\n",
       "             param_grid={'classify__alpha': [0.5, 1, 10],\n",
       "                         'select_scale__select__k': [100, 500, 1000, 2500,\n",
       "                                                     5000]},\n",
       "             scoring='f1')"
      ]
     },
     "execution_count": 50,
     "metadata": {},
     "output_type": "execute_result"
    }
   ],
   "source": [
    "from sklearn.naive_bayes import MultinomialNB\n",
    "\n",
    "pipe_nb = Pipeline([('select_scale', pipe_select_scale),\n",
    "                    ('classify', MultinomialNB())])\n",
    "\n",
    "param_nb = {\n",
    "    'classify__alpha': [0.5, 1, 10],\n",
    "    'select_scale__select__k': [100, 500, 1000, 2500, 5000]\n",
    "}\n",
    "\n",
    "cv_nb = GridSearchCV(pipe_nb, param_nb, cv=10, scoring='f1')\n",
    "cv_nb.fit(X_extract, y_train)"
   ]
  },
  {
   "cell_type": "code",
   "execution_count": 51,
   "metadata": {},
   "outputs": [
    {
     "name": "stdout",
     "output_type": "stream",
     "text": [
      "{'classify__alpha': 10, 'select_scale__select__k': 500}\n",
      "0.969167076826376\n"
     ]
    }
   ],
   "source": [
    "print(cv_nb.best_params_)\n",
    "print(cv_nb.best_score_)"
   ]
  },
  {
   "cell_type": "markdown",
   "metadata": {},
   "source": [
    "Entire NB pipeline"
   ]
  },
  {
   "cell_type": "code",
   "execution_count": 52,
   "metadata": {},
   "outputs": [
    {
     "name": "stdout",
     "output_type": "stream",
     "text": [
      "f1 score: 0.9648337595907928\n",
      "accuracy score: 0.9401848830886351\n"
     ]
    }
   ],
   "source": [
    "nb_model = Pipeline([(\"extract\", pipe_extract),\n",
    "                 (\"select\", SelectKBest(score_func = chi2, k = 500)),\n",
    "                 (\"scale\", StandardScaler(with_mean = False)),\n",
    "                 (\"classify\", MultinomialNB(alpha = 10))]) \n",
    "\n",
    "nb_model.fit(X_train, y_train)\n",
    "\n",
    "y_pred = nb_model.predict(X_test)\n",
    "f1_score_nb = f1_score(y_test, y_pred)\n",
    "accuracy_score_nb = accuracy_score(y_test, y_pred)\n",
    "print(\"f1 score: \" + str(f1_score_nb))\n",
    "print(\"accuracy score: \" + str(accuracy_score_nb))"
   ]
  },
  {
   "cell_type": "code",
   "execution_count": 53,
   "metadata": {},
   "outputs": [
    {
     "name": "stdout",
     "output_type": "stream",
     "text": [
      "              precision    recall  f1-score   support\n",
      "\n",
      "           0    0.73090   0.88353   0.80000       249\n",
      "           1    0.98114   0.94906   0.96483      1590\n",
      "\n",
      "    accuracy                        0.94018      1839\n",
      "   macro avg    0.85602   0.91630   0.88242      1839\n",
      "weighted avg    0.94726   0.94018   0.94252      1839\n",
      "\n"
     ]
    }
   ],
   "source": [
    "print(classification_report(y_test, y_pred, digits=5))"
   ]
  },
  {
   "cell_type": "code",
   "execution_count": 54,
   "metadata": {},
   "outputs": [
    {
     "data": {
      "image/png": "[encoded data removed]",
      "text/plain": [
       "<Figure size 432x288 with 1 Axes>"
      ]
     },
     "metadata": {
      "needs_background": "light"
     },
     "output_type": "display_data"
    }
   ],
   "source": [
    "roc_plot(nb_model, 'Naive Bayes')"
   ]
  },
  {
   "cell_type": "code",
   "execution_count": 55,
   "metadata": {},
   "outputs": [
    {
     "data": {
      "text/plain": [
       "array([0])"
      ]
     },
     "execution_count": 55,
     "metadata": {},
     "output_type": "execute_result"
    }
   ],
   "source": [
    "msg = pd.DataFrame(columns = [\"text\"],\n",
    "                   data    = [\" Call 03652945 and win a Christmas gift for free! You can get it immediately!\"])\n",
    "                   \n",
    "nb_model.predict(msg)"
   ]
  },
  {
   "cell_type": "code",
   "execution_count": 56,
   "metadata": {},
   "outputs": [
    {
     "data": {
      "text/plain": [
       "array([1])"
      ]
     },
     "execution_count": 56,
     "metadata": {},
     "output_type": "execute_result"
    }
   ],
   "source": [
    "msg = pd.DataFrame(columns = [\"text\"],\n",
    "                   data    = ['Hi! How are you?'])\n",
    "\n",
    "nb_model.predict(msg)"
   ]
  },
  {
   "cell_type": "markdown",
   "metadata": {},
   "source": [
    "Messages are classified correctly"
   ]
  },
  {
   "cell_type": "markdown",
   "metadata": {},
   "source": [
    "### Support Vector Machine"
   ]
  },
  {
   "cell_type": "code",
   "execution_count": 57,
   "metadata": {},
   "outputs": [
    {
     "data": {
      "text/plain": [
       "GridSearchCV(cv=10,\n",
       "             estimator=Pipeline(steps=[('select_scale',\n",
       "                                        Pipeline(steps=[('select',\n",
       "                                                         SelectKBest(score_func=<function chi2 at 0x000002F5898078B0>)),\n",
       "                                                        ('scale',\n",
       "                                                         StandardScaler(with_mean=False))])),\n",
       "                                       ('classify',\n",
       "                                        LinearSVC(max_iter=10000, tol=0.1))]),\n",
       "             param_grid={'classify__C': [0.01, 0.1, 1],\n",
       "                         'select_scale__select__k': [100, 500, 1000, 2500,\n",
       "                                                     5000]},\n",
       "             scoring='f1')"
      ]
     },
     "execution_count": 57,
     "metadata": {},
     "output_type": "execute_result"
    }
   ],
   "source": [
    "from sklearn.svm import LinearSVC\n",
    "\n",
    "pipe_svc = Pipeline([('select_scale', pipe_select_scale),\n",
    "                     ('classify', LinearSVC(max_iter=10000, tol=0.1))])\n",
    "\n",
    "param_svc = {\n",
    "    'classify__C': [0.01, 0.1, 1],\n",
    "    'select_scale__select__k': [100, 500, 1000, 2500, 5000]\n",
    "}\n",
    "\n",
    "cv_svc = GridSearchCV(pipe_svc, param_svc, cv=10, scoring='f1')\n",
    "cv_svc.fit(X_extract, y_train)"
   ]
  },
  {
   "cell_type": "code",
   "execution_count": 58,
   "metadata": {},
   "outputs": [
    {
     "name": "stdout",
     "output_type": "stream",
     "text": [
      "{'classify__C': 0.1, 'select_scale__select__k': 5000}\n",
      "0.9805969668820671\n"
     ]
    }
   ],
   "source": [
    "print(cv_svc.best_params_)\n",
    "print(cv_svc.best_score_)"
   ]
  },
  {
   "cell_type": "code",
   "execution_count": 59,
   "metadata": {},
   "outputs": [
    {
     "name": "stdout",
     "output_type": "stream",
     "text": [
      "f1 score: 0.9824451410658307\n",
      "accuracy score: 0.9695486677542142\n"
     ]
    }
   ],
   "source": [
    "svc_model = Pipeline([(\"extract\", pipe_extract),\n",
    "                 (\"select\", SelectKBest(score_func = chi2, k = 5000)),\n",
    "                 (\"scale\", StandardScaler(with_mean = False)),\n",
    "                 (\"classify\", LinearSVC(C = 0.1, max_iter=10000, tol=0.1))]) \n",
    "\n",
    "svc_model.fit(X_train, y_train)\n",
    "\n",
    "y_pred = svc_model.predict(X_test)\n",
    "f1_score_svc = f1_score(y_test, y_pred)\n",
    "accuracy_score_svc = accuracy_score(y_test, y_pred)\n",
    "print(\"f1 score: \" + str(f1_score_svc))\n",
    "print(\"accuracy score: \" + str(accuracy_score_svc))"
   ]
  },
  {
   "cell_type": "code",
   "execution_count": 60,
   "metadata": {},
   "outputs": [
    {
     "name": "stdout",
     "output_type": "stream",
     "text": [
      "              precision    recall  f1-score   support\n",
      "\n",
      "           0    0.90377   0.86747   0.88525       249\n",
      "           1    0.97937   0.98553   0.98245      1590\n",
      "\n",
      "    accuracy                        0.96955      1839\n",
      "   macro avg    0.94157   0.92650   0.93385      1839\n",
      "weighted avg    0.96914   0.96955   0.96928      1839\n",
      "\n"
     ]
    }
   ],
   "source": [
    "print(classification_report(y_test, y_pred, digits=5))"
   ]
  },
  {
   "cell_type": "code",
   "execution_count": 61,
   "metadata": {},
   "outputs": [
    {
     "data": {
      "text/plain": [
       "array([0])"
      ]
     },
     "execution_count": 61,
     "metadata": {},
     "output_type": "execute_result"
    }
   ],
   "source": [
    "msg = pd.DataFrame(columns = [\"text\"],\n",
    "                   data    = [\" Call 03652945 and win a Christmas gift for free! You can get it immediately!\"])\n",
    "                   \n",
    "svc_model.predict(msg)"
   ]
  },
  {
   "cell_type": "code",
   "execution_count": 62,
   "metadata": {},
   "outputs": [
    {
     "data": {
      "text/plain": [
       "array([1])"
      ]
     },
     "execution_count": 62,
     "metadata": {},
     "output_type": "execute_result"
    }
   ],
   "source": [
    "msg = pd.DataFrame(columns = [\"text\"],\n",
    "                   data    = ['Hi! How are you?'])\n",
    "\n",
    "nb_model.predict(msg)"
   ]
  },
  {
   "cell_type": "markdown",
   "metadata": {},
   "source": [
    "Messages are classified correctly"
   ]
  },
  {
   "cell_type": "markdown",
   "metadata": {},
   "source": [
    "### Perceptron"
   ]
  },
  {
   "cell_type": "code",
   "execution_count": 63,
   "metadata": {},
   "outputs": [
    {
     "data": {
      "text/plain": [
       "GridSearchCV(cv=10,\n",
       "             estimator=Pipeline(steps=[('select_scale',\n",
       "                                        Pipeline(steps=[('select',\n",
       "                                                         SelectKBest(score_func=<function chi2 at 0x000002F5898078B0>)),\n",
       "                                                        ('scale',\n",
       "                                                         StandardScaler(with_mean=False))])),\n",
       "                                       ('classify', Perceptron())]),\n",
       "             param_grid={'classify__alpha': [0.0001, 0.0003, 0.001, 0.003, 0.01,\n",
       "                                             0.03],\n",
       "                         'classify__eta0': [0.0001, 0.001, 0.01, 0.1, 1.0],\n",
       "                         'select_scale__select__k': [100, 500, 1000, 2500,\n",
       "                                                     5000]},\n",
       "             scoring='f1')"
      ]
     },
     "execution_count": 63,
     "metadata": {},
     "output_type": "execute_result"
    }
   ],
   "source": [
    "from sklearn.linear_model import Perceptron\n",
    "\n",
    "pipe_per = Pipeline([('select_scale', pipe_select_scale),\n",
    "                     ('classify', Perceptron(tol=1e-3, max_iter=1000, random_state=0))])\n",
    "\n",
    "param_per = {\n",
    "    'classify__eta0': [0.0001, 0.001, 0.01, 0.1, 1.0],\n",
    "    'classify__alpha': [0.0001, 0.0003, 0.001, 0.003, 0.01, 0.03],\n",
    "    'select_scale__select__k': [100, 500, 1000, 2500, 5000]\n",
    "}\n",
    "\n",
    "cv_per = GridSearchCV(pipe_per, param_per, cv=10, scoring='f1')\n",
    "cv_per.fit(X_extract, y_train)"
   ]
  },
  {
   "cell_type": "code",
   "execution_count": 64,
   "metadata": {},
   "outputs": [
    {
     "name": "stdout",
     "output_type": "stream",
     "text": [
      "{'classify__alpha': 0.0001, 'classify__eta0': 0.001, 'select_scale__select__k': 500}\n",
      "0.9686332100699555\n"
     ]
    }
   ],
   "source": [
    "print(cv_per.best_params_)\n",
    "print(cv_per.best_score_)"
   ]
  },
  {
   "cell_type": "code",
   "execution_count": 65,
   "metadata": {},
   "outputs": [
    {
     "name": "stdout",
     "output_type": "stream",
     "text": [
      "f1 score: 0.9750710003155569\n",
      "accuracy score: 0.957041870581838\n"
     ]
    }
   ],
   "source": [
    "per_model = Pipeline([(\"extract\", pipe_extract),\n",
    "                 (\"select\", SelectKBest(score_func = chi2, k = 500)),\n",
    "                 (\"scale\", StandardScaler(with_mean = False)),\n",
    "                 (\"classify\", Perceptron(alpha = 0.0001, eta0 = 0.001, tol=1e-3, max_iter=1000, random_state=0))]) \n",
    "\n",
    "per_model.fit(X_train, y_train)\n",
    "\n",
    "y_pred = per_model.predict(X_test)\n",
    "f1_score_per = f1_score(y_test, y_pred)\n",
    "accuracy_score_per = accuracy_score(y_test, y_pred)\n",
    "print(\"f1 score: \" + str(f1_score_per))\n",
    "print(\"accuracy score: \" + str(accuracy_score_per))"
   ]
  },
  {
   "cell_type": "code",
   "execution_count": 66,
   "metadata": {},
   "outputs": [
    {
     "name": "stdout",
     "output_type": "stream",
     "text": [
      "              precision    recall  f1-score   support\n",
      "\n",
      "           0    0.82692   0.86345   0.84479       249\n",
      "           1    0.97847   0.97170   0.97507      1590\n",
      "\n",
      "    accuracy                        0.95704      1839\n",
      "   macro avg    0.90270   0.91758   0.90993      1839\n",
      "weighted avg    0.95795   0.95704   0.95743      1839\n",
      "\n"
     ]
    }
   ],
   "source": [
    "print(classification_report(y_test, y_pred, digits=5))"
   ]
  },
  {
   "cell_type": "code",
   "execution_count": 67,
   "metadata": {},
   "outputs": [
    {
     "data": {
      "text/plain": [
       "array([0])"
      ]
     },
     "execution_count": 67,
     "metadata": {},
     "output_type": "execute_result"
    }
   ],
   "source": [
    "msg = pd.DataFrame(columns = [\"text\"],\n",
    "                   data    = [\" Call 03652945 and win a Christmas gift for free! You can get it immediately!\"])\n",
    "                   \n",
    "svc_model.predict(msg)"
   ]
  },
  {
   "cell_type": "code",
   "execution_count": 68,
   "metadata": {},
   "outputs": [
    {
     "data": {
      "text/plain": [
       "array([1])"
      ]
     },
     "execution_count": 68,
     "metadata": {},
     "output_type": "execute_result"
    }
   ],
   "source": [
    "msg = pd.DataFrame(columns = [\"text\"],\n",
    "                   data    = ['Hi! How are you?'])\n",
    "\n",
    "nb_model.predict(msg)"
   ]
  },
  {
   "cell_type": "markdown",
   "metadata": {},
   "source": [
    "Messages are classified correctly"
   ]
  },
  {
   "cell_type": "markdown",
   "metadata": {},
   "source": [
    "**Comparing scores for 4 models:**"
   ]
  },
  {
   "cell_type": "code",
   "execution_count": 69,
   "metadata": {},
   "outputs": [
    {
     "data": {
      "text/html": [
       "<div>\n",
       "<style scoped>\n",
       "    .dataframe tbody tr th:only-of-type {\n",
       "        vertical-align: middle;\n",
       "    }\n",
       "\n",
       "    .dataframe tbody tr th {\n",
       "        vertical-align: top;\n",
       "    }\n",
       "\n",
       "    .dataframe thead th {\n",
       "        text-align: right;\n",
       "    }\n",
       "</style>\n",
       "<table border=\"1\" class=\"dataframe\">\n",
       "  <thead>\n",
       "    <tr style=\"text-align: right;\">\n",
       "      <th></th>\n",
       "      <th>Logistic Regression</th>\n",
       "      <th>Naive Bayes Classifier</th>\n",
       "      <th>Support Vector Machine</th>\n",
       "      <th>Perceptron</th>\n",
       "    </tr>\n",
       "  </thead>\n",
       "  <tbody>\n",
       "    <tr>\n",
       "      <th>f1-score</th>\n",
       "      <td>0.988118</td>\n",
       "      <td>0.964834</td>\n",
       "      <td>0.982445</td>\n",
       "      <td>0.975071</td>\n",
       "    </tr>\n",
       "    <tr>\n",
       "      <th>accuracy</th>\n",
       "      <td>0.979337</td>\n",
       "      <td>0.940185</td>\n",
       "      <td>0.969549</td>\n",
       "      <td>0.957042</td>\n",
       "    </tr>\n",
       "  </tbody>\n",
       "</table>\n",
       "</div>"
      ],
      "text/plain": [
       "          Logistic Regression  Naive Bayes Classifier  Support Vector Machine  \\\n",
       "f1-score             0.988118                0.964834                0.982445   \n",
       "accuracy             0.979337                0.940185                0.969549   \n",
       "\n",
       "          Perceptron  \n",
       "f1-score    0.975071  \n",
       "accuracy    0.957042  "
      ]
     },
     "execution_count": 69,
     "metadata": {},
     "output_type": "execute_result"
    }
   ],
   "source": [
    "scores = {'f1-score': [f1_score_log, f1_score_nb, f1_score_svc, f1_score_per],\n",
    "          'accuracy': [accuracy_score_log, accuracy_score_nb, accuracy_score_svc, accuracy_score_per]}\n",
    "\n",
    "compare_scores = pd.DataFrame.from_dict(scores, orient='index',\n",
    "                  columns=(['Logistic Regression', 'Naive Bayes Classifier', 'Support Vector Machine', 'Perceptron']))\n",
    "\n",
    "compare_scores"
   ]
  },
  {
   "cell_type": "markdown",
   "metadata": {},
   "source": [
    "Logistic Regression model performs better on the emails classification"
   ]
  },
  {
   "cell_type": "markdown",
   "metadata": {},
   "source": [
    "### Task 1 - Clustering"
   ]
  },
  {
   "cell_type": "code",
   "execution_count": 70,
   "metadata": {},
   "outputs": [],
   "source": [
    "from sklearn.cluster import KMeans\n",
    "from sklearn.cluster import AgglomerativeClustering"
   ]
  },
  {
   "cell_type": "code",
   "execution_count": 71,
   "metadata": {},
   "outputs": [],
   "source": [
    "tfidf = pipe_extract.fit_transform(emails)"
   ]
  },
  {
   "cell_type": "markdown",
   "metadata": {},
   "source": [
    "Splitting emails into 2 clusters which may help to distinguish between spam and ham."
   ]
  },
  {
   "cell_type": "markdown",
   "metadata": {},
   "source": [
    "### K-means"
   ]
  },
  {
   "cell_type": "code",
   "execution_count": 72,
   "metadata": {},
   "outputs": [],
   "source": [
    "kmeans = KMeans(n_clusters=2, random_state= 0, n_init =100)"
   ]
  },
  {
   "cell_type": "code",
   "execution_count": 73,
   "metadata": {},
   "outputs": [
    {
     "name": "stdout",
     "output_type": "stream",
     "text": [
      "(0, 'Ok lar... Joking wif u oni...')\n",
      "(0, \"Free entry in 2 a wkly comp to win FA Cup final tkts 21st May 2005. Text FA to 87121 to receive entry question(std txt rate)T&C's apply 08452810075over18's\")\n",
      "(0, 'U dun say so early hor... U c already then say...')\n",
      "(0, \"Nah I don't think he goes to usf, he lives around here though\")\n",
      "(0, \"FreeMsg Hey there darling it's been 3 week's now and no word back! I'd like some fun you up for it still? Tb ok! XxX std chgs to send, £1.50 to rcv\")\n",
      "(0, 'Even my brother is not like to speak with me. They treat me like aids patent.')\n",
      "(0, \"As per your request 'Melle Melle (Oru Minnaminunginte Nurungu Vettam)' has been set as your callertune for all Callers. Press *9 to copy your friends Callertune\")\n",
      "(1, 'WINNER!! As a valued network customer you have been selected to receivea £900 prize reward! To claim call 09061701461. Claim code KL341. Valid 12 hours only.')\n",
      "(1, 'Had your mobile 11 months or more? U R entitled to Update to the latest colour mobiles with camera for Free! Call The Mobile Update Co FREE on 08002986030')\n"
     ]
    }
   ],
   "source": [
    "k_means_result = list(zip(kmeans.fit_predict(tfidf), emails['text']))\n",
    "print(*k_means_result[:9], sep ='\\n') #print first 10 lines"
   ]
  },
  {
   "cell_type": "markdown",
   "metadata": {},
   "source": [
    "### Agglomerative Clustering"
   ]
  },
  {
   "cell_type": "code",
   "execution_count": 74,
   "metadata": {},
   "outputs": [],
   "source": [
    "hac = AgglomerativeClustering(n_clusters=2, affinity='euclidean', linkage='ward')"
   ]
  },
  {
   "cell_type": "code",
   "execution_count": 75,
   "metadata": {},
   "outputs": [
    {
     "name": "stdout",
     "output_type": "stream",
     "text": [
      "(0, 'Ok lar... Joking wif u oni...')\n",
      "(0, \"Free entry in 2 a wkly comp to win FA Cup final tkts 21st May 2005. Text FA to 87121 to receive entry question(std txt rate)T&C's apply 08452810075over18's\")\n",
      "(0, 'U dun say so early hor... U c already then say...')\n",
      "(0, \"Nah I don't think he goes to usf, he lives around here though\")\n",
      "(0, \"FreeMsg Hey there darling it's been 3 week's now and no word back! I'd like some fun you up for it still? Tb ok! XxX std chgs to send, £1.50 to rcv\")\n",
      "(0, 'Even my brother is not like to speak with me. They treat me like aids patent.')\n",
      "(0, \"As per your request 'Melle Melle (Oru Minnaminunginte Nurungu Vettam)' has been set as your callertune for all Callers. Press *9 to copy your friends Callertune\")\n",
      "(0, 'WINNER!! As a valued network customer you have been selected to receivea £900 prize reward! To claim call 09061701461. Claim code KL341. Valid 12 hours only.')\n",
      "(0, 'Had your mobile 11 months or more? U R entitled to Update to the latest colour mobiles with camera for Free! Call The Mobile Update Co FREE on 08002986030')\n"
     ]
    }
   ],
   "source": [
    "hac_result = list(zip(hac.fit_predict(tfidf.toarray()), emails['text']))\n",
    "print(*hac_result[:9], sep ='\\n') #print first 10 lines"
   ]
  },
  {
   "cell_type": "markdown",
   "metadata": {},
   "source": [
    "K-means performs better that agglomerative clustering. However, classification is much more powerful tool in terms of identifying spam/ham.\n",
    "\n",
    "As a result of clustering, spam/ham are often assigned to the same cluster."
   ]
  },
  {
   "cell_type": "markdown",
   "metadata": {},
   "source": [
    "### Task 2 - Topic modelling"
   ]
  },
  {
   "cell_type": "markdown",
   "metadata": {},
   "source": [
    "A smaller dataset is preferable because Topic Modelling with LDA requires some  computational capacity.\n",
    "\n",
    "Dataset: 20 BBC news articles on the following 5 topics: Protests in Belarus, Covid, War in Syria, Animals, Archeology"
   ]
  },
  {
   "cell_type": "markdown",
   "metadata": {},
   "source": [
    "Data scraping and pre-processing"
   ]
  },
  {
   "cell_type": "code",
   "execution_count": 76,
   "metadata": {},
   "outputs": [],
   "source": [
    "from urllib import request\n",
    "from bs4 import BeautifulSoup"
   ]
  },
  {
   "cell_type": "code",
   "execution_count": 77,
   "metadata": {},
   "outputs": [],
   "source": [
    "def extract_text(a):\n",
    "    response = request.urlopen('https://www.bbc.com/news/' + a)\n",
    "    html = response.read().decode('utf8')\n",
    "    raw = BeautifulSoup(html, 'html.parser').get_text()\n",
    "    text = raw.replace('\\n',' ')\n",
    "    return text"
   ]
  },
  {
   "cell_type": "code",
   "execution_count": 78,
   "metadata": {},
   "outputs": [],
   "source": [
    "l = ['world-asia-india-56206004', 'world-africa-56180161', 'world-us-canada-56221371', 'world-asia-56156234',\n",
    "    'world-europe-56109750', 'world-europe-54961111', 'world-europe-54989508', 'world-europe-54953599',\n",
    "    'world-europe-56222992', 'world-europe-jersey-56195939', 'uk-england-cambridgeshire-56116411', 'world-europe-isle-of-man-56111192',\n",
    "    'world-asia-india-56224144', 'world-europe-55175734', 'world-europe-54353907', 'world-europe-54599913',\n",
    "    'world-middle-east-56205056', 'world-middle-east-56185976', 'world-middle-east-55977964', 'world-middle-east-55887870']\n",
    "articles = []\n",
    "for i in l:\n",
    "    text = extract_text(i)\n",
    "    articles.append(text)"
   ]
  },
  {
   "cell_type": "code",
   "execution_count": 79,
   "metadata": {},
   "outputs": [],
   "source": [
    "df = pd.DataFrame(articles, columns =['text'])"
   ]
  },
  {
   "cell_type": "code",
   "execution_count": 80,
   "metadata": {},
   "outputs": [
    {
     "name": "stdout",
     "output_type": "stream",
     "text": [
      "(20, 10172)\n"
     ]
    }
   ],
   "source": [
    "text_clean = pipe_cleaning.fit_transform(df)\n",
    "vec = TfidfVectorizer(ngram_range=(1,2)) #use unigrams and bigrams\n",
    "features = vec.fit_transform(text_clean)\n",
    "print(features.shape)\n",
    "vocabulary=np.array(vec.get_feature_names())"
   ]
  },
  {
   "cell_type": "code",
   "execution_count": 81,
   "metadata": {},
   "outputs": [
    {
     "data": {
      "text/plain": [
       "array(['abandon', 'abandon animals', 'abandoned', ..., 'zone houses',\n",
       "       'zoos', 'zoos permanent'], dtype='<U142')"
      ]
     },
     "execution_count": 81,
     "metadata": {},
     "output_type": "execute_result"
    }
   ],
   "source": [
    "vocabulary"
   ]
  },
  {
   "cell_type": "markdown",
   "metadata": {},
   "source": [
    "**Method 1**: Topic modelling using scikit-learn LDA"
   ]
  },
  {
   "cell_type": "code",
   "execution_count": 82,
   "metadata": {},
   "outputs": [],
   "source": [
    "# Chose 5 topics \n",
    "from sklearn.decomposition import LatentDirichletAllocation\n",
    "topic_number = 5\n",
    "lda_model=LatentDirichletAllocation(n_components=topic_number,\n",
    "                                    max_iter=500,\n",
    "                                    max_doc_update_iter=50,\n",
    "                                    learning_method='online',\n",
    "                                    learning_offset=50,\n",
    "                                    random_state=42)"
   ]
  },
  {
   "cell_type": "code",
   "execution_count": 83,
   "metadata": {},
   "outputs": [],
   "source": [
    "document_topics=lda_model.fit_transform(features)"
   ]
  },
  {
   "cell_type": "code",
   "execution_count": 84,
   "metadata": {},
   "outputs": [
    {
     "data": {
      "text/plain": [
       "(20, 5)"
      ]
     },
     "execution_count": 84,
     "metadata": {},
     "output_type": "execute_result"
    }
   ],
   "source": [
    "document_topics.shape"
   ]
  },
  {
   "cell_type": "code",
   "execution_count": 85,
   "metadata": {},
   "outputs": [
    {
     "name": "stderr",
     "output_type": "stream",
     "text": [
      "<ipython-input-85-1f0a5d649887>:7: FutureWarning: Passing a negative integer is deprecated in version 1.0 and will not be supported in future version. Instead, use None to not limit the column width.\n",
      "  pd.set_option('display.max_colwidth',-1)\n"
     ]
    },
    {
     "data": {
      "text/html": [
       "<div>\n",
       "<style scoped>\n",
       "    .dataframe tbody tr th:only-of-type {\n",
       "        vertical-align: middle;\n",
       "    }\n",
       "\n",
       "    .dataframe tbody tr th {\n",
       "        vertical-align: top;\n",
       "    }\n",
       "\n",
       "    .dataframe thead th {\n",
       "        text-align: right;\n",
       "    }\n",
       "</style>\n",
       "<table border=\"1\" class=\"dataframe\">\n",
       "  <thead>\n",
       "    <tr style=\"text-align: right;\">\n",
       "      <th></th>\n",
       "      <th>Term per Topic</th>\n",
       "    </tr>\n",
       "  </thead>\n",
       "  <tbody>\n",
       "    <tr>\n",
       "      <th>Topic1</th>\n",
       "      <td>wild, syria, boar, korea, animals, people, palmyra, bbc, killed, palace, syrian, new, cases, iraq, wild animals</td>\n",
       "    </tr>\n",
       "    <tr>\n",
       "      <th>Topic2</th>\n",
       "      <td>jersey, bronze age, strike, bronze, us, age, iraqi, spearhead, wood, biden, said, kataib, hezbollah, pentagon said, iran</td>\n",
       "    </tr>\n",
       "    <tr>\n",
       "      <th>Topic3</th>\n",
       "      <td>carriages, bill, man, animal, vaccine, bbc, chariot, vaccines, palace, doses, covax, viking, said, news, owner</td>\n",
       "    </tr>\n",
       "    <tr>\n",
       "      <th>Topic4</th>\n",
       "      <td>policycookiesaccessibility helpparental, songs, back, get first, ok, tariffs single, single, news alertscontact, older people, suspends, today, twitter, security, know, agency</td>\n",
       "    </tr>\n",
       "    <tr>\n",
       "      <th>Topic5</th>\n",
       "      <td>belarus, protesters, police, election, lukashenko, children, brutality, opposition, people, streets, minsk, november, august, presidential, bbc</td>\n",
       "    </tr>\n",
       "  </tbody>\n",
       "</table>\n",
       "</div>"
      ],
      "text/plain": [
       "                                                                                                                                                                         Term per Topic\n",
       "Topic1  wild, syria, boar, korea, animals, people, palmyra, bbc, killed, palace, syrian, new, cases, iraq, wild animals                                                                \n",
       "Topic2  jersey, bronze age, strike, bronze, us, age, iraqi, spearhead, wood, biden, said, kataib, hezbollah, pentagon said, iran                                                       \n",
       "Topic3  carriages, bill, man, animal, vaccine, bbc, chariot, vaccines, palace, doses, covax, viking, said, news, owner                                                                 \n",
       "Topic4  policycookiesaccessibility helpparental, songs, back, get first, ok, tariffs single, single, news alertscontact, older people, suspends, today, twitter, security, know, agency\n",
       "Topic5  belarus, protesters, police, election, lukashenko, children, brutality, opposition, people, streets, minsk, november, august, presidential, bbc                                "
      ]
     },
     "execution_count": 85,
     "metadata": {},
     "output_type": "execute_result"
    }
   ],
   "source": [
    "# Extracting the most important 15 terms for each topic\n",
    "topic_terms=lda_model.components_\n",
    "top_terms=15 \n",
    "topic_key_terms_idxs=np.argsort(-np.absolute(topic_terms), axis=1)[:,:top_terms]\n",
    "topic_keyterms=vocabulary[topic_key_terms_idxs]\n",
    "topics=[', '.join(topic) for topic in topic_keyterms]\n",
    "pd.set_option('display.max_colwidth',-1)\n",
    "topics_df=pd.DataFrame(topics,columns=['Term per Topic'], index=['Topic'+str(t) for t in range(1,topic_number+1)])\n",
    "topics_df"
   ]
  },
  {
   "cell_type": "code",
   "execution_count": 86,
   "metadata": {},
   "outputs": [
    {
     "data": {
      "text/html": [
       "<div>\n",
       "<style scoped>\n",
       "    .dataframe tbody tr th:only-of-type {\n",
       "        vertical-align: middle;\n",
       "    }\n",
       "\n",
       "    .dataframe tbody tr th {\n",
       "        vertical-align: top;\n",
       "    }\n",
       "\n",
       "    .dataframe thead th {\n",
       "        text-align: right;\n",
       "    }\n",
       "</style>\n",
       "<table border=\"1\" class=\"dataframe\">\n",
       "  <thead>\n",
       "    <tr style=\"text-align: right;\">\n",
       "      <th></th>\n",
       "      <th>Dominant Topic</th>\n",
       "      <th>Contribution%</th>\n",
       "      <th>Answer Num</th>\n",
       "      <th>Topic</th>\n",
       "    </tr>\n",
       "  </thead>\n",
       "  <tbody>\n",
       "    <tr>\n",
       "      <th>Topic1</th>\n",
       "      <td>T1</td>\n",
       "      <td>0.97371</td>\n",
       "      <td>0</td>\n",
       "      <td>wild, syria, boar, korea, animals, people, palmyra, bbc, killed, palace, syrian, new, cases, iraq, wild animals</td>\n",
       "    </tr>\n",
       "    <tr>\n",
       "      <th>Topic2</th>\n",
       "      <td>T2</td>\n",
       "      <td>0.96875</td>\n",
       "      <td>16</td>\n",
       "      <td>jersey, bronze age, strike, bronze, us, age, iraqi, spearhead, wood, biden, said, kataib, hezbollah, pentagon said, iran</td>\n",
       "    </tr>\n",
       "    <tr>\n",
       "      <th>Topic3</th>\n",
       "      <td>T3</td>\n",
       "      <td>0.96848</td>\n",
       "      <td>1</td>\n",
       "      <td>carriages, bill, man, animal, vaccine, bbc, chariot, vaccines, palace, doses, covax, viking, said, news, owner</td>\n",
       "    </tr>\n",
       "    <tr>\n",
       "      <th>Topic4</th>\n",
       "      <td>T4</td>\n",
       "      <td>0.01033</td>\n",
       "      <td>13</td>\n",
       "      <td>policycookiesaccessibility helpparental, songs, back, get first, ok, tariffs single, single, news alertscontact, older people, suspends, today, twitter, security, know, agency</td>\n",
       "    </tr>\n",
       "    <tr>\n",
       "      <th>Topic5</th>\n",
       "      <td>T5</td>\n",
       "      <td>0.97545</td>\n",
       "      <td>5</td>\n",
       "      <td>belarus, protesters, police, election, lukashenko, children, brutality, opposition, people, streets, minsk, november, august, presidential, bbc</td>\n",
       "    </tr>\n",
       "  </tbody>\n",
       "</table>\n",
       "</div>"
      ],
      "text/plain": [
       "       Dominant Topic  Contribution%  Answer Num  \\\n",
       "Topic1             T1        0.97371           0   \n",
       "Topic2             T2        0.96875          16   \n",
       "Topic3             T3        0.96848           1   \n",
       "Topic4             T4        0.01033          13   \n",
       "Topic5             T5        0.97545           5   \n",
       "\n",
       "                                                                                                                                                                                  Topic  \n",
       "Topic1                                                                  wild, syria, boar, korea, animals, people, palmyra, bbc, killed, palace, syrian, new, cases, iraq, wild animals  \n",
       "Topic2                                                         jersey, bronze age, strike, bronze, us, age, iraqi, spearhead, wood, biden, said, kataib, hezbollah, pentagon said, iran  \n",
       "Topic3                                                                   carriages, bill, man, animal, vaccine, bbc, chariot, vaccines, palace, doses, covax, viking, said, news, owner  \n",
       "Topic4  policycookiesaccessibility helpparental, songs, back, get first, ok, tariffs single, single, news alertscontact, older people, suspends, today, twitter, security, know, agency  \n",
       "Topic5                                  belarus, protesters, police, election, lukashenko, children, brutality, opposition, people, streets, minsk, november, august, presidential, bbc  "
      ]
     },
     "execution_count": 86,
     "metadata": {},
     "output_type": "execute_result"
    }
   ],
   "source": [
    "# Max probability among the terms for each topic\n",
    "dt_df=pd.DataFrame(document_topics,columns=['T'+str(i) for i in range(1,topic_number+1)])\n",
    "pd.options.display.float_format='{:,.5f}'.format\n",
    "pd.set_option('display.max_colwidth',200)\n",
    "max_contrib_topics=dt_df.max(axis=0)\n",
    "dominant_topics=max_contrib_topics.index\n",
    "contrib_perc=max_contrib_topics.values\n",
    "document_numbers=[dt_df[dt_df[t]==max_contrib_topics.loc[t]].index[0] for t in dominant_topics]\n",
    "results_df=pd.DataFrame({'Dominant Topic':dominant_topics,'Contribution%':contrib_perc, 'Answer Num': document_numbers,'Topic':topics_df['Term per Topic']})\n",
    "results_df"
   ]
  },
  {
   "cell_type": "markdown",
   "metadata": {},
   "source": [
    "We can analyze the keywords and see that:\n",
    "\n",
    "- Overall, topics covered are related to Covid; Archeology; Protests in Belarus; Animals (assignment of keywords to each specific topic depends on the random state and may be different in different runs).\n",
    "- Max probability among the terms for each (or almost each) topic is high"
   ]
  },
  {
   "cell_type": "markdown",
   "metadata": {},
   "source": [
    "**Method 2**: Topic modelling using gensim Dictionary, LDA and pyLDAvis"
   ]
  },
  {
   "cell_type": "code",
   "execution_count": 87,
   "metadata": {},
   "outputs": [],
   "source": [
    "# Create corpus with unigrams\n",
    "texts = []\n",
    "for x in df['text']:\n",
    "    tok = [w for w in word_tokenize(x.lower())\n",
    "              if w.isalpha() and w not in stopword]\n",
    "    texts.append(tok)"
   ]
  },
  {
   "cell_type": "code",
   "execution_count": 88,
   "metadata": {},
   "outputs": [],
   "source": [
    "import gensim\n",
    "import gensim.corpora as corpora\n",
    "# Create Dictionary\n",
    "id2word = corpora.Dictionary(texts)\n",
    "\n",
    "# Term Document Frequency\n",
    "corpus = [id2word.doc2bow(text) for text in texts]"
   ]
  },
  {
   "cell_type": "code",
   "execution_count": 89,
   "metadata": {},
   "outputs": [
    {
     "name": "stdout",
     "output_type": "stream",
     "text": [
      "[[('abortion', 1), ('absence', 1), ('abut', 1), ('accents', 1), ('accounthomenewssportreelworklifetravelfutureculturemenumoresearchhomenewssportreelworklifetravelfutureculturemusictvweathersoundsclose', 1), ('accuses', 2), ('adds', 2), ('advises', 1), ('afford', 1), ('africa', 1), ('agofeatureswhy', 1), ('agosharecloseshare', 1), ('agotight', 1), ('agrees', 1), ('ahead', 1), ('alertscontact', 1), ('alleged', 2), ('allow', 1), ('almost', 1), ('also', 4), ('amazonian', 1), ('amid', 2), ('amravati', 4), ('analysis', 1), ('anil', 1), ('another', 2), ('antibodies', 1), ('approach', 1), ('areas', 2), ('around', 1), ('artist', 1), ('artshealthmoreworld', 1), ('asks', 2), ('attending', 1), ('attribute', 2), ('away', 1), ('back', 1), ('bad', 2), ('baffled', 1), ('bangaloredr', 1), ('battle', 2), ('battling', 1), ('bbc', 5), ('bbcadvertise', 1), ('bbcget', 1), ('bbclyrics', 1), ('bbcprivacy', 1), ('become', 1), ('beginning', 1), ('behave', 1), ('believers', 1), ('bengal', 1), ('big', 1), ('biswas', 1), ('blamed', 1), ('body', 1), ('brazil', 1), ('breach', 2), ('brother', 1), ('buckingham', 1), ('burning', 1), ('ca', 2), ('californiathe', 1), ('campaigns', 1), ('cancellation', 1), ('capital', 1), ('captionan', 1), ('captionhealthcare', 1), ('captionmarkers', 1), ('captionpublic', 1), ('carriers', 1), ('cases', 13), ('cause', 1), ('cautious', 1), ('chain', 1), ('change', 3), ('changed', 1), ('charts', 1), ('checknewsbeatlong', 1), ('chhattisgarh', 1), ('cinema', 1), ('citiesseveral', 1), ('civil', 1), ('clusters', 2), ('code', 1), ('come', 1), ('comes', 1), ('coming', 2), ('commercial', 1), ('common', 1), ('community', 2), ('completely', 1), ('concerned', 1), ('conclusion', 2), ('congested', 1), ('considered', 1), ('content', 1), ('contentaccessibility', 1), ('continent', 1), ('copyrightepaimage', 1), ('copyrightgetty', 3), ('coronavirus', 2), ('could', 3), ('countries', 2), ('country', 3), ('county', 1), ('covid', 5), ('crowded', 2), ('daily', 1), ('dangerous', 1), ('data', 2), ('date', 1), ('day', 1), ('days', 2), ('deaths', 2), ('december', 1), ('definitive', 1), ('delicate', 1), ('detected', 1), ('different', 1), ('digits', 1), ('disease', 4), ('distancing', 1), ('district', 5), ('districts', 2), ('doctors', 1), ('done', 1), ('double', 1), ('doubt', 1), ('dr', 7), ('drop', 2), ('duchess', 1), ('due', 1), ('early', 1), ('effective', 1), ('elderly', 1), ('elections', 2), ('electricity', 1), ('electricitybbc', 1), ('emotional', 1), ('empty', 1), ('end', 1), ('enough', 2), ('entire', 1), ('epidemic', 1), ('epidemiological', 1), ('epidemiologist', 2), ('escape', 1), ('everything', 1), ('evidence', 1), ('exhausted', 1), ('exits', 1), ('expect', 1), ('expected', 2), ('expert', 1), ('experts', 2), ('external', 2), ('extreme', 1), ('fall', 1), ('falling', 1), ('false', 1), ('families', 1), ('far', 1), ('faster', 4), ('fathahudeen', 1), ('february', 4), ('februarytop', 1), ('feeling', 1), ('finally', 1), ('finding', 1), ('finds', 1), ('first', 2), ('fishermen', 2), ('follow', 1), ('followed', 1), ('followedis', 1), ('force', 2), ('foreign', 1), ('four', 1), ('free', 1), ('frightful', 1), ('future', 1), ('gatherings', 2), ('gautam', 1), ('generated', 1), ('genetic', 1), ('genome', 3), ('get', 4), ('getting', 3), ('girl', 1), ('given', 1), ('global', 1), ('go', 1), ('gold', 1), ('gone', 2), ('good', 2), ('grown', 1), ('guard', 1), ('guidancecontact', 1), ('gyms', 1), ('halls', 1), ('handful', 1), ('happen', 1), ('happening', 1), ('happens', 1), ('havoc', 1), ('healthcare', 2), ('heart', 1), ('heat', 1), ('helpbbc', 1), ('helping', 2), ('helpparental', 1), ('homepageskip', 1), ('hope', 1), ('hospital', 1), ('hospitals', 2), ('hotspots', 1), ('hotwhat', 1), ('hours', 3), ('hundreds', 1), ('hunters', 2), ('icus', 1), ('identified', 1), ('identify', 2), ('image', 1), ('imagesimage', 3), ('immunity', 1), ('improved', 1), ('increase', 1), ('india', 12), ('indian', 3), ('inevitable', 1), ('infected', 1), ('infection', 1), ('infections', 3), ('injures', 1), ('instruction', 1), ('intermingling', 1), ('involving', 1), ('isolated', 2), ('isolation', 1), ('jabs', 1), ('jadhav', 1), ('jameel', 1), ('journalist', 1), ('judge', 2), ('kant', 2), ('karnataka', 1), ('kent', 1), ('kerala', 2), ('know', 3), ('known', 1), ('lalit', 1), ('large', 3), ('largely', 1), ('largest', 1), ('last', 1), ('law', 1), ('led', 1), ('less', 2), ('let', 1), ('like', 4), ('link', 1), ('linkabout', 1), ('linked', 1), ('linking', 1), ('little', 1), ('local', 2), ('localised', 1), ('locals', 1), ('locked', 1), ('low', 1), ('lull', 1), ('madhya', 1), ('maharashtra', 6), ('mainly', 1), ('malt', 1), ('manual', 1), ('marriages', 1), ('marry', 2), ('masks', 2), ('mass', 2), ('massively', 1), ('matter', 1), ('may', 3), ('mean', 1), ('means', 1), ('measures', 1), ('member', 1), ('menon', 3), ('menubbc', 1), ('method', 1), ('miles', 1), ('million', 1), ('missteps', 1), ('mobileon', 1), ('modellers', 1), ('modelling', 2), ('moment', 1), ('months', 3), ('mourned', 2), ('mr', 2), ('much', 3), ('mumbai', 1), ('mutate', 1), ('mutation', 1), ('mutations', 6), ('nazmirelated', 1), ('nearly', 2), ('need', 3), ('needs', 1), ('neighbouring', 1), ('new', 11), ('news', 5), ('newsbbc', 1), ('newshomenewssportreelworklifetravelfutureculturemusictvweathersoundsterms', 1), ('newsletterswhy', 1), ('newsmenuhomecoronavirusvideoworldukbusinesstechsciencestoriesentertainment', 1), ('nikam', 1), ('normal', 1), ('normalcy', 1), ('norms', 1), ('noticed', 1), ('number', 4), ('oak', 1), ('obsessed', 1), ('officials', 1), ('often', 1), ('ok', 2), ('older', 2), ('one', 1), ('open', 1), ('opening', 1), ('otherwise', 1), ('pagecopy', 1), ('palace', 4), ('pandemic', 1), ('pandemiccoronavirus', 1), ('pandemicimage', 1), ('pandey', 1), ('panic', 2), ('part', 2), ('particularly', 1), ('past', 1), ('pattern', 1), ('peak', 1), ('people', 8), ('persistent', 1), ('personalised', 1), ('petrol', 2), ('phase', 3), ('physicians', 1), ('picturesreality', 1), ('places', 2), ('point', 1), ('policycookiesaccessibility', 1), ('political', 1), ('pools', 1), ('population', 2), ('positivity', 1), ('possible', 1), ('potentially', 2), ('pradesh', 1), ('prepared', 1), ('present', 1), ('pressure', 1), ('prior', 1), ('private', 1), ('procedure', 1), ('prominent', 1), ('punjab', 1), ('put', 1), ('qanon', 1), ('quickly', 1), ('quizhave', 1), ('rallies', 1), ('rapist', 2), ('rate', 1), ('read', 1), ('readmeghan', 1), ('really', 1), ('reason', 1), ('reasonable', 1), ('reasons', 1), ('receives', 1), ('receiving', 1), ('recently', 1), ('recorded', 2), ('red', 1), ('render', 1), ('reopening', 1), ('reported', 2), ('reporting', 3), ('research', 1), ('responsible', 1), ('results', 1), ('resurgence', 2), ('returned', 1), ('revolutionary', 1), ('rise', 3), ('roadselsewhere', 1), ('said', 1), ('sanjay', 1), ('say', 5), ('says', 9), ('scale', 1), ('scaled', 1), ('scenario', 1), ('scientists', 1), ('scotch', 1), ('security', 2), ('see', 1), ('seeing', 1), ('seen', 4), ('sell', 1), ('sense', 1), ('sequencing', 3), ('sero', 1), ('serviceson', 1), ('seven', 1), ('several', 2), ('shadab', 1), ('shahid', 1), ('sharingrelated', 1), ('sharp', 3), ('shot', 1), ('shyamsunder', 1), ('significant', 1), ('silent', 1), ('similar', 1), ('similarly', 1), ('simply', 2), ('since', 1), ('single', 1), ('sites', 1), ('situation', 2), ('smart', 1), ('social', 1), ('songs', 1), ('sort', 1), ('south', 1), ('soutik', 1), ('speakersget', 1), ('spike', 2), ('spikes', 2), ('spread', 4), ('stabbing', 1), ('stage', 1), ('standard', 1), ('staring', 1), ('started', 1), ('state', 4), ('states', 12), ('stay', 2), ('still', 1), ('stop', 1), ('storiesmeghan', 1), ('storyis', 1), ('strains', 1), ('strategy', 2), ('strictly', 1), ('stronger', 1), ('successful', 1), ('sudden', 1), ('sued', 1), ('sues', 1), ('suffering', 1), ('suggest', 1), ('summer', 1), ('supermarket', 1), ('surge', 6), ('surgeon', 1), ('surges', 3), ('surprising', 1), ('surveillance', 1), ('survey', 1), ('susceptible', 1), ('suspends', 1), ('sussex', 1), ('sustainable', 1), ('swapping', 2), ('sweden', 1), ('swept', 1), ('swimming', 1), ('tariffs', 1), ('task', 2), ('teen', 2), ('telangana', 1), ('terrifying', 1), ('test', 1), ('testing', 7), ('things', 1), ('though', 1), ('threat', 2), ('three', 1), ('thursday', 1), ('time', 1), ('tired', 1), ('today', 1), ('told', 1), ('top', 1), ('topicscoronavirus', 1), ('topicsindiacoronavirus', 1), ('tracing', 2), ('tracking', 1), ('transport', 1), ('treatment', 1), ('trend', 1), ('trust', 1), ('tvin', 1), ('twitter', 1), ('two', 1), ('uk', 1), ('undetected', 1), ('unless', 1), ('unregulated', 1), ('uptick', 2), ('urban', 1), ('us', 2), ('usadchoices', 1), ('useabout', 1), ('vaccination', 1), ('vaccine', 1), ('vaccinesasiamore', 1), ('variant', 3), ('variants', 5), ('victims', 1), ('videothe', 2), ('vigilant', 1), ('vikas', 1), ('virologist', 1), ('virus', 2), ('viruses', 3), ('wait', 1), ('wave', 2), ('waveafter', 1), ('way', 3), ('weaker', 1), ('wearing', 2), ('weddings', 1), ('week', 1), ('weeks', 2), ('west', 1), ('western', 1), ('whether', 1), ('woman', 1), ('work', 1), ('workers', 3), ('working', 1), ('worried', 1), ('worrying', 1), ('worse', 1), ('would', 1), ('wreaking', 1), ('wrong', 1), ('year', 1), ('yet', 1)]]\n"
     ]
    }
   ],
   "source": [
    "id_w = [[(id2word[id], freq) for id, freq in cp] for cp in corpus[:1]]\n",
    "print(id_w)"
   ]
  },
  {
   "cell_type": "code",
   "execution_count": 90,
   "metadata": {},
   "outputs": [],
   "source": [
    "# Build LDA model with gensim\n",
    "lda_model = gensim.models.ldamodel.LdaModel(corpus=corpus,\n",
    "                                           id2word=id2word,\n",
    "                                           num_topics=5,\n",
    "                                           update_every=1,\n",
    "                                           passes=10,\n",
    "                                           alpha='auto',\n",
    "                                           per_word_topics=True,\n",
    "                                           random_state = 42)"
   ]
  },
  {
   "cell_type": "code",
   "execution_count": 91,
   "metadata": {},
   "outputs": [
    {
     "name": "stdout",
     "output_type": "stream",
     "text": [
      "(0, '0.008*\"us\" + 0.007*\"people\" + 0.007*\"said\" + 0.007*\"bbc\" + 0.006*\"palace\" + 0.006*\"news\" + 0.006*\"new\" + 0.005*\"police\" + 0.005*\"hours\" + 0.005*\"get\"')\n",
      "(1, '0.000*\"people\" + 0.000*\"news\" + 0.000*\"bbc\" + 0.000*\"said\" + 0.000*\"hours\" + 0.000*\"new\" + 0.000*\"get\" + 0.000*\"us\" + 0.000*\"security\" + 0.000*\"palace\"')\n",
      "(2, '0.008*\"bbc\" + 0.008*\"people\" + 0.007*\"palace\" + 0.007*\"news\" + 0.007*\"said\" + 0.006*\"new\" + 0.006*\"hours\" + 0.005*\"security\" + 0.004*\"us\" + 0.004*\"belarus\"')\n",
      "(3, '0.013*\"vaccine\" + 0.011*\"countries\" + 0.011*\"vaccines\" + 0.009*\"doses\" + 0.009*\"covax\" + 0.007*\"first\" + 0.006*\"ghana\" + 0.006*\"scheme\" + 0.005*\"people\" + 0.005*\"health\"')\n",
      "(4, '0.007*\"bbc\" + 0.005*\"news\" + 0.005*\"chariot\" + 0.005*\"said\" + 0.005*\"palace\" + 0.005*\"found\" + 0.004*\"new\" + 0.004*\"could\" + 0.004*\"used\" + 0.004*\"us\"')\n"
     ]
    }
   ],
   "source": [
    "#print 10 keywords for each topics \n",
    "\n",
    "topics = lda_model.print_topics(num_words=10)\n",
    "for topic in topics:\n",
    "    print(topic)"
   ]
  },
  {
   "cell_type": "markdown",
   "metadata": {},
   "source": [
    "We can analyze the keywords and see that:\n",
    "\n",
    "- Overall, topics covered are related to Covid; Archeology; Protests in Belarus; Animals (assignment of keywords to each specific topic depends on the random state and may be different in different runs)."
   ]
  },
  {
   "cell_type": "code",
   "execution_count": 92,
   "metadata": {},
   "outputs": [
    {
     "data": {
      "text/html": [
       "\n",
       "<link rel=\"stylesheet\" type=\"text/css\" href=\"https://cdn.jsdelivr.net/gh/bmabey/pyLDAvis@3.2.2/pyLDAvis/js/ldavis.v1.0.0.css\">\n",
       "\n",
       "\n",
       "<div id=\"ldavis_el604832543838636161652852438\"></div>\n",
       "<script type=\"text/javascript\">\n",
       "\n",
       "var ldavis_el604832543838636161652852438_data = {\"mdsDat\": {\"x\": [0.04383929167196623, 0.11193821639157829, -0.0036782413401610452, -0.07805011716165224, -0.07404914956173132], \"y\": [0.03450718817827533, 0.016117485581489475, -0.09707596774236957, 0.05856665729376531, -0.012115363311160624], \"topics\": [1, 2, 3, 4, 5], \"cluster\": [1, 1, 1, 1, 1], \"Freq\": [54.76694758620678, 28.769017119970968, 9.526782996888752, 6.934875342698514, 0.0023769542349817924]}, \"tinfo\": {\"Term\": [\"vaccine\", \"countries\", \"first\", \"bbc\", \"vaccines\", \"people\", \"cases\", \"news\", \"said\", \"found\", \"would\", \"doses\", \"covax\", \"palace\", \"could\", \"used\", \"new\", \"children\", \"man\", \"hours\", \"korea\", \"belarus\", \"biden\", \"bill\", \"country\", \"testing\", \"health\", \"boar\", \"states\", \"chariot\", \"biden\", \"korea\", \"bill\", \"states\", \"testing\", \"strike\", \"boar\", \"hit\", \"play\", \"palmyra\", \"house\", \"virus\", \"minimum\", \"february\", \"wage\", \"riot\", \"omon\", \"chung\", \"mutations\", \"democrats\", \"surge\", \"senate\", \"maharashtra\", \"kataib\", \"covid\", \"arm\", \"isle\", \"gold\", \"social\", \"immunity\", \"children\", \"south\", \"police\", \"cases\", \"later\", \"us\", \"iraqi\", \"days\", \"march\", \"said\", \"people\", \"india\", \"one\", \"get\", \"bbc\", \"protesters\", \"around\", \"new\", \"country\", \"palace\", \"news\", \"know\", \"first\", \"hours\", \"security\", \"helping\", \"external\", \"marry\", \"threat\", \"hunters\", \"videothe\", \"ok\", \"accuses\", \"fishermen\", \"asks\", \"older\", \"breach\", \"swapping\", \"judge\", \"says\", \"alleged\", \"carriages\", \"journalists\", \"circuses\", \"jersey\", \"deir\", \"members\", \"trade\", \"ms\", \"filming\", \"jihadists\", \"sdf\", \"longer\", \"marine\", \"circus\", \"orcas\", \"captivity\", \"pompili\", \"anyone\", \"parks\", \"wood\", \"piece\", \"viktor\", \"able\", \"eu\", \"russian\", \"positions\", \"jets\", \"bring\", \"raggi\", \"elephants\", \"bronze\", \"belsat\", \"desert\", \"animals\", \"tv\", \"human\", \"rights\", \"arrested\", \"syrian\", \"election\", \"belarus\", \"syria\", \"years\", \"spearhead\", \"palace\", \"bbc\", \"news\", \"people\", \"hours\", \"security\", \"new\", \"threat\", \"said\", \"lukashenko\", \"amid\", \"says\", \"alleged\", \"external\", \"rapist\", \"teen\", \"videothe\", \"mourned\", \"swapping\", \"asks\", \"older\", \"accuses\", \"breach\", \"fishermen\", \"petrol\", \"marry\", \"hunters\", \"us\", \"get\", \"judge\", \"helping\", \"chariot\", \"ceremonial\", \"copyrighthandout\", \"celtic\", \"iron\", \"wimpole\", \"eruption\", \"pompeii\", \"copyrightnational\", \"estate\", \"century\", \"england\", \"statue\", \"moustache\", \"trends\", \"trove\", \"epaimage\", \"captionexperts\", \"fittings\", \"peterborough\", \"detail\", \"harness\", \"mask\", \"hairstyle\", \"handle\", \"exceptional\", \"deity\", \"settlement\", \"festivities\", \"torc\", \"figure\", \"italy\", \"discovery\", \"ancient\", \"via\", \"discovered\", \"east\", \"carriage\", \"roman\", \"found\", \"archaeologists\", \"used\", \"could\", \"bbc\", \"news\", \"may\", \"palace\", \"said\", \"man\", \"new\", \"hours\", \"us\", \"judge\", \"amid\", \"external\", \"one\", \"people\", \"security\", \"alleged\", \"mourned\", \"ok\", \"older\", \"doses\", \"covax\", \"ghana\", \"scheme\", \"poorer\", \"vaccines\", \"nations\", \"buying\", \"wealthier\", \"delivered\", \"african\", \"cost\", \"unicef\", \"delivery\", \"deliver\", \"billion\", \"alliance\", \"recipients\", \"procurement\", \"joint\", \"cepi\", \"share\", \"orders\", \"market\", \"deals\", \"programme\", \"knowing\", \"momentous\", \"innovations\", \"counting\", \"countries\", \"vaccine\", \"health\", \"rollout\", \"criticism\", \"companies\", \"astrazeneca\", \"first\", \"global\", \"data\", \"left\", \"would\", \"end\", \"people\", \"said\", \"bbc\", \"many\", \"cases\", \"country\", \"palace\", \"news\", \"new\", \"hours\", \"helping\", \"could\", \"india\", \"continent\", \"world\", \"recipient\", \"outside\", \"februaryafrica\", \"martin\", \"donations\", \"logistics\", \"funded\", \"finance\", \"senegal\", \"kofi\", \"prevent\", \"deliveries\", \"captioncovax\", \"divide\", \"deadghana\", \"agothe\", \"placed\", \"populations\", \"school\", \"dashboard\", \"announcements\", \"ghebreyesus\", \"storythe\", \"history\", \"adhanom\", \"planning\", \"adequate\", \"coast\", \"occasion\", \"provisions\", \"competitive\", \"asset\", \"news\", \"people\", \"bbc\", \"said\", \"hours\", \"get\", \"new\", \"security\", \"back\", \"fishermen\", \"us\", \"teen\", \"external\", \"vaccine\", \"would\", \"rapist\", \"petrol\", \"threat\", \"breach\", \"judge\", \"alleged\", \"law\", \"says\", \"older\", \"swapping\", \"country\", \"one\", \"videothe\", \"first\", \"countries\", \"palace\", \"ok\", \"accuses\"], \"Freq\": [17.0, 13.0, 34.0, 79.0, 9.0, 77.0, 16.0, 64.0, 74.0, 15.0, 21.0, 7.0, 7.0, 67.0, 25.0, 15.0, 59.0, 22.0, 14.0, 52.0, 14.0, 30.0, 15.0, 14.0, 34.0, 12.0, 6.0, 12.0, 12.0, 6.0, 14.653705412809641, 13.754485471839967, 13.76856255294015, 11.941729649127186, 11.937912159706523, 11.944064218076434, 11.905186962687745, 9.228585890078223, 9.217998577239872, 8.335501656965112, 8.32866856416969, 7.419088084872873, 6.516273163642436, 6.51556866978473, 6.515852315646712, 6.497748742911773, 6.495788103093861, 5.614072097554408, 5.609323695210772, 5.613097464780529, 5.6089714482819195, 5.611842029712206, 5.607263885974949, 5.605618171261944, 11.948831459055013, 4.711279569418338, 4.710756708437165, 4.710465242764451, 4.704957963333933, 4.704370055745313, 19.159797413988898, 8.326161248492468, 31.857081441329562, 13.755627164206743, 7.424367878900297, 50.02530268426034, 8.328008145608834, 11.042158527566485, 10.140235775651306, 44.61365527363525, 45.519425372430256, 21.02206685646876, 27.36692337085324, 28.261822510947905, 42.82838679653502, 18.274206692232067, 11.049283796926506, 33.72462001445858, 21.917800583636026, 36.495372319165334, 34.591436081541346, 17.41102896981503, 21.015661720587907, 28.27318256326489, 21.91042010408941, 19.21632327130634, 19.227424558977305, 18.340040967887344, 19.244494494911937, 18.336214947764063, 18.33575002447149, 18.32410419361687, 18.321483846129986, 18.316076802455203, 18.31431379058123, 18.306242324122717, 18.30469826694922, 18.30326368712596, 18.32128337461851, 18.323713203080302, 18.31057307748411, 6.8261276368666834, 6.818047342895517, 5.9888388223583044, 5.983158194209244, 5.978991827639492, 5.151745312117738, 4.3255697959078105, 4.324031634762269, 4.32477886963778, 4.323182453299545, 4.321862749126603, 3.4966999770358096, 3.496387042090443, 3.495044558643436, 3.4938712393136733, 3.493444034567254, 3.4932330462091015, 3.493900740340742, 3.492860735778874, 3.4898325860509796, 3.490247841014282, 3.492612404348482, 3.4898602199244366, 3.483575380866542, 3.479458680582868, 3.47661724621617, 3.4726977173539204, 2.664298810537487, 2.6651022467367183, 2.6628110625394683, 5.98094599060978, 5.997816843786107, 5.963063513606488, 10.149632685440386, 6.817622378733433, 5.146818640597191, 7.652824088934351, 7.652682185259841, 7.6331868609665285, 10.161755740412191, 14.340555312635956, 10.98152878688667, 6.826682554920161, 4.325249018917274, 23.52354838279144, 26.063220851336773, 22.68884557603564, 24.36209453854212, 18.532746857426222, 16.02420357389967, 19.372057799296364, 14.337632096941054, 20.99470092402687, 9.318279552264464, 13.533384806180838, 12.680651270424956, 12.671058582028094, 12.704126619357547, 11.883083908426928, 11.858499470248827, 11.856329837751716, 11.854632968549158, 11.854104937507692, 11.854612803290149, 11.852323672961871, 11.851874062372108, 11.850216029964677, 11.844737801267154, 11.843215697642677, 11.840163274917826, 11.833682758161396, 14.423639167200003, 12.715115938656163, 11.860235176246515, 11.871031805292377, 5.707993989085171, 3.225399934330874, 3.223869016301617, 2.608827026168007, 2.6067935515255916, 2.605700144642337, 2.605598495642333, 2.604106407036435, 1.9871946688735547, 1.9874888574027634, 1.987314124997647, 1.986843349154563, 1.9871888568261094, 1.9863249639866594, 1.9869771499063928, 1.984695241150829, 1.984650847001192, 1.985159092001212, 1.3672067500244223, 1.3671654473893842, 1.3666286367944727, 1.3667027094842565, 1.3662392296156254, 1.3663810683054118, 1.3665232779769503, 1.3666497827543276, 1.3663614062725644, 1.3661996582287625, 1.3661978033200033, 1.3658271925499157, 3.8493202597495038, 2.6096780583067267, 2.604139548072933, 3.8490504323553325, 3.227998290520757, 3.860964140333902, 2.611060583635248, 1.9852899248990274, 3.8551518455672507, 5.098898836433547, 1.9826825414865166, 4.487197413314666, 4.497186220643525, 7.019658340508875, 5.7829347761684025, 3.2327728256669297, 5.1469587804208325, 5.183291743911309, 3.2327275658932053, 4.5183692786735525, 3.8991260438609463, 3.901410549488773, 3.2550905932152503, 3.2682028195734287, 3.2482929709157133, 3.2648659623762173, 3.2988001578593003, 2.653307985534715, 2.649280360315579, 2.6485843985491284, 2.646619431870219, 2.644278042373777, 6.629210401798856, 6.628743754590773, 4.99816750882253, 4.996533163392368, 3.368191495227031, 8.261621550477896, 2.825065634640628, 2.28344413519263, 1.7396940979586868, 1.7392072869823532, 1.738867383460416, 1.7387797070752553, 1.7382666111867378, 1.738591211848842, 1.7381881165174768, 1.7383987558822367, 1.7368789118503545, 1.1960891678426895, 1.195937489496698, 1.196060632509942, 1.1958420716647982, 1.1958813189994286, 1.1958388310591865, 1.1956913835038547, 1.1954984774531368, 1.1955072090849237, 1.1954150318586356, 1.1957385523188693, 1.1955650899018213, 1.195436815929692, 8.270118418391744, 10.434175402244131, 3.9122178841061928, 2.28326284131202, 1.7392508551244659, 1.740417473144674, 1.7388778254118313, 5.030945154382897, 1.7408520743639304, 1.7419266951914956, 1.7404534798736928, 2.838962251671777, 2.2903271815118575, 3.9726497777548437, 3.4429796318027552, 3.416278841898887, 2.2913265482757734, 2.3003600964856474, 2.307804307676633, 2.340983608299203, 1.8069330637283363, 1.7946466676189068, 1.786185086299496, 1.7752989918816064, 1.7658241812076076, 1.7644269400880341, 1.7576247288754534, 1.7466680612686871, 8.329506192745204e-05, 8.325249938670975e-05, 8.3213886106725e-05, 8.32197251504622e-05, 8.3207375997195e-05, 8.321130211775279e-05, 8.319343017014498e-05, 8.31889178311935e-05, 8.3188871550794e-05, 8.317858187530465e-05, 8.318125071167595e-05, 8.317477145574563e-05, 8.316280797247429e-05, 8.315426923876611e-05, 8.315396070276942e-05, 8.314464291566962e-05, 8.313777798974346e-05, 8.312704865045883e-05, 8.313499345237339e-05, 8.312419469248953e-05, 8.312360076069592e-05, 8.31272106318571e-05, 8.311093535803211e-05, 8.312110933252271e-05, 8.310671612827749e-05, 8.309548541799827e-05, 8.309036372045334e-05, 8.310778057746604e-05, 8.308821168187648e-05, 8.309467551100697e-05, 8.309630303838947e-05, 8.310005175074915e-05, 0.00012312849379148672, 0.00012387636190724422, 0.00011853524898828208, 0.00011307516458899937, 0.00010859951056753016, 0.00010731693414272288, 0.00010819529755827704, 0.00010509556752741127, 0.000101378526387784, 0.00010238503251616012, 0.0001065673536521838, 0.00010206680848918228, 0.00010167846965695845, 9.741781894477711e-05, 9.850253894831213e-05, 0.00010047640570048534, 0.0001003590386073475, 0.00010082307674635727, 0.00010018929752877287, 0.00010022999342673523, 0.00010017746517330012, 9.657907926459685e-05, 9.991714563949958e-05, 9.971966717482324e-05, 9.970741829575497e-05, 9.943230446091352e-05, 0.0001003677778894535, 9.920801421812551e-05, 9.920596245374757e-05, 9.46060995534141e-05, 0.00010262157935141632, 9.917581848687174e-05, 9.91373440480855e-05], \"Total\": [17.0, 13.0, 34.0, 79.0, 9.0, 77.0, 16.0, 64.0, 74.0, 15.0, 21.0, 7.0, 7.0, 67.0, 25.0, 15.0, 59.0, 22.0, 14.0, 52.0, 14.0, 30.0, 15.0, 14.0, 34.0, 12.0, 6.0, 12.0, 12.0, 6.0, 15.120434578809952, 14.195869082103727, 14.213411204843691, 12.386401319465058, 12.383900535095693, 12.39422403412844, 12.373907557555947, 9.667583871346555, 9.663740562697091, 8.758346603282051, 8.760027576370776, 7.845611432943937, 6.941618363475365, 6.941657177434541, 6.941974083002127, 6.9363880852147535, 6.937423057524027, 6.030515142677143, 6.030193525286245, 6.034629567589184, 6.030962025672861, 6.0344202872084125, 6.030279944268866, 6.034495908846225, 12.937109443185513, 5.123946272272482, 5.123607593231935, 5.124421369585933, 5.122266516966283, 5.1217010934276885, 22.001785905909443, 9.376894806059452, 40.72086052379498, 16.386206071059622, 8.392157210072817, 69.59441998254414, 9.5951554872262, 13.487585487500985, 12.242055158033095, 74.23474064854078, 77.15309372294843, 30.203730919723185, 42.06748550937656, 44.84763796333517, 79.32766336552854, 26.260841636492756, 13.77315626415535, 59.40980195534496, 34.16152136596249, 67.50696571225615, 64.87027262596752, 25.479692618506512, 34.11172035170543, 52.491349150362126, 41.82440242389665, 35.487984746246745, 36.40165027260368, 34.036583341303476, 37.44596951008365, 34.03318244164851, 34.03803676921435, 34.02434312352472, 34.03060494074174, 34.022381472640035, 34.03327564953037, 34.025767653214196, 34.02355162948007, 34.02459085323482, 34.65689784564866, 34.864356152199626, 34.85791313330841, 7.26485649414049, 7.264249367110153, 6.425975959223063, 6.423722397868583, 6.428131164016149, 5.59400302936073, 4.758369341184943, 4.757975969067509, 4.7590356158652485, 4.7582345646088235, 4.75753582482458, 3.923175273684424, 3.9230343003431476, 3.922454434505673, 3.921849973723809, 3.921901886534609, 3.9223381124634136, 3.9231789613984733, 3.9220979631740613, 3.9204953111474095, 3.921221827671023, 3.924044251258415, 3.9230094186512416, 3.921500161015597, 3.9226921049549617, 3.924571541665946, 3.923413087659092, 3.0883602118912856, 3.0893375782735144, 3.0878150606631527, 7.049739236669701, 7.335770777074264, 7.336115024121153, 13.318711645009154, 9.07575414176547, 6.498739068158792, 11.726585783210258, 11.726689576002444, 11.733962603691136, 17.85904734153793, 30.21136985713538, 20.52286748288993, 10.61052062339983, 5.379727756014393, 67.50696571225615, 79.32766336552854, 64.87027262596752, 77.15309372294843, 52.491349150362126, 41.82440242389665, 59.40980195534496, 37.44596951008365, 74.23474064854078, 17.938126009224213, 36.32304292239851, 34.864356152199626, 34.85791313330841, 36.40165027260368, 34.0191355645554, 34.01784965316525, 34.03803676921435, 34.02773887071197, 34.02459085323482, 34.03327564953037, 34.025767653214196, 34.03060494074174, 34.02355162948007, 34.022381472640035, 34.01926709285192, 34.036583341303476, 34.03318244164851, 69.59441998254414, 44.84763796333517, 34.65689784564866, 35.487984746246745, 6.209051169147294, 3.709362442736931, 3.7098489698740904, 3.081654375624961, 3.0840066380920645, 3.0842263570893897, 3.084643244131686, 3.084243434791197, 2.4579601861182545, 2.4583320519352454, 2.4585268315471502, 2.4580240261033435, 2.4586003825144025, 2.457781136290116, 2.4588093094838746, 2.458252110083757, 2.4583621078681346, 2.4591830921933227, 1.8330116610968512, 1.8331400610923698, 1.8329800124822964, 1.8334227291900291, 1.833020831031857, 1.8332691983145322, 1.8334947153624717, 1.8337136527989961, 1.833603207522298, 1.8334713951804298, 1.8335261300500971, 1.8331756904975065, 5.240121417729261, 3.989408334055225, 3.990919400195413, 7.056249538471389, 6.286823579246859, 8.648584667707572, 4.821943443625396, 3.29357346516736, 9.634569125792586, 15.421945341523415, 3.3673155445828993, 15.562013899580595, 25.914969558135233, 79.32766336552854, 64.87027262596752, 12.34848537354915, 67.50696571225615, 74.23474064854078, 14.529684885793653, 59.40980195534496, 52.491349150362126, 69.59441998254414, 34.65689784564866, 36.32304292239851, 36.40165027260368, 42.06748550937656, 77.15309372294843, 41.82440242389665, 34.85791313330841, 34.02773887071197, 34.02434312352472, 34.025767653214196, 7.1406734053997925, 7.1446761093961975, 5.501834398067707, 5.5029601502438465, 3.8639636791895513, 9.695483956326548, 3.315868190827957, 2.7697841974207753, 2.2230440052230005, 2.2238732148961295, 2.223524414781896, 2.223850528891504, 2.2232074643708057, 2.223789178248296, 2.2236039408995416, 2.224200640234982, 2.223445985363764, 1.6765933926287975, 1.6768288563209774, 1.6770876296189574, 1.6769134925292586, 1.6770024018270302, 1.6769875896950992, 1.676820996497761, 1.6766214281067608, 1.676642788236219, 1.676613604424825, 1.6771329280310763, 1.677017156581034, 1.6769284726931484, 13.24310753691705, 17.324959565443155, 6.223773614741743, 3.6772253813848916, 3.057680032199332, 3.129122839770321, 3.1308501047551003, 34.11172035170543, 3.9649599517859433, 4.036256144132251, 4.036949756663177, 21.867481865392623, 11.415660573193966, 77.15309372294843, 74.23474064854078, 79.32766336552854, 13.71120649291954, 16.386206071059622, 34.16152136596249, 67.50696571225615, 64.87027262596752, 59.40980195534496, 52.491349150362126, 35.487984746246745, 25.914969558135233, 30.203730919723185, 18.390636210069022, 13.238913239529161, 1.1297557348931258, 1.1298112691098843, 1.1299318653438546, 1.130019426206967, 1.1299186483801533, 1.130009154808959, 1.129864002476198, 1.1299459880021638, 1.1299907076911337, 1.130000501466624, 1.1300825084730826, 1.1299986203549448, 1.1299950740129259, 1.1299610355576262, 1.129966515279137, 1.1300843051947658, 1.1300152790604983, 1.1299029879203302, 1.1300168421111205, 1.1299436590811542, 1.1299507078842221, 1.1300294751795168, 1.129867051359961, 1.1300353453908758, 1.1300762946865177, 1.1299742259644394, 1.1299100247161622, 1.1301584244510594, 1.1299079508645824, 1.1300006947939147, 1.1301112904858825, 1.13021626597994, 64.87027262596752, 77.15309372294843, 79.32766336552854, 74.23474064854078, 52.491349150362126, 44.84763796333517, 59.40980195534496, 41.82440242389665, 27.95565987193688, 34.022381472640035, 69.59441998254414, 34.01784965316525, 36.40165027260368, 17.324959565443155, 21.867481865392623, 34.0191355645554, 34.01926709285192, 37.44596951008365, 34.02355162948007, 34.65689784564866, 34.85791313330841, 17.29161973607555, 34.864356152199626, 34.025767653214196, 34.02459085323482, 34.16152136596249, 42.06748550937656, 34.03803676921435, 34.11172035170543, 13.24310753691705, 67.50696571225615, 34.02434312352472, 34.03060494074174], \"Category\": [\"Default\", \"Default\", \"Default\", \"Default\", \"Default\", \"Default\", \"Default\", \"Default\", \"Default\", \"Default\", \"Default\", \"Default\", \"Default\", \"Default\", \"Default\", \"Default\", \"Default\", \"Default\", \"Default\", \"Default\", \"Default\", \"Default\", \"Default\", \"Default\", \"Default\", \"Default\", \"Default\", \"Default\", \"Default\", \"Default\", \"Topic1\", \"Topic1\", \"Topic1\", \"Topic1\", \"Topic1\", \"Topic1\", \"Topic1\", \"Topic1\", \"Topic1\", \"Topic1\", \"Topic1\", \"Topic1\", \"Topic1\", \"Topic1\", \"Topic1\", \"Topic1\", \"Topic1\", \"Topic1\", \"Topic1\", \"Topic1\", \"Topic1\", \"Topic1\", \"Topic1\", \"Topic1\", \"Topic1\", \"Topic1\", \"Topic1\", \"Topic1\", \"Topic1\", \"Topic1\", \"Topic1\", \"Topic1\", \"Topic1\", \"Topic1\", \"Topic1\", \"Topic1\", \"Topic1\", \"Topic1\", \"Topic1\", \"Topic1\", \"Topic1\", \"Topic1\", \"Topic1\", \"Topic1\", \"Topic1\", \"Topic1\", \"Topic1\", \"Topic1\", \"Topic1\", \"Topic1\", \"Topic1\", \"Topic1\", \"Topic1\", \"Topic1\", \"Topic1\", \"Topic1\", \"Topic1\", \"Topic1\", \"Topic1\", \"Topic1\", \"Topic1\", \"Topic1\", \"Topic1\", \"Topic1\", \"Topic1\", \"Topic1\", \"Topic1\", \"Topic1\", \"Topic1\", \"Topic1\", \"Topic1\", \"Topic2\", \"Topic2\", \"Topic2\", \"Topic2\", \"Topic2\", \"Topic2\", \"Topic2\", \"Topic2\", \"Topic2\", \"Topic2\", \"Topic2\", \"Topic2\", \"Topic2\", \"Topic2\", \"Topic2\", \"Topic2\", \"Topic2\", \"Topic2\", \"Topic2\", \"Topic2\", \"Topic2\", \"Topic2\", \"Topic2\", \"Topic2\", \"Topic2\", \"Topic2\", \"Topic2\", \"Topic2\", \"Topic2\", \"Topic2\", \"Topic2\", \"Topic2\", \"Topic2\", \"Topic2\", \"Topic2\", \"Topic2\", \"Topic2\", \"Topic2\", \"Topic2\", \"Topic2\", \"Topic2\", \"Topic2\", \"Topic2\", \"Topic2\", \"Topic2\", \"Topic2\", \"Topic2\", \"Topic2\", \"Topic2\", \"Topic2\", \"Topic2\", \"Topic2\", \"Topic2\", \"Topic2\", \"Topic2\", \"Topic2\", \"Topic2\", \"Topic2\", \"Topic2\", \"Topic2\", \"Topic2\", \"Topic2\", \"Topic2\", \"Topic2\", \"Topic2\", \"Topic2\", \"Topic2\", \"Topic2\", \"Topic2\", \"Topic2\", \"Topic2\", \"Topic2\", \"Topic2\", \"Topic2\", \"Topic2\", \"Topic3\", \"Topic3\", \"Topic3\", \"Topic3\", \"Topic3\", \"Topic3\", \"Topic3\", \"Topic3\", \"Topic3\", \"Topic3\", \"Topic3\", \"Topic3\", \"Topic3\", \"Topic3\", \"Topic3\", \"Topic3\", \"Topic3\", \"Topic3\", \"Topic3\", \"Topic3\", \"Topic3\", \"Topic3\", \"Topic3\", \"Topic3\", \"Topic3\", \"Topic3\", \"Topic3\", \"Topic3\", \"Topic3\", \"Topic3\", \"Topic3\", \"Topic3\", \"Topic3\", \"Topic3\", \"Topic3\", \"Topic3\", \"Topic3\", \"Topic3\", \"Topic3\", \"Topic3\", \"Topic3\", \"Topic3\", \"Topic3\", \"Topic3\", \"Topic3\", \"Topic3\", \"Topic3\", \"Topic3\", \"Topic3\", \"Topic3\", \"Topic3\", \"Topic3\", \"Topic3\", \"Topic3\", \"Topic3\", \"Topic3\", \"Topic3\", \"Topic3\", \"Topic3\", \"Topic3\", \"Topic3\", \"Topic3\", \"Topic4\", \"Topic4\", \"Topic4\", \"Topic4\", \"Topic4\", \"Topic4\", \"Topic4\", \"Topic4\", \"Topic4\", \"Topic4\", \"Topic4\", \"Topic4\", \"Topic4\", \"Topic4\", \"Topic4\", \"Topic4\", \"Topic4\", \"Topic4\", \"Topic4\", \"Topic4\", \"Topic4\", \"Topic4\", \"Topic4\", \"Topic4\", \"Topic4\", \"Topic4\", \"Topic4\", \"Topic4\", \"Topic4\", \"Topic4\", \"Topic4\", \"Topic4\", \"Topic4\", \"Topic4\", \"Topic4\", \"Topic4\", \"Topic4\", \"Topic4\", \"Topic4\", \"Topic4\", \"Topic4\", \"Topic4\", \"Topic4\", \"Topic4\", \"Topic4\", \"Topic4\", \"Topic4\", \"Topic4\", \"Topic4\", \"Topic4\", \"Topic4\", \"Topic4\", \"Topic4\", \"Topic4\", \"Topic4\", \"Topic4\", \"Topic4\", \"Topic4\", \"Topic5\", \"Topic5\", \"Topic5\", \"Topic5\", \"Topic5\", \"Topic5\", \"Topic5\", \"Topic5\", \"Topic5\", \"Topic5\", \"Topic5\", \"Topic5\", \"Topic5\", \"Topic5\", \"Topic5\", \"Topic5\", \"Topic5\", \"Topic5\", \"Topic5\", \"Topic5\", \"Topic5\", \"Topic5\", \"Topic5\", \"Topic5\", \"Topic5\", \"Topic5\", \"Topic5\", \"Topic5\", \"Topic5\", \"Topic5\", \"Topic5\", \"Topic5\", \"Topic5\", \"Topic5\", \"Topic5\", \"Topic5\", \"Topic5\", \"Topic5\", \"Topic5\", \"Topic5\", \"Topic5\", \"Topic5\", \"Topic5\", \"Topic5\", \"Topic5\", \"Topic5\", \"Topic5\", \"Topic5\", \"Topic5\", \"Topic5\", \"Topic5\", \"Topic5\", \"Topic5\", \"Topic5\", \"Topic5\", \"Topic5\", \"Topic5\", \"Topic5\", \"Topic5\", \"Topic5\", \"Topic5\", \"Topic5\", \"Topic5\", \"Topic5\", \"Topic5\"], \"logprob\": [30.0, 29.0, 28.0, 27.0, 26.0, 25.0, 24.0, 23.0, 22.0, 21.0, 20.0, 19.0, 18.0, 17.0, 16.0, 15.0, 14.0, 13.0, 12.0, 11.0, 10.0, 9.0, 8.0, 7.0, 6.0, 5.0, 4.0, 3.0, 2.0, 1.0, -6.0324, -6.0957, -6.0947, -6.2371, -6.2374, -6.2369, -6.2401, -6.4948, -6.496, -6.5966, -6.5974, -6.7131, -6.8428, -6.8429, -6.8429, -6.8457, -6.846, -6.9918, -6.9927, -6.992, -6.9927, -6.9922, -6.993, -6.9933, -6.2365, -7.1672, -7.1673, -7.1673, -7.1685, -7.1686, -5.7643, -6.5977, -5.2559, -6.0957, -6.7123, -4.8046, -6.5975, -6.3154, -6.4006, -4.9191, -4.899, -5.6715, -5.4078, -5.3756, -4.9599, -5.8116, -6.3147, -5.1989, -5.6298, -5.1199, -5.1735, -5.86, -5.6718, -5.3752, -5.6301, -5.7614, -5.7608, -5.808, -5.7599, -5.8082, -5.8083, -5.8089, -5.809, -5.8093, -5.8094, -5.8099, -5.81, -5.81, -5.809, -5.8089, -5.8096, -6.1526, -6.1538, -6.2834, -6.2844, -6.2851, -6.434, -6.6088, -6.6091, -6.609, -6.6093, -6.6096, -6.8215, -6.8216, -6.822, -6.8223, -6.8224, -6.8225, -6.8223, -6.8226, -6.8235, -6.8234, -6.8227, -6.8235, -6.8253, -6.8264, -6.8273, -6.8284, -7.0934, -7.0931, -7.0939, -6.2847, -6.2819, -6.2877, -5.7559, -6.1538, -6.4349, -6.0382, -6.0383, -6.0408, -5.7547, -5.4102, -5.6771, -6.1525, -6.6089, -4.9153, -4.8128, -4.9515, -4.8803, -5.1538, -5.2992, -5.1095, -5.4104, -5.0291, -5.8413, -5.4682, -5.5332, -5.534, -5.5314, -5.5982, -5.6003, -5.6005, -5.6006, -5.6006, -5.6006, -5.6008, -5.6008, -5.601, -5.6014, -5.6016, -5.6018, -5.6024, -5.4045, -5.5305, -5.6001, -5.5992, -5.2263, -5.7971, -5.7975, -6.0092, -6.01, -6.0104, -6.0105, -6.011, -6.2814, -6.2813, -6.2813, -6.2816, -6.2814, -6.2818, -6.2815, -6.2827, -6.2827, -6.2824, -6.6554, -6.6554, -6.6558, -6.6557, -6.6561, -6.656, -6.6559, -6.6558, -6.656, -6.6561, -6.6561, -6.6564, -5.6202, -6.0089, -6.011, -5.6203, -5.7963, -5.6172, -6.0084, -6.2824, -5.6187, -5.3391, -6.2837, -5.4669, -5.4647, -5.0194, -5.2132, -5.7948, -5.3297, -5.3227, -5.7948, -5.46, -5.6074, -5.6068, -5.7879, -5.7839, -5.79, -5.7849, -5.7746, -5.9923, -5.9938, -5.9941, -5.9948, -5.9957, -4.7591, -4.7592, -5.0415, -5.0418, -5.4362, -4.539, -5.6121, -5.8249, -6.0969, -6.0972, -6.0974, -6.0974, -6.0977, -6.0975, -6.0977, -6.0976, -6.0985, -6.4715, -6.4717, -6.4716, -6.4717, -6.4717, -6.4717, -6.4719, -6.472, -6.472, -6.4721, -6.4718, -6.472, -6.4721, -4.5379, -4.3055, -5.2865, -5.825, -6.0971, -6.0965, -6.0973, -5.035, -6.0962, -6.0956, -6.0964, -5.6071, -5.8219, -5.2712, -5.4143, -5.422, -5.8215, -5.8175, -5.8143, -5.8, -6.059, -6.0658, -6.0705, -6.0766, -6.082, -6.0828, -6.0866, -6.0929, -8.0652, -8.0657, -8.0662, -8.0661, -8.0663, -8.0662, -8.0664, -8.0665, -8.0665, -8.0666, -8.0666, -8.0667, -8.0668, -8.0669, -8.0669, -8.067, -8.0671, -8.0672, -8.0671, -8.0673, -8.0673, -8.0672, -8.0674, -8.0673, -8.0675, -8.0676, -8.0677, -8.0675, -8.0677, -8.0676, -8.0676, -8.0676, -7.6744, -7.6683, -7.7124, -7.7595, -7.7999, -7.8118, -7.8037, -7.8327, -7.8687, -7.8589, -7.8188, -7.862, -7.8658, -7.9086, -7.8975, -7.8777, -7.8788, -7.8742, -7.8805, -7.8801, -7.8807, -7.9172, -7.8833, -7.8852, -7.8854, -7.8881, -7.8788, -7.8904, -7.8904, -7.9379, -7.8566, -7.8907, -7.8911], \"loglift\": [30.0, 29.0, 28.0, 27.0, 26.0, 25.0, 24.0, 23.0, 22.0, 21.0, 20.0, 19.0, 18.0, 17.0, 16.0, 15.0, 14.0, 13.0, 12.0, 11.0, 10.0, 9.0, 8.0, 7.0, 6.0, 5.0, 4.0, 3.0, 2.0, 1.0, 0.5707, 0.5705, 0.5703, 0.5655, 0.5654, 0.5651, 0.5635, 0.5556, 0.5549, 0.5526, 0.5516, 0.5462, 0.5389, 0.5387, 0.5387, 0.5368, 0.5363, 0.5305, 0.5297, 0.5297, 0.5295, 0.5295, 0.5294, 0.5284, 0.5226, 0.5181, 0.5181, 0.5179, 0.5171, 0.5171, 0.4638, 0.4832, 0.3566, 0.4271, 0.4796, 0.2719, 0.4604, 0.402, 0.4137, 0.0929, 0.0744, 0.2397, 0.1721, 0.1403, -0.0143, 0.2395, 0.3817, 0.0359, 0.1583, -0.013, -0.0267, 0.2213, 0.1177, -0.0167, -0.0444, -0.0114, -0.0362, -0.0163, -0.0636, -0.0164, -0.0165, -0.0168, -0.0171, -0.0172, -0.0176, -0.0178, -0.0178, -0.0179, -0.0354, -0.0412, -0.0417, 1.1836, 1.1825, 1.1754, 1.1748, 1.1734, 1.1635, 1.1505, 1.1502, 1.1502, 1.15, 1.1498, 1.1308, 1.1307, 1.1305, 1.1303, 1.1302, 1.13, 1.13, 1.13, 1.1295, 1.1294, 1.1294, 1.1289, 1.1275, 1.126, 1.1247, 1.1238, 1.0982, 1.0982, 1.0978, 1.0815, 1.0445, 1.0386, 0.9741, 0.9598, 1.0126, 0.8191, 0.8191, 0.8159, 0.682, 0.5007, 0.6205, 0.8049, 1.0277, 0.1916, 0.1328, 0.1954, 0.0931, 0.2048, 0.2865, 0.1252, 0.2859, -0.0171, 0.5909, 0.2586, 0.2345, 0.2339, 0.1932, 0.1941, 0.192, 0.1913, 0.1914, 0.1915, 0.1912, 0.1913, 0.1911, 0.1912, 0.1907, 0.1907, 0.1899, 0.1895, -0.3279, -0.0146, 0.1736, 0.1508, 2.2669, 2.2113, 2.2107, 2.1845, 2.183, 2.1825, 2.1823, 2.1818, 2.1385, 2.1385, 2.1383, 2.1383, 2.1382, 2.1381, 2.138, 2.1371, 2.137, 2.1369, 2.0579, 2.0578, 2.0575, 2.0573, 2.0572, 2.0571, 2.0571, 2.0571, 2.0569, 2.0569, 2.0569, 2.0568, 2.0426, 1.9266, 1.9241, 1.745, 1.6845, 1.5446, 1.7376, 1.8449, 1.4351, 1.2443, 1.8214, 1.1075, 0.5997, -0.0738, -0.0664, 1.0109, -0.2228, -0.3107, 0.8482, -0.2252, -0.2488, -0.5303, -0.0142, -0.0571, -0.0654, -0.205, -0.8012, -0.4066, -0.2259, -0.2021, -0.2027, -0.2037, 2.5943, 2.5937, 2.5726, 2.5721, 2.5313, 2.5086, 2.5084, 2.4755, 2.4234, 2.4228, 2.4227, 2.4226, 2.4225, 2.4225, 2.4223, 2.4222, 2.4216, 2.3309, 2.3306, 2.3306, 2.3305, 2.3305, 2.3305, 2.3304, 2.3304, 2.3304, 2.3303, 2.3303, 2.3302, 2.3302, 2.1978, 2.1615, 2.2043, 2.1921, 2.1044, 2.082, 2.0805, 0.7546, 1.8455, 1.8283, 1.8273, 0.627, 1.0623, -0.2978, -0.4023, -0.4764, 0.8795, 0.7052, -0.0262, -0.6931, -0.9122, -0.831, -0.712, -0.3266, -0.0176, -0.1715, 0.3207, 0.6432, 1.132, 1.1314, 1.1309, 1.1308, 1.1308, 1.1308, 1.1307, 1.1305, 1.1305, 1.1304, 1.1303, 1.1303, 1.1302, 1.1301, 1.1301, 1.1299, 1.1299, 1.1298, 1.1298, 1.1298, 1.1297, 1.1297, 1.1297, 1.1296, 1.1294, 1.1294, 1.1294, 1.1294, 1.1294, 1.1294, 1.1293, 1.1292, -2.5276, -2.6949, -2.7668, -2.7476, -2.4414, -2.2959, -2.5689, -2.247, -1.8802, -2.0667, -2.7423, -2.0697, -2.1412, -1.4415, -1.6633, -2.0854, -2.0866, -2.1779, -2.0884, -2.1064, -2.1127, -1.4483, -2.1155, -2.0932, -2.0932, -2.1, -2.2988, -2.0987, -2.1008, -1.2022, -2.7496, -2.0986, -2.0992]}, \"token.table\": {\"Topic\": [2, 1, 2, 3, 4, 4, 4, 4, 4, 1, 2, 3, 4, 4, 1, 2, 3, 4, 1, 3, 1, 2, 4, 2, 1, 3, 1, 1, 2, 3, 1, 2, 1, 2, 3, 4, 4, 1, 4, 1, 2, 3, 4, 1, 2, 3, 4, 1, 2, 1, 2, 1, 1, 4, 1, 1, 2, 3, 4, 2, 2, 3, 4, 4, 3, 2, 2, 3, 2, 1, 4, 3, 3, 4, 3, 3, 1, 3, 4, 1, 2, 2, 4, 1, 4, 4, 1, 2, 3, 4, 3, 3, 4, 1, 2, 3, 4, 4, 1, 2, 4, 1, 2, 3, 4, 4, 1, 4, 2, 4, 4, 1, 4, 1, 2, 3, 4, 4, 4, 2, 3, 4, 4, 4, 4, 1, 1, 2, 3, 1, 2, 3, 1, 3, 4, 4, 4, 1, 2, 3, 1, 2, 2, 1, 2, 3, 4, 3, 3, 3, 3, 2, 3, 1, 2, 3, 4, 1, 4, 3, 1, 3, 2, 4, 1, 2, 3, 4, 1, 2, 3, 4, 3, 1, 2, 3, 4, 1, 2, 3, 4, 4, 4, 1, 2, 4, 1, 3, 3, 3, 1, 4, 1, 2, 3, 4, 4, 1, 1, 2, 3, 4, 1, 1, 2, 1, 2, 3, 4, 1, 1, 2, 3, 4, 4, 1, 2, 3, 1, 1, 3, 2, 2, 2, 4, 2, 1, 2, 3, 4, 1, 1, 2, 3, 4, 4, 4, 1, 1, 4, 1, 2, 3, 4, 1, 4, 4, 2, 1, 2, 1, 1, 2, 3, 1, 2, 3, 4, 1, 2, 2, 4, 1, 2, 3, 4, 4, 3, 1, 2, 3, 4, 2, 1, 4, 1, 2, 3, 4, 3, 2, 1, 4, 1, 2, 3, 4, 1, 2, 3, 4, 4, 1, 2, 3, 4, 1, 2, 3, 4, 1, 1, 2, 3, 4, 2, 4, 4, 1, 2, 3, 4, 1, 2, 1, 2, 3, 4, 3, 1, 2, 3, 4, 2, 4, 4, 1, 1, 2, 3, 2, 4, 4, 2, 4, 4, 4, 1, 2, 4, 2, 1, 2, 3, 4, 4, 4, 1, 2, 1, 1, 4, 1, 2, 3, 2, 1, 2, 3, 4, 1, 2, 3, 4, 4, 4, 2, 1, 2, 3, 4, 1, 4, 3, 4, 1, 1, 3, 2, 3, 1, 3, 4, 1, 1, 1, 2, 3, 4, 1, 2, 1, 2, 1, 2, 3, 4, 1, 1, 2, 3, 4, 3, 2, 3, 3, 1, 2, 4, 1, 2, 3, 4, 1, 2, 3, 1, 4, 1, 4, 1, 2, 3, 1, 2, 3, 4, 2, 1, 1, 4, 3, 2, 1, 2, 3, 4, 1, 2, 4, 1, 2, 3], \"Freq\": [0.7647190408814826, 0.5289356457619195, 0.3526237638412797, 0.08815594096031992, 0.029385313653439972, 0.8850262216685828, 0.8848960063155729, 0.8994729208746639, 0.884889733804111, 0.5163820315680383, 0.37294257835469435, 0.08606367192800639, 0.028687890642668797, 0.8995046487143661, 0.4955531957621411, 0.3854302633705542, 0.08259219929369017, 0.027530733097896727, 0.4251550322368413, 0.5668733763157885, 0.22524701187026397, 0.75082337290088, 0.8849943568533635, 0.764685993047487, 0.2969724656807794, 0.5939449313615588, 0.9758103879927079, 0.7986549915670026, 0.14520999846672775, 0.07260499923336387, 0.34110223299383824, 0.6822044659876765, 0.5288941383533379, 0.3525960922355586, 0.08814902305888965, 0.02938300768629655, 0.8847864166359015, 0.3194020686206635, 0.638804137241327, 0.5723349072529497, 0.32193838532978414, 0.10731279510992806, 0.035770931703309354, 0.5420555475315494, 0.32775451711209963, 0.08824160076094989, 0.037817828897549956, 0.529601937140268, 0.46340169499773454, 0.1363183270564012, 0.8179099623384073, 0.992034979009219, 0.9849852226345943, 0.8991994534219288, 0.9697825803355363, 0.5290452976814951, 0.35269686512099674, 0.08817421628024918, 0.029391405426749728, 0.9713892791549809, 0.8510953098506948, 0.14184921830844913, 0.7220779156233187, 0.884959609999646, 0.8132782005329333, 0.7649349950084546, 0.30362158627276464, 0.6072431725455293, 0.9635427768801611, 0.8543771474182787, 0.12205387820261124, 0.9735030715089841, 0.8134952908939377, 0.5963336835531795, 0.808764321716286, 0.9663312213972294, 0.8635662614504763, 0.04545085586581454, 0.04545085586581454, 0.9949398779448887, 0.7648272402119248, 0.9337103092314454, 0.884831700020924, 0.3195783774578183, 0.6391567549156366, 0.884868604020457, 0.48937948079645155, 0.3262529871976344, 0.054375497866272396, 0.10875099573254479, 0.8086582565386261, 0.8136828298909551, 0.899341018659611, 0.46305283026014427, 0.3087018868400962, 0.1543509434200481, 0.07717547171002405, 0.5963283564468311, 0.302043911434641, 0.07551097785866025, 0.604087822869282, 0.6439994215808004, 0.26345430882850923, 0.029272700980945473, 0.058545401961890946, 0.979750501327005, 0.9275642331619043, 0.07729701943015868, 0.3270453381221575, 0.654090676244315, 0.8849998776161799, 0.49550869136675596, 0.49550869136675596, 0.8155648029214537, 0.07414225481104125, 0.07414225481104125, 0.07414225481104125, 0.8849819764375663, 0.5964375638030578, 0.9333972576022138, 0.5453742641251565, 0.8994407516614292, 0.8993318443710893, 0.8849568326781577, 0.8993658299818792, 0.9942615255499405, 0.13631193032170286, 0.8178715819302171, 0.5455596859704755, 0.23125171075305295, 0.34687756612957943, 0.4625034215061059, 0.2505688288144921, 0.7517064864434764, 0.8849862681384483, 0.8850194670506553, 0.9802997004045284, 0.20738526108637773, 0.20738526108637773, 0.6221557832591331, 0.39195819721687325, 0.5599402817383904, 0.971560777139194, 0.6131927237252713, 0.17519792106436324, 0.08759896053218162, 0.17519792106436324, 0.8136616968592288, 0.8135497995185008, 0.9725597946236688, 0.8135597460992148, 0.7650133563230697, 0.5453414160240294, 0.5219543580500697, 0.35712666603425824, 0.08241384600790574, 0.02747128200263525, 1.00840473983001, 0.8850091148599349, 0.54539719047946, 0.19083527275086254, 0.7633410910034502, 0.8405064224913881, 0.8849980535512862, 0.6156241838137049, 0.17589262394677282, 0.058630874648924275, 0.14657718662231067, 0.5290634935263177, 0.35270899568421177, 0.08817724892105294, 0.029392416307017645, 0.5455502663859828, 0.5187413016216631, 0.12968532540541577, 0.32421331351353944, 0.885062271041834, 0.62433611381922, 0.2898703385589236, 0.0668931550520593, 0.022297718350686432, 0.9087878038924697, 0.8849326694254057, 0.25220935700739383, 0.25220935700739383, 0.5044187140147877, 0.975719918286894, 0.5454736276152887, 0.5454065351927156, 0.5454279496370052, 0.3213484493174308, 0.6426968986348616, 0.5353924753929417, 0.3381426160376474, 0.08453565400941185, 0.05635710267294123, 0.8849280724525506, 0.930946151568937, 0.5334212294638045, 0.3619644057075817, 0.07620303278054351, 0.038101516390271754, 0.9132391342670121, 0.15387600417742542, 0.7693800208871271, 0.5288955868544425, 0.3525970579029617, 0.08814926447574042, 0.02938308815858014, 0.9762381499412649, 0.6952783434541491, 0.19865095527261403, 0.03310849254543567, 0.06621698509087134, 0.5962968214581171, 0.8337540762784102, 0.10421925953480128, 0.9727605521160501, 0.9758748906931874, 0.25066373664074193, 0.7519912099222259, 0.9340378721830856, 0.764640361076522, 0.8406479221834752, 0.5962717644200888, 0.9636233072743101, 0.5193771260245668, 0.3462514173497112, 0.0865628543374278, 0.0288542847791426, 0.9942835475626629, 0.6671980017393339, 0.23548164767270607, 0.03924694127878434, 0.03924694127878434, 0.5964403469951907, 0.8849553594906403, 0.9862023888096677, 0.8341121150111608, 0.11915887357302297, 0.5204833403329636, 0.34698889355530904, 0.05783148225921817, 0.05783148225921817, 0.49542355504893393, 0.49542355504893393, 0.8849485827122007, 0.7646867118385383, 0.4459774669821256, 0.5017246503548913, 0.9949786834858896, 0.6882461717925805, 0.06882461717925806, 0.20647385153777417, 0.5105312945009468, 0.2917321682862553, 0.07293304207156383, 0.14586608414312766, 0.816856309738003, 0.16337126194760063, 0.7647141906808183, 0.5963665782385945, 0.5288427401629633, 0.3525618267753089, 0.08814045669382722, 0.02938015223127574, 0.8849405389043697, 0.5455475371968757, 0.566871141540502, 0.08098159164864314, 0.24294477494592945, 0.08098159164864314, 0.8938143175391503, 1.0084103783105998, 0.5962556594568696, 0.5289801966681009, 0.3526534644454006, 0.08816336611135014, 0.029387788703783384, 0.8137421068414941, 0.8406936113180788, 0.9949929425714721, 0.9047404261418829, 0.572296134324028, 0.31981254565166267, 0.08416119622412176, 0.03366447848964871, 0.5395383522095686, 0.3545537743091451, 0.09249228895021176, 0.030830762983403922, 0.8850278460602216, 0.5290329907222998, 0.3526886604815332, 0.0881721651203833, 0.029390721706794434, 0.5290108421198149, 0.35267389474654326, 0.08816847368663581, 0.029389491228878607, 0.8648744570208474, 0.6418258584526494, 0.23771328090838867, 0.0713139842725166, 0.023771328090838865, 0.7649451203130778, 0.5963073347381268, 0.8851035808731529, 0.5332783012859377, 0.35551886752395845, 0.07406643073415801, 0.029626572293663205, 0.9134144105466353, 0.7648967537700591, 0.5962171804177148, 0.3110698332614164, 0.03888372915767705, 0.05184497221023607, 0.5455120540020816, 0.5291119279810157, 0.3527412853206771, 0.08818532133016928, 0.029395107110056426, 0.7650676579503346, 0.8849437866286253, 0.8849759375232602, 0.9313163926131057, 0.7858380100121165, 0.22101694031590777, 0.9726858671916406, 0.7648499221592752, 0.776404813574551, 0.8850317334239233, 0.7644146547336289, 0.8848911406930418, 0.5963637828812391, 0.5964299652950954, 0.6854311925397976, 0.3046360855732434, 0.884955208087174, 0.9710819630390017, 0.5291139736882154, 0.352742649125477, 0.08818566228136925, 0.029395220760456416, 0.885147088980787, 0.5964475372481698, 0.34110525211243237, 0.6822105042248647, 0.8650035041708941, 0.27194416884596473, 0.5438883376919295, 0.4151716540485084, 0.2075858270242542, 0.4151716540485084, 0.7647809003950475, 0.6061851850880624, 0.28288641970776246, 0.06735390945422916, 0.04041234567253749, 0.5162866028967055, 0.37287365764762065, 0.08604776714945092, 0.02868258904981697, 0.9086018912527362, 0.8849425625655097, 0.8407713882317404, 0.5260087108245246, 0.38255178969056336, 0.07172846056698064, 0.02390948685566021, 0.9942960076411357, 0.8849630295131021, 0.545413472295591, 0.596302067850671, 0.9761303874834891, 0.8531608987263366, 0.10664511234079208, 0.7435320487227455, 0.18588301218068637, 0.968804392050673, 0.8134709545414642, 0.8850598827502344, 0.9681929233292126, 0.9948661547625304, 0.5290291388849628, 0.35268609258997524, 0.08817152314749381, 0.02939050771583127, 0.4385352099312325, 0.5359874788048398, 0.3408908085953611, 0.6817816171907222, 0.5291339747668371, 0.3527559831778914, 0.08818899579447285, 0.02939633193149095, 0.9690000308055021, 0.5073977319477222, 0.37387201301411105, 0.08011543136016665, 0.02670514378672222, 0.5455014514885965, 0.840624111579348, 0.8134018332718195, 0.8135862028943225, 0.2203673621783399, 0.7712857676241898, 0.8996011537618798, 0.718448404520666, 0.2011655532657865, 0.05747587236165329, 0.014368968090413322, 0.4498132468695876, 0.2570361410683358, 0.2570361410683358, 0.404041347026425, 0.5772019243234644, 0.10314080292479622, 0.8251264233983697, 0.15906283791723588, 0.31812567583447177, 0.4771885137517077, 0.5288201585198378, 0.3525467723465585, 0.08813669308663963, 0.029378897695546545, 0.7645173723609054, 0.89221854279028, 1.00835870550712, 0.8996673009175874, 0.9726912530606623, 0.7652094344992321, 0.5287443065265494, 0.2266047027970926, 0.0755349009323642, 0.1510698018647284, 0.5944900322781902, 0.27438001489762626, 0.13719000744881313, 0.2827382469229618, 0.6597225761535775, 0.09424608230765394], \"Term\": [\"able\", \"accuses\", \"accuses\", \"accuses\", \"accuses\", \"adequate\", \"adhanom\", \"african\", \"agothe\", \"alleged\", \"alleged\", \"alleged\", \"alleged\", \"alliance\", \"amid\", \"amid\", \"amid\", \"amid\", \"ancient\", \"ancient\", \"animals\", \"animals\", \"announcements\", \"anyone\", \"archaeologists\", \"archaeologists\", \"arm\", \"around\", \"around\", \"around\", \"arrested\", \"arrested\", \"asks\", \"asks\", \"asks\", \"asks\", \"asset\", \"astrazeneca\", \"astrazeneca\", \"back\", \"back\", \"back\", \"back\", \"bbc\", \"bbc\", \"bbc\", \"bbc\", \"belarus\", \"belarus\", \"belsat\", \"belsat\", \"biden\", \"bill\", \"billion\", \"boar\", \"breach\", \"breach\", \"breach\", \"breach\", \"bring\", \"bronze\", \"bronze\", \"buying\", \"captioncovax\", \"captionexperts\", \"captivity\", \"carriage\", \"carriage\", \"carriages\", \"cases\", \"cases\", \"celtic\", \"century\", \"cepi\", \"ceremonial\", \"chariot\", \"children\", \"children\", \"children\", \"chung\", \"circus\", \"circuses\", \"coast\", \"companies\", \"companies\", \"competitive\", \"continent\", \"continent\", \"continent\", \"continent\", \"copyrighthandout\", \"copyrightnational\", \"cost\", \"could\", \"could\", \"could\", \"could\", \"counting\", \"countries\", \"countries\", \"countries\", \"country\", \"country\", \"country\", \"country\", \"covax\", \"covid\", \"covid\", \"criticism\", \"criticism\", \"dashboard\", \"data\", \"data\", \"days\", \"days\", \"days\", \"days\", \"deadghana\", \"deals\", \"deir\", \"deity\", \"deliver\", \"delivered\", \"deliveries\", \"delivery\", \"democrats\", \"desert\", \"desert\", \"detail\", \"discovered\", \"discovered\", \"discovered\", \"discovery\", \"discovery\", \"divide\", \"donations\", \"doses\", \"east\", \"east\", \"east\", \"election\", \"election\", \"elephants\", \"end\", \"end\", \"end\", \"end\", \"england\", \"epaimage\", \"eruption\", \"estate\", \"eu\", \"exceptional\", \"external\", \"external\", \"external\", \"external\", \"february\", \"februaryafrica\", \"festivities\", \"figure\", \"figure\", \"filming\", \"finance\", \"first\", \"first\", \"first\", \"first\", \"fishermen\", \"fishermen\", \"fishermen\", \"fishermen\", \"fittings\", \"found\", \"found\", \"found\", \"funded\", \"get\", \"get\", \"get\", \"get\", \"ghana\", \"ghebreyesus\", \"global\", \"global\", \"global\", \"gold\", \"hairstyle\", \"handle\", \"harness\", \"health\", \"health\", \"helping\", \"helping\", \"helping\", \"helping\", \"history\", \"hit\", \"hours\", \"hours\", \"hours\", \"hours\", \"house\", \"human\", \"human\", \"hunters\", \"hunters\", \"hunters\", \"hunters\", \"immunity\", \"india\", \"india\", \"india\", \"india\", \"innovations\", \"iraqi\", \"iraqi\", \"iron\", \"isle\", \"italy\", \"italy\", \"jersey\", \"jets\", \"jihadists\", \"joint\", \"journalists\", \"judge\", \"judge\", \"judge\", \"judge\", \"kataib\", \"know\", \"know\", \"know\", \"know\", \"knowing\", \"kofi\", \"korea\", \"later\", \"later\", \"law\", \"law\", \"law\", \"law\", \"left\", \"left\", \"logistics\", \"longer\", \"lukashenko\", \"lukashenko\", \"maharashtra\", \"man\", \"man\", \"man\", \"many\", \"many\", \"many\", \"many\", \"march\", \"march\", \"marine\", \"market\", \"marry\", \"marry\", \"marry\", \"marry\", \"martin\", \"mask\", \"may\", \"may\", \"may\", \"may\", \"members\", \"minimum\", \"momentous\", \"mourned\", \"mourned\", \"mourned\", \"mourned\", \"moustache\", \"ms\", \"mutations\", \"nations\", \"new\", \"new\", \"new\", \"new\", \"news\", \"news\", \"news\", \"news\", \"occasion\", \"ok\", \"ok\", \"ok\", \"ok\", \"older\", \"older\", \"older\", \"older\", \"omon\", \"one\", \"one\", \"one\", \"one\", \"orcas\", \"orders\", \"outside\", \"palace\", \"palace\", \"palace\", \"palace\", \"palmyra\", \"parks\", \"people\", \"people\", \"people\", \"people\", \"peterborough\", \"petrol\", \"petrol\", \"petrol\", \"petrol\", \"piece\", \"placed\", \"planning\", \"play\", \"police\", \"police\", \"pompeii\", \"pompili\", \"poorer\", \"populations\", \"positions\", \"prevent\", \"procurement\", \"programme\", \"protesters\", \"protesters\", \"provisions\", \"raggi\", \"rapist\", \"rapist\", \"rapist\", \"rapist\", \"recipient\", \"recipients\", \"rights\", \"rights\", \"riot\", \"rollout\", \"rollout\", \"roman\", \"roman\", \"roman\", \"russian\", \"said\", \"said\", \"said\", \"said\", \"says\", \"says\", \"says\", \"says\", \"scheme\", \"school\", \"sdf\", \"security\", \"security\", \"security\", \"security\", \"senate\", \"senegal\", \"settlement\", \"share\", \"social\", \"south\", \"south\", \"spearhead\", \"spearhead\", \"states\", \"statue\", \"storythe\", \"strike\", \"surge\", \"swapping\", \"swapping\", \"swapping\", \"swapping\", \"syria\", \"syria\", \"syrian\", \"syrian\", \"teen\", \"teen\", \"teen\", \"teen\", \"testing\", \"threat\", \"threat\", \"threat\", \"threat\", \"torc\", \"trade\", \"trends\", \"trove\", \"tv\", \"tv\", \"unicef\", \"us\", \"us\", \"us\", \"us\", \"used\", \"used\", \"used\", \"vaccine\", \"vaccine\", \"vaccines\", \"vaccines\", \"via\", \"via\", \"via\", \"videothe\", \"videothe\", \"videothe\", \"videothe\", \"viktor\", \"virus\", \"wage\", \"wealthier\", \"wimpole\", \"wood\", \"world\", \"world\", \"world\", \"world\", \"would\", \"would\", \"would\", \"years\", \"years\", \"years\"]}, \"R\": 30, \"lambda.step\": 0.01, \"plot.opts\": {\"xlab\": \"PC1\", \"ylab\": \"PC2\"}, \"topic.order\": [1, 3, 5, 4, 2]};\n",
       "\n",
       "function LDAvis_load_lib(url, callback){\n",
       "  var s = document.createElement('script');\n",
       "  s.src = url;\n",
       "  s.async = true;\n",
       "  s.onreadystatechange = s.onload = callback;\n",
       "  s.onerror = function(){console.warn(\"failed to load library \" + url);};\n",
       "  document.getElementsByTagName(\"head\")[0].appendChild(s);\n",
       "}\n",
       "\n",
       "if(typeof(LDAvis) !== \"undefined\"){\n",
       "   // already loaded: just create the visualization\n",
       "   !function(LDAvis){\n",
       "       new LDAvis(\"#\" + \"ldavis_el604832543838636161652852438\", ldavis_el604832543838636161652852438_data);\n",
       "   }(LDAvis);\n",
       "}else if(typeof define === \"function\" && define.amd){\n",
       "   // require.js is available: use it to load d3/LDAvis\n",
       "   require.config({paths: {d3: \"https://d3js.org/d3.v5\"}});\n",
       "   require([\"d3\"], function(d3){\n",
       "      window.d3 = d3;\n",
       "      LDAvis_load_lib(\"https://cdn.jsdelivr.net/gh/bmabey/pyLDAvis@3.2.2/pyLDAvis/js/ldavis.v3.0.0.js\", function(){\n",
       "        new LDAvis(\"#\" + \"ldavis_el604832543838636161652852438\", ldavis_el604832543838636161652852438_data);\n",
       "      });\n",
       "    });\n",
       "}else{\n",
       "    // require.js not available: dynamically load d3 & LDAvis\n",
       "    LDAvis_load_lib(\"https://d3js.org/d3.v5.js\", function(){\n",
       "         LDAvis_load_lib(\"https://cdn.jsdelivr.net/gh/bmabey/pyLDAvis@3.2.2/pyLDAvis/js/ldavis.v3.0.0.js\", function(){\n",
       "                 new LDAvis(\"#\" + \"ldavis_el604832543838636161652852438\", ldavis_el604832543838636161652852438_data);\n",
       "            })\n",
       "         });\n",
       "}\n",
       "</script>"
      ],
      "text/plain": [
       "PreparedData(topic_coordinates=             x        y  topics  cluster     Freq\n",
       "topic                                            \n",
       "0      0.04384  0.03451       1        1 54.76695\n",
       "2      0.11194  0.01612       2        1 28.76902\n",
       "4     -0.00368 -0.09708       3        1  9.52678\n",
       "3     -0.07805  0.05857       4        1  6.93488\n",
       "1     -0.07405 -0.01212       5        1  0.00238, topic_info=          Term     Freq    Total Category  logprob  loglift\n",
       "522    vaccine 17.00000 17.00000  Default 30.00000 30.00000\n",
       "103  countries 13.00000 13.00000  Default 29.00000 29.00000\n",
       "171      first 34.00000 34.00000  Default 28.00000 28.00000\n",
       "42         bbc 79.00000 79.00000  Default 27.00000 27.00000\n",
       "816   vaccines  9.00000  9.00000  Default 26.00000 26.00000\n",
       "..         ...      ...      ...      ...      ...      ...\n",
       "171      first  0.00010 34.11172   Topic5 -7.89040 -2.10080\n",
       "103  countries  0.00009 13.24311   Topic5 -7.93790 -1.20220\n",
       "335     palace  0.00010 67.50697   Topic5 -7.85660 -2.74960\n",
       "328         ok  0.00010 34.02434   Topic5 -7.89070 -2.09860\n",
       "5      accuses  0.00010 34.03060   Topic5 -7.89110 -2.09920\n",
       "\n",
       "[361 rows x 6 columns], token_table=      Topic    Freq     Term\n",
       "term                        \n",
       "2109      2 0.76472     able\n",
       "5         1 0.52894  accuses\n",
       "5         2 0.35262  accuses\n",
       "5         3 0.08816  accuses\n",
       "5         4 0.02939  accuses\n",
       "...     ...     ...      ...\n",
       "552       2 0.27438    would\n",
       "552       4 0.13719    would\n",
       "1467      1 0.28274    years\n",
       "1467      2 0.65972    years\n",
       "1467      3 0.09425    years\n",
       "\n",
       "[443 rows x 3 columns], R=30, lambda_step=0.01, plot_opts={'xlab': 'PC1', 'ylab': 'PC2'}, topic_order=[1, 3, 5, 4, 2])"
      ]
     },
     "execution_count": 92,
     "metadata": {},
     "output_type": "execute_result"
    }
   ],
   "source": [
    "# Visualize the topics\n",
    "\n",
    "import pyLDAvis\n",
    "import pyLDAvis.gensim \n",
    "import matplotlib.pyplot as plt\n",
    "%matplotlib inline\n",
    "\n",
    "pyLDAvis.enable_notebook()\n",
    "vis = pyLDAvis.gensim.prepare(lda_model, corpus, id2word)\n",
    "vis"
   ]
  },
  {
   "cell_type": "markdown",
   "metadata": {},
   "source": [
    "### Task 3 - Text Summarization"
   ]
  },
  {
   "cell_type": "markdown",
   "metadata": {},
   "source": [
    "We will use gensim summarization and gensim Word2Vec embeddings and PageRank to summarize an article about Protests in Belarus\n",
    "\n",
    "Article: https://www.bbc.com/news/world-europe-54961111"
   ]
  },
  {
   "cell_type": "code",
   "execution_count": 93,
   "metadata": {},
   "outputs": [],
   "source": [
    "import gensim\n",
    "from gensim.summarization.summarizer import summarize\n",
    "from gensim.summarization import keywords\n",
    "import re\n",
    "from nltk.tokenize import sent_tokenize\n",
    "from gensim.models import Word2Vec\n",
    "from scipy import spatial\n",
    "import networkx as nx"
   ]
  },
  {
   "cell_type": "code",
   "execution_count": 94,
   "metadata": {},
   "outputs": [],
   "source": [
    "article = extract_text('world-europe-54961111')"
   ]
  },
  {
   "cell_type": "markdown",
   "metadata": {},
   "source": [
    "**Method 1:** Applying gensim summarize function: summary is satisfactory and may be improved."
   ]
  },
  {
   "cell_type": "code",
   "execution_count": 95,
   "metadata": {},
   "outputs": [
    {
     "name": "stdout",
     "output_type": "stream",
     "text": [
      "Belarus protesters battered, bruised but defiant after 100 days - BBC NewsBBC HomepageSkip to contentAccessibility HelpBBC AccountHomeNewsSportReelWorklifeTravelFutureCultureMenuMoreSearchHomeNewsSportReelWorklifeTravelFutureCultureMusicTVWeatherSoundsClose menuBBC NewsMenuHomeCoronavirusVideoWorldUKBusinessTechScienceStoriesEntertainment & ArtsHealthMoreWorld News TVIn PicturesReality CheckNewsbeatLong ReadsWorldAfricaAsiaAustraliaEuropeLatin AmericaMiddle EastUS & CanadaBelarus protesters battered, bruised but defiant after 100 daysBy Abdujalil AbdurasulovBBC NewsPublished17 November 2020SharecloseShare pageCopy linkAbout sharingRelated TopicsBelarusian presidential election 2020media captionHundreds were arrested at the protest in Minsk on 15 NovemberOpposition protesters remain defiant in Belarus despite police brutality, 100 days after they first took to the streets to denounce the re-election of President Alexander Lukashenko.Police in helmets and body armour throw women holding flowers and balloons into police vans.\n",
      "Western governments have also condemned the widely reported election abuses and Mr Lukashenko's violent crackdown.image copyrightReuters/Tut.byimage captionThere has been no let-up in opposition protests since the disputed August election'It felt like World War Two'Alesya, a 31-year old worker in the IT industry, regularly attends the Sunday rallies.\n"
     ]
    }
   ],
   "source": [
    "print(summarize(article, word_count=100))"
   ]
  },
  {
   "cell_type": "code",
   "execution_count": 96,
   "metadata": {},
   "outputs": [
    {
     "name": "stdout",
     "output_type": "stream",
     "text": [
      "Keywords:\n",
      "police\n",
      "news\n",
      "people\n",
      "protest\n",
      "new elections\n",
      "opposition protests\n",
      "belarus protesters\n",
      "women\n",
      "hours\n",
      "image\n",
      "august\n",
      "bbc\n",
      "officers\n",
      "days\n",
      "day\n",
      "presidential election\n",
      "march\n",
      "marches\n",
      "old\n",
      "said\n",
      "videothe\n",
      "november\n",
      "prisoners\n",
      "prison\n",
      "rallies\n",
      "rally\n",
      "activist\n",
      "activists\n",
      "security\n",
      "lukashenko\n",
      "accuses palace\n",
      "pogerilo says\n",
      "fishermen\n",
      "media\n",
      "took\n",
      "leader\n",
      "leaders\n",
      "vladimir\n",
      "slaps\n",
      "streets\n",
      "street\n",
      "accents\n",
      "personalised\n",
      "future\n",
      "block\n",
      "try\n",
      "sustainable\n",
      "stop\n",
      "girl\n",
      "turned\n",
      "displays\n",
      "turn\n",
      "believers\n",
      "law\n",
      "minsk\n",
      "quickly\n",
      "chase\n",
      "artist\n",
      "festive\n",
      "regularly\n",
      "stun\n",
      "demonstrations\n",
      "demonstrators\n",
      "demonstrating\n",
      "hit\n",
      "started hitting\n",
      "start\n",
      "helpparental\n",
      "asks alleged\n",
      "external\n",
      "sites\n",
      "world\n",
      "policycookiesaccessibility\n",
      "leadership style\n",
      "like\n",
      "flags\n",
      "andrey\n",
      "diana\n",
      "widely\n",
      "wide\n",
      "copyrightgetty\n",
      "singing\n",
      "sing\n",
      "remain\n",
      "remains\n",
      "remained\n",
      "falsehoods\n",
      "distress injures\n",
      "exits\n",
      "okrestina\n",
      "brutality\n",
      "attacked\n",
      "attack\n",
      "flash\n"
     ]
    }
   ],
   "source": [
    "print('Keywords:')\n",
    "print(keywords(article))"
   ]
  },
  {
   "cell_type": "markdown",
   "metadata": {},
   "source": [
    "**Method 2:** Applying gensim sentence embeddings to improve summary"
   ]
  },
  {
   "cell_type": "code",
   "execution_count": 97,
   "metadata": {},
   "outputs": [],
   "source": [
    "#pre-processing the sentences\n",
    "sentences=nltk.sent_tokenize(article)\n",
    "sentences_clean=[re.sub(r'[^\\w\\s]','',sentence.lower()) for sentence in sentences]\n",
    "stop_words = stopwords.words('english')\n",
    "sentence_tokens=[[words for words in sentence.split(' ') if words not in stop_words] for sentence in sentences_clean]"
   ]
  },
  {
   "cell_type": "code",
   "execution_count": 98,
   "metadata": {},
   "outputs": [
    {
     "name": "stderr",
     "output_type": "stream",
     "text": [
      "<ipython-input-98-37689534effe>:3: DeprecationWarning: Call to deprecated `__getitem__` (Method will be removed in 4.0.0, use self.wv.__getitem__() instead).\n",
      "  sentence_embeddings=[[w2v[word][0] for word in words] for words in sentence_tokens]\n",
      "<ipython-input-98-37689534effe>:3: DeprecationWarning: Call to deprecated `__getitem__` (Method will be removed in 4.0.0, use self.wv.__getitem__() instead).\n",
      "  sentence_embeddings=[[w2v[word][0] for word in words] for words in sentence_tokens]\n",
      "<ipython-input-98-37689534effe>:3: DeprecationWarning: Call to deprecated `__getitem__` (Method will be removed in 4.0.0, use self.wv.__getitem__() instead).\n",
      "  sentence_embeddings=[[w2v[word][0] for word in words] for words in sentence_tokens]\n",
      "<ipython-input-98-37689534effe>:3: DeprecationWarning: Call to deprecated `__getitem__` (Method will be removed in 4.0.0, use self.wv.__getitem__() instead).\n",
      "  sentence_embeddings=[[w2v[word][0] for word in words] for words in sentence_tokens]\n",
      "<ipython-input-98-37689534effe>:3: DeprecationWarning: Call to deprecated `__getitem__` (Method will be removed in 4.0.0, use self.wv.__getitem__() instead).\n",
      "  sentence_embeddings=[[w2v[word][0] for word in words] for words in sentence_tokens]\n",
      "<ipython-input-98-37689534effe>:3: DeprecationWarning: Call to deprecated `__getitem__` (Method will be removed in 4.0.0, use self.wv.__getitem__() instead).\n",
      "  sentence_embeddings=[[w2v[word][0] for word in words] for words in sentence_tokens]\n",
      "<ipython-input-98-37689534effe>:3: DeprecationWarning: Call to deprecated `__getitem__` (Method will be removed in 4.0.0, use self.wv.__getitem__() instead).\n",
      "  sentence_embeddings=[[w2v[word][0] for word in words] for words in sentence_tokens]\n",
      "<ipython-input-98-37689534effe>:3: DeprecationWarning: Call to deprecated `__getitem__` (Method will be removed in 4.0.0, use self.wv.__getitem__() instead).\n",
      "  sentence_embeddings=[[w2v[word][0] for word in words] for words in sentence_tokens]\n",
      "<ipython-input-98-37689534effe>:3: DeprecationWarning: Call to deprecated `__getitem__` (Method will be removed in 4.0.0, use self.wv.__getitem__() instead).\n",
      "  sentence_embeddings=[[w2v[word][0] for word in words] for words in sentence_tokens]\n",
      "<ipython-input-98-37689534effe>:3: DeprecationWarning: Call to deprecated `__getitem__` (Method will be removed in 4.0.0, use self.wv.__getitem__() instead).\n",
      "  sentence_embeddings=[[w2v[word][0] for word in words] for words in sentence_tokens]\n",
      "<ipython-input-98-37689534effe>:3: DeprecationWarning: Call to deprecated `__getitem__` (Method will be removed in 4.0.0, use self.wv.__getitem__() instead).\n",
      "  sentence_embeddings=[[w2v[word][0] for word in words] for words in sentence_tokens]\n",
      "<ipython-input-98-37689534effe>:3: DeprecationWarning: Call to deprecated `__getitem__` (Method will be removed in 4.0.0, use self.wv.__getitem__() instead).\n",
      "  sentence_embeddings=[[w2v[word][0] for word in words] for words in sentence_tokens]\n",
      "<ipython-input-98-37689534effe>:3: DeprecationWarning: Call to deprecated `__getitem__` (Method will be removed in 4.0.0, use self.wv.__getitem__() instead).\n",
      "  sentence_embeddings=[[w2v[word][0] for word in words] for words in sentence_tokens]\n",
      "<ipython-input-98-37689534effe>:3: DeprecationWarning: Call to deprecated `__getitem__` (Method will be removed in 4.0.0, use self.wv.__getitem__() instead).\n",
      "  sentence_embeddings=[[w2v[word][0] for word in words] for words in sentence_tokens]\n",
      "<ipython-input-98-37689534effe>:3: DeprecationWarning: Call to deprecated `__getitem__` (Method will be removed in 4.0.0, use self.wv.__getitem__() instead).\n",
      "  sentence_embeddings=[[w2v[word][0] for word in words] for words in sentence_tokens]\n",
      "<ipython-input-98-37689534effe>:3: DeprecationWarning: Call to deprecated `__getitem__` (Method will be removed in 4.0.0, use self.wv.__getitem__() instead).\n",
      "  sentence_embeddings=[[w2v[word][0] for word in words] for words in sentence_tokens]\n",
      "<ipython-input-98-37689534effe>:3: DeprecationWarning: Call to deprecated `__getitem__` (Method will be removed in 4.0.0, use self.wv.__getitem__() instead).\n",
      "  sentence_embeddings=[[w2v[word][0] for word in words] for words in sentence_tokens]\n",
      "<ipython-input-98-37689534effe>:3: DeprecationWarning: Call to deprecated `__getitem__` (Method will be removed in 4.0.0, use self.wv.__getitem__() instead).\n",
      "  sentence_embeddings=[[w2v[word][0] for word in words] for words in sentence_tokens]\n",
      "<ipython-input-98-37689534effe>:3: DeprecationWarning: Call to deprecated `__getitem__` (Method will be removed in 4.0.0, use self.wv.__getitem__() instead).\n",
      "  sentence_embeddings=[[w2v[word][0] for word in words] for words in sentence_tokens]\n",
      "<ipython-input-98-37689534effe>:3: DeprecationWarning: Call to deprecated `__getitem__` (Method will be removed in 4.0.0, use self.wv.__getitem__() instead).\n",
      "  sentence_embeddings=[[w2v[word][0] for word in words] for words in sentence_tokens]\n",
      "<ipython-input-98-37689534effe>:3: DeprecationWarning: Call to deprecated `__getitem__` (Method will be removed in 4.0.0, use self.wv.__getitem__() instead).\n",
      "  sentence_embeddings=[[w2v[word][0] for word in words] for words in sentence_tokens]\n",
      "<ipython-input-98-37689534effe>:3: DeprecationWarning: Call to deprecated `__getitem__` (Method will be removed in 4.0.0, use self.wv.__getitem__() instead).\n",
      "  sentence_embeddings=[[w2v[word][0] for word in words] for words in sentence_tokens]\n",
      "<ipython-input-98-37689534effe>:3: DeprecationWarning: Call to deprecated `__getitem__` (Method will be removed in 4.0.0, use self.wv.__getitem__() instead).\n",
      "  sentence_embeddings=[[w2v[word][0] for word in words] for words in sentence_tokens]\n",
      "<ipython-input-98-37689534effe>:3: DeprecationWarning: Call to deprecated `__getitem__` (Method will be removed in 4.0.0, use self.wv.__getitem__() instead).\n",
      "  sentence_embeddings=[[w2v[word][0] for word in words] for words in sentence_tokens]\n",
      "<ipython-input-98-37689534effe>:3: DeprecationWarning: Call to deprecated `__getitem__` (Method will be removed in 4.0.0, use self.wv.__getitem__() instead).\n",
      "  sentence_embeddings=[[w2v[word][0] for word in words] for words in sentence_tokens]\n",
      "<ipython-input-98-37689534effe>:3: DeprecationWarning: Call to deprecated `__getitem__` (Method will be removed in 4.0.0, use self.wv.__getitem__() instead).\n",
      "  sentence_embeddings=[[w2v[word][0] for word in words] for words in sentence_tokens]\n",
      "<ipython-input-98-37689534effe>:3: DeprecationWarning: Call to deprecated `__getitem__` (Method will be removed in 4.0.0, use self.wv.__getitem__() instead).\n",
      "  sentence_embeddings=[[w2v[word][0] for word in words] for words in sentence_tokens]\n",
      "<ipython-input-98-37689534effe>:3: DeprecationWarning: Call to deprecated `__getitem__` (Method will be removed in 4.0.0, use self.wv.__getitem__() instead).\n",
      "  sentence_embeddings=[[w2v[word][0] for word in words] for words in sentence_tokens]\n",
      "<ipython-input-98-37689534effe>:3: DeprecationWarning: Call to deprecated `__getitem__` (Method will be removed in 4.0.0, use self.wv.__getitem__() instead).\n",
      "  sentence_embeddings=[[w2v[word][0] for word in words] for words in sentence_tokens]\n",
      "<ipython-input-98-37689534effe>:3: DeprecationWarning: Call to deprecated `__getitem__` (Method will be removed in 4.0.0, use self.wv.__getitem__() instead).\n",
      "  sentence_embeddings=[[w2v[word][0] for word in words] for words in sentence_tokens]\n",
      "<ipython-input-98-37689534effe>:3: DeprecationWarning: Call to deprecated `__getitem__` (Method will be removed in 4.0.0, use self.wv.__getitem__() instead).\n",
      "  sentence_embeddings=[[w2v[word][0] for word in words] for words in sentence_tokens]\n",
      "<ipython-input-98-37689534effe>:3: DeprecationWarning: Call to deprecated `__getitem__` (Method will be removed in 4.0.0, use self.wv.__getitem__() instead).\n",
      "  sentence_embeddings=[[w2v[word][0] for word in words] for words in sentence_tokens]\n",
      "<ipython-input-98-37689534effe>:3: DeprecationWarning: Call to deprecated `__getitem__` (Method will be removed in 4.0.0, use self.wv.__getitem__() instead).\n",
      "  sentence_embeddings=[[w2v[word][0] for word in words] for words in sentence_tokens]\n",
      "<ipython-input-98-37689534effe>:3: DeprecationWarning: Call to deprecated `__getitem__` (Method will be removed in 4.0.0, use self.wv.__getitem__() instead).\n",
      "  sentence_embeddings=[[w2v[word][0] for word in words] for words in sentence_tokens]\n",
      "<ipython-input-98-37689534effe>:3: DeprecationWarning: Call to deprecated `__getitem__` (Method will be removed in 4.0.0, use self.wv.__getitem__() instead).\n",
      "  sentence_embeddings=[[w2v[word][0] for word in words] for words in sentence_tokens]\n",
      "<ipython-input-98-37689534effe>:3: DeprecationWarning: Call to deprecated `__getitem__` (Method will be removed in 4.0.0, use self.wv.__getitem__() instead).\n",
      "  sentence_embeddings=[[w2v[word][0] for word in words] for words in sentence_tokens]\n",
      "<ipython-input-98-37689534effe>:3: DeprecationWarning: Call to deprecated `__getitem__` (Method will be removed in 4.0.0, use self.wv.__getitem__() instead).\n",
      "  sentence_embeddings=[[w2v[word][0] for word in words] for words in sentence_tokens]\n",
      "<ipython-input-98-37689534effe>:3: DeprecationWarning: Call to deprecated `__getitem__` (Method will be removed in 4.0.0, use self.wv.__getitem__() instead).\n",
      "  sentence_embeddings=[[w2v[word][0] for word in words] for words in sentence_tokens]\n",
      "<ipython-input-98-37689534effe>:3: DeprecationWarning: Call to deprecated `__getitem__` (Method will be removed in 4.0.0, use self.wv.__getitem__() instead).\n",
      "  sentence_embeddings=[[w2v[word][0] for word in words] for words in sentence_tokens]\n",
      "<ipython-input-98-37689534effe>:3: DeprecationWarning: Call to deprecated `__getitem__` (Method will be removed in 4.0.0, use self.wv.__getitem__() instead).\n",
      "  sentence_embeddings=[[w2v[word][0] for word in words] for words in sentence_tokens]\n",
      "<ipython-input-98-37689534effe>:3: DeprecationWarning: Call to deprecated `__getitem__` (Method will be removed in 4.0.0, use self.wv.__getitem__() instead).\n",
      "  sentence_embeddings=[[w2v[word][0] for word in words] for words in sentence_tokens]\n",
      "<ipython-input-98-37689534effe>:3: DeprecationWarning: Call to deprecated `__getitem__` (Method will be removed in 4.0.0, use self.wv.__getitem__() instead).\n",
      "  sentence_embeddings=[[w2v[word][0] for word in words] for words in sentence_tokens]\n",
      "<ipython-input-98-37689534effe>:3: DeprecationWarning: Call to deprecated `__getitem__` (Method will be removed in 4.0.0, use self.wv.__getitem__() instead).\n",
      "  sentence_embeddings=[[w2v[word][0] for word in words] for words in sentence_tokens]\n",
      "<ipython-input-98-37689534effe>:3: DeprecationWarning: Call to deprecated `__getitem__` (Method will be removed in 4.0.0, use self.wv.__getitem__() instead).\n",
      "  sentence_embeddings=[[w2v[word][0] for word in words] for words in sentence_tokens]\n",
      "<ipython-input-98-37689534effe>:3: DeprecationWarning: Call to deprecated `__getitem__` (Method will be removed in 4.0.0, use self.wv.__getitem__() instead).\n",
      "  sentence_embeddings=[[w2v[word][0] for word in words] for words in sentence_tokens]\n",
      "<ipython-input-98-37689534effe>:3: DeprecationWarning: Call to deprecated `__getitem__` (Method will be removed in 4.0.0, use self.wv.__getitem__() instead).\n",
      "  sentence_embeddings=[[w2v[word][0] for word in words] for words in sentence_tokens]\n",
      "<ipython-input-98-37689534effe>:3: DeprecationWarning: Call to deprecated `__getitem__` (Method will be removed in 4.0.0, use self.wv.__getitem__() instead).\n",
      "  sentence_embeddings=[[w2v[word][0] for word in words] for words in sentence_tokens]\n",
      "<ipython-input-98-37689534effe>:3: DeprecationWarning: Call to deprecated `__getitem__` (Method will be removed in 4.0.0, use self.wv.__getitem__() instead).\n",
      "  sentence_embeddings=[[w2v[word][0] for word in words] for words in sentence_tokens]\n",
      "<ipython-input-98-37689534effe>:3: DeprecationWarning: Call to deprecated `__getitem__` (Method will be removed in 4.0.0, use self.wv.__getitem__() instead).\n",
      "  sentence_embeddings=[[w2v[word][0] for word in words] for words in sentence_tokens]\n",
      "<ipython-input-98-37689534effe>:3: DeprecationWarning: Call to deprecated `__getitem__` (Method will be removed in 4.0.0, use self.wv.__getitem__() instead).\n",
      "  sentence_embeddings=[[w2v[word][0] for word in words] for words in sentence_tokens]\n",
      "<ipython-input-98-37689534effe>:3: DeprecationWarning: Call to deprecated `__getitem__` (Method will be removed in 4.0.0, use self.wv.__getitem__() instead).\n",
      "  sentence_embeddings=[[w2v[word][0] for word in words] for words in sentence_tokens]\n",
      "<ipython-input-98-37689534effe>:3: DeprecationWarning: Call to deprecated `__getitem__` (Method will be removed in 4.0.0, use self.wv.__getitem__() instead).\n",
      "  sentence_embeddings=[[w2v[word][0] for word in words] for words in sentence_tokens]\n",
      "<ipython-input-98-37689534effe>:3: DeprecationWarning: Call to deprecated `__getitem__` (Method will be removed in 4.0.0, use self.wv.__getitem__() instead).\n",
      "  sentence_embeddings=[[w2v[word][0] for word in words] for words in sentence_tokens]\n",
      "<ipython-input-98-37689534effe>:3: DeprecationWarning: Call to deprecated `__getitem__` (Method will be removed in 4.0.0, use self.wv.__getitem__() instead).\n",
      "  sentence_embeddings=[[w2v[word][0] for word in words] for words in sentence_tokens]\n",
      "<ipython-input-98-37689534effe>:3: DeprecationWarning: Call to deprecated `__getitem__` (Method will be removed in 4.0.0, use self.wv.__getitem__() instead).\n",
      "  sentence_embeddings=[[w2v[word][0] for word in words] for words in sentence_tokens]\n",
      "<ipython-input-98-37689534effe>:3: DeprecationWarning: Call to deprecated `__getitem__` (Method will be removed in 4.0.0, use self.wv.__getitem__() instead).\n",
      "  sentence_embeddings=[[w2v[word][0] for word in words] for words in sentence_tokens]\n",
      "<ipython-input-98-37689534effe>:3: DeprecationWarning: Call to deprecated `__getitem__` (Method will be removed in 4.0.0, use self.wv.__getitem__() instead).\n",
      "  sentence_embeddings=[[w2v[word][0] for word in words] for words in sentence_tokens]\n",
      "<ipython-input-98-37689534effe>:3: DeprecationWarning: Call to deprecated `__getitem__` (Method will be removed in 4.0.0, use self.wv.__getitem__() instead).\n",
      "  sentence_embeddings=[[w2v[word][0] for word in words] for words in sentence_tokens]\n",
      "<ipython-input-98-37689534effe>:3: DeprecationWarning: Call to deprecated `__getitem__` (Method will be removed in 4.0.0, use self.wv.__getitem__() instead).\n",
      "  sentence_embeddings=[[w2v[word][0] for word in words] for words in sentence_tokens]\n",
      "<ipython-input-98-37689534effe>:3: DeprecationWarning: Call to deprecated `__getitem__` (Method will be removed in 4.0.0, use self.wv.__getitem__() instead).\n",
      "  sentence_embeddings=[[w2v[word][0] for word in words] for words in sentence_tokens]\n",
      "<ipython-input-98-37689534effe>:3: DeprecationWarning: Call to deprecated `__getitem__` (Method will be removed in 4.0.0, use self.wv.__getitem__() instead).\n",
      "  sentence_embeddings=[[w2v[word][0] for word in words] for words in sentence_tokens]\n",
      "<ipython-input-98-37689534effe>:3: DeprecationWarning: Call to deprecated `__getitem__` (Method will be removed in 4.0.0, use self.wv.__getitem__() instead).\n",
      "  sentence_embeddings=[[w2v[word][0] for word in words] for words in sentence_tokens]\n",
      "<ipython-input-98-37689534effe>:3: DeprecationWarning: Call to deprecated `__getitem__` (Method will be removed in 4.0.0, use self.wv.__getitem__() instead).\n",
      "  sentence_embeddings=[[w2v[word][0] for word in words] for words in sentence_tokens]\n",
      "<ipython-input-98-37689534effe>:3: DeprecationWarning: Call to deprecated `__getitem__` (Method will be removed in 4.0.0, use self.wv.__getitem__() instead).\n",
      "  sentence_embeddings=[[w2v[word][0] for word in words] for words in sentence_tokens]\n",
      "<ipython-input-98-37689534effe>:3: DeprecationWarning: Call to deprecated `__getitem__` (Method will be removed in 4.0.0, use self.wv.__getitem__() instead).\n",
      "  sentence_embeddings=[[w2v[word][0] for word in words] for words in sentence_tokens]\n",
      "<ipython-input-98-37689534effe>:3: DeprecationWarning: Call to deprecated `__getitem__` (Method will be removed in 4.0.0, use self.wv.__getitem__() instead).\n",
      "  sentence_embeddings=[[w2v[word][0] for word in words] for words in sentence_tokens]\n",
      "<ipython-input-98-37689534effe>:3: DeprecationWarning: Call to deprecated `__getitem__` (Method will be removed in 4.0.0, use self.wv.__getitem__() instead).\n",
      "  sentence_embeddings=[[w2v[word][0] for word in words] for words in sentence_tokens]\n",
      "<ipython-input-98-37689534effe>:3: DeprecationWarning: Call to deprecated `__getitem__` (Method will be removed in 4.0.0, use self.wv.__getitem__() instead).\n",
      "  sentence_embeddings=[[w2v[word][0] for word in words] for words in sentence_tokens]\n",
      "<ipython-input-98-37689534effe>:3: DeprecationWarning: Call to deprecated `__getitem__` (Method will be removed in 4.0.0, use self.wv.__getitem__() instead).\n",
      "  sentence_embeddings=[[w2v[word][0] for word in words] for words in sentence_tokens]\n",
      "<ipython-input-98-37689534effe>:3: DeprecationWarning: Call to deprecated `__getitem__` (Method will be removed in 4.0.0, use self.wv.__getitem__() instead).\n",
      "  sentence_embeddings=[[w2v[word][0] for word in words] for words in sentence_tokens]\n",
      "<ipython-input-98-37689534effe>:3: DeprecationWarning: Call to deprecated `__getitem__` (Method will be removed in 4.0.0, use self.wv.__getitem__() instead).\n",
      "  sentence_embeddings=[[w2v[word][0] for word in words] for words in sentence_tokens]\n",
      "<ipython-input-98-37689534effe>:3: DeprecationWarning: Call to deprecated `__getitem__` (Method will be removed in 4.0.0, use self.wv.__getitem__() instead).\n",
      "  sentence_embeddings=[[w2v[word][0] for word in words] for words in sentence_tokens]\n",
      "<ipython-input-98-37689534effe>:3: DeprecationWarning: Call to deprecated `__getitem__` (Method will be removed in 4.0.0, use self.wv.__getitem__() instead).\n",
      "  sentence_embeddings=[[w2v[word][0] for word in words] for words in sentence_tokens]\n",
      "<ipython-input-98-37689534effe>:3: DeprecationWarning: Call to deprecated `__getitem__` (Method will be removed in 4.0.0, use self.wv.__getitem__() instead).\n",
      "  sentence_embeddings=[[w2v[word][0] for word in words] for words in sentence_tokens]\n",
      "<ipython-input-98-37689534effe>:3: DeprecationWarning: Call to deprecated `__getitem__` (Method will be removed in 4.0.0, use self.wv.__getitem__() instead).\n",
      "  sentence_embeddings=[[w2v[word][0] for word in words] for words in sentence_tokens]\n",
      "<ipython-input-98-37689534effe>:3: DeprecationWarning: Call to deprecated `__getitem__` (Method will be removed in 4.0.0, use self.wv.__getitem__() instead).\n",
      "  sentence_embeddings=[[w2v[word][0] for word in words] for words in sentence_tokens]\n",
      "<ipython-input-98-37689534effe>:3: DeprecationWarning: Call to deprecated `__getitem__` (Method will be removed in 4.0.0, use self.wv.__getitem__() instead).\n",
      "  sentence_embeddings=[[w2v[word][0] for word in words] for words in sentence_tokens]\n",
      "<ipython-input-98-37689534effe>:3: DeprecationWarning: Call to deprecated `__getitem__` (Method will be removed in 4.0.0, use self.wv.__getitem__() instead).\n",
      "  sentence_embeddings=[[w2v[word][0] for word in words] for words in sentence_tokens]\n",
      "<ipython-input-98-37689534effe>:3: DeprecationWarning: Call to deprecated `__getitem__` (Method will be removed in 4.0.0, use self.wv.__getitem__() instead).\n",
      "  sentence_embeddings=[[w2v[word][0] for word in words] for words in sentence_tokens]\n",
      "<ipython-input-98-37689534effe>:3: DeprecationWarning: Call to deprecated `__getitem__` (Method will be removed in 4.0.0, use self.wv.__getitem__() instead).\n",
      "  sentence_embeddings=[[w2v[word][0] for word in words] for words in sentence_tokens]\n",
      "<ipython-input-98-37689534effe>:3: DeprecationWarning: Call to deprecated `__getitem__` (Method will be removed in 4.0.0, use self.wv.__getitem__() instead).\n",
      "  sentence_embeddings=[[w2v[word][0] for word in words] for words in sentence_tokens]\n",
      "<ipython-input-98-37689534effe>:3: DeprecationWarning: Call to deprecated `__getitem__` (Method will be removed in 4.0.0, use self.wv.__getitem__() instead).\n",
      "  sentence_embeddings=[[w2v[word][0] for word in words] for words in sentence_tokens]\n",
      "<ipython-input-98-37689534effe>:3: DeprecationWarning: Call to deprecated `__getitem__` (Method will be removed in 4.0.0, use self.wv.__getitem__() instead).\n",
      "  sentence_embeddings=[[w2v[word][0] for word in words] for words in sentence_tokens]\n",
      "<ipython-input-98-37689534effe>:3: DeprecationWarning: Call to deprecated `__getitem__` (Method will be removed in 4.0.0, use self.wv.__getitem__() instead).\n",
      "  sentence_embeddings=[[w2v[word][0] for word in words] for words in sentence_tokens]\n",
      "<ipython-input-98-37689534effe>:3: DeprecationWarning: Call to deprecated `__getitem__` (Method will be removed in 4.0.0, use self.wv.__getitem__() instead).\n",
      "  sentence_embeddings=[[w2v[word][0] for word in words] for words in sentence_tokens]\n",
      "<ipython-input-98-37689534effe>:3: DeprecationWarning: Call to deprecated `__getitem__` (Method will be removed in 4.0.0, use self.wv.__getitem__() instead).\n",
      "  sentence_embeddings=[[w2v[word][0] for word in words] for words in sentence_tokens]\n",
      "<ipython-input-98-37689534effe>:3: DeprecationWarning: Call to deprecated `__getitem__` (Method will be removed in 4.0.0, use self.wv.__getitem__() instead).\n",
      "  sentence_embeddings=[[w2v[word][0] for word in words] for words in sentence_tokens]\n",
      "<ipython-input-98-37689534effe>:3: DeprecationWarning: Call to deprecated `__getitem__` (Method will be removed in 4.0.0, use self.wv.__getitem__() instead).\n",
      "  sentence_embeddings=[[w2v[word][0] for word in words] for words in sentence_tokens]\n",
      "<ipython-input-98-37689534effe>:3: DeprecationWarning: Call to deprecated `__getitem__` (Method will be removed in 4.0.0, use self.wv.__getitem__() instead).\n",
      "  sentence_embeddings=[[w2v[word][0] for word in words] for words in sentence_tokens]\n",
      "<ipython-input-98-37689534effe>:3: DeprecationWarning: Call to deprecated `__getitem__` (Method will be removed in 4.0.0, use self.wv.__getitem__() instead).\n",
      "  sentence_embeddings=[[w2v[word][0] for word in words] for words in sentence_tokens]\n",
      "<ipython-input-98-37689534effe>:3: DeprecationWarning: Call to deprecated `__getitem__` (Method will be removed in 4.0.0, use self.wv.__getitem__() instead).\n",
      "  sentence_embeddings=[[w2v[word][0] for word in words] for words in sentence_tokens]\n",
      "<ipython-input-98-37689534effe>:3: DeprecationWarning: Call to deprecated `__getitem__` (Method will be removed in 4.0.0, use self.wv.__getitem__() instead).\n",
      "  sentence_embeddings=[[w2v[word][0] for word in words] for words in sentence_tokens]\n",
      "<ipython-input-98-37689534effe>:3: DeprecationWarning: Call to deprecated `__getitem__` (Method will be removed in 4.0.0, use self.wv.__getitem__() instead).\n",
      "  sentence_embeddings=[[w2v[word][0] for word in words] for words in sentence_tokens]\n",
      "<ipython-input-98-37689534effe>:3: DeprecationWarning: Call to deprecated `__getitem__` (Method will be removed in 4.0.0, use self.wv.__getitem__() instead).\n",
      "  sentence_embeddings=[[w2v[word][0] for word in words] for words in sentence_tokens]\n",
      "<ipython-input-98-37689534effe>:3: DeprecationWarning: Call to deprecated `__getitem__` (Method will be removed in 4.0.0, use self.wv.__getitem__() instead).\n",
      "  sentence_embeddings=[[w2v[word][0] for word in words] for words in sentence_tokens]\n",
      "<ipython-input-98-37689534effe>:3: DeprecationWarning: Call to deprecated `__getitem__` (Method will be removed in 4.0.0, use self.wv.__getitem__() instead).\n",
      "  sentence_embeddings=[[w2v[word][0] for word in words] for words in sentence_tokens]\n",
      "<ipython-input-98-37689534effe>:3: DeprecationWarning: Call to deprecated `__getitem__` (Method will be removed in 4.0.0, use self.wv.__getitem__() instead).\n",
      "  sentence_embeddings=[[w2v[word][0] for word in words] for words in sentence_tokens]\n",
      "<ipython-input-98-37689534effe>:3: DeprecationWarning: Call to deprecated `__getitem__` (Method will be removed in 4.0.0, use self.wv.__getitem__() instead).\n",
      "  sentence_embeddings=[[w2v[word][0] for word in words] for words in sentence_tokens]\n",
      "<ipython-input-98-37689534effe>:3: DeprecationWarning: Call to deprecated `__getitem__` (Method will be removed in 4.0.0, use self.wv.__getitem__() instead).\n",
      "  sentence_embeddings=[[w2v[word][0] for word in words] for words in sentence_tokens]\n",
      "<ipython-input-98-37689534effe>:3: DeprecationWarning: Call to deprecated `__getitem__` (Method will be removed in 4.0.0, use self.wv.__getitem__() instead).\n",
      "  sentence_embeddings=[[w2v[word][0] for word in words] for words in sentence_tokens]\n",
      "<ipython-input-98-37689534effe>:3: DeprecationWarning: Call to deprecated `__getitem__` (Method will be removed in 4.0.0, use self.wv.__getitem__() instead).\n",
      "  sentence_embeddings=[[w2v[word][0] for word in words] for words in sentence_tokens]\n",
      "<ipython-input-98-37689534effe>:3: DeprecationWarning: Call to deprecated `__getitem__` (Method will be removed in 4.0.0, use self.wv.__getitem__() instead).\n",
      "  sentence_embeddings=[[w2v[word][0] for word in words] for words in sentence_tokens]\n",
      "<ipython-input-98-37689534effe>:3: DeprecationWarning: Call to deprecated `__getitem__` (Method will be removed in 4.0.0, use self.wv.__getitem__() instead).\n",
      "  sentence_embeddings=[[w2v[word][0] for word in words] for words in sentence_tokens]\n",
      "<ipython-input-98-37689534effe>:3: DeprecationWarning: Call to deprecated `__getitem__` (Method will be removed in 4.0.0, use self.wv.__getitem__() instead).\n",
      "  sentence_embeddings=[[w2v[word][0] for word in words] for words in sentence_tokens]\n",
      "<ipython-input-98-37689534effe>:3: DeprecationWarning: Call to deprecated `__getitem__` (Method will be removed in 4.0.0, use self.wv.__getitem__() instead).\n",
      "  sentence_embeddings=[[w2v[word][0] for word in words] for words in sentence_tokens]\n",
      "<ipython-input-98-37689534effe>:3: DeprecationWarning: Call to deprecated `__getitem__` (Method will be removed in 4.0.0, use self.wv.__getitem__() instead).\n",
      "  sentence_embeddings=[[w2v[word][0] for word in words] for words in sentence_tokens]\n",
      "<ipython-input-98-37689534effe>:3: DeprecationWarning: Call to deprecated `__getitem__` (Method will be removed in 4.0.0, use self.wv.__getitem__() instead).\n",
      "  sentence_embeddings=[[w2v[word][0] for word in words] for words in sentence_tokens]\n",
      "<ipython-input-98-37689534effe>:3: DeprecationWarning: Call to deprecated `__getitem__` (Method will be removed in 4.0.0, use self.wv.__getitem__() instead).\n",
      "  sentence_embeddings=[[w2v[word][0] for word in words] for words in sentence_tokens]\n",
      "<ipython-input-98-37689534effe>:3: DeprecationWarning: Call to deprecated `__getitem__` (Method will be removed in 4.0.0, use self.wv.__getitem__() instead).\n",
      "  sentence_embeddings=[[w2v[word][0] for word in words] for words in sentence_tokens]\n",
      "<ipython-input-98-37689534effe>:3: DeprecationWarning: Call to deprecated `__getitem__` (Method will be removed in 4.0.0, use self.wv.__getitem__() instead).\n",
      "  sentence_embeddings=[[w2v[word][0] for word in words] for words in sentence_tokens]\n",
      "<ipython-input-98-37689534effe>:3: DeprecationWarning: Call to deprecated `__getitem__` (Method will be removed in 4.0.0, use self.wv.__getitem__() instead).\n",
      "  sentence_embeddings=[[w2v[word][0] for word in words] for words in sentence_tokens]\n",
      "<ipython-input-98-37689534effe>:3: DeprecationWarning: Call to deprecated `__getitem__` (Method will be removed in 4.0.0, use self.wv.__getitem__() instead).\n",
      "  sentence_embeddings=[[w2v[word][0] for word in words] for words in sentence_tokens]\n",
      "<ipython-input-98-37689534effe>:3: DeprecationWarning: Call to deprecated `__getitem__` (Method will be removed in 4.0.0, use self.wv.__getitem__() instead).\n",
      "  sentence_embeddings=[[w2v[word][0] for word in words] for words in sentence_tokens]\n",
      "<ipython-input-98-37689534effe>:3: DeprecationWarning: Call to deprecated `__getitem__` (Method will be removed in 4.0.0, use self.wv.__getitem__() instead).\n",
      "  sentence_embeddings=[[w2v[word][0] for word in words] for words in sentence_tokens]\n",
      "<ipython-input-98-37689534effe>:3: DeprecationWarning: Call to deprecated `__getitem__` (Method will be removed in 4.0.0, use self.wv.__getitem__() instead).\n",
      "  sentence_embeddings=[[w2v[word][0] for word in words] for words in sentence_tokens]\n",
      "<ipython-input-98-37689534effe>:3: DeprecationWarning: Call to deprecated `__getitem__` (Method will be removed in 4.0.0, use self.wv.__getitem__() instead).\n",
      "  sentence_embeddings=[[w2v[word][0] for word in words] for words in sentence_tokens]\n",
      "<ipython-input-98-37689534effe>:3: DeprecationWarning: Call to deprecated `__getitem__` (Method will be removed in 4.0.0, use self.wv.__getitem__() instead).\n",
      "  sentence_embeddings=[[w2v[word][0] for word in words] for words in sentence_tokens]\n",
      "<ipython-input-98-37689534effe>:3: DeprecationWarning: Call to deprecated `__getitem__` (Method will be removed in 4.0.0, use self.wv.__getitem__() instead).\n",
      "  sentence_embeddings=[[w2v[word][0] for word in words] for words in sentence_tokens]\n",
      "<ipython-input-98-37689534effe>:3: DeprecationWarning: Call to deprecated `__getitem__` (Method will be removed in 4.0.0, use self.wv.__getitem__() instead).\n",
      "  sentence_embeddings=[[w2v[word][0] for word in words] for words in sentence_tokens]\n",
      "<ipython-input-98-37689534effe>:3: DeprecationWarning: Call to deprecated `__getitem__` (Method will be removed in 4.0.0, use self.wv.__getitem__() instead).\n",
      "  sentence_embeddings=[[w2v[word][0] for word in words] for words in sentence_tokens]\n",
      "<ipython-input-98-37689534effe>:3: DeprecationWarning: Call to deprecated `__getitem__` (Method will be removed in 4.0.0, use self.wv.__getitem__() instead).\n",
      "  sentence_embeddings=[[w2v[word][0] for word in words] for words in sentence_tokens]\n",
      "<ipython-input-98-37689534effe>:3: DeprecationWarning: Call to deprecated `__getitem__` (Method will be removed in 4.0.0, use self.wv.__getitem__() instead).\n",
      "  sentence_embeddings=[[w2v[word][0] for word in words] for words in sentence_tokens]\n",
      "<ipython-input-98-37689534effe>:3: DeprecationWarning: Call to deprecated `__getitem__` (Method will be removed in 4.0.0, use self.wv.__getitem__() instead).\n",
      "  sentence_embeddings=[[w2v[word][0] for word in words] for words in sentence_tokens]\n",
      "<ipython-input-98-37689534effe>:3: DeprecationWarning: Call to deprecated `__getitem__` (Method will be removed in 4.0.0, use self.wv.__getitem__() instead).\n",
      "  sentence_embeddings=[[w2v[word][0] for word in words] for words in sentence_tokens]\n",
      "<ipython-input-98-37689534effe>:3: DeprecationWarning: Call to deprecated `__getitem__` (Method will be removed in 4.0.0, use self.wv.__getitem__() instead).\n",
      "  sentence_embeddings=[[w2v[word][0] for word in words] for words in sentence_tokens]\n",
      "<ipython-input-98-37689534effe>:3: DeprecationWarning: Call to deprecated `__getitem__` (Method will be removed in 4.0.0, use self.wv.__getitem__() instead).\n",
      "  sentence_embeddings=[[w2v[word][0] for word in words] for words in sentence_tokens]\n",
      "<ipython-input-98-37689534effe>:3: DeprecationWarning: Call to deprecated `__getitem__` (Method will be removed in 4.0.0, use self.wv.__getitem__() instead).\n",
      "  sentence_embeddings=[[w2v[word][0] for word in words] for words in sentence_tokens]\n",
      "<ipython-input-98-37689534effe>:3: DeprecationWarning: Call to deprecated `__getitem__` (Method will be removed in 4.0.0, use self.wv.__getitem__() instead).\n",
      "  sentence_embeddings=[[w2v[word][0] for word in words] for words in sentence_tokens]\n",
      "<ipython-input-98-37689534effe>:3: DeprecationWarning: Call to deprecated `__getitem__` (Method will be removed in 4.0.0, use self.wv.__getitem__() instead).\n",
      "  sentence_embeddings=[[w2v[word][0] for word in words] for words in sentence_tokens]\n",
      "<ipython-input-98-37689534effe>:3: DeprecationWarning: Call to deprecated `__getitem__` (Method will be removed in 4.0.0, use self.wv.__getitem__() instead).\n",
      "  sentence_embeddings=[[w2v[word][0] for word in words] for words in sentence_tokens]\n",
      "<ipython-input-98-37689534effe>:3: DeprecationWarning: Call to deprecated `__getitem__` (Method will be removed in 4.0.0, use self.wv.__getitem__() instead).\n",
      "  sentence_embeddings=[[w2v[word][0] for word in words] for words in sentence_tokens]\n",
      "<ipython-input-98-37689534effe>:3: DeprecationWarning: Call to deprecated `__getitem__` (Method will be removed in 4.0.0, use self.wv.__getitem__() instead).\n",
      "  sentence_embeddings=[[w2v[word][0] for word in words] for words in sentence_tokens]\n",
      "<ipython-input-98-37689534effe>:3: DeprecationWarning: Call to deprecated `__getitem__` (Method will be removed in 4.0.0, use self.wv.__getitem__() instead).\n",
      "  sentence_embeddings=[[w2v[word][0] for word in words] for words in sentence_tokens]\n",
      "<ipython-input-98-37689534effe>:3: DeprecationWarning: Call to deprecated `__getitem__` (Method will be removed in 4.0.0, use self.wv.__getitem__() instead).\n",
      "  sentence_embeddings=[[w2v[word][0] for word in words] for words in sentence_tokens]\n",
      "<ipython-input-98-37689534effe>:3: DeprecationWarning: Call to deprecated `__getitem__` (Method will be removed in 4.0.0, use self.wv.__getitem__() instead).\n",
      "  sentence_embeddings=[[w2v[word][0] for word in words] for words in sentence_tokens]\n",
      "<ipython-input-98-37689534effe>:3: DeprecationWarning: Call to deprecated `__getitem__` (Method will be removed in 4.0.0, use self.wv.__getitem__() instead).\n",
      "  sentence_embeddings=[[w2v[word][0] for word in words] for words in sentence_tokens]\n",
      "<ipython-input-98-37689534effe>:3: DeprecationWarning: Call to deprecated `__getitem__` (Method will be removed in 4.0.0, use self.wv.__getitem__() instead).\n",
      "  sentence_embeddings=[[w2v[word][0] for word in words] for words in sentence_tokens]\n",
      "<ipython-input-98-37689534effe>:3: DeprecationWarning: Call to deprecated `__getitem__` (Method will be removed in 4.0.0, use self.wv.__getitem__() instead).\n",
      "  sentence_embeddings=[[w2v[word][0] for word in words] for words in sentence_tokens]\n",
      "<ipython-input-98-37689534effe>:3: DeprecationWarning: Call to deprecated `__getitem__` (Method will be removed in 4.0.0, use self.wv.__getitem__() instead).\n",
      "  sentence_embeddings=[[w2v[word][0] for word in words] for words in sentence_tokens]\n",
      "<ipython-input-98-37689534effe>:3: DeprecationWarning: Call to deprecated `__getitem__` (Method will be removed in 4.0.0, use self.wv.__getitem__() instead).\n",
      "  sentence_embeddings=[[w2v[word][0] for word in words] for words in sentence_tokens]\n",
      "<ipython-input-98-37689534effe>:3: DeprecationWarning: Call to deprecated `__getitem__` (Method will be removed in 4.0.0, use self.wv.__getitem__() instead).\n",
      "  sentence_embeddings=[[w2v[word][0] for word in words] for words in sentence_tokens]\n",
      "<ipython-input-98-37689534effe>:3: DeprecationWarning: Call to deprecated `__getitem__` (Method will be removed in 4.0.0, use self.wv.__getitem__() instead).\n",
      "  sentence_embeddings=[[w2v[word][0] for word in words] for words in sentence_tokens]\n",
      "<ipython-input-98-37689534effe>:3: DeprecationWarning: Call to deprecated `__getitem__` (Method will be removed in 4.0.0, use self.wv.__getitem__() instead).\n",
      "  sentence_embeddings=[[w2v[word][0] for word in words] for words in sentence_tokens]\n",
      "<ipython-input-98-37689534effe>:3: DeprecationWarning: Call to deprecated `__getitem__` (Method will be removed in 4.0.0, use self.wv.__getitem__() instead).\n",
      "  sentence_embeddings=[[w2v[word][0] for word in words] for words in sentence_tokens]\n",
      "<ipython-input-98-37689534effe>:3: DeprecationWarning: Call to deprecated `__getitem__` (Method will be removed in 4.0.0, use self.wv.__getitem__() instead).\n",
      "  sentence_embeddings=[[w2v[word][0] for word in words] for words in sentence_tokens]\n",
      "<ipython-input-98-37689534effe>:3: DeprecationWarning: Call to deprecated `__getitem__` (Method will be removed in 4.0.0, use self.wv.__getitem__() instead).\n",
      "  sentence_embeddings=[[w2v[word][0] for word in words] for words in sentence_tokens]\n",
      "<ipython-input-98-37689534effe>:3: DeprecationWarning: Call to deprecated `__getitem__` (Method will be removed in 4.0.0, use self.wv.__getitem__() instead).\n",
      "  sentence_embeddings=[[w2v[word][0] for word in words] for words in sentence_tokens]\n",
      "<ipython-input-98-37689534effe>:3: DeprecationWarning: Call to deprecated `__getitem__` (Method will be removed in 4.0.0, use self.wv.__getitem__() instead).\n",
      "  sentence_embeddings=[[w2v[word][0] for word in words] for words in sentence_tokens]\n",
      "<ipython-input-98-37689534effe>:3: DeprecationWarning: Call to deprecated `__getitem__` (Method will be removed in 4.0.0, use self.wv.__getitem__() instead).\n",
      "  sentence_embeddings=[[w2v[word][0] for word in words] for words in sentence_tokens]\n",
      "<ipython-input-98-37689534effe>:3: DeprecationWarning: Call to deprecated `__getitem__` (Method will be removed in 4.0.0, use self.wv.__getitem__() instead).\n",
      "  sentence_embeddings=[[w2v[word][0] for word in words] for words in sentence_tokens]\n",
      "<ipython-input-98-37689534effe>:3: DeprecationWarning: Call to deprecated `__getitem__` (Method will be removed in 4.0.0, use self.wv.__getitem__() instead).\n",
      "  sentence_embeddings=[[w2v[word][0] for word in words] for words in sentence_tokens]\n",
      "<ipython-input-98-37689534effe>:3: DeprecationWarning: Call to deprecated `__getitem__` (Method will be removed in 4.0.0, use self.wv.__getitem__() instead).\n",
      "  sentence_embeddings=[[w2v[word][0] for word in words] for words in sentence_tokens]\n",
      "<ipython-input-98-37689534effe>:3: DeprecationWarning: Call to deprecated `__getitem__` (Method will be removed in 4.0.0, use self.wv.__getitem__() instead).\n",
      "  sentence_embeddings=[[w2v[word][0] for word in words] for words in sentence_tokens]\n",
      "<ipython-input-98-37689534effe>:3: DeprecationWarning: Call to deprecated `__getitem__` (Method will be removed in 4.0.0, use self.wv.__getitem__() instead).\n",
      "  sentence_embeddings=[[w2v[word][0] for word in words] for words in sentence_tokens]\n",
      "<ipython-input-98-37689534effe>:3: DeprecationWarning: Call to deprecated `__getitem__` (Method will be removed in 4.0.0, use self.wv.__getitem__() instead).\n",
      "  sentence_embeddings=[[w2v[word][0] for word in words] for words in sentence_tokens]\n",
      "<ipython-input-98-37689534effe>:3: DeprecationWarning: Call to deprecated `__getitem__` (Method will be removed in 4.0.0, use self.wv.__getitem__() instead).\n",
      "  sentence_embeddings=[[w2v[word][0] for word in words] for words in sentence_tokens]\n",
      "<ipython-input-98-37689534effe>:3: DeprecationWarning: Call to deprecated `__getitem__` (Method will be removed in 4.0.0, use self.wv.__getitem__() instead).\n",
      "  sentence_embeddings=[[w2v[word][0] for word in words] for words in sentence_tokens]\n",
      "<ipython-input-98-37689534effe>:3: DeprecationWarning: Call to deprecated `__getitem__` (Method will be removed in 4.0.0, use self.wv.__getitem__() instead).\n",
      "  sentence_embeddings=[[w2v[word][0] for word in words] for words in sentence_tokens]\n",
      "<ipython-input-98-37689534effe>:3: DeprecationWarning: Call to deprecated `__getitem__` (Method will be removed in 4.0.0, use self.wv.__getitem__() instead).\n",
      "  sentence_embeddings=[[w2v[word][0] for word in words] for words in sentence_tokens]\n",
      "<ipython-input-98-37689534effe>:3: DeprecationWarning: Call to deprecated `__getitem__` (Method will be removed in 4.0.0, use self.wv.__getitem__() instead).\n",
      "  sentence_embeddings=[[w2v[word][0] for word in words] for words in sentence_tokens]\n",
      "<ipython-input-98-37689534effe>:3: DeprecationWarning: Call to deprecated `__getitem__` (Method will be removed in 4.0.0, use self.wv.__getitem__() instead).\n",
      "  sentence_embeddings=[[w2v[word][0] for word in words] for words in sentence_tokens]\n",
      "<ipython-input-98-37689534effe>:3: DeprecationWarning: Call to deprecated `__getitem__` (Method will be removed in 4.0.0, use self.wv.__getitem__() instead).\n",
      "  sentence_embeddings=[[w2v[word][0] for word in words] for words in sentence_tokens]\n",
      "<ipython-input-98-37689534effe>:3: DeprecationWarning: Call to deprecated `__getitem__` (Method will be removed in 4.0.0, use self.wv.__getitem__() instead).\n",
      "  sentence_embeddings=[[w2v[word][0] for word in words] for words in sentence_tokens]\n",
      "<ipython-input-98-37689534effe>:3: DeprecationWarning: Call to deprecated `__getitem__` (Method will be removed in 4.0.0, use self.wv.__getitem__() instead).\n",
      "  sentence_embeddings=[[w2v[word][0] for word in words] for words in sentence_tokens]\n",
      "<ipython-input-98-37689534effe>:3: DeprecationWarning: Call to deprecated `__getitem__` (Method will be removed in 4.0.0, use self.wv.__getitem__() instead).\n",
      "  sentence_embeddings=[[w2v[word][0] for word in words] for words in sentence_tokens]\n",
      "<ipython-input-98-37689534effe>:3: DeprecationWarning: Call to deprecated `__getitem__` (Method will be removed in 4.0.0, use self.wv.__getitem__() instead).\n",
      "  sentence_embeddings=[[w2v[word][0] for word in words] for words in sentence_tokens]\n",
      "<ipython-input-98-37689534effe>:3: DeprecationWarning: Call to deprecated `__getitem__` (Method will be removed in 4.0.0, use self.wv.__getitem__() instead).\n",
      "  sentence_embeddings=[[w2v[word][0] for word in words] for words in sentence_tokens]\n",
      "<ipython-input-98-37689534effe>:3: DeprecationWarning: Call to deprecated `__getitem__` (Method will be removed in 4.0.0, use self.wv.__getitem__() instead).\n",
      "  sentence_embeddings=[[w2v[word][0] for word in words] for words in sentence_tokens]\n",
      "<ipython-input-98-37689534effe>:3: DeprecationWarning: Call to deprecated `__getitem__` (Method will be removed in 4.0.0, use self.wv.__getitem__() instead).\n",
      "  sentence_embeddings=[[w2v[word][0] for word in words] for words in sentence_tokens]\n",
      "<ipython-input-98-37689534effe>:3: DeprecationWarning: Call to deprecated `__getitem__` (Method will be removed in 4.0.0, use self.wv.__getitem__() instead).\n",
      "  sentence_embeddings=[[w2v[word][0] for word in words] for words in sentence_tokens]\n",
      "<ipython-input-98-37689534effe>:3: DeprecationWarning: Call to deprecated `__getitem__` (Method will be removed in 4.0.0, use self.wv.__getitem__() instead).\n",
      "  sentence_embeddings=[[w2v[word][0] for word in words] for words in sentence_tokens]\n",
      "<ipython-input-98-37689534effe>:3: DeprecationWarning: Call to deprecated `__getitem__` (Method will be removed in 4.0.0, use self.wv.__getitem__() instead).\n",
      "  sentence_embeddings=[[w2v[word][0] for word in words] for words in sentence_tokens]\n",
      "<ipython-input-98-37689534effe>:3: DeprecationWarning: Call to deprecated `__getitem__` (Method will be removed in 4.0.0, use self.wv.__getitem__() instead).\n",
      "  sentence_embeddings=[[w2v[word][0] for word in words] for words in sentence_tokens]\n",
      "<ipython-input-98-37689534effe>:3: DeprecationWarning: Call to deprecated `__getitem__` (Method will be removed in 4.0.0, use self.wv.__getitem__() instead).\n",
      "  sentence_embeddings=[[w2v[word][0] for word in words] for words in sentence_tokens]\n",
      "<ipython-input-98-37689534effe>:3: DeprecationWarning: Call to deprecated `__getitem__` (Method will be removed in 4.0.0, use self.wv.__getitem__() instead).\n",
      "  sentence_embeddings=[[w2v[word][0] for word in words] for words in sentence_tokens]\n",
      "<ipython-input-98-37689534effe>:3: DeprecationWarning: Call to deprecated `__getitem__` (Method will be removed in 4.0.0, use self.wv.__getitem__() instead).\n",
      "  sentence_embeddings=[[w2v[word][0] for word in words] for words in sentence_tokens]\n",
      "<ipython-input-98-37689534effe>:3: DeprecationWarning: Call to deprecated `__getitem__` (Method will be removed in 4.0.0, use self.wv.__getitem__() instead).\n",
      "  sentence_embeddings=[[w2v[word][0] for word in words] for words in sentence_tokens]\n",
      "<ipython-input-98-37689534effe>:3: DeprecationWarning: Call to deprecated `__getitem__` (Method will be removed in 4.0.0, use self.wv.__getitem__() instead).\n",
      "  sentence_embeddings=[[w2v[word][0] for word in words] for words in sentence_tokens]\n",
      "<ipython-input-98-37689534effe>:3: DeprecationWarning: Call to deprecated `__getitem__` (Method will be removed in 4.0.0, use self.wv.__getitem__() instead).\n",
      "  sentence_embeddings=[[w2v[word][0] for word in words] for words in sentence_tokens]\n",
      "<ipython-input-98-37689534effe>:3: DeprecationWarning: Call to deprecated `__getitem__` (Method will be removed in 4.0.0, use self.wv.__getitem__() instead).\n",
      "  sentence_embeddings=[[w2v[word][0] for word in words] for words in sentence_tokens]\n",
      "<ipython-input-98-37689534effe>:3: DeprecationWarning: Call to deprecated `__getitem__` (Method will be removed in 4.0.0, use self.wv.__getitem__() instead).\n",
      "  sentence_embeddings=[[w2v[word][0] for word in words] for words in sentence_tokens]\n",
      "<ipython-input-98-37689534effe>:3: DeprecationWarning: Call to deprecated `__getitem__` (Method will be removed in 4.0.0, use self.wv.__getitem__() instead).\n",
      "  sentence_embeddings=[[w2v[word][0] for word in words] for words in sentence_tokens]\n",
      "<ipython-input-98-37689534effe>:3: DeprecationWarning: Call to deprecated `__getitem__` (Method will be removed in 4.0.0, use self.wv.__getitem__() instead).\n",
      "  sentence_embeddings=[[w2v[word][0] for word in words] for words in sentence_tokens]\n",
      "<ipython-input-98-37689534effe>:3: DeprecationWarning: Call to deprecated `__getitem__` (Method will be removed in 4.0.0, use self.wv.__getitem__() instead).\n",
      "  sentence_embeddings=[[w2v[word][0] for word in words] for words in sentence_tokens]\n",
      "<ipython-input-98-37689534effe>:3: DeprecationWarning: Call to deprecated `__getitem__` (Method will be removed in 4.0.0, use self.wv.__getitem__() instead).\n",
      "  sentence_embeddings=[[w2v[word][0] for word in words] for words in sentence_tokens]\n",
      "<ipython-input-98-37689534effe>:3: DeprecationWarning: Call to deprecated `__getitem__` (Method will be removed in 4.0.0, use self.wv.__getitem__() instead).\n",
      "  sentence_embeddings=[[w2v[word][0] for word in words] for words in sentence_tokens]\n",
      "<ipython-input-98-37689534effe>:3: DeprecationWarning: Call to deprecated `__getitem__` (Method will be removed in 4.0.0, use self.wv.__getitem__() instead).\n",
      "  sentence_embeddings=[[w2v[word][0] for word in words] for words in sentence_tokens]\n",
      "<ipython-input-98-37689534effe>:3: DeprecationWarning: Call to deprecated `__getitem__` (Method will be removed in 4.0.0, use self.wv.__getitem__() instead).\n",
      "  sentence_embeddings=[[w2v[word][0] for word in words] for words in sentence_tokens]\n",
      "<ipython-input-98-37689534effe>:3: DeprecationWarning: Call to deprecated `__getitem__` (Method will be removed in 4.0.0, use self.wv.__getitem__() instead).\n",
      "  sentence_embeddings=[[w2v[word][0] for word in words] for words in sentence_tokens]\n",
      "<ipython-input-98-37689534effe>:3: DeprecationWarning: Call to deprecated `__getitem__` (Method will be removed in 4.0.0, use self.wv.__getitem__() instead).\n",
      "  sentence_embeddings=[[w2v[word][0] for word in words] for words in sentence_tokens]\n",
      "<ipython-input-98-37689534effe>:3: DeprecationWarning: Call to deprecated `__getitem__` (Method will be removed in 4.0.0, use self.wv.__getitem__() instead).\n",
      "  sentence_embeddings=[[w2v[word][0] for word in words] for words in sentence_tokens]\n",
      "<ipython-input-98-37689534effe>:3: DeprecationWarning: Call to deprecated `__getitem__` (Method will be removed in 4.0.0, use self.wv.__getitem__() instead).\n",
      "  sentence_embeddings=[[w2v[word][0] for word in words] for words in sentence_tokens]\n",
      "<ipython-input-98-37689534effe>:3: DeprecationWarning: Call to deprecated `__getitem__` (Method will be removed in 4.0.0, use self.wv.__getitem__() instead).\n",
      "  sentence_embeddings=[[w2v[word][0] for word in words] for words in sentence_tokens]\n",
      "<ipython-input-98-37689534effe>:3: DeprecationWarning: Call to deprecated `__getitem__` (Method will be removed in 4.0.0, use self.wv.__getitem__() instead).\n",
      "  sentence_embeddings=[[w2v[word][0] for word in words] for words in sentence_tokens]\n",
      "<ipython-input-98-37689534effe>:3: DeprecationWarning: Call to deprecated `__getitem__` (Method will be removed in 4.0.0, use self.wv.__getitem__() instead).\n",
      "  sentence_embeddings=[[w2v[word][0] for word in words] for words in sentence_tokens]\n",
      "<ipython-input-98-37689534effe>:3: DeprecationWarning: Call to deprecated `__getitem__` (Method will be removed in 4.0.0, use self.wv.__getitem__() instead).\n",
      "  sentence_embeddings=[[w2v[word][0] for word in words] for words in sentence_tokens]\n",
      "<ipython-input-98-37689534effe>:3: DeprecationWarning: Call to deprecated `__getitem__` (Method will be removed in 4.0.0, use self.wv.__getitem__() instead).\n",
      "  sentence_embeddings=[[w2v[word][0] for word in words] for words in sentence_tokens]\n",
      "<ipython-input-98-37689534effe>:3: DeprecationWarning: Call to deprecated `__getitem__` (Method will be removed in 4.0.0, use self.wv.__getitem__() instead).\n",
      "  sentence_embeddings=[[w2v[word][0] for word in words] for words in sentence_tokens]\n",
      "<ipython-input-98-37689534effe>:3: DeprecationWarning: Call to deprecated `__getitem__` (Method will be removed in 4.0.0, use self.wv.__getitem__() instead).\n",
      "  sentence_embeddings=[[w2v[word][0] for word in words] for words in sentence_tokens]\n",
      "<ipython-input-98-37689534effe>:3: DeprecationWarning: Call to deprecated `__getitem__` (Method will be removed in 4.0.0, use self.wv.__getitem__() instead).\n",
      "  sentence_embeddings=[[w2v[word][0] for word in words] for words in sentence_tokens]\n",
      "<ipython-input-98-37689534effe>:3: DeprecationWarning: Call to deprecated `__getitem__` (Method will be removed in 4.0.0, use self.wv.__getitem__() instead).\n",
      "  sentence_embeddings=[[w2v[word][0] for word in words] for words in sentence_tokens]\n",
      "<ipython-input-98-37689534effe>:3: DeprecationWarning: Call to deprecated `__getitem__` (Method will be removed in 4.0.0, use self.wv.__getitem__() instead).\n",
      "  sentence_embeddings=[[w2v[word][0] for word in words] for words in sentence_tokens]\n",
      "<ipython-input-98-37689534effe>:3: DeprecationWarning: Call to deprecated `__getitem__` (Method will be removed in 4.0.0, use self.wv.__getitem__() instead).\n",
      "  sentence_embeddings=[[w2v[word][0] for word in words] for words in sentence_tokens]\n",
      "<ipython-input-98-37689534effe>:3: DeprecationWarning: Call to deprecated `__getitem__` (Method will be removed in 4.0.0, use self.wv.__getitem__() instead).\n",
      "  sentence_embeddings=[[w2v[word][0] for word in words] for words in sentence_tokens]\n",
      "<ipython-input-98-37689534effe>:3: DeprecationWarning: Call to deprecated `__getitem__` (Method will be removed in 4.0.0, use self.wv.__getitem__() instead).\n",
      "  sentence_embeddings=[[w2v[word][0] for word in words] for words in sentence_tokens]\n",
      "<ipython-input-98-37689534effe>:3: DeprecationWarning: Call to deprecated `__getitem__` (Method will be removed in 4.0.0, use self.wv.__getitem__() instead).\n",
      "  sentence_embeddings=[[w2v[word][0] for word in words] for words in sentence_tokens]\n",
      "<ipython-input-98-37689534effe>:3: DeprecationWarning: Call to deprecated `__getitem__` (Method will be removed in 4.0.0, use self.wv.__getitem__() instead).\n",
      "  sentence_embeddings=[[w2v[word][0] for word in words] for words in sentence_tokens]\n",
      "<ipython-input-98-37689534effe>:3: DeprecationWarning: Call to deprecated `__getitem__` (Method will be removed in 4.0.0, use self.wv.__getitem__() instead).\n",
      "  sentence_embeddings=[[w2v[word][0] for word in words] for words in sentence_tokens]\n",
      "<ipython-input-98-37689534effe>:3: DeprecationWarning: Call to deprecated `__getitem__` (Method will be removed in 4.0.0, use self.wv.__getitem__() instead).\n",
      "  sentence_embeddings=[[w2v[word][0] for word in words] for words in sentence_tokens]\n",
      "<ipython-input-98-37689534effe>:3: DeprecationWarning: Call to deprecated `__getitem__` (Method will be removed in 4.0.0, use self.wv.__getitem__() instead).\n",
      "  sentence_embeddings=[[w2v[word][0] for word in words] for words in sentence_tokens]\n",
      "<ipython-input-98-37689534effe>:3: DeprecationWarning: Call to deprecated `__getitem__` (Method will be removed in 4.0.0, use self.wv.__getitem__() instead).\n",
      "  sentence_embeddings=[[w2v[word][0] for word in words] for words in sentence_tokens]\n",
      "<ipython-input-98-37689534effe>:3: DeprecationWarning: Call to deprecated `__getitem__` (Method will be removed in 4.0.0, use self.wv.__getitem__() instead).\n",
      "  sentence_embeddings=[[w2v[word][0] for word in words] for words in sentence_tokens]\n",
      "<ipython-input-98-37689534effe>:3: DeprecationWarning: Call to deprecated `__getitem__` (Method will be removed in 4.0.0, use self.wv.__getitem__() instead).\n",
      "  sentence_embeddings=[[w2v[word][0] for word in words] for words in sentence_tokens]\n",
      "<ipython-input-98-37689534effe>:3: DeprecationWarning: Call to deprecated `__getitem__` (Method will be removed in 4.0.0, use self.wv.__getitem__() instead).\n",
      "  sentence_embeddings=[[w2v[word][0] for word in words] for words in sentence_tokens]\n",
      "<ipython-input-98-37689534effe>:3: DeprecationWarning: Call to deprecated `__getitem__` (Method will be removed in 4.0.0, use self.wv.__getitem__() instead).\n",
      "  sentence_embeddings=[[w2v[word][0] for word in words] for words in sentence_tokens]\n",
      "<ipython-input-98-37689534effe>:3: DeprecationWarning: Call to deprecated `__getitem__` (Method will be removed in 4.0.0, use self.wv.__getitem__() instead).\n",
      "  sentence_embeddings=[[w2v[word][0] for word in words] for words in sentence_tokens]\n",
      "<ipython-input-98-37689534effe>:3: DeprecationWarning: Call to deprecated `__getitem__` (Method will be removed in 4.0.0, use self.wv.__getitem__() instead).\n",
      "  sentence_embeddings=[[w2v[word][0] for word in words] for words in sentence_tokens]\n",
      "<ipython-input-98-37689534effe>:3: DeprecationWarning: Call to deprecated `__getitem__` (Method will be removed in 4.0.0, use self.wv.__getitem__() instead).\n",
      "  sentence_embeddings=[[w2v[word][0] for word in words] for words in sentence_tokens]\n",
      "<ipython-input-98-37689534effe>:3: DeprecationWarning: Call to deprecated `__getitem__` (Method will be removed in 4.0.0, use self.wv.__getitem__() instead).\n",
      "  sentence_embeddings=[[w2v[word][0] for word in words] for words in sentence_tokens]\n",
      "<ipython-input-98-37689534effe>:3: DeprecationWarning: Call to deprecated `__getitem__` (Method will be removed in 4.0.0, use self.wv.__getitem__() instead).\n",
      "  sentence_embeddings=[[w2v[word][0] for word in words] for words in sentence_tokens]\n",
      "<ipython-input-98-37689534effe>:3: DeprecationWarning: Call to deprecated `__getitem__` (Method will be removed in 4.0.0, use self.wv.__getitem__() instead).\n",
      "  sentence_embeddings=[[w2v[word][0] for word in words] for words in sentence_tokens]\n",
      "<ipython-input-98-37689534effe>:3: DeprecationWarning: Call to deprecated `__getitem__` (Method will be removed in 4.0.0, use self.wv.__getitem__() instead).\n",
      "  sentence_embeddings=[[w2v[word][0] for word in words] for words in sentence_tokens]\n",
      "<ipython-input-98-37689534effe>:3: DeprecationWarning: Call to deprecated `__getitem__` (Method will be removed in 4.0.0, use self.wv.__getitem__() instead).\n",
      "  sentence_embeddings=[[w2v[word][0] for word in words] for words in sentence_tokens]\n",
      "<ipython-input-98-37689534effe>:3: DeprecationWarning: Call to deprecated `__getitem__` (Method will be removed in 4.0.0, use self.wv.__getitem__() instead).\n",
      "  sentence_embeddings=[[w2v[word][0] for word in words] for words in sentence_tokens]\n",
      "<ipython-input-98-37689534effe>:3: DeprecationWarning: Call to deprecated `__getitem__` (Method will be removed in 4.0.0, use self.wv.__getitem__() instead).\n",
      "  sentence_embeddings=[[w2v[word][0] for word in words] for words in sentence_tokens]\n",
      "<ipython-input-98-37689534effe>:3: DeprecationWarning: Call to deprecated `__getitem__` (Method will be removed in 4.0.0, use self.wv.__getitem__() instead).\n",
      "  sentence_embeddings=[[w2v[word][0] for word in words] for words in sentence_tokens]\n",
      "<ipython-input-98-37689534effe>:3: DeprecationWarning: Call to deprecated `__getitem__` (Method will be removed in 4.0.0, use self.wv.__getitem__() instead).\n",
      "  sentence_embeddings=[[w2v[word][0] for word in words] for words in sentence_tokens]\n",
      "<ipython-input-98-37689534effe>:3: DeprecationWarning: Call to deprecated `__getitem__` (Method will be removed in 4.0.0, use self.wv.__getitem__() instead).\n",
      "  sentence_embeddings=[[w2v[word][0] for word in words] for words in sentence_tokens]\n",
      "<ipython-input-98-37689534effe>:3: DeprecationWarning: Call to deprecated `__getitem__` (Method will be removed in 4.0.0, use self.wv.__getitem__() instead).\n",
      "  sentence_embeddings=[[w2v[word][0] for word in words] for words in sentence_tokens]\n",
      "<ipython-input-98-37689534effe>:3: DeprecationWarning: Call to deprecated `__getitem__` (Method will be removed in 4.0.0, use self.wv.__getitem__() instead).\n",
      "  sentence_embeddings=[[w2v[word][0] for word in words] for words in sentence_tokens]\n",
      "<ipython-input-98-37689534effe>:3: DeprecationWarning: Call to deprecated `__getitem__` (Method will be removed in 4.0.0, use self.wv.__getitem__() instead).\n",
      "  sentence_embeddings=[[w2v[word][0] for word in words] for words in sentence_tokens]\n",
      "<ipython-input-98-37689534effe>:3: DeprecationWarning: Call to deprecated `__getitem__` (Method will be removed in 4.0.0, use self.wv.__getitem__() instead).\n",
      "  sentence_embeddings=[[w2v[word][0] for word in words] for words in sentence_tokens]\n",
      "<ipython-input-98-37689534effe>:3: DeprecationWarning: Call to deprecated `__getitem__` (Method will be removed in 4.0.0, use self.wv.__getitem__() instead).\n",
      "  sentence_embeddings=[[w2v[word][0] for word in words] for words in sentence_tokens]\n",
      "<ipython-input-98-37689534effe>:3: DeprecationWarning: Call to deprecated `__getitem__` (Method will be removed in 4.0.0, use self.wv.__getitem__() instead).\n",
      "  sentence_embeddings=[[w2v[word][0] for word in words] for words in sentence_tokens]\n",
      "<ipython-input-98-37689534effe>:3: DeprecationWarning: Call to deprecated `__getitem__` (Method will be removed in 4.0.0, use self.wv.__getitem__() instead).\n",
      "  sentence_embeddings=[[w2v[word][0] for word in words] for words in sentence_tokens]\n",
      "<ipython-input-98-37689534effe>:3: DeprecationWarning: Call to deprecated `__getitem__` (Method will be removed in 4.0.0, use self.wv.__getitem__() instead).\n",
      "  sentence_embeddings=[[w2v[word][0] for word in words] for words in sentence_tokens]\n",
      "<ipython-input-98-37689534effe>:3: DeprecationWarning: Call to deprecated `__getitem__` (Method will be removed in 4.0.0, use self.wv.__getitem__() instead).\n",
      "  sentence_embeddings=[[w2v[word][0] for word in words] for words in sentence_tokens]\n",
      "<ipython-input-98-37689534effe>:3: DeprecationWarning: Call to deprecated `__getitem__` (Method will be removed in 4.0.0, use self.wv.__getitem__() instead).\n",
      "  sentence_embeddings=[[w2v[word][0] for word in words] for words in sentence_tokens]\n",
      "<ipython-input-98-37689534effe>:3: DeprecationWarning: Call to deprecated `__getitem__` (Method will be removed in 4.0.0, use self.wv.__getitem__() instead).\n",
      "  sentence_embeddings=[[w2v[word][0] for word in words] for words in sentence_tokens]\n",
      "<ipython-input-98-37689534effe>:3: DeprecationWarning: Call to deprecated `__getitem__` (Method will be removed in 4.0.0, use self.wv.__getitem__() instead).\n",
      "  sentence_embeddings=[[w2v[word][0] for word in words] for words in sentence_tokens]\n",
      "<ipython-input-98-37689534effe>:3: DeprecationWarning: Call to deprecated `__getitem__` (Method will be removed in 4.0.0, use self.wv.__getitem__() instead).\n",
      "  sentence_embeddings=[[w2v[word][0] for word in words] for words in sentence_tokens]\n",
      "<ipython-input-98-37689534effe>:3: DeprecationWarning: Call to deprecated `__getitem__` (Method will be removed in 4.0.0, use self.wv.__getitem__() instead).\n",
      "  sentence_embeddings=[[w2v[word][0] for word in words] for words in sentence_tokens]\n",
      "<ipython-input-98-37689534effe>:3: DeprecationWarning: Call to deprecated `__getitem__` (Method will be removed in 4.0.0, use self.wv.__getitem__() instead).\n",
      "  sentence_embeddings=[[w2v[word][0] for word in words] for words in sentence_tokens]\n",
      "<ipython-input-98-37689534effe>:3: DeprecationWarning: Call to deprecated `__getitem__` (Method will be removed in 4.0.0, use self.wv.__getitem__() instead).\n",
      "  sentence_embeddings=[[w2v[word][0] for word in words] for words in sentence_tokens]\n",
      "<ipython-input-98-37689534effe>:3: DeprecationWarning: Call to deprecated `__getitem__` (Method will be removed in 4.0.0, use self.wv.__getitem__() instead).\n",
      "  sentence_embeddings=[[w2v[word][0] for word in words] for words in sentence_tokens]\n",
      "<ipython-input-98-37689534effe>:3: DeprecationWarning: Call to deprecated `__getitem__` (Method will be removed in 4.0.0, use self.wv.__getitem__() instead).\n",
      "  sentence_embeddings=[[w2v[word][0] for word in words] for words in sentence_tokens]\n",
      "<ipython-input-98-37689534effe>:3: DeprecationWarning: Call to deprecated `__getitem__` (Method will be removed in 4.0.0, use self.wv.__getitem__() instead).\n",
      "  sentence_embeddings=[[w2v[word][0] for word in words] for words in sentence_tokens]\n",
      "<ipython-input-98-37689534effe>:3: DeprecationWarning: Call to deprecated `__getitem__` (Method will be removed in 4.0.0, use self.wv.__getitem__() instead).\n",
      "  sentence_embeddings=[[w2v[word][0] for word in words] for words in sentence_tokens]\n",
      "<ipython-input-98-37689534effe>:3: DeprecationWarning: Call to deprecated `__getitem__` (Method will be removed in 4.0.0, use self.wv.__getitem__() instead).\n",
      "  sentence_embeddings=[[w2v[word][0] for word in words] for words in sentence_tokens]\n",
      "<ipython-input-98-37689534effe>:3: DeprecationWarning: Call to deprecated `__getitem__` (Method will be removed in 4.0.0, use self.wv.__getitem__() instead).\n",
      "  sentence_embeddings=[[w2v[word][0] for word in words] for words in sentence_tokens]\n",
      "<ipython-input-98-37689534effe>:3: DeprecationWarning: Call to deprecated `__getitem__` (Method will be removed in 4.0.0, use self.wv.__getitem__() instead).\n",
      "  sentence_embeddings=[[w2v[word][0] for word in words] for words in sentence_tokens]\n",
      "<ipython-input-98-37689534effe>:3: DeprecationWarning: Call to deprecated `__getitem__` (Method will be removed in 4.0.0, use self.wv.__getitem__() instead).\n",
      "  sentence_embeddings=[[w2v[word][0] for word in words] for words in sentence_tokens]\n",
      "<ipython-input-98-37689534effe>:3: DeprecationWarning: Call to deprecated `__getitem__` (Method will be removed in 4.0.0, use self.wv.__getitem__() instead).\n",
      "  sentence_embeddings=[[w2v[word][0] for word in words] for words in sentence_tokens]\n",
      "<ipython-input-98-37689534effe>:3: DeprecationWarning: Call to deprecated `__getitem__` (Method will be removed in 4.0.0, use self.wv.__getitem__() instead).\n",
      "  sentence_embeddings=[[w2v[word][0] for word in words] for words in sentence_tokens]\n",
      "<ipython-input-98-37689534effe>:3: DeprecationWarning: Call to deprecated `__getitem__` (Method will be removed in 4.0.0, use self.wv.__getitem__() instead).\n",
      "  sentence_embeddings=[[w2v[word][0] for word in words] for words in sentence_tokens]\n",
      "<ipython-input-98-37689534effe>:3: DeprecationWarning: Call to deprecated `__getitem__` (Method will be removed in 4.0.0, use self.wv.__getitem__() instead).\n",
      "  sentence_embeddings=[[w2v[word][0] for word in words] for words in sentence_tokens]\n",
      "<ipython-input-98-37689534effe>:3: DeprecationWarning: Call to deprecated `__getitem__` (Method will be removed in 4.0.0, use self.wv.__getitem__() instead).\n",
      "  sentence_embeddings=[[w2v[word][0] for word in words] for words in sentence_tokens]\n",
      "<ipython-input-98-37689534effe>:3: DeprecationWarning: Call to deprecated `__getitem__` (Method will be removed in 4.0.0, use self.wv.__getitem__() instead).\n",
      "  sentence_embeddings=[[w2v[word][0] for word in words] for words in sentence_tokens]\n",
      "<ipython-input-98-37689534effe>:3: DeprecationWarning: Call to deprecated `__getitem__` (Method will be removed in 4.0.0, use self.wv.__getitem__() instead).\n",
      "  sentence_embeddings=[[w2v[word][0] for word in words] for words in sentence_tokens]\n",
      "<ipython-input-98-37689534effe>:3: DeprecationWarning: Call to deprecated `__getitem__` (Method will be removed in 4.0.0, use self.wv.__getitem__() instead).\n",
      "  sentence_embeddings=[[w2v[word][0] for word in words] for words in sentence_tokens]\n",
      "<ipython-input-98-37689534effe>:3: DeprecationWarning: Call to deprecated `__getitem__` (Method will be removed in 4.0.0, use self.wv.__getitem__() instead).\n",
      "  sentence_embeddings=[[w2v[word][0] for word in words] for words in sentence_tokens]\n",
      "<ipython-input-98-37689534effe>:3: DeprecationWarning: Call to deprecated `__getitem__` (Method will be removed in 4.0.0, use self.wv.__getitem__() instead).\n",
      "  sentence_embeddings=[[w2v[word][0] for word in words] for words in sentence_tokens]\n",
      "<ipython-input-98-37689534effe>:3: DeprecationWarning: Call to deprecated `__getitem__` (Method will be removed in 4.0.0, use self.wv.__getitem__() instead).\n",
      "  sentence_embeddings=[[w2v[word][0] for word in words] for words in sentence_tokens]\n",
      "<ipython-input-98-37689534effe>:3: DeprecationWarning: Call to deprecated `__getitem__` (Method will be removed in 4.0.0, use self.wv.__getitem__() instead).\n",
      "  sentence_embeddings=[[w2v[word][0] for word in words] for words in sentence_tokens]\n",
      "<ipython-input-98-37689534effe>:3: DeprecationWarning: Call to deprecated `__getitem__` (Method will be removed in 4.0.0, use self.wv.__getitem__() instead).\n",
      "  sentence_embeddings=[[w2v[word][0] for word in words] for words in sentence_tokens]\n",
      "<ipython-input-98-37689534effe>:3: DeprecationWarning: Call to deprecated `__getitem__` (Method will be removed in 4.0.0, use self.wv.__getitem__() instead).\n",
      "  sentence_embeddings=[[w2v[word][0] for word in words] for words in sentence_tokens]\n",
      "<ipython-input-98-37689534effe>:3: DeprecationWarning: Call to deprecated `__getitem__` (Method will be removed in 4.0.0, use self.wv.__getitem__() instead).\n",
      "  sentence_embeddings=[[w2v[word][0] for word in words] for words in sentence_tokens]\n",
      "<ipython-input-98-37689534effe>:3: DeprecationWarning: Call to deprecated `__getitem__` (Method will be removed in 4.0.0, use self.wv.__getitem__() instead).\n",
      "  sentence_embeddings=[[w2v[word][0] for word in words] for words in sentence_tokens]\n",
      "<ipython-input-98-37689534effe>:3: DeprecationWarning: Call to deprecated `__getitem__` (Method will be removed in 4.0.0, use self.wv.__getitem__() instead).\n",
      "  sentence_embeddings=[[w2v[word][0] for word in words] for words in sentence_tokens]\n",
      "<ipython-input-98-37689534effe>:3: DeprecationWarning: Call to deprecated `__getitem__` (Method will be removed in 4.0.0, use self.wv.__getitem__() instead).\n",
      "  sentence_embeddings=[[w2v[word][0] for word in words] for words in sentence_tokens]\n",
      "<ipython-input-98-37689534effe>:3: DeprecationWarning: Call to deprecated `__getitem__` (Method will be removed in 4.0.0, use self.wv.__getitem__() instead).\n",
      "  sentence_embeddings=[[w2v[word][0] for word in words] for words in sentence_tokens]\n",
      "<ipython-input-98-37689534effe>:3: DeprecationWarning: Call to deprecated `__getitem__` (Method will be removed in 4.0.0, use self.wv.__getitem__() instead).\n",
      "  sentence_embeddings=[[w2v[word][0] for word in words] for words in sentence_tokens]\n",
      "<ipython-input-98-37689534effe>:3: DeprecationWarning: Call to deprecated `__getitem__` (Method will be removed in 4.0.0, use self.wv.__getitem__() instead).\n",
      "  sentence_embeddings=[[w2v[word][0] for word in words] for words in sentence_tokens]\n",
      "<ipython-input-98-37689534effe>:3: DeprecationWarning: Call to deprecated `__getitem__` (Method will be removed in 4.0.0, use self.wv.__getitem__() instead).\n",
      "  sentence_embeddings=[[w2v[word][0] for word in words] for words in sentence_tokens]\n",
      "<ipython-input-98-37689534effe>:3: DeprecationWarning: Call to deprecated `__getitem__` (Method will be removed in 4.0.0, use self.wv.__getitem__() instead).\n",
      "  sentence_embeddings=[[w2v[word][0] for word in words] for words in sentence_tokens]\n",
      "<ipython-input-98-37689534effe>:3: DeprecationWarning: Call to deprecated `__getitem__` (Method will be removed in 4.0.0, use self.wv.__getitem__() instead).\n",
      "  sentence_embeddings=[[w2v[word][0] for word in words] for words in sentence_tokens]\n",
      "<ipython-input-98-37689534effe>:3: DeprecationWarning: Call to deprecated `__getitem__` (Method will be removed in 4.0.0, use self.wv.__getitem__() instead).\n",
      "  sentence_embeddings=[[w2v[word][0] for word in words] for words in sentence_tokens]\n",
      "<ipython-input-98-37689534effe>:3: DeprecationWarning: Call to deprecated `__getitem__` (Method will be removed in 4.0.0, use self.wv.__getitem__() instead).\n",
      "  sentence_embeddings=[[w2v[word][0] for word in words] for words in sentence_tokens]\n",
      "<ipython-input-98-37689534effe>:3: DeprecationWarning: Call to deprecated `__getitem__` (Method will be removed in 4.0.0, use self.wv.__getitem__() instead).\n",
      "  sentence_embeddings=[[w2v[word][0] for word in words] for words in sentence_tokens]\n",
      "<ipython-input-98-37689534effe>:3: DeprecationWarning: Call to deprecated `__getitem__` (Method will be removed in 4.0.0, use self.wv.__getitem__() instead).\n",
      "  sentence_embeddings=[[w2v[word][0] for word in words] for words in sentence_tokens]\n",
      "<ipython-input-98-37689534effe>:3: DeprecationWarning: Call to deprecated `__getitem__` (Method will be removed in 4.0.0, use self.wv.__getitem__() instead).\n",
      "  sentence_embeddings=[[w2v[word][0] for word in words] for words in sentence_tokens]\n",
      "<ipython-input-98-37689534effe>:3: DeprecationWarning: Call to deprecated `__getitem__` (Method will be removed in 4.0.0, use self.wv.__getitem__() instead).\n",
      "  sentence_embeddings=[[w2v[word][0] for word in words] for words in sentence_tokens]\n",
      "<ipython-input-98-37689534effe>:3: DeprecationWarning: Call to deprecated `__getitem__` (Method will be removed in 4.0.0, use self.wv.__getitem__() instead).\n",
      "  sentence_embeddings=[[w2v[word][0] for word in words] for words in sentence_tokens]\n",
      "<ipython-input-98-37689534effe>:3: DeprecationWarning: Call to deprecated `__getitem__` (Method will be removed in 4.0.0, use self.wv.__getitem__() instead).\n",
      "  sentence_embeddings=[[w2v[word][0] for word in words] for words in sentence_tokens]\n",
      "<ipython-input-98-37689534effe>:3: DeprecationWarning: Call to deprecated `__getitem__` (Method will be removed in 4.0.0, use self.wv.__getitem__() instead).\n",
      "  sentence_embeddings=[[w2v[word][0] for word in words] for words in sentence_tokens]\n",
      "<ipython-input-98-37689534effe>:3: DeprecationWarning: Call to deprecated `__getitem__` (Method will be removed in 4.0.0, use self.wv.__getitem__() instead).\n",
      "  sentence_embeddings=[[w2v[word][0] for word in words] for words in sentence_tokens]\n",
      "<ipython-input-98-37689534effe>:3: DeprecationWarning: Call to deprecated `__getitem__` (Method will be removed in 4.0.0, use self.wv.__getitem__() instead).\n",
      "  sentence_embeddings=[[w2v[word][0] for word in words] for words in sentence_tokens]\n",
      "<ipython-input-98-37689534effe>:3: DeprecationWarning: Call to deprecated `__getitem__` (Method will be removed in 4.0.0, use self.wv.__getitem__() instead).\n",
      "  sentence_embeddings=[[w2v[word][0] for word in words] for words in sentence_tokens]\n",
      "<ipython-input-98-37689534effe>:3: DeprecationWarning: Call to deprecated `__getitem__` (Method will be removed in 4.0.0, use self.wv.__getitem__() instead).\n",
      "  sentence_embeddings=[[w2v[word][0] for word in words] for words in sentence_tokens]\n",
      "<ipython-input-98-37689534effe>:3: DeprecationWarning: Call to deprecated `__getitem__` (Method will be removed in 4.0.0, use self.wv.__getitem__() instead).\n",
      "  sentence_embeddings=[[w2v[word][0] for word in words] for words in sentence_tokens]\n",
      "<ipython-input-98-37689534effe>:3: DeprecationWarning: Call to deprecated `__getitem__` (Method will be removed in 4.0.0, use self.wv.__getitem__() instead).\n",
      "  sentence_embeddings=[[w2v[word][0] for word in words] for words in sentence_tokens]\n",
      "<ipython-input-98-37689534effe>:3: DeprecationWarning: Call to deprecated `__getitem__` (Method will be removed in 4.0.0, use self.wv.__getitem__() instead).\n",
      "  sentence_embeddings=[[w2v[word][0] for word in words] for words in sentence_tokens]\n",
      "<ipython-input-98-37689534effe>:3: DeprecationWarning: Call to deprecated `__getitem__` (Method will be removed in 4.0.0, use self.wv.__getitem__() instead).\n",
      "  sentence_embeddings=[[w2v[word][0] for word in words] for words in sentence_tokens]\n",
      "<ipython-input-98-37689534effe>:3: DeprecationWarning: Call to deprecated `__getitem__` (Method will be removed in 4.0.0, use self.wv.__getitem__() instead).\n",
      "  sentence_embeddings=[[w2v[word][0] for word in words] for words in sentence_tokens]\n",
      "<ipython-input-98-37689534effe>:3: DeprecationWarning: Call to deprecated `__getitem__` (Method will be removed in 4.0.0, use self.wv.__getitem__() instead).\n",
      "  sentence_embeddings=[[w2v[word][0] for word in words] for words in sentence_tokens]\n",
      "<ipython-input-98-37689534effe>:3: DeprecationWarning: Call to deprecated `__getitem__` (Method will be removed in 4.0.0, use self.wv.__getitem__() instead).\n",
      "  sentence_embeddings=[[w2v[word][0] for word in words] for words in sentence_tokens]\n",
      "<ipython-input-98-37689534effe>:3: DeprecationWarning: Call to deprecated `__getitem__` (Method will be removed in 4.0.0, use self.wv.__getitem__() instead).\n",
      "  sentence_embeddings=[[w2v[word][0] for word in words] for words in sentence_tokens]\n",
      "<ipython-input-98-37689534effe>:3: DeprecationWarning: Call to deprecated `__getitem__` (Method will be removed in 4.0.0, use self.wv.__getitem__() instead).\n",
      "  sentence_embeddings=[[w2v[word][0] for word in words] for words in sentence_tokens]\n",
      "<ipython-input-98-37689534effe>:3: DeprecationWarning: Call to deprecated `__getitem__` (Method will be removed in 4.0.0, use self.wv.__getitem__() instead).\n",
      "  sentence_embeddings=[[w2v[word][0] for word in words] for words in sentence_tokens]\n",
      "<ipython-input-98-37689534effe>:3: DeprecationWarning: Call to deprecated `__getitem__` (Method will be removed in 4.0.0, use self.wv.__getitem__() instead).\n",
      "  sentence_embeddings=[[w2v[word][0] for word in words] for words in sentence_tokens]\n",
      "<ipython-input-98-37689534effe>:3: DeprecationWarning: Call to deprecated `__getitem__` (Method will be removed in 4.0.0, use self.wv.__getitem__() instead).\n",
      "  sentence_embeddings=[[w2v[word][0] for word in words] for words in sentence_tokens]\n",
      "<ipython-input-98-37689534effe>:3: DeprecationWarning: Call to deprecated `__getitem__` (Method will be removed in 4.0.0, use self.wv.__getitem__() instead).\n",
      "  sentence_embeddings=[[w2v[word][0] for word in words] for words in sentence_tokens]\n",
      "<ipython-input-98-37689534effe>:3: DeprecationWarning: Call to deprecated `__getitem__` (Method will be removed in 4.0.0, use self.wv.__getitem__() instead).\n",
      "  sentence_embeddings=[[w2v[word][0] for word in words] for words in sentence_tokens]\n",
      "<ipython-input-98-37689534effe>:3: DeprecationWarning: Call to deprecated `__getitem__` (Method will be removed in 4.0.0, use self.wv.__getitem__() instead).\n",
      "  sentence_embeddings=[[w2v[word][0] for word in words] for words in sentence_tokens]\n",
      "<ipython-input-98-37689534effe>:3: DeprecationWarning: Call to deprecated `__getitem__` (Method will be removed in 4.0.0, use self.wv.__getitem__() instead).\n",
      "  sentence_embeddings=[[w2v[word][0] for word in words] for words in sentence_tokens]\n",
      "<ipython-input-98-37689534effe>:3: DeprecationWarning: Call to deprecated `__getitem__` (Method will be removed in 4.0.0, use self.wv.__getitem__() instead).\n",
      "  sentence_embeddings=[[w2v[word][0] for word in words] for words in sentence_tokens]\n",
      "<ipython-input-98-37689534effe>:3: DeprecationWarning: Call to deprecated `__getitem__` (Method will be removed in 4.0.0, use self.wv.__getitem__() instead).\n",
      "  sentence_embeddings=[[w2v[word][0] for word in words] for words in sentence_tokens]\n",
      "<ipython-input-98-37689534effe>:3: DeprecationWarning: Call to deprecated `__getitem__` (Method will be removed in 4.0.0, use self.wv.__getitem__() instead).\n",
      "  sentence_embeddings=[[w2v[word][0] for word in words] for words in sentence_tokens]\n",
      "<ipython-input-98-37689534effe>:3: DeprecationWarning: Call to deprecated `__getitem__` (Method will be removed in 4.0.0, use self.wv.__getitem__() instead).\n",
      "  sentence_embeddings=[[w2v[word][0] for word in words] for words in sentence_tokens]\n",
      "<ipython-input-98-37689534effe>:3: DeprecationWarning: Call to deprecated `__getitem__` (Method will be removed in 4.0.0, use self.wv.__getitem__() instead).\n",
      "  sentence_embeddings=[[w2v[word][0] for word in words] for words in sentence_tokens]\n",
      "<ipython-input-98-37689534effe>:3: DeprecationWarning: Call to deprecated `__getitem__` (Method will be removed in 4.0.0, use self.wv.__getitem__() instead).\n",
      "  sentence_embeddings=[[w2v[word][0] for word in words] for words in sentence_tokens]\n",
      "<ipython-input-98-37689534effe>:3: DeprecationWarning: Call to deprecated `__getitem__` (Method will be removed in 4.0.0, use self.wv.__getitem__() instead).\n",
      "  sentence_embeddings=[[w2v[word][0] for word in words] for words in sentence_tokens]\n",
      "<ipython-input-98-37689534effe>:3: DeprecationWarning: Call to deprecated `__getitem__` (Method will be removed in 4.0.0, use self.wv.__getitem__() instead).\n",
      "  sentence_embeddings=[[w2v[word][0] for word in words] for words in sentence_tokens]\n",
      "<ipython-input-98-37689534effe>:3: DeprecationWarning: Call to deprecated `__getitem__` (Method will be removed in 4.0.0, use self.wv.__getitem__() instead).\n",
      "  sentence_embeddings=[[w2v[word][0] for word in words] for words in sentence_tokens]\n",
      "<ipython-input-98-37689534effe>:3: DeprecationWarning: Call to deprecated `__getitem__` (Method will be removed in 4.0.0, use self.wv.__getitem__() instead).\n",
      "  sentence_embeddings=[[w2v[word][0] for word in words] for words in sentence_tokens]\n",
      "<ipython-input-98-37689534effe>:3: DeprecationWarning: Call to deprecated `__getitem__` (Method will be removed in 4.0.0, use self.wv.__getitem__() instead).\n",
      "  sentence_embeddings=[[w2v[word][0] for word in words] for words in sentence_tokens]\n",
      "<ipython-input-98-37689534effe>:3: DeprecationWarning: Call to deprecated `__getitem__` (Method will be removed in 4.0.0, use self.wv.__getitem__() instead).\n",
      "  sentence_embeddings=[[w2v[word][0] for word in words] for words in sentence_tokens]\n",
      "<ipython-input-98-37689534effe>:3: DeprecationWarning: Call to deprecated `__getitem__` (Method will be removed in 4.0.0, use self.wv.__getitem__() instead).\n",
      "  sentence_embeddings=[[w2v[word][0] for word in words] for words in sentence_tokens]\n",
      "<ipython-input-98-37689534effe>:3: DeprecationWarning: Call to deprecated `__getitem__` (Method will be removed in 4.0.0, use self.wv.__getitem__() instead).\n",
      "  sentence_embeddings=[[w2v[word][0] for word in words] for words in sentence_tokens]\n",
      "<ipython-input-98-37689534effe>:3: DeprecationWarning: Call to deprecated `__getitem__` (Method will be removed in 4.0.0, use self.wv.__getitem__() instead).\n",
      "  sentence_embeddings=[[w2v[word][0] for word in words] for words in sentence_tokens]\n",
      "<ipython-input-98-37689534effe>:3: DeprecationWarning: Call to deprecated `__getitem__` (Method will be removed in 4.0.0, use self.wv.__getitem__() instead).\n",
      "  sentence_embeddings=[[w2v[word][0] for word in words] for words in sentence_tokens]\n",
      "<ipython-input-98-37689534effe>:3: DeprecationWarning: Call to deprecated `__getitem__` (Method will be removed in 4.0.0, use self.wv.__getitem__() instead).\n",
      "  sentence_embeddings=[[w2v[word][0] for word in words] for words in sentence_tokens]\n",
      "<ipython-input-98-37689534effe>:3: DeprecationWarning: Call to deprecated `__getitem__` (Method will be removed in 4.0.0, use self.wv.__getitem__() instead).\n",
      "  sentence_embeddings=[[w2v[word][0] for word in words] for words in sentence_tokens]\n",
      "<ipython-input-98-37689534effe>:3: DeprecationWarning: Call to deprecated `__getitem__` (Method will be removed in 4.0.0, use self.wv.__getitem__() instead).\n",
      "  sentence_embeddings=[[w2v[word][0] for word in words] for words in sentence_tokens]\n",
      "<ipython-input-98-37689534effe>:3: DeprecationWarning: Call to deprecated `__getitem__` (Method will be removed in 4.0.0, use self.wv.__getitem__() instead).\n",
      "  sentence_embeddings=[[w2v[word][0] for word in words] for words in sentence_tokens]\n",
      "<ipython-input-98-37689534effe>:3: DeprecationWarning: Call to deprecated `__getitem__` (Method will be removed in 4.0.0, use self.wv.__getitem__() instead).\n",
      "  sentence_embeddings=[[w2v[word][0] for word in words] for words in sentence_tokens]\n",
      "<ipython-input-98-37689534effe>:3: DeprecationWarning: Call to deprecated `__getitem__` (Method will be removed in 4.0.0, use self.wv.__getitem__() instead).\n",
      "  sentence_embeddings=[[w2v[word][0] for word in words] for words in sentence_tokens]\n",
      "<ipython-input-98-37689534effe>:3: DeprecationWarning: Call to deprecated `__getitem__` (Method will be removed in 4.0.0, use self.wv.__getitem__() instead).\n",
      "  sentence_embeddings=[[w2v[word][0] for word in words] for words in sentence_tokens]\n",
      "<ipython-input-98-37689534effe>:3: DeprecationWarning: Call to deprecated `__getitem__` (Method will be removed in 4.0.0, use self.wv.__getitem__() instead).\n",
      "  sentence_embeddings=[[w2v[word][0] for word in words] for words in sentence_tokens]\n",
      "<ipython-input-98-37689534effe>:3: DeprecationWarning: Call to deprecated `__getitem__` (Method will be removed in 4.0.0, use self.wv.__getitem__() instead).\n",
      "  sentence_embeddings=[[w2v[word][0] for word in words] for words in sentence_tokens]\n",
      "<ipython-input-98-37689534effe>:3: DeprecationWarning: Call to deprecated `__getitem__` (Method will be removed in 4.0.0, use self.wv.__getitem__() instead).\n",
      "  sentence_embeddings=[[w2v[word][0] for word in words] for words in sentence_tokens]\n",
      "<ipython-input-98-37689534effe>:3: DeprecationWarning: Call to deprecated `__getitem__` (Method will be removed in 4.0.0, use self.wv.__getitem__() instead).\n",
      "  sentence_embeddings=[[w2v[word][0] for word in words] for words in sentence_tokens]\n",
      "<ipython-input-98-37689534effe>:3: DeprecationWarning: Call to deprecated `__getitem__` (Method will be removed in 4.0.0, use self.wv.__getitem__() instead).\n",
      "  sentence_embeddings=[[w2v[word][0] for word in words] for words in sentence_tokens]\n",
      "<ipython-input-98-37689534effe>:3: DeprecationWarning: Call to deprecated `__getitem__` (Method will be removed in 4.0.0, use self.wv.__getitem__() instead).\n",
      "  sentence_embeddings=[[w2v[word][0] for word in words] for words in sentence_tokens]\n",
      "<ipython-input-98-37689534effe>:3: DeprecationWarning: Call to deprecated `__getitem__` (Method will be removed in 4.0.0, use self.wv.__getitem__() instead).\n",
      "  sentence_embeddings=[[w2v[word][0] for word in words] for words in sentence_tokens]\n",
      "<ipython-input-98-37689534effe>:3: DeprecationWarning: Call to deprecated `__getitem__` (Method will be removed in 4.0.0, use self.wv.__getitem__() instead).\n",
      "  sentence_embeddings=[[w2v[word][0] for word in words] for words in sentence_tokens]\n",
      "<ipython-input-98-37689534effe>:3: DeprecationWarning: Call to deprecated `__getitem__` (Method will be removed in 4.0.0, use self.wv.__getitem__() instead).\n",
      "  sentence_embeddings=[[w2v[word][0] for word in words] for words in sentence_tokens]\n",
      "<ipython-input-98-37689534effe>:3: DeprecationWarning: Call to deprecated `__getitem__` (Method will be removed in 4.0.0, use self.wv.__getitem__() instead).\n",
      "  sentence_embeddings=[[w2v[word][0] for word in words] for words in sentence_tokens]\n",
      "<ipython-input-98-37689534effe>:3: DeprecationWarning: Call to deprecated `__getitem__` (Method will be removed in 4.0.0, use self.wv.__getitem__() instead).\n",
      "  sentence_embeddings=[[w2v[word][0] for word in words] for words in sentence_tokens]\n",
      "<ipython-input-98-37689534effe>:3: DeprecationWarning: Call to deprecated `__getitem__` (Method will be removed in 4.0.0, use self.wv.__getitem__() instead).\n",
      "  sentence_embeddings=[[w2v[word][0] for word in words] for words in sentence_tokens]\n",
      "<ipython-input-98-37689534effe>:3: DeprecationWarning: Call to deprecated `__getitem__` (Method will be removed in 4.0.0, use self.wv.__getitem__() instead).\n",
      "  sentence_embeddings=[[w2v[word][0] for word in words] for words in sentence_tokens]\n",
      "<ipython-input-98-37689534effe>:3: DeprecationWarning: Call to deprecated `__getitem__` (Method will be removed in 4.0.0, use self.wv.__getitem__() instead).\n",
      "  sentence_embeddings=[[w2v[word][0] for word in words] for words in sentence_tokens]\n",
      "<ipython-input-98-37689534effe>:3: DeprecationWarning: Call to deprecated `__getitem__` (Method will be removed in 4.0.0, use self.wv.__getitem__() instead).\n",
      "  sentence_embeddings=[[w2v[word][0] for word in words] for words in sentence_tokens]\n",
      "<ipython-input-98-37689534effe>:3: DeprecationWarning: Call to deprecated `__getitem__` (Method will be removed in 4.0.0, use self.wv.__getitem__() instead).\n",
      "  sentence_embeddings=[[w2v[word][0] for word in words] for words in sentence_tokens]\n",
      "<ipython-input-98-37689534effe>:3: DeprecationWarning: Call to deprecated `__getitem__` (Method will be removed in 4.0.0, use self.wv.__getitem__() instead).\n",
      "  sentence_embeddings=[[w2v[word][0] for word in words] for words in sentence_tokens]\n",
      "<ipython-input-98-37689534effe>:3: DeprecationWarning: Call to deprecated `__getitem__` (Method will be removed in 4.0.0, use self.wv.__getitem__() instead).\n",
      "  sentence_embeddings=[[w2v[word][0] for word in words] for words in sentence_tokens]\n",
      "<ipython-input-98-37689534effe>:3: DeprecationWarning: Call to deprecated `__getitem__` (Method will be removed in 4.0.0, use self.wv.__getitem__() instead).\n",
      "  sentence_embeddings=[[w2v[word][0] for word in words] for words in sentence_tokens]\n",
      "<ipython-input-98-37689534effe>:3: DeprecationWarning: Call to deprecated `__getitem__` (Method will be removed in 4.0.0, use self.wv.__getitem__() instead).\n",
      "  sentence_embeddings=[[w2v[word][0] for word in words] for words in sentence_tokens]\n",
      "<ipython-input-98-37689534effe>:3: DeprecationWarning: Call to deprecated `__getitem__` (Method will be removed in 4.0.0, use self.wv.__getitem__() instead).\n",
      "  sentence_embeddings=[[w2v[word][0] for word in words] for words in sentence_tokens]\n",
      "<ipython-input-98-37689534effe>:3: DeprecationWarning: Call to deprecated `__getitem__` (Method will be removed in 4.0.0, use self.wv.__getitem__() instead).\n",
      "  sentence_embeddings=[[w2v[word][0] for word in words] for words in sentence_tokens]\n",
      "<ipython-input-98-37689534effe>:3: DeprecationWarning: Call to deprecated `__getitem__` (Method will be removed in 4.0.0, use self.wv.__getitem__() instead).\n",
      "  sentence_embeddings=[[w2v[word][0] for word in words] for words in sentence_tokens]\n",
      "<ipython-input-98-37689534effe>:3: DeprecationWarning: Call to deprecated `__getitem__` (Method will be removed in 4.0.0, use self.wv.__getitem__() instead).\n",
      "  sentence_embeddings=[[w2v[word][0] for word in words] for words in sentence_tokens]\n",
      "<ipython-input-98-37689534effe>:3: DeprecationWarning: Call to deprecated `__getitem__` (Method will be removed in 4.0.0, use self.wv.__getitem__() instead).\n",
      "  sentence_embeddings=[[w2v[word][0] for word in words] for words in sentence_tokens]\n",
      "<ipython-input-98-37689534effe>:3: DeprecationWarning: Call to deprecated `__getitem__` (Method will be removed in 4.0.0, use self.wv.__getitem__() instead).\n",
      "  sentence_embeddings=[[w2v[word][0] for word in words] for words in sentence_tokens]\n",
      "<ipython-input-98-37689534effe>:3: DeprecationWarning: Call to deprecated `__getitem__` (Method will be removed in 4.0.0, use self.wv.__getitem__() instead).\n",
      "  sentence_embeddings=[[w2v[word][0] for word in words] for words in sentence_tokens]\n",
      "<ipython-input-98-37689534effe>:3: DeprecationWarning: Call to deprecated `__getitem__` (Method will be removed in 4.0.0, use self.wv.__getitem__() instead).\n",
      "  sentence_embeddings=[[w2v[word][0] for word in words] for words in sentence_tokens]\n",
      "<ipython-input-98-37689534effe>:3: DeprecationWarning: Call to deprecated `__getitem__` (Method will be removed in 4.0.0, use self.wv.__getitem__() instead).\n",
      "  sentence_embeddings=[[w2v[word][0] for word in words] for words in sentence_tokens]\n",
      "<ipython-input-98-37689534effe>:3: DeprecationWarning: Call to deprecated `__getitem__` (Method will be removed in 4.0.0, use self.wv.__getitem__() instead).\n",
      "  sentence_embeddings=[[w2v[word][0] for word in words] for words in sentence_tokens]\n",
      "<ipython-input-98-37689534effe>:3: DeprecationWarning: Call to deprecated `__getitem__` (Method will be removed in 4.0.0, use self.wv.__getitem__() instead).\n",
      "  sentence_embeddings=[[w2v[word][0] for word in words] for words in sentence_tokens]\n",
      "<ipython-input-98-37689534effe>:3: DeprecationWarning: Call to deprecated `__getitem__` (Method will be removed in 4.0.0, use self.wv.__getitem__() instead).\n",
      "  sentence_embeddings=[[w2v[word][0] for word in words] for words in sentence_tokens]\n",
      "<ipython-input-98-37689534effe>:3: DeprecationWarning: Call to deprecated `__getitem__` (Method will be removed in 4.0.0, use self.wv.__getitem__() instead).\n",
      "  sentence_embeddings=[[w2v[word][0] for word in words] for words in sentence_tokens]\n",
      "<ipython-input-98-37689534effe>:3: DeprecationWarning: Call to deprecated `__getitem__` (Method will be removed in 4.0.0, use self.wv.__getitem__() instead).\n",
      "  sentence_embeddings=[[w2v[word][0] for word in words] for words in sentence_tokens]\n",
      "<ipython-input-98-37689534effe>:3: DeprecationWarning: Call to deprecated `__getitem__` (Method will be removed in 4.0.0, use self.wv.__getitem__() instead).\n",
      "  sentence_embeddings=[[w2v[word][0] for word in words] for words in sentence_tokens]\n",
      "<ipython-input-98-37689534effe>:3: DeprecationWarning: Call to deprecated `__getitem__` (Method will be removed in 4.0.0, use self.wv.__getitem__() instead).\n",
      "  sentence_embeddings=[[w2v[word][0] for word in words] for words in sentence_tokens]\n",
      "<ipython-input-98-37689534effe>:3: DeprecationWarning: Call to deprecated `__getitem__` (Method will be removed in 4.0.0, use self.wv.__getitem__() instead).\n",
      "  sentence_embeddings=[[w2v[word][0] for word in words] for words in sentence_tokens]\n",
      "<ipython-input-98-37689534effe>:3: DeprecationWarning: Call to deprecated `__getitem__` (Method will be removed in 4.0.0, use self.wv.__getitem__() instead).\n",
      "  sentence_embeddings=[[w2v[word][0] for word in words] for words in sentence_tokens]\n",
      "<ipython-input-98-37689534effe>:3: DeprecationWarning: Call to deprecated `__getitem__` (Method will be removed in 4.0.0, use self.wv.__getitem__() instead).\n",
      "  sentence_embeddings=[[w2v[word][0] for word in words] for words in sentence_tokens]\n",
      "<ipython-input-98-37689534effe>:3: DeprecationWarning: Call to deprecated `__getitem__` (Method will be removed in 4.0.0, use self.wv.__getitem__() instead).\n",
      "  sentence_embeddings=[[w2v[word][0] for word in words] for words in sentence_tokens]\n",
      "<ipython-input-98-37689534effe>:3: DeprecationWarning: Call to deprecated `__getitem__` (Method will be removed in 4.0.0, use self.wv.__getitem__() instead).\n",
      "  sentence_embeddings=[[w2v[word][0] for word in words] for words in sentence_tokens]\n",
      "<ipython-input-98-37689534effe>:3: DeprecationWarning: Call to deprecated `__getitem__` (Method will be removed in 4.0.0, use self.wv.__getitem__() instead).\n",
      "  sentence_embeddings=[[w2v[word][0] for word in words] for words in sentence_tokens]\n",
      "<ipython-input-98-37689534effe>:3: DeprecationWarning: Call to deprecated `__getitem__` (Method will be removed in 4.0.0, use self.wv.__getitem__() instead).\n",
      "  sentence_embeddings=[[w2v[word][0] for word in words] for words in sentence_tokens]\n",
      "<ipython-input-98-37689534effe>:3: DeprecationWarning: Call to deprecated `__getitem__` (Method will be removed in 4.0.0, use self.wv.__getitem__() instead).\n",
      "  sentence_embeddings=[[w2v[word][0] for word in words] for words in sentence_tokens]\n",
      "<ipython-input-98-37689534effe>:3: DeprecationWarning: Call to deprecated `__getitem__` (Method will be removed in 4.0.0, use self.wv.__getitem__() instead).\n",
      "  sentence_embeddings=[[w2v[word][0] for word in words] for words in sentence_tokens]\n",
      "<ipython-input-98-37689534effe>:3: DeprecationWarning: Call to deprecated `__getitem__` (Method will be removed in 4.0.0, use self.wv.__getitem__() instead).\n",
      "  sentence_embeddings=[[w2v[word][0] for word in words] for words in sentence_tokens]\n",
      "<ipython-input-98-37689534effe>:3: DeprecationWarning: Call to deprecated `__getitem__` (Method will be removed in 4.0.0, use self.wv.__getitem__() instead).\n",
      "  sentence_embeddings=[[w2v[word][0] for word in words] for words in sentence_tokens]\n",
      "<ipython-input-98-37689534effe>:3: DeprecationWarning: Call to deprecated `__getitem__` (Method will be removed in 4.0.0, use self.wv.__getitem__() instead).\n",
      "  sentence_embeddings=[[w2v[word][0] for word in words] for words in sentence_tokens]\n",
      "<ipython-input-98-37689534effe>:3: DeprecationWarning: Call to deprecated `__getitem__` (Method will be removed in 4.0.0, use self.wv.__getitem__() instead).\n",
      "  sentence_embeddings=[[w2v[word][0] for word in words] for words in sentence_tokens]\n",
      "<ipython-input-98-37689534effe>:3: DeprecationWarning: Call to deprecated `__getitem__` (Method will be removed in 4.0.0, use self.wv.__getitem__() instead).\n",
      "  sentence_embeddings=[[w2v[word][0] for word in words] for words in sentence_tokens]\n",
      "<ipython-input-98-37689534effe>:3: DeprecationWarning: Call to deprecated `__getitem__` (Method will be removed in 4.0.0, use self.wv.__getitem__() instead).\n",
      "  sentence_embeddings=[[w2v[word][0] for word in words] for words in sentence_tokens]\n",
      "<ipython-input-98-37689534effe>:3: DeprecationWarning: Call to deprecated `__getitem__` (Method will be removed in 4.0.0, use self.wv.__getitem__() instead).\n",
      "  sentence_embeddings=[[w2v[word][0] for word in words] for words in sentence_tokens]\n",
      "<ipython-input-98-37689534effe>:3: DeprecationWarning: Call to deprecated `__getitem__` (Method will be removed in 4.0.0, use self.wv.__getitem__() instead).\n",
      "  sentence_embeddings=[[w2v[word][0] for word in words] for words in sentence_tokens]\n",
      "<ipython-input-98-37689534effe>:3: DeprecationWarning: Call to deprecated `__getitem__` (Method will be removed in 4.0.0, use self.wv.__getitem__() instead).\n",
      "  sentence_embeddings=[[w2v[word][0] for word in words] for words in sentence_tokens]\n",
      "<ipython-input-98-37689534effe>:3: DeprecationWarning: Call to deprecated `__getitem__` (Method will be removed in 4.0.0, use self.wv.__getitem__() instead).\n",
      "  sentence_embeddings=[[w2v[word][0] for word in words] for words in sentence_tokens]\n",
      "<ipython-input-98-37689534effe>:3: DeprecationWarning: Call to deprecated `__getitem__` (Method will be removed in 4.0.0, use self.wv.__getitem__() instead).\n",
      "  sentence_embeddings=[[w2v[word][0] for word in words] for words in sentence_tokens]\n",
      "<ipython-input-98-37689534effe>:3: DeprecationWarning: Call to deprecated `__getitem__` (Method will be removed in 4.0.0, use self.wv.__getitem__() instead).\n",
      "  sentence_embeddings=[[w2v[word][0] for word in words] for words in sentence_tokens]\n",
      "<ipython-input-98-37689534effe>:3: DeprecationWarning: Call to deprecated `__getitem__` (Method will be removed in 4.0.0, use self.wv.__getitem__() instead).\n",
      "  sentence_embeddings=[[w2v[word][0] for word in words] for words in sentence_tokens]\n",
      "<ipython-input-98-37689534effe>:3: DeprecationWarning: Call to deprecated `__getitem__` (Method will be removed in 4.0.0, use self.wv.__getitem__() instead).\n",
      "  sentence_embeddings=[[w2v[word][0] for word in words] for words in sentence_tokens]\n",
      "<ipython-input-98-37689534effe>:3: DeprecationWarning: Call to deprecated `__getitem__` (Method will be removed in 4.0.0, use self.wv.__getitem__() instead).\n",
      "  sentence_embeddings=[[w2v[word][0] for word in words] for words in sentence_tokens]\n",
      "<ipython-input-98-37689534effe>:3: DeprecationWarning: Call to deprecated `__getitem__` (Method will be removed in 4.0.0, use self.wv.__getitem__() instead).\n",
      "  sentence_embeddings=[[w2v[word][0] for word in words] for words in sentence_tokens]\n",
      "<ipython-input-98-37689534effe>:3: DeprecationWarning: Call to deprecated `__getitem__` (Method will be removed in 4.0.0, use self.wv.__getitem__() instead).\n",
      "  sentence_embeddings=[[w2v[word][0] for word in words] for words in sentence_tokens]\n",
      "<ipython-input-98-37689534effe>:3: DeprecationWarning: Call to deprecated `__getitem__` (Method will be removed in 4.0.0, use self.wv.__getitem__() instead).\n",
      "  sentence_embeddings=[[w2v[word][0] for word in words] for words in sentence_tokens]\n",
      "<ipython-input-98-37689534effe>:3: DeprecationWarning: Call to deprecated `__getitem__` (Method will be removed in 4.0.0, use self.wv.__getitem__() instead).\n",
      "  sentence_embeddings=[[w2v[word][0] for word in words] for words in sentence_tokens]\n",
      "<ipython-input-98-37689534effe>:3: DeprecationWarning: Call to deprecated `__getitem__` (Method will be removed in 4.0.0, use self.wv.__getitem__() instead).\n",
      "  sentence_embeddings=[[w2v[word][0] for word in words] for words in sentence_tokens]\n",
      "<ipython-input-98-37689534effe>:3: DeprecationWarning: Call to deprecated `__getitem__` (Method will be removed in 4.0.0, use self.wv.__getitem__() instead).\n",
      "  sentence_embeddings=[[w2v[word][0] for word in words] for words in sentence_tokens]\n",
      "<ipython-input-98-37689534effe>:3: DeprecationWarning: Call to deprecated `__getitem__` (Method will be removed in 4.0.0, use self.wv.__getitem__() instead).\n",
      "  sentence_embeddings=[[w2v[word][0] for word in words] for words in sentence_tokens]\n",
      "<ipython-input-98-37689534effe>:3: DeprecationWarning: Call to deprecated `__getitem__` (Method will be removed in 4.0.0, use self.wv.__getitem__() instead).\n",
      "  sentence_embeddings=[[w2v[word][0] for word in words] for words in sentence_tokens]\n",
      "<ipython-input-98-37689534effe>:3: DeprecationWarning: Call to deprecated `__getitem__` (Method will be removed in 4.0.0, use self.wv.__getitem__() instead).\n",
      "  sentence_embeddings=[[w2v[word][0] for word in words] for words in sentence_tokens]\n",
      "<ipython-input-98-37689534effe>:3: DeprecationWarning: Call to deprecated `__getitem__` (Method will be removed in 4.0.0, use self.wv.__getitem__() instead).\n",
      "  sentence_embeddings=[[w2v[word][0] for word in words] for words in sentence_tokens]\n",
      "<ipython-input-98-37689534effe>:3: DeprecationWarning: Call to deprecated `__getitem__` (Method will be removed in 4.0.0, use self.wv.__getitem__() instead).\n",
      "  sentence_embeddings=[[w2v[word][0] for word in words] for words in sentence_tokens]\n",
      "<ipython-input-98-37689534effe>:3: DeprecationWarning: Call to deprecated `__getitem__` (Method will be removed in 4.0.0, use self.wv.__getitem__() instead).\n",
      "  sentence_embeddings=[[w2v[word][0] for word in words] for words in sentence_tokens]\n",
      "<ipython-input-98-37689534effe>:3: DeprecationWarning: Call to deprecated `__getitem__` (Method will be removed in 4.0.0, use self.wv.__getitem__() instead).\n",
      "  sentence_embeddings=[[w2v[word][0] for word in words] for words in sentence_tokens]\n",
      "<ipython-input-98-37689534effe>:3: DeprecationWarning: Call to deprecated `__getitem__` (Method will be removed in 4.0.0, use self.wv.__getitem__() instead).\n",
      "  sentence_embeddings=[[w2v[word][0] for word in words] for words in sentence_tokens]\n",
      "<ipython-input-98-37689534effe>:3: DeprecationWarning: Call to deprecated `__getitem__` (Method will be removed in 4.0.0, use self.wv.__getitem__() instead).\n",
      "  sentence_embeddings=[[w2v[word][0] for word in words] for words in sentence_tokens]\n",
      "<ipython-input-98-37689534effe>:3: DeprecationWarning: Call to deprecated `__getitem__` (Method will be removed in 4.0.0, use self.wv.__getitem__() instead).\n",
      "  sentence_embeddings=[[w2v[word][0] for word in words] for words in sentence_tokens]\n",
      "<ipython-input-98-37689534effe>:3: DeprecationWarning: Call to deprecated `__getitem__` (Method will be removed in 4.0.0, use self.wv.__getitem__() instead).\n",
      "  sentence_embeddings=[[w2v[word][0] for word in words] for words in sentence_tokens]\n",
      "<ipython-input-98-37689534effe>:3: DeprecationWarning: Call to deprecated `__getitem__` (Method will be removed in 4.0.0, use self.wv.__getitem__() instead).\n",
      "  sentence_embeddings=[[w2v[word][0] for word in words] for words in sentence_tokens]\n",
      "<ipython-input-98-37689534effe>:3: DeprecationWarning: Call to deprecated `__getitem__` (Method will be removed in 4.0.0, use self.wv.__getitem__() instead).\n",
      "  sentence_embeddings=[[w2v[word][0] for word in words] for words in sentence_tokens]\n",
      "<ipython-input-98-37689534effe>:3: DeprecationWarning: Call to deprecated `__getitem__` (Method will be removed in 4.0.0, use self.wv.__getitem__() instead).\n",
      "  sentence_embeddings=[[w2v[word][0] for word in words] for words in sentence_tokens]\n",
      "<ipython-input-98-37689534effe>:3: DeprecationWarning: Call to deprecated `__getitem__` (Method will be removed in 4.0.0, use self.wv.__getitem__() instead).\n",
      "  sentence_embeddings=[[w2v[word][0] for word in words] for words in sentence_tokens]\n",
      "<ipython-input-98-37689534effe>:3: DeprecationWarning: Call to deprecated `__getitem__` (Method will be removed in 4.0.0, use self.wv.__getitem__() instead).\n",
      "  sentence_embeddings=[[w2v[word][0] for word in words] for words in sentence_tokens]\n",
      "<ipython-input-98-37689534effe>:3: DeprecationWarning: Call to deprecated `__getitem__` (Method will be removed in 4.0.0, use self.wv.__getitem__() instead).\n",
      "  sentence_embeddings=[[w2v[word][0] for word in words] for words in sentence_tokens]\n",
      "<ipython-input-98-37689534effe>:3: DeprecationWarning: Call to deprecated `__getitem__` (Method will be removed in 4.0.0, use self.wv.__getitem__() instead).\n",
      "  sentence_embeddings=[[w2v[word][0] for word in words] for words in sentence_tokens]\n",
      "<ipython-input-98-37689534effe>:3: DeprecationWarning: Call to deprecated `__getitem__` (Method will be removed in 4.0.0, use self.wv.__getitem__() instead).\n",
      "  sentence_embeddings=[[w2v[word][0] for word in words] for words in sentence_tokens]\n",
      "<ipython-input-98-37689534effe>:3: DeprecationWarning: Call to deprecated `__getitem__` (Method will be removed in 4.0.0, use self.wv.__getitem__() instead).\n",
      "  sentence_embeddings=[[w2v[word][0] for word in words] for words in sentence_tokens]\n",
      "<ipython-input-98-37689534effe>:3: DeprecationWarning: Call to deprecated `__getitem__` (Method will be removed in 4.0.0, use self.wv.__getitem__() instead).\n",
      "  sentence_embeddings=[[w2v[word][0] for word in words] for words in sentence_tokens]\n",
      "<ipython-input-98-37689534effe>:3: DeprecationWarning: Call to deprecated `__getitem__` (Method will be removed in 4.0.0, use self.wv.__getitem__() instead).\n",
      "  sentence_embeddings=[[w2v[word][0] for word in words] for words in sentence_tokens]\n",
      "<ipython-input-98-37689534effe>:3: DeprecationWarning: Call to deprecated `__getitem__` (Method will be removed in 4.0.0, use self.wv.__getitem__() instead).\n",
      "  sentence_embeddings=[[w2v[word][0] for word in words] for words in sentence_tokens]\n",
      "<ipython-input-98-37689534effe>:3: DeprecationWarning: Call to deprecated `__getitem__` (Method will be removed in 4.0.0, use self.wv.__getitem__() instead).\n",
      "  sentence_embeddings=[[w2v[word][0] for word in words] for words in sentence_tokens]\n",
      "<ipython-input-98-37689534effe>:3: DeprecationWarning: Call to deprecated `__getitem__` (Method will be removed in 4.0.0, use self.wv.__getitem__() instead).\n",
      "  sentence_embeddings=[[w2v[word][0] for word in words] for words in sentence_tokens]\n",
      "<ipython-input-98-37689534effe>:3: DeprecationWarning: Call to deprecated `__getitem__` (Method will be removed in 4.0.0, use self.wv.__getitem__() instead).\n",
      "  sentence_embeddings=[[w2v[word][0] for word in words] for words in sentence_tokens]\n",
      "<ipython-input-98-37689534effe>:3: DeprecationWarning: Call to deprecated `__getitem__` (Method will be removed in 4.0.0, use self.wv.__getitem__() instead).\n",
      "  sentence_embeddings=[[w2v[word][0] for word in words] for words in sentence_tokens]\n",
      "<ipython-input-98-37689534effe>:3: DeprecationWarning: Call to deprecated `__getitem__` (Method will be removed in 4.0.0, use self.wv.__getitem__() instead).\n",
      "  sentence_embeddings=[[w2v[word][0] for word in words] for words in sentence_tokens]\n",
      "<ipython-input-98-37689534effe>:3: DeprecationWarning: Call to deprecated `__getitem__` (Method will be removed in 4.0.0, use self.wv.__getitem__() instead).\n",
      "  sentence_embeddings=[[w2v[word][0] for word in words] for words in sentence_tokens]\n",
      "<ipython-input-98-37689534effe>:3: DeprecationWarning: Call to deprecated `__getitem__` (Method will be removed in 4.0.0, use self.wv.__getitem__() instead).\n",
      "  sentence_embeddings=[[w2v[word][0] for word in words] for words in sentence_tokens]\n",
      "<ipython-input-98-37689534effe>:3: DeprecationWarning: Call to deprecated `__getitem__` (Method will be removed in 4.0.0, use self.wv.__getitem__() instead).\n",
      "  sentence_embeddings=[[w2v[word][0] for word in words] for words in sentence_tokens]\n",
      "<ipython-input-98-37689534effe>:3: DeprecationWarning: Call to deprecated `__getitem__` (Method will be removed in 4.0.0, use self.wv.__getitem__() instead).\n",
      "  sentence_embeddings=[[w2v[word][0] for word in words] for words in sentence_tokens]\n",
      "<ipython-input-98-37689534effe>:3: DeprecationWarning: Call to deprecated `__getitem__` (Method will be removed in 4.0.0, use self.wv.__getitem__() instead).\n",
      "  sentence_embeddings=[[w2v[word][0] for word in words] for words in sentence_tokens]\n",
      "<ipython-input-98-37689534effe>:3: DeprecationWarning: Call to deprecated `__getitem__` (Method will be removed in 4.0.0, use self.wv.__getitem__() instead).\n",
      "  sentence_embeddings=[[w2v[word][0] for word in words] for words in sentence_tokens]\n",
      "<ipython-input-98-37689534effe>:3: DeprecationWarning: Call to deprecated `__getitem__` (Method will be removed in 4.0.0, use self.wv.__getitem__() instead).\n",
      "  sentence_embeddings=[[w2v[word][0] for word in words] for words in sentence_tokens]\n",
      "<ipython-input-98-37689534effe>:3: DeprecationWarning: Call to deprecated `__getitem__` (Method will be removed in 4.0.0, use self.wv.__getitem__() instead).\n",
      "  sentence_embeddings=[[w2v[word][0] for word in words] for words in sentence_tokens]\n",
      "<ipython-input-98-37689534effe>:3: DeprecationWarning: Call to deprecated `__getitem__` (Method will be removed in 4.0.0, use self.wv.__getitem__() instead).\n",
      "  sentence_embeddings=[[w2v[word][0] for word in words] for words in sentence_tokens]\n",
      "<ipython-input-98-37689534effe>:3: DeprecationWarning: Call to deprecated `__getitem__` (Method will be removed in 4.0.0, use self.wv.__getitem__() instead).\n",
      "  sentence_embeddings=[[w2v[word][0] for word in words] for words in sentence_tokens]\n",
      "<ipython-input-98-37689534effe>:3: DeprecationWarning: Call to deprecated `__getitem__` (Method will be removed in 4.0.0, use self.wv.__getitem__() instead).\n",
      "  sentence_embeddings=[[w2v[word][0] for word in words] for words in sentence_tokens]\n",
      "<ipython-input-98-37689534effe>:3: DeprecationWarning: Call to deprecated `__getitem__` (Method will be removed in 4.0.0, use self.wv.__getitem__() instead).\n",
      "  sentence_embeddings=[[w2v[word][0] for word in words] for words in sentence_tokens]\n",
      "<ipython-input-98-37689534effe>:3: DeprecationWarning: Call to deprecated `__getitem__` (Method will be removed in 4.0.0, use self.wv.__getitem__() instead).\n",
      "  sentence_embeddings=[[w2v[word][0] for word in words] for words in sentence_tokens]\n",
      "<ipython-input-98-37689534effe>:3: DeprecationWarning: Call to deprecated `__getitem__` (Method will be removed in 4.0.0, use self.wv.__getitem__() instead).\n",
      "  sentence_embeddings=[[w2v[word][0] for word in words] for words in sentence_tokens]\n",
      "<ipython-input-98-37689534effe>:3: DeprecationWarning: Call to deprecated `__getitem__` (Method will be removed in 4.0.0, use self.wv.__getitem__() instead).\n",
      "  sentence_embeddings=[[w2v[word][0] for word in words] for words in sentence_tokens]\n",
      "<ipython-input-98-37689534effe>:3: DeprecationWarning: Call to deprecated `__getitem__` (Method will be removed in 4.0.0, use self.wv.__getitem__() instead).\n",
      "  sentence_embeddings=[[w2v[word][0] for word in words] for words in sentence_tokens]\n",
      "<ipython-input-98-37689534effe>:3: DeprecationWarning: Call to deprecated `__getitem__` (Method will be removed in 4.0.0, use self.wv.__getitem__() instead).\n",
      "  sentence_embeddings=[[w2v[word][0] for word in words] for words in sentence_tokens]\n",
      "<ipython-input-98-37689534effe>:3: DeprecationWarning: Call to deprecated `__getitem__` (Method will be removed in 4.0.0, use self.wv.__getitem__() instead).\n",
      "  sentence_embeddings=[[w2v[word][0] for word in words] for words in sentence_tokens]\n",
      "<ipython-input-98-37689534effe>:3: DeprecationWarning: Call to deprecated `__getitem__` (Method will be removed in 4.0.0, use self.wv.__getitem__() instead).\n",
      "  sentence_embeddings=[[w2v[word][0] for word in words] for words in sentence_tokens]\n",
      "<ipython-input-98-37689534effe>:3: DeprecationWarning: Call to deprecated `__getitem__` (Method will be removed in 4.0.0, use self.wv.__getitem__() instead).\n",
      "  sentence_embeddings=[[w2v[word][0] for word in words] for words in sentence_tokens]\n",
      "<ipython-input-98-37689534effe>:3: DeprecationWarning: Call to deprecated `__getitem__` (Method will be removed in 4.0.0, use self.wv.__getitem__() instead).\n",
      "  sentence_embeddings=[[w2v[word][0] for word in words] for words in sentence_tokens]\n",
      "<ipython-input-98-37689534effe>:3: DeprecationWarning: Call to deprecated `__getitem__` (Method will be removed in 4.0.0, use self.wv.__getitem__() instead).\n",
      "  sentence_embeddings=[[w2v[word][0] for word in words] for words in sentence_tokens]\n",
      "<ipython-input-98-37689534effe>:3: DeprecationWarning: Call to deprecated `__getitem__` (Method will be removed in 4.0.0, use self.wv.__getitem__() instead).\n",
      "  sentence_embeddings=[[w2v[word][0] for word in words] for words in sentence_tokens]\n",
      "<ipython-input-98-37689534effe>:3: DeprecationWarning: Call to deprecated `__getitem__` (Method will be removed in 4.0.0, use self.wv.__getitem__() instead).\n",
      "  sentence_embeddings=[[w2v[word][0] for word in words] for words in sentence_tokens]\n",
      "<ipython-input-98-37689534effe>:3: DeprecationWarning: Call to deprecated `__getitem__` (Method will be removed in 4.0.0, use self.wv.__getitem__() instead).\n",
      "  sentence_embeddings=[[w2v[word][0] for word in words] for words in sentence_tokens]\n",
      "<ipython-input-98-37689534effe>:3: DeprecationWarning: Call to deprecated `__getitem__` (Method will be removed in 4.0.0, use self.wv.__getitem__() instead).\n",
      "  sentence_embeddings=[[w2v[word][0] for word in words] for words in sentence_tokens]\n",
      "<ipython-input-98-37689534effe>:3: DeprecationWarning: Call to deprecated `__getitem__` (Method will be removed in 4.0.0, use self.wv.__getitem__() instead).\n",
      "  sentence_embeddings=[[w2v[word][0] for word in words] for words in sentence_tokens]\n",
      "<ipython-input-98-37689534effe>:3: DeprecationWarning: Call to deprecated `__getitem__` (Method will be removed in 4.0.0, use self.wv.__getitem__() instead).\n",
      "  sentence_embeddings=[[w2v[word][0] for word in words] for words in sentence_tokens]\n",
      "<ipython-input-98-37689534effe>:3: DeprecationWarning: Call to deprecated `__getitem__` (Method will be removed in 4.0.0, use self.wv.__getitem__() instead).\n",
      "  sentence_embeddings=[[w2v[word][0] for word in words] for words in sentence_tokens]\n",
      "<ipython-input-98-37689534effe>:3: DeprecationWarning: Call to deprecated `__getitem__` (Method will be removed in 4.0.0, use self.wv.__getitem__() instead).\n",
      "  sentence_embeddings=[[w2v[word][0] for word in words] for words in sentence_tokens]\n",
      "<ipython-input-98-37689534effe>:3: DeprecationWarning: Call to deprecated `__getitem__` (Method will be removed in 4.0.0, use self.wv.__getitem__() instead).\n",
      "  sentence_embeddings=[[w2v[word][0] for word in words] for words in sentence_tokens]\n",
      "<ipython-input-98-37689534effe>:3: DeprecationWarning: Call to deprecated `__getitem__` (Method will be removed in 4.0.0, use self.wv.__getitem__() instead).\n",
      "  sentence_embeddings=[[w2v[word][0] for word in words] for words in sentence_tokens]\n",
      "<ipython-input-98-37689534effe>:3: DeprecationWarning: Call to deprecated `__getitem__` (Method will be removed in 4.0.0, use self.wv.__getitem__() instead).\n",
      "  sentence_embeddings=[[w2v[word][0] for word in words] for words in sentence_tokens]\n",
      "<ipython-input-98-37689534effe>:3: DeprecationWarning: Call to deprecated `__getitem__` (Method will be removed in 4.0.0, use self.wv.__getitem__() instead).\n",
      "  sentence_embeddings=[[w2v[word][0] for word in words] for words in sentence_tokens]\n",
      "<ipython-input-98-37689534effe>:3: DeprecationWarning: Call to deprecated `__getitem__` (Method will be removed in 4.0.0, use self.wv.__getitem__() instead).\n",
      "  sentence_embeddings=[[w2v[word][0] for word in words] for words in sentence_tokens]\n",
      "<ipython-input-98-37689534effe>:3: DeprecationWarning: Call to deprecated `__getitem__` (Method will be removed in 4.0.0, use self.wv.__getitem__() instead).\n",
      "  sentence_embeddings=[[w2v[word][0] for word in words] for words in sentence_tokens]\n",
      "<ipython-input-98-37689534effe>:3: DeprecationWarning: Call to deprecated `__getitem__` (Method will be removed in 4.0.0, use self.wv.__getitem__() instead).\n",
      "  sentence_embeddings=[[w2v[word][0] for word in words] for words in sentence_tokens]\n",
      "<ipython-input-98-37689534effe>:3: DeprecationWarning: Call to deprecated `__getitem__` (Method will be removed in 4.0.0, use self.wv.__getitem__() instead).\n",
      "  sentence_embeddings=[[w2v[word][0] for word in words] for words in sentence_tokens]\n",
      "<ipython-input-98-37689534effe>:3: DeprecationWarning: Call to deprecated `__getitem__` (Method will be removed in 4.0.0, use self.wv.__getitem__() instead).\n",
      "  sentence_embeddings=[[w2v[word][0] for word in words] for words in sentence_tokens]\n",
      "<ipython-input-98-37689534effe>:3: DeprecationWarning: Call to deprecated `__getitem__` (Method will be removed in 4.0.0, use self.wv.__getitem__() instead).\n",
      "  sentence_embeddings=[[w2v[word][0] for word in words] for words in sentence_tokens]\n",
      "<ipython-input-98-37689534effe>:3: DeprecationWarning: Call to deprecated `__getitem__` (Method will be removed in 4.0.0, use self.wv.__getitem__() instead).\n",
      "  sentence_embeddings=[[w2v[word][0] for word in words] for words in sentence_tokens]\n",
      "<ipython-input-98-37689534effe>:3: DeprecationWarning: Call to deprecated `__getitem__` (Method will be removed in 4.0.0, use self.wv.__getitem__() instead).\n",
      "  sentence_embeddings=[[w2v[word][0] for word in words] for words in sentence_tokens]\n",
      "<ipython-input-98-37689534effe>:3: DeprecationWarning: Call to deprecated `__getitem__` (Method will be removed in 4.0.0, use self.wv.__getitem__() instead).\n",
      "  sentence_embeddings=[[w2v[word][0] for word in words] for words in sentence_tokens]\n",
      "<ipython-input-98-37689534effe>:3: DeprecationWarning: Call to deprecated `__getitem__` (Method will be removed in 4.0.0, use self.wv.__getitem__() instead).\n",
      "  sentence_embeddings=[[w2v[word][0] for word in words] for words in sentence_tokens]\n",
      "<ipython-input-98-37689534effe>:3: DeprecationWarning: Call to deprecated `__getitem__` (Method will be removed in 4.0.0, use self.wv.__getitem__() instead).\n",
      "  sentence_embeddings=[[w2v[word][0] for word in words] for words in sentence_tokens]\n",
      "<ipython-input-98-37689534effe>:3: DeprecationWarning: Call to deprecated `__getitem__` (Method will be removed in 4.0.0, use self.wv.__getitem__() instead).\n",
      "  sentence_embeddings=[[w2v[word][0] for word in words] for words in sentence_tokens]\n",
      "<ipython-input-98-37689534effe>:3: DeprecationWarning: Call to deprecated `__getitem__` (Method will be removed in 4.0.0, use self.wv.__getitem__() instead).\n",
      "  sentence_embeddings=[[w2v[word][0] for word in words] for words in sentence_tokens]\n",
      "<ipython-input-98-37689534effe>:3: DeprecationWarning: Call to deprecated `__getitem__` (Method will be removed in 4.0.0, use self.wv.__getitem__() instead).\n",
      "  sentence_embeddings=[[w2v[word][0] for word in words] for words in sentence_tokens]\n",
      "<ipython-input-98-37689534effe>:3: DeprecationWarning: Call to deprecated `__getitem__` (Method will be removed in 4.0.0, use self.wv.__getitem__() instead).\n",
      "  sentence_embeddings=[[w2v[word][0] for word in words] for words in sentence_tokens]\n",
      "<ipython-input-98-37689534effe>:3: DeprecationWarning: Call to deprecated `__getitem__` (Method will be removed in 4.0.0, use self.wv.__getitem__() instead).\n",
      "  sentence_embeddings=[[w2v[word][0] for word in words] for words in sentence_tokens]\n",
      "<ipython-input-98-37689534effe>:3: DeprecationWarning: Call to deprecated `__getitem__` (Method will be removed in 4.0.0, use self.wv.__getitem__() instead).\n",
      "  sentence_embeddings=[[w2v[word][0] for word in words] for words in sentence_tokens]\n",
      "<ipython-input-98-37689534effe>:3: DeprecationWarning: Call to deprecated `__getitem__` (Method will be removed in 4.0.0, use self.wv.__getitem__() instead).\n",
      "  sentence_embeddings=[[w2v[word][0] for word in words] for words in sentence_tokens]\n",
      "<ipython-input-98-37689534effe>:3: DeprecationWarning: Call to deprecated `__getitem__` (Method will be removed in 4.0.0, use self.wv.__getitem__() instead).\n",
      "  sentence_embeddings=[[w2v[word][0] for word in words] for words in sentence_tokens]\n",
      "<ipython-input-98-37689534effe>:3: DeprecationWarning: Call to deprecated `__getitem__` (Method will be removed in 4.0.0, use self.wv.__getitem__() instead).\n",
      "  sentence_embeddings=[[w2v[word][0] for word in words] for words in sentence_tokens]\n",
      "<ipython-input-98-37689534effe>:3: DeprecationWarning: Call to deprecated `__getitem__` (Method will be removed in 4.0.0, use self.wv.__getitem__() instead).\n",
      "  sentence_embeddings=[[w2v[word][0] for word in words] for words in sentence_tokens]\n",
      "<ipython-input-98-37689534effe>:3: DeprecationWarning: Call to deprecated `__getitem__` (Method will be removed in 4.0.0, use self.wv.__getitem__() instead).\n",
      "  sentence_embeddings=[[w2v[word][0] for word in words] for words in sentence_tokens]\n",
      "<ipython-input-98-37689534effe>:3: DeprecationWarning: Call to deprecated `__getitem__` (Method will be removed in 4.0.0, use self.wv.__getitem__() instead).\n",
      "  sentence_embeddings=[[w2v[word][0] for word in words] for words in sentence_tokens]\n",
      "<ipython-input-98-37689534effe>:3: DeprecationWarning: Call to deprecated `__getitem__` (Method will be removed in 4.0.0, use self.wv.__getitem__() instead).\n",
      "  sentence_embeddings=[[w2v[word][0] for word in words] for words in sentence_tokens]\n",
      "<ipython-input-98-37689534effe>:3: DeprecationWarning: Call to deprecated `__getitem__` (Method will be removed in 4.0.0, use self.wv.__getitem__() instead).\n",
      "  sentence_embeddings=[[w2v[word][0] for word in words] for words in sentence_tokens]\n",
      "<ipython-input-98-37689534effe>:3: DeprecationWarning: Call to deprecated `__getitem__` (Method will be removed in 4.0.0, use self.wv.__getitem__() instead).\n",
      "  sentence_embeddings=[[w2v[word][0] for word in words] for words in sentence_tokens]\n",
      "<ipython-input-98-37689534effe>:3: DeprecationWarning: Call to deprecated `__getitem__` (Method will be removed in 4.0.0, use self.wv.__getitem__() instead).\n",
      "  sentence_embeddings=[[w2v[word][0] for word in words] for words in sentence_tokens]\n",
      "<ipython-input-98-37689534effe>:3: DeprecationWarning: Call to deprecated `__getitem__` (Method will be removed in 4.0.0, use self.wv.__getitem__() instead).\n",
      "  sentence_embeddings=[[w2v[word][0] for word in words] for words in sentence_tokens]\n",
      "<ipython-input-98-37689534effe>:3: DeprecationWarning: Call to deprecated `__getitem__` (Method will be removed in 4.0.0, use self.wv.__getitem__() instead).\n",
      "  sentence_embeddings=[[w2v[word][0] for word in words] for words in sentence_tokens]\n",
      "<ipython-input-98-37689534effe>:3: DeprecationWarning: Call to deprecated `__getitem__` (Method will be removed in 4.0.0, use self.wv.__getitem__() instead).\n",
      "  sentence_embeddings=[[w2v[word][0] for word in words] for words in sentence_tokens]\n",
      "<ipython-input-98-37689534effe>:3: DeprecationWarning: Call to deprecated `__getitem__` (Method will be removed in 4.0.0, use self.wv.__getitem__() instead).\n",
      "  sentence_embeddings=[[w2v[word][0] for word in words] for words in sentence_tokens]\n",
      "<ipython-input-98-37689534effe>:3: DeprecationWarning: Call to deprecated `__getitem__` (Method will be removed in 4.0.0, use self.wv.__getitem__() instead).\n",
      "  sentence_embeddings=[[w2v[word][0] for word in words] for words in sentence_tokens]\n",
      "<ipython-input-98-37689534effe>:3: DeprecationWarning: Call to deprecated `__getitem__` (Method will be removed in 4.0.0, use self.wv.__getitem__() instead).\n",
      "  sentence_embeddings=[[w2v[word][0] for word in words] for words in sentence_tokens]\n",
      "<ipython-input-98-37689534effe>:3: DeprecationWarning: Call to deprecated `__getitem__` (Method will be removed in 4.0.0, use self.wv.__getitem__() instead).\n",
      "  sentence_embeddings=[[w2v[word][0] for word in words] for words in sentence_tokens]\n",
      "<ipython-input-98-37689534effe>:3: DeprecationWarning: Call to deprecated `__getitem__` (Method will be removed in 4.0.0, use self.wv.__getitem__() instead).\n",
      "  sentence_embeddings=[[w2v[word][0] for word in words] for words in sentence_tokens]\n",
      "<ipython-input-98-37689534effe>:3: DeprecationWarning: Call to deprecated `__getitem__` (Method will be removed in 4.0.0, use self.wv.__getitem__() instead).\n",
      "  sentence_embeddings=[[w2v[word][0] for word in words] for words in sentence_tokens]\n",
      "<ipython-input-98-37689534effe>:3: DeprecationWarning: Call to deprecated `__getitem__` (Method will be removed in 4.0.0, use self.wv.__getitem__() instead).\n",
      "  sentence_embeddings=[[w2v[word][0] for word in words] for words in sentence_tokens]\n",
      "<ipython-input-98-37689534effe>:3: DeprecationWarning: Call to deprecated `__getitem__` (Method will be removed in 4.0.0, use self.wv.__getitem__() instead).\n",
      "  sentence_embeddings=[[w2v[word][0] for word in words] for words in sentence_tokens]\n",
      "<ipython-input-98-37689534effe>:3: DeprecationWarning: Call to deprecated `__getitem__` (Method will be removed in 4.0.0, use self.wv.__getitem__() instead).\n",
      "  sentence_embeddings=[[w2v[word][0] for word in words] for words in sentence_tokens]\n",
      "<ipython-input-98-37689534effe>:3: DeprecationWarning: Call to deprecated `__getitem__` (Method will be removed in 4.0.0, use self.wv.__getitem__() instead).\n",
      "  sentence_embeddings=[[w2v[word][0] for word in words] for words in sentence_tokens]\n",
      "<ipython-input-98-37689534effe>:3: DeprecationWarning: Call to deprecated `__getitem__` (Method will be removed in 4.0.0, use self.wv.__getitem__() instead).\n",
      "  sentence_embeddings=[[w2v[word][0] for word in words] for words in sentence_tokens]\n",
      "<ipython-input-98-37689534effe>:3: DeprecationWarning: Call to deprecated `__getitem__` (Method will be removed in 4.0.0, use self.wv.__getitem__() instead).\n",
      "  sentence_embeddings=[[w2v[word][0] for word in words] for words in sentence_tokens]\n",
      "<ipython-input-98-37689534effe>:3: DeprecationWarning: Call to deprecated `__getitem__` (Method will be removed in 4.0.0, use self.wv.__getitem__() instead).\n",
      "  sentence_embeddings=[[w2v[word][0] for word in words] for words in sentence_tokens]\n",
      "<ipython-input-98-37689534effe>:3: DeprecationWarning: Call to deprecated `__getitem__` (Method will be removed in 4.0.0, use self.wv.__getitem__() instead).\n",
      "  sentence_embeddings=[[w2v[word][0] for word in words] for words in sentence_tokens]\n",
      "<ipython-input-98-37689534effe>:3: DeprecationWarning: Call to deprecated `__getitem__` (Method will be removed in 4.0.0, use self.wv.__getitem__() instead).\n",
      "  sentence_embeddings=[[w2v[word][0] for word in words] for words in sentence_tokens]\n",
      "<ipython-input-98-37689534effe>:3: DeprecationWarning: Call to deprecated `__getitem__` (Method will be removed in 4.0.0, use self.wv.__getitem__() instead).\n",
      "  sentence_embeddings=[[w2v[word][0] for word in words] for words in sentence_tokens]\n",
      "<ipython-input-98-37689534effe>:3: DeprecationWarning: Call to deprecated `__getitem__` (Method will be removed in 4.0.0, use self.wv.__getitem__() instead).\n",
      "  sentence_embeddings=[[w2v[word][0] for word in words] for words in sentence_tokens]\n",
      "<ipython-input-98-37689534effe>:3: DeprecationWarning: Call to deprecated `__getitem__` (Method will be removed in 4.0.0, use self.wv.__getitem__() instead).\n",
      "  sentence_embeddings=[[w2v[word][0] for word in words] for words in sentence_tokens]\n",
      "<ipython-input-98-37689534effe>:3: DeprecationWarning: Call to deprecated `__getitem__` (Method will be removed in 4.0.0, use self.wv.__getitem__() instead).\n",
      "  sentence_embeddings=[[w2v[word][0] for word in words] for words in sentence_tokens]\n",
      "<ipython-input-98-37689534effe>:3: DeprecationWarning: Call to deprecated `__getitem__` (Method will be removed in 4.0.0, use self.wv.__getitem__() instead).\n",
      "  sentence_embeddings=[[w2v[word][0] for word in words] for words in sentence_tokens]\n",
      "<ipython-input-98-37689534effe>:3: DeprecationWarning: Call to deprecated `__getitem__` (Method will be removed in 4.0.0, use self.wv.__getitem__() instead).\n",
      "  sentence_embeddings=[[w2v[word][0] for word in words] for words in sentence_tokens]\n",
      "<ipython-input-98-37689534effe>:3: DeprecationWarning: Call to deprecated `__getitem__` (Method will be removed in 4.0.0, use self.wv.__getitem__() instead).\n",
      "  sentence_embeddings=[[w2v[word][0] for word in words] for words in sentence_tokens]\n",
      "<ipython-input-98-37689534effe>:3: DeprecationWarning: Call to deprecated `__getitem__` (Method will be removed in 4.0.0, use self.wv.__getitem__() instead).\n",
      "  sentence_embeddings=[[w2v[word][0] for word in words] for words in sentence_tokens]\n",
      "<ipython-input-98-37689534effe>:3: DeprecationWarning: Call to deprecated `__getitem__` (Method will be removed in 4.0.0, use self.wv.__getitem__() instead).\n",
      "  sentence_embeddings=[[w2v[word][0] for word in words] for words in sentence_tokens]\n",
      "<ipython-input-98-37689534effe>:3: DeprecationWarning: Call to deprecated `__getitem__` (Method will be removed in 4.0.0, use self.wv.__getitem__() instead).\n",
      "  sentence_embeddings=[[w2v[word][0] for word in words] for words in sentence_tokens]\n",
      "<ipython-input-98-37689534effe>:3: DeprecationWarning: Call to deprecated `__getitem__` (Method will be removed in 4.0.0, use self.wv.__getitem__() instead).\n",
      "  sentence_embeddings=[[w2v[word][0] for word in words] for words in sentence_tokens]\n",
      "<ipython-input-98-37689534effe>:3: DeprecationWarning: Call to deprecated `__getitem__` (Method will be removed in 4.0.0, use self.wv.__getitem__() instead).\n",
      "  sentence_embeddings=[[w2v[word][0] for word in words] for words in sentence_tokens]\n",
      "<ipython-input-98-37689534effe>:3: DeprecationWarning: Call to deprecated `__getitem__` (Method will be removed in 4.0.0, use self.wv.__getitem__() instead).\n",
      "  sentence_embeddings=[[w2v[word][0] for word in words] for words in sentence_tokens]\n",
      "<ipython-input-98-37689534effe>:3: DeprecationWarning: Call to deprecated `__getitem__` (Method will be removed in 4.0.0, use self.wv.__getitem__() instead).\n",
      "  sentence_embeddings=[[w2v[word][0] for word in words] for words in sentence_tokens]\n",
      "<ipython-input-98-37689534effe>:3: DeprecationWarning: Call to deprecated `__getitem__` (Method will be removed in 4.0.0, use self.wv.__getitem__() instead).\n",
      "  sentence_embeddings=[[w2v[word][0] for word in words] for words in sentence_tokens]\n",
      "<ipython-input-98-37689534effe>:3: DeprecationWarning: Call to deprecated `__getitem__` (Method will be removed in 4.0.0, use self.wv.__getitem__() instead).\n",
      "  sentence_embeddings=[[w2v[word][0] for word in words] for words in sentence_tokens]\n",
      "<ipython-input-98-37689534effe>:3: DeprecationWarning: Call to deprecated `__getitem__` (Method will be removed in 4.0.0, use self.wv.__getitem__() instead).\n",
      "  sentence_embeddings=[[w2v[word][0] for word in words] for words in sentence_tokens]\n",
      "<ipython-input-98-37689534effe>:3: DeprecationWarning: Call to deprecated `__getitem__` (Method will be removed in 4.0.0, use self.wv.__getitem__() instead).\n",
      "  sentence_embeddings=[[w2v[word][0] for word in words] for words in sentence_tokens]\n",
      "<ipython-input-98-37689534effe>:3: DeprecationWarning: Call to deprecated `__getitem__` (Method will be removed in 4.0.0, use self.wv.__getitem__() instead).\n",
      "  sentence_embeddings=[[w2v[word][0] for word in words] for words in sentence_tokens]\n",
      "<ipython-input-98-37689534effe>:3: DeprecationWarning: Call to deprecated `__getitem__` (Method will be removed in 4.0.0, use self.wv.__getitem__() instead).\n",
      "  sentence_embeddings=[[w2v[word][0] for word in words] for words in sentence_tokens]\n",
      "<ipython-input-98-37689534effe>:3: DeprecationWarning: Call to deprecated `__getitem__` (Method will be removed in 4.0.0, use self.wv.__getitem__() instead).\n",
      "  sentence_embeddings=[[w2v[word][0] for word in words] for words in sentence_tokens]\n",
      "<ipython-input-98-37689534effe>:3: DeprecationWarning: Call to deprecated `__getitem__` (Method will be removed in 4.0.0, use self.wv.__getitem__() instead).\n",
      "  sentence_embeddings=[[w2v[word][0] for word in words] for words in sentence_tokens]\n",
      "<ipython-input-98-37689534effe>:3: DeprecationWarning: Call to deprecated `__getitem__` (Method will be removed in 4.0.0, use self.wv.__getitem__() instead).\n",
      "  sentence_embeddings=[[w2v[word][0] for word in words] for words in sentence_tokens]\n",
      "<ipython-input-98-37689534effe>:3: DeprecationWarning: Call to deprecated `__getitem__` (Method will be removed in 4.0.0, use self.wv.__getitem__() instead).\n",
      "  sentence_embeddings=[[w2v[word][0] for word in words] for words in sentence_tokens]\n",
      "<ipython-input-98-37689534effe>:3: DeprecationWarning: Call to deprecated `__getitem__` (Method will be removed in 4.0.0, use self.wv.__getitem__() instead).\n",
      "  sentence_embeddings=[[w2v[word][0] for word in words] for words in sentence_tokens]\n",
      "<ipython-input-98-37689534effe>:3: DeprecationWarning: Call to deprecated `__getitem__` (Method will be removed in 4.0.0, use self.wv.__getitem__() instead).\n",
      "  sentence_embeddings=[[w2v[word][0] for word in words] for words in sentence_tokens]\n",
      "<ipython-input-98-37689534effe>:3: DeprecationWarning: Call to deprecated `__getitem__` (Method will be removed in 4.0.0, use self.wv.__getitem__() instead).\n",
      "  sentence_embeddings=[[w2v[word][0] for word in words] for words in sentence_tokens]\n",
      "<ipython-input-98-37689534effe>:3: DeprecationWarning: Call to deprecated `__getitem__` (Method will be removed in 4.0.0, use self.wv.__getitem__() instead).\n",
      "  sentence_embeddings=[[w2v[word][0] for word in words] for words in sentence_tokens]\n",
      "<ipython-input-98-37689534effe>:3: DeprecationWarning: Call to deprecated `__getitem__` (Method will be removed in 4.0.0, use self.wv.__getitem__() instead).\n",
      "  sentence_embeddings=[[w2v[word][0] for word in words] for words in sentence_tokens]\n",
      "<ipython-input-98-37689534effe>:3: DeprecationWarning: Call to deprecated `__getitem__` (Method will be removed in 4.0.0, use self.wv.__getitem__() instead).\n",
      "  sentence_embeddings=[[w2v[word][0] for word in words] for words in sentence_tokens]\n",
      "<ipython-input-98-37689534effe>:3: DeprecationWarning: Call to deprecated `__getitem__` (Method will be removed in 4.0.0, use self.wv.__getitem__() instead).\n",
      "  sentence_embeddings=[[w2v[word][0] for word in words] for words in sentence_tokens]\n",
      "<ipython-input-98-37689534effe>:3: DeprecationWarning: Call to deprecated `__getitem__` (Method will be removed in 4.0.0, use self.wv.__getitem__() instead).\n",
      "  sentence_embeddings=[[w2v[word][0] for word in words] for words in sentence_tokens]\n",
      "<ipython-input-98-37689534effe>:3: DeprecationWarning: Call to deprecated `__getitem__` (Method will be removed in 4.0.0, use self.wv.__getitem__() instead).\n",
      "  sentence_embeddings=[[w2v[word][0] for word in words] for words in sentence_tokens]\n",
      "<ipython-input-98-37689534effe>:3: DeprecationWarning: Call to deprecated `__getitem__` (Method will be removed in 4.0.0, use self.wv.__getitem__() instead).\n",
      "  sentence_embeddings=[[w2v[word][0] for word in words] for words in sentence_tokens]\n",
      "<ipython-input-98-37689534effe>:3: DeprecationWarning: Call to deprecated `__getitem__` (Method will be removed in 4.0.0, use self.wv.__getitem__() instead).\n",
      "  sentence_embeddings=[[w2v[word][0] for word in words] for words in sentence_tokens]\n",
      "<ipython-input-98-37689534effe>:3: DeprecationWarning: Call to deprecated `__getitem__` (Method will be removed in 4.0.0, use self.wv.__getitem__() instead).\n",
      "  sentence_embeddings=[[w2v[word][0] for word in words] for words in sentence_tokens]\n",
      "<ipython-input-98-37689534effe>:3: DeprecationWarning: Call to deprecated `__getitem__` (Method will be removed in 4.0.0, use self.wv.__getitem__() instead).\n",
      "  sentence_embeddings=[[w2v[word][0] for word in words] for words in sentence_tokens]\n",
      "<ipython-input-98-37689534effe>:3: DeprecationWarning: Call to deprecated `__getitem__` (Method will be removed in 4.0.0, use self.wv.__getitem__() instead).\n",
      "  sentence_embeddings=[[w2v[word][0] for word in words] for words in sentence_tokens]\n",
      "<ipython-input-98-37689534effe>:3: DeprecationWarning: Call to deprecated `__getitem__` (Method will be removed in 4.0.0, use self.wv.__getitem__() instead).\n",
      "  sentence_embeddings=[[w2v[word][0] for word in words] for words in sentence_tokens]\n",
      "<ipython-input-98-37689534effe>:3: DeprecationWarning: Call to deprecated `__getitem__` (Method will be removed in 4.0.0, use self.wv.__getitem__() instead).\n",
      "  sentence_embeddings=[[w2v[word][0] for word in words] for words in sentence_tokens]\n",
      "<ipython-input-98-37689534effe>:3: DeprecationWarning: Call to deprecated `__getitem__` (Method will be removed in 4.0.0, use self.wv.__getitem__() instead).\n",
      "  sentence_embeddings=[[w2v[word][0] for word in words] for words in sentence_tokens]\n",
      "<ipython-input-98-37689534effe>:3: DeprecationWarning: Call to deprecated `__getitem__` (Method will be removed in 4.0.0, use self.wv.__getitem__() instead).\n",
      "  sentence_embeddings=[[w2v[word][0] for word in words] for words in sentence_tokens]\n",
      "<ipython-input-98-37689534effe>:3: DeprecationWarning: Call to deprecated `__getitem__` (Method will be removed in 4.0.0, use self.wv.__getitem__() instead).\n",
      "  sentence_embeddings=[[w2v[word][0] for word in words] for words in sentence_tokens]\n",
      "<ipython-input-98-37689534effe>:3: DeprecationWarning: Call to deprecated `__getitem__` (Method will be removed in 4.0.0, use self.wv.__getitem__() instead).\n",
      "  sentence_embeddings=[[w2v[word][0] for word in words] for words in sentence_tokens]\n",
      "<ipython-input-98-37689534effe>:3: DeprecationWarning: Call to deprecated `__getitem__` (Method will be removed in 4.0.0, use self.wv.__getitem__() instead).\n",
      "  sentence_embeddings=[[w2v[word][0] for word in words] for words in sentence_tokens]\n",
      "<ipython-input-98-37689534effe>:3: DeprecationWarning: Call to deprecated `__getitem__` (Method will be removed in 4.0.0, use self.wv.__getitem__() instead).\n",
      "  sentence_embeddings=[[w2v[word][0] for word in words] for words in sentence_tokens]\n",
      "<ipython-input-98-37689534effe>:3: DeprecationWarning: Call to deprecated `__getitem__` (Method will be removed in 4.0.0, use self.wv.__getitem__() instead).\n",
      "  sentence_embeddings=[[w2v[word][0] for word in words] for words in sentence_tokens]\n",
      "<ipython-input-98-37689534effe>:3: DeprecationWarning: Call to deprecated `__getitem__` (Method will be removed in 4.0.0, use self.wv.__getitem__() instead).\n",
      "  sentence_embeddings=[[w2v[word][0] for word in words] for words in sentence_tokens]\n",
      "<ipython-input-98-37689534effe>:3: DeprecationWarning: Call to deprecated `__getitem__` (Method will be removed in 4.0.0, use self.wv.__getitem__() instead).\n",
      "  sentence_embeddings=[[w2v[word][0] for word in words] for words in sentence_tokens]\n",
      "<ipython-input-98-37689534effe>:3: DeprecationWarning: Call to deprecated `__getitem__` (Method will be removed in 4.0.0, use self.wv.__getitem__() instead).\n",
      "  sentence_embeddings=[[w2v[word][0] for word in words] for words in sentence_tokens]\n",
      "<ipython-input-98-37689534effe>:3: DeprecationWarning: Call to deprecated `__getitem__` (Method will be removed in 4.0.0, use self.wv.__getitem__() instead).\n",
      "  sentence_embeddings=[[w2v[word][0] for word in words] for words in sentence_tokens]\n",
      "<ipython-input-98-37689534effe>:3: DeprecationWarning: Call to deprecated `__getitem__` (Method will be removed in 4.0.0, use self.wv.__getitem__() instead).\n",
      "  sentence_embeddings=[[w2v[word][0] for word in words] for words in sentence_tokens]\n",
      "<ipython-input-98-37689534effe>:3: DeprecationWarning: Call to deprecated `__getitem__` (Method will be removed in 4.0.0, use self.wv.__getitem__() instead).\n",
      "  sentence_embeddings=[[w2v[word][0] for word in words] for words in sentence_tokens]\n",
      "<ipython-input-98-37689534effe>:3: DeprecationWarning: Call to deprecated `__getitem__` (Method will be removed in 4.0.0, use self.wv.__getitem__() instead).\n",
      "  sentence_embeddings=[[w2v[word][0] for word in words] for words in sentence_tokens]\n",
      "<ipython-input-98-37689534effe>:3: DeprecationWarning: Call to deprecated `__getitem__` (Method will be removed in 4.0.0, use self.wv.__getitem__() instead).\n",
      "  sentence_embeddings=[[w2v[word][0] for word in words] for words in sentence_tokens]\n",
      "<ipython-input-98-37689534effe>:3: DeprecationWarning: Call to deprecated `__getitem__` (Method will be removed in 4.0.0, use self.wv.__getitem__() instead).\n",
      "  sentence_embeddings=[[w2v[word][0] for word in words] for words in sentence_tokens]\n",
      "<ipython-input-98-37689534effe>:3: DeprecationWarning: Call to deprecated `__getitem__` (Method will be removed in 4.0.0, use self.wv.__getitem__() instead).\n",
      "  sentence_embeddings=[[w2v[word][0] for word in words] for words in sentence_tokens]\n",
      "<ipython-input-98-37689534effe>:3: DeprecationWarning: Call to deprecated `__getitem__` (Method will be removed in 4.0.0, use self.wv.__getitem__() instead).\n",
      "  sentence_embeddings=[[w2v[word][0] for word in words] for words in sentence_tokens]\n",
      "<ipython-input-98-37689534effe>:3: DeprecationWarning: Call to deprecated `__getitem__` (Method will be removed in 4.0.0, use self.wv.__getitem__() instead).\n",
      "  sentence_embeddings=[[w2v[word][0] for word in words] for words in sentence_tokens]\n",
      "<ipython-input-98-37689534effe>:3: DeprecationWarning: Call to deprecated `__getitem__` (Method will be removed in 4.0.0, use self.wv.__getitem__() instead).\n",
      "  sentence_embeddings=[[w2v[word][0] for word in words] for words in sentence_tokens]\n",
      "<ipython-input-98-37689534effe>:3: DeprecationWarning: Call to deprecated `__getitem__` (Method will be removed in 4.0.0, use self.wv.__getitem__() instead).\n",
      "  sentence_embeddings=[[w2v[word][0] for word in words] for words in sentence_tokens]\n",
      "<ipython-input-98-37689534effe>:3: DeprecationWarning: Call to deprecated `__getitem__` (Method will be removed in 4.0.0, use self.wv.__getitem__() instead).\n",
      "  sentence_embeddings=[[w2v[word][0] for word in words] for words in sentence_tokens]\n",
      "<ipython-input-98-37689534effe>:3: DeprecationWarning: Call to deprecated `__getitem__` (Method will be removed in 4.0.0, use self.wv.__getitem__() instead).\n",
      "  sentence_embeddings=[[w2v[word][0] for word in words] for words in sentence_tokens]\n",
      "<ipython-input-98-37689534effe>:3: DeprecationWarning: Call to deprecated `__getitem__` (Method will be removed in 4.0.0, use self.wv.__getitem__() instead).\n",
      "  sentence_embeddings=[[w2v[word][0] for word in words] for words in sentence_tokens]\n",
      "<ipython-input-98-37689534effe>:3: DeprecationWarning: Call to deprecated `__getitem__` (Method will be removed in 4.0.0, use self.wv.__getitem__() instead).\n",
      "  sentence_embeddings=[[w2v[word][0] for word in words] for words in sentence_tokens]\n",
      "<ipython-input-98-37689534effe>:3: DeprecationWarning: Call to deprecated `__getitem__` (Method will be removed in 4.0.0, use self.wv.__getitem__() instead).\n",
      "  sentence_embeddings=[[w2v[word][0] for word in words] for words in sentence_tokens]\n",
      "<ipython-input-98-37689534effe>:3: DeprecationWarning: Call to deprecated `__getitem__` (Method will be removed in 4.0.0, use self.wv.__getitem__() instead).\n",
      "  sentence_embeddings=[[w2v[word][0] for word in words] for words in sentence_tokens]\n",
      "<ipython-input-98-37689534effe>:3: DeprecationWarning: Call to deprecated `__getitem__` (Method will be removed in 4.0.0, use self.wv.__getitem__() instead).\n",
      "  sentence_embeddings=[[w2v[word][0] for word in words] for words in sentence_tokens]\n",
      "<ipython-input-98-37689534effe>:3: DeprecationWarning: Call to deprecated `__getitem__` (Method will be removed in 4.0.0, use self.wv.__getitem__() instead).\n",
      "  sentence_embeddings=[[w2v[word][0] for word in words] for words in sentence_tokens]\n",
      "<ipython-input-98-37689534effe>:3: DeprecationWarning: Call to deprecated `__getitem__` (Method will be removed in 4.0.0, use self.wv.__getitem__() instead).\n",
      "  sentence_embeddings=[[w2v[word][0] for word in words] for words in sentence_tokens]\n",
      "<ipython-input-98-37689534effe>:3: DeprecationWarning: Call to deprecated `__getitem__` (Method will be removed in 4.0.0, use self.wv.__getitem__() instead).\n",
      "  sentence_embeddings=[[w2v[word][0] for word in words] for words in sentence_tokens]\n",
      "<ipython-input-98-37689534effe>:3: DeprecationWarning: Call to deprecated `__getitem__` (Method will be removed in 4.0.0, use self.wv.__getitem__() instead).\n",
      "  sentence_embeddings=[[w2v[word][0] for word in words] for words in sentence_tokens]\n",
      "<ipython-input-98-37689534effe>:3: DeprecationWarning: Call to deprecated `__getitem__` (Method will be removed in 4.0.0, use self.wv.__getitem__() instead).\n",
      "  sentence_embeddings=[[w2v[word][0] for word in words] for words in sentence_tokens]\n",
      "<ipython-input-98-37689534effe>:3: DeprecationWarning: Call to deprecated `__getitem__` (Method will be removed in 4.0.0, use self.wv.__getitem__() instead).\n",
      "  sentence_embeddings=[[w2v[word][0] for word in words] for words in sentence_tokens]\n",
      "<ipython-input-98-37689534effe>:3: DeprecationWarning: Call to deprecated `__getitem__` (Method will be removed in 4.0.0, use self.wv.__getitem__() instead).\n",
      "  sentence_embeddings=[[w2v[word][0] for word in words] for words in sentence_tokens]\n",
      "<ipython-input-98-37689534effe>:3: DeprecationWarning: Call to deprecated `__getitem__` (Method will be removed in 4.0.0, use self.wv.__getitem__() instead).\n",
      "  sentence_embeddings=[[w2v[word][0] for word in words] for words in sentence_tokens]\n",
      "<ipython-input-98-37689534effe>:3: DeprecationWarning: Call to deprecated `__getitem__` (Method will be removed in 4.0.0, use self.wv.__getitem__() instead).\n",
      "  sentence_embeddings=[[w2v[word][0] for word in words] for words in sentence_tokens]\n",
      "<ipython-input-98-37689534effe>:3: DeprecationWarning: Call to deprecated `__getitem__` (Method will be removed in 4.0.0, use self.wv.__getitem__() instead).\n",
      "  sentence_embeddings=[[w2v[word][0] for word in words] for words in sentence_tokens]\n",
      "<ipython-input-98-37689534effe>:3: DeprecationWarning: Call to deprecated `__getitem__` (Method will be removed in 4.0.0, use self.wv.__getitem__() instead).\n",
      "  sentence_embeddings=[[w2v[word][0] for word in words] for words in sentence_tokens]\n",
      "<ipython-input-98-37689534effe>:3: DeprecationWarning: Call to deprecated `__getitem__` (Method will be removed in 4.0.0, use self.wv.__getitem__() instead).\n",
      "  sentence_embeddings=[[w2v[word][0] for word in words] for words in sentence_tokens]\n",
      "<ipython-input-98-37689534effe>:3: DeprecationWarning: Call to deprecated `__getitem__` (Method will be removed in 4.0.0, use self.wv.__getitem__() instead).\n",
      "  sentence_embeddings=[[w2v[word][0] for word in words] for words in sentence_tokens]\n",
      "<ipython-input-98-37689534effe>:3: DeprecationWarning: Call to deprecated `__getitem__` (Method will be removed in 4.0.0, use self.wv.__getitem__() instead).\n",
      "  sentence_embeddings=[[w2v[word][0] for word in words] for words in sentence_tokens]\n",
      "<ipython-input-98-37689534effe>:3: DeprecationWarning: Call to deprecated `__getitem__` (Method will be removed in 4.0.0, use self.wv.__getitem__() instead).\n",
      "  sentence_embeddings=[[w2v[word][0] for word in words] for words in sentence_tokens]\n",
      "<ipython-input-98-37689534effe>:3: DeprecationWarning: Call to deprecated `__getitem__` (Method will be removed in 4.0.0, use self.wv.__getitem__() instead).\n",
      "  sentence_embeddings=[[w2v[word][0] for word in words] for words in sentence_tokens]\n",
      "<ipython-input-98-37689534effe>:3: DeprecationWarning: Call to deprecated `__getitem__` (Method will be removed in 4.0.0, use self.wv.__getitem__() instead).\n",
      "  sentence_embeddings=[[w2v[word][0] for word in words] for words in sentence_tokens]\n",
      "<ipython-input-98-37689534effe>:3: DeprecationWarning: Call to deprecated `__getitem__` (Method will be removed in 4.0.0, use self.wv.__getitem__() instead).\n",
      "  sentence_embeddings=[[w2v[word][0] for word in words] for words in sentence_tokens]\n",
      "<ipython-input-98-37689534effe>:3: DeprecationWarning: Call to deprecated `__getitem__` (Method will be removed in 4.0.0, use self.wv.__getitem__() instead).\n",
      "  sentence_embeddings=[[w2v[word][0] for word in words] for words in sentence_tokens]\n",
      "<ipython-input-98-37689534effe>:3: DeprecationWarning: Call to deprecated `__getitem__` (Method will be removed in 4.0.0, use self.wv.__getitem__() instead).\n",
      "  sentence_embeddings=[[w2v[word][0] for word in words] for words in sentence_tokens]\n",
      "<ipython-input-98-37689534effe>:3: DeprecationWarning: Call to deprecated `__getitem__` (Method will be removed in 4.0.0, use self.wv.__getitem__() instead).\n",
      "  sentence_embeddings=[[w2v[word][0] for word in words] for words in sentence_tokens]\n",
      "<ipython-input-98-37689534effe>:3: DeprecationWarning: Call to deprecated `__getitem__` (Method will be removed in 4.0.0, use self.wv.__getitem__() instead).\n",
      "  sentence_embeddings=[[w2v[word][0] for word in words] for words in sentence_tokens]\n",
      "<ipython-input-98-37689534effe>:3: DeprecationWarning: Call to deprecated `__getitem__` (Method will be removed in 4.0.0, use self.wv.__getitem__() instead).\n",
      "  sentence_embeddings=[[w2v[word][0] for word in words] for words in sentence_tokens]\n",
      "<ipython-input-98-37689534effe>:3: DeprecationWarning: Call to deprecated `__getitem__` (Method will be removed in 4.0.0, use self.wv.__getitem__() instead).\n",
      "  sentence_embeddings=[[w2v[word][0] for word in words] for words in sentence_tokens]\n",
      "<ipython-input-98-37689534effe>:3: DeprecationWarning: Call to deprecated `__getitem__` (Method will be removed in 4.0.0, use self.wv.__getitem__() instead).\n",
      "  sentence_embeddings=[[w2v[word][0] for word in words] for words in sentence_tokens]\n",
      "<ipython-input-98-37689534effe>:3: DeprecationWarning: Call to deprecated `__getitem__` (Method will be removed in 4.0.0, use self.wv.__getitem__() instead).\n",
      "  sentence_embeddings=[[w2v[word][0] for word in words] for words in sentence_tokens]\n",
      "<ipython-input-98-37689534effe>:3: DeprecationWarning: Call to deprecated `__getitem__` (Method will be removed in 4.0.0, use self.wv.__getitem__() instead).\n",
      "  sentence_embeddings=[[w2v[word][0] for word in words] for words in sentence_tokens]\n",
      "<ipython-input-98-37689534effe>:3: DeprecationWarning: Call to deprecated `__getitem__` (Method will be removed in 4.0.0, use self.wv.__getitem__() instead).\n",
      "  sentence_embeddings=[[w2v[word][0] for word in words] for words in sentence_tokens]\n",
      "<ipython-input-98-37689534effe>:3: DeprecationWarning: Call to deprecated `__getitem__` (Method will be removed in 4.0.0, use self.wv.__getitem__() instead).\n",
      "  sentence_embeddings=[[w2v[word][0] for word in words] for words in sentence_tokens]\n",
      "<ipython-input-98-37689534effe>:3: DeprecationWarning: Call to deprecated `__getitem__` (Method will be removed in 4.0.0, use self.wv.__getitem__() instead).\n",
      "  sentence_embeddings=[[w2v[word][0] for word in words] for words in sentence_tokens]\n",
      "<ipython-input-98-37689534effe>:3: DeprecationWarning: Call to deprecated `__getitem__` (Method will be removed in 4.0.0, use self.wv.__getitem__() instead).\n",
      "  sentence_embeddings=[[w2v[word][0] for word in words] for words in sentence_tokens]\n",
      "<ipython-input-98-37689534effe>:3: DeprecationWarning: Call to deprecated `__getitem__` (Method will be removed in 4.0.0, use self.wv.__getitem__() instead).\n",
      "  sentence_embeddings=[[w2v[word][0] for word in words] for words in sentence_tokens]\n",
      "<ipython-input-98-37689534effe>:3: DeprecationWarning: Call to deprecated `__getitem__` (Method will be removed in 4.0.0, use self.wv.__getitem__() instead).\n",
      "  sentence_embeddings=[[w2v[word][0] for word in words] for words in sentence_tokens]\n",
      "<ipython-input-98-37689534effe>:3: DeprecationWarning: Call to deprecated `__getitem__` (Method will be removed in 4.0.0, use self.wv.__getitem__() instead).\n",
      "  sentence_embeddings=[[w2v[word][0] for word in words] for words in sentence_tokens]\n",
      "<ipython-input-98-37689534effe>:3: DeprecationWarning: Call to deprecated `__getitem__` (Method will be removed in 4.0.0, use self.wv.__getitem__() instead).\n",
      "  sentence_embeddings=[[w2v[word][0] for word in words] for words in sentence_tokens]\n",
      "<ipython-input-98-37689534effe>:3: DeprecationWarning: Call to deprecated `__getitem__` (Method will be removed in 4.0.0, use self.wv.__getitem__() instead).\n",
      "  sentence_embeddings=[[w2v[word][0] for word in words] for words in sentence_tokens]\n",
      "<ipython-input-98-37689534effe>:3: DeprecationWarning: Call to deprecated `__getitem__` (Method will be removed in 4.0.0, use self.wv.__getitem__() instead).\n",
      "  sentence_embeddings=[[w2v[word][0] for word in words] for words in sentence_tokens]\n",
      "<ipython-input-98-37689534effe>:3: DeprecationWarning: Call to deprecated `__getitem__` (Method will be removed in 4.0.0, use self.wv.__getitem__() instead).\n",
      "  sentence_embeddings=[[w2v[word][0] for word in words] for words in sentence_tokens]\n",
      "<ipython-input-98-37689534effe>:3: DeprecationWarning: Call to deprecated `__getitem__` (Method will be removed in 4.0.0, use self.wv.__getitem__() instead).\n",
      "  sentence_embeddings=[[w2v[word][0] for word in words] for words in sentence_tokens]\n",
      "<ipython-input-98-37689534effe>:3: DeprecationWarning: Call to deprecated `__getitem__` (Method will be removed in 4.0.0, use self.wv.__getitem__() instead).\n",
      "  sentence_embeddings=[[w2v[word][0] for word in words] for words in sentence_tokens]\n",
      "<ipython-input-98-37689534effe>:3: DeprecationWarning: Call to deprecated `__getitem__` (Method will be removed in 4.0.0, use self.wv.__getitem__() instead).\n",
      "  sentence_embeddings=[[w2v[word][0] for word in words] for words in sentence_tokens]\n",
      "<ipython-input-98-37689534effe>:3: DeprecationWarning: Call to deprecated `__getitem__` (Method will be removed in 4.0.0, use self.wv.__getitem__() instead).\n",
      "  sentence_embeddings=[[w2v[word][0] for word in words] for words in sentence_tokens]\n",
      "<ipython-input-98-37689534effe>:3: DeprecationWarning: Call to deprecated `__getitem__` (Method will be removed in 4.0.0, use self.wv.__getitem__() instead).\n",
      "  sentence_embeddings=[[w2v[word][0] for word in words] for words in sentence_tokens]\n",
      "<ipython-input-98-37689534effe>:3: DeprecationWarning: Call to deprecated `__getitem__` (Method will be removed in 4.0.0, use self.wv.__getitem__() instead).\n",
      "  sentence_embeddings=[[w2v[word][0] for word in words] for words in sentence_tokens]\n",
      "<ipython-input-98-37689534effe>:3: DeprecationWarning: Call to deprecated `__getitem__` (Method will be removed in 4.0.0, use self.wv.__getitem__() instead).\n",
      "  sentence_embeddings=[[w2v[word][0] for word in words] for words in sentence_tokens]\n",
      "<ipython-input-98-37689534effe>:3: DeprecationWarning: Call to deprecated `__getitem__` (Method will be removed in 4.0.0, use self.wv.__getitem__() instead).\n",
      "  sentence_embeddings=[[w2v[word][0] for word in words] for words in sentence_tokens]\n",
      "<ipython-input-98-37689534effe>:3: DeprecationWarning: Call to deprecated `__getitem__` (Method will be removed in 4.0.0, use self.wv.__getitem__() instead).\n",
      "  sentence_embeddings=[[w2v[word][0] for word in words] for words in sentence_tokens]\n",
      "<ipython-input-98-37689534effe>:3: DeprecationWarning: Call to deprecated `__getitem__` (Method will be removed in 4.0.0, use self.wv.__getitem__() instead).\n",
      "  sentence_embeddings=[[w2v[word][0] for word in words] for words in sentence_tokens]\n",
      "<ipython-input-98-37689534effe>:3: DeprecationWarning: Call to deprecated `__getitem__` (Method will be removed in 4.0.0, use self.wv.__getitem__() instead).\n",
      "  sentence_embeddings=[[w2v[word][0] for word in words] for words in sentence_tokens]\n",
      "<ipython-input-98-37689534effe>:3: DeprecationWarning: Call to deprecated `__getitem__` (Method will be removed in 4.0.0, use self.wv.__getitem__() instead).\n",
      "  sentence_embeddings=[[w2v[word][0] for word in words] for words in sentence_tokens]\n",
      "<ipython-input-98-37689534effe>:3: DeprecationWarning: Call to deprecated `__getitem__` (Method will be removed in 4.0.0, use self.wv.__getitem__() instead).\n",
      "  sentence_embeddings=[[w2v[word][0] for word in words] for words in sentence_tokens]\n",
      "<ipython-input-98-37689534effe>:3: DeprecationWarning: Call to deprecated `__getitem__` (Method will be removed in 4.0.0, use self.wv.__getitem__() instead).\n",
      "  sentence_embeddings=[[w2v[word][0] for word in words] for words in sentence_tokens]\n",
      "<ipython-input-98-37689534effe>:3: DeprecationWarning: Call to deprecated `__getitem__` (Method will be removed in 4.0.0, use self.wv.__getitem__() instead).\n",
      "  sentence_embeddings=[[w2v[word][0] for word in words] for words in sentence_tokens]\n",
      "<ipython-input-98-37689534effe>:3: DeprecationWarning: Call to deprecated `__getitem__` (Method will be removed in 4.0.0, use self.wv.__getitem__() instead).\n",
      "  sentence_embeddings=[[w2v[word][0] for word in words] for words in sentence_tokens]\n",
      "<ipython-input-98-37689534effe>:3: DeprecationWarning: Call to deprecated `__getitem__` (Method will be removed in 4.0.0, use self.wv.__getitem__() instead).\n",
      "  sentence_embeddings=[[w2v[word][0] for word in words] for words in sentence_tokens]\n",
      "<ipython-input-98-37689534effe>:3: DeprecationWarning: Call to deprecated `__getitem__` (Method will be removed in 4.0.0, use self.wv.__getitem__() instead).\n",
      "  sentence_embeddings=[[w2v[word][0] for word in words] for words in sentence_tokens]\n",
      "<ipython-input-98-37689534effe>:3: DeprecationWarning: Call to deprecated `__getitem__` (Method will be removed in 4.0.0, use self.wv.__getitem__() instead).\n",
      "  sentence_embeddings=[[w2v[word][0] for word in words] for words in sentence_tokens]\n",
      "<ipython-input-98-37689534effe>:3: DeprecationWarning: Call to deprecated `__getitem__` (Method will be removed in 4.0.0, use self.wv.__getitem__() instead).\n",
      "  sentence_embeddings=[[w2v[word][0] for word in words] for words in sentence_tokens]\n",
      "<ipython-input-98-37689534effe>:3: DeprecationWarning: Call to deprecated `__getitem__` (Method will be removed in 4.0.0, use self.wv.__getitem__() instead).\n",
      "  sentence_embeddings=[[w2v[word][0] for word in words] for words in sentence_tokens]\n",
      "<ipython-input-98-37689534effe>:3: DeprecationWarning: Call to deprecated `__getitem__` (Method will be removed in 4.0.0, use self.wv.__getitem__() instead).\n",
      "  sentence_embeddings=[[w2v[word][0] for word in words] for words in sentence_tokens]\n",
      "<ipython-input-98-37689534effe>:3: DeprecationWarning: Call to deprecated `__getitem__` (Method will be removed in 4.0.0, use self.wv.__getitem__() instead).\n",
      "  sentence_embeddings=[[w2v[word][0] for word in words] for words in sentence_tokens]\n",
      "<ipython-input-98-37689534effe>:3: DeprecationWarning: Call to deprecated `__getitem__` (Method will be removed in 4.0.0, use self.wv.__getitem__() instead).\n",
      "  sentence_embeddings=[[w2v[word][0] for word in words] for words in sentence_tokens]\n",
      "<ipython-input-98-37689534effe>:3: DeprecationWarning: Call to deprecated `__getitem__` (Method will be removed in 4.0.0, use self.wv.__getitem__() instead).\n",
      "  sentence_embeddings=[[w2v[word][0] for word in words] for words in sentence_tokens]\n",
      "<ipython-input-98-37689534effe>:3: DeprecationWarning: Call to deprecated `__getitem__` (Method will be removed in 4.0.0, use self.wv.__getitem__() instead).\n",
      "  sentence_embeddings=[[w2v[word][0] for word in words] for words in sentence_tokens]\n",
      "<ipython-input-98-37689534effe>:3: DeprecationWarning: Call to deprecated `__getitem__` (Method will be removed in 4.0.0, use self.wv.__getitem__() instead).\n",
      "  sentence_embeddings=[[w2v[word][0] for word in words] for words in sentence_tokens]\n",
      "<ipython-input-98-37689534effe>:3: DeprecationWarning: Call to deprecated `__getitem__` (Method will be removed in 4.0.0, use self.wv.__getitem__() instead).\n",
      "  sentence_embeddings=[[w2v[word][0] for word in words] for words in sentence_tokens]\n",
      "<ipython-input-98-37689534effe>:3: DeprecationWarning: Call to deprecated `__getitem__` (Method will be removed in 4.0.0, use self.wv.__getitem__() instead).\n",
      "  sentence_embeddings=[[w2v[word][0] for word in words] for words in sentence_tokens]\n",
      "<ipython-input-98-37689534effe>:3: DeprecationWarning: Call to deprecated `__getitem__` (Method will be removed in 4.0.0, use self.wv.__getitem__() instead).\n",
      "  sentence_embeddings=[[w2v[word][0] for word in words] for words in sentence_tokens]\n",
      "<ipython-input-98-37689534effe>:3: DeprecationWarning: Call to deprecated `__getitem__` (Method will be removed in 4.0.0, use self.wv.__getitem__() instead).\n",
      "  sentence_embeddings=[[w2v[word][0] for word in words] for words in sentence_tokens]\n",
      "<ipython-input-98-37689534effe>:3: DeprecationWarning: Call to deprecated `__getitem__` (Method will be removed in 4.0.0, use self.wv.__getitem__() instead).\n",
      "  sentence_embeddings=[[w2v[word][0] for word in words] for words in sentence_tokens]\n",
      "<ipython-input-98-37689534effe>:3: DeprecationWarning: Call to deprecated `__getitem__` (Method will be removed in 4.0.0, use self.wv.__getitem__() instead).\n",
      "  sentence_embeddings=[[w2v[word][0] for word in words] for words in sentence_tokens]\n",
      "<ipython-input-98-37689534effe>:3: DeprecationWarning: Call to deprecated `__getitem__` (Method will be removed in 4.0.0, use self.wv.__getitem__() instead).\n",
      "  sentence_embeddings=[[w2v[word][0] for word in words] for words in sentence_tokens]\n",
      "<ipython-input-98-37689534effe>:3: DeprecationWarning: Call to deprecated `__getitem__` (Method will be removed in 4.0.0, use self.wv.__getitem__() instead).\n",
      "  sentence_embeddings=[[w2v[word][0] for word in words] for words in sentence_tokens]\n",
      "<ipython-input-98-37689534effe>:3: DeprecationWarning: Call to deprecated `__getitem__` (Method will be removed in 4.0.0, use self.wv.__getitem__() instead).\n",
      "  sentence_embeddings=[[w2v[word][0] for word in words] for words in sentence_tokens]\n",
      "<ipython-input-98-37689534effe>:3: DeprecationWarning: Call to deprecated `__getitem__` (Method will be removed in 4.0.0, use self.wv.__getitem__() instead).\n",
      "  sentence_embeddings=[[w2v[word][0] for word in words] for words in sentence_tokens]\n",
      "<ipython-input-98-37689534effe>:3: DeprecationWarning: Call to deprecated `__getitem__` (Method will be removed in 4.0.0, use self.wv.__getitem__() instead).\n",
      "  sentence_embeddings=[[w2v[word][0] for word in words] for words in sentence_tokens]\n",
      "<ipython-input-98-37689534effe>:3: DeprecationWarning: Call to deprecated `__getitem__` (Method will be removed in 4.0.0, use self.wv.__getitem__() instead).\n",
      "  sentence_embeddings=[[w2v[word][0] for word in words] for words in sentence_tokens]\n",
      "<ipython-input-98-37689534effe>:3: DeprecationWarning: Call to deprecated `__getitem__` (Method will be removed in 4.0.0, use self.wv.__getitem__() instead).\n",
      "  sentence_embeddings=[[w2v[word][0] for word in words] for words in sentence_tokens]\n",
      "<ipython-input-98-37689534effe>:3: DeprecationWarning: Call to deprecated `__getitem__` (Method will be removed in 4.0.0, use self.wv.__getitem__() instead).\n",
      "  sentence_embeddings=[[w2v[word][0] for word in words] for words in sentence_tokens]\n",
      "<ipython-input-98-37689534effe>:3: DeprecationWarning: Call to deprecated `__getitem__` (Method will be removed in 4.0.0, use self.wv.__getitem__() instead).\n",
      "  sentence_embeddings=[[w2v[word][0] for word in words] for words in sentence_tokens]\n",
      "<ipython-input-98-37689534effe>:3: DeprecationWarning: Call to deprecated `__getitem__` (Method will be removed in 4.0.0, use self.wv.__getitem__() instead).\n",
      "  sentence_embeddings=[[w2v[word][0] for word in words] for words in sentence_tokens]\n",
      "<ipython-input-98-37689534effe>:3: DeprecationWarning: Call to deprecated `__getitem__` (Method will be removed in 4.0.0, use self.wv.__getitem__() instead).\n",
      "  sentence_embeddings=[[w2v[word][0] for word in words] for words in sentence_tokens]\n",
      "<ipython-input-98-37689534effe>:3: DeprecationWarning: Call to deprecated `__getitem__` (Method will be removed in 4.0.0, use self.wv.__getitem__() instead).\n",
      "  sentence_embeddings=[[w2v[word][0] for word in words] for words in sentence_tokens]\n",
      "<ipython-input-98-37689534effe>:3: DeprecationWarning: Call to deprecated `__getitem__` (Method will be removed in 4.0.0, use self.wv.__getitem__() instead).\n",
      "  sentence_embeddings=[[w2v[word][0] for word in words] for words in sentence_tokens]\n",
      "<ipython-input-98-37689534effe>:3: DeprecationWarning: Call to deprecated `__getitem__` (Method will be removed in 4.0.0, use self.wv.__getitem__() instead).\n",
      "  sentence_embeddings=[[w2v[word][0] for word in words] for words in sentence_tokens]\n",
      "<ipython-input-98-37689534effe>:3: DeprecationWarning: Call to deprecated `__getitem__` (Method will be removed in 4.0.0, use self.wv.__getitem__() instead).\n",
      "  sentence_embeddings=[[w2v[word][0] for word in words] for words in sentence_tokens]\n",
      "<ipython-input-98-37689534effe>:3: DeprecationWarning: Call to deprecated `__getitem__` (Method will be removed in 4.0.0, use self.wv.__getitem__() instead).\n",
      "  sentence_embeddings=[[w2v[word][0] for word in words] for words in sentence_tokens]\n",
      "<ipython-input-98-37689534effe>:3: DeprecationWarning: Call to deprecated `__getitem__` (Method will be removed in 4.0.0, use self.wv.__getitem__() instead).\n",
      "  sentence_embeddings=[[w2v[word][0] for word in words] for words in sentence_tokens]\n",
      "<ipython-input-98-37689534effe>:3: DeprecationWarning: Call to deprecated `__getitem__` (Method will be removed in 4.0.0, use self.wv.__getitem__() instead).\n",
      "  sentence_embeddings=[[w2v[word][0] for word in words] for words in sentence_tokens]\n",
      "<ipython-input-98-37689534effe>:3: DeprecationWarning: Call to deprecated `__getitem__` (Method will be removed in 4.0.0, use self.wv.__getitem__() instead).\n",
      "  sentence_embeddings=[[w2v[word][0] for word in words] for words in sentence_tokens]\n",
      "<ipython-input-98-37689534effe>:3: DeprecationWarning: Call to deprecated `__getitem__` (Method will be removed in 4.0.0, use self.wv.__getitem__() instead).\n",
      "  sentence_embeddings=[[w2v[word][0] for word in words] for words in sentence_tokens]\n",
      "<ipython-input-98-37689534effe>:3: DeprecationWarning: Call to deprecated `__getitem__` (Method will be removed in 4.0.0, use self.wv.__getitem__() instead).\n",
      "  sentence_embeddings=[[w2v[word][0] for word in words] for words in sentence_tokens]\n",
      "<ipython-input-98-37689534effe>:3: DeprecationWarning: Call to deprecated `__getitem__` (Method will be removed in 4.0.0, use self.wv.__getitem__() instead).\n",
      "  sentence_embeddings=[[w2v[word][0] for word in words] for words in sentence_tokens]\n",
      "<ipython-input-98-37689534effe>:3: DeprecationWarning: Call to deprecated `__getitem__` (Method will be removed in 4.0.0, use self.wv.__getitem__() instead).\n",
      "  sentence_embeddings=[[w2v[word][0] for word in words] for words in sentence_tokens]\n",
      "<ipython-input-98-37689534effe>:3: DeprecationWarning: Call to deprecated `__getitem__` (Method will be removed in 4.0.0, use self.wv.__getitem__() instead).\n",
      "  sentence_embeddings=[[w2v[word][0] for word in words] for words in sentence_tokens]\n",
      "<ipython-input-98-37689534effe>:3: DeprecationWarning: Call to deprecated `__getitem__` (Method will be removed in 4.0.0, use self.wv.__getitem__() instead).\n",
      "  sentence_embeddings=[[w2v[word][0] for word in words] for words in sentence_tokens]\n",
      "<ipython-input-98-37689534effe>:3: DeprecationWarning: Call to deprecated `__getitem__` (Method will be removed in 4.0.0, use self.wv.__getitem__() instead).\n",
      "  sentence_embeddings=[[w2v[word][0] for word in words] for words in sentence_tokens]\n",
      "<ipython-input-98-37689534effe>:3: DeprecationWarning: Call to deprecated `__getitem__` (Method will be removed in 4.0.0, use self.wv.__getitem__() instead).\n",
      "  sentence_embeddings=[[w2v[word][0] for word in words] for words in sentence_tokens]\n",
      "<ipython-input-98-37689534effe>:3: DeprecationWarning: Call to deprecated `__getitem__` (Method will be removed in 4.0.0, use self.wv.__getitem__() instead).\n",
      "  sentence_embeddings=[[w2v[word][0] for word in words] for words in sentence_tokens]\n",
      "<ipython-input-98-37689534effe>:3: DeprecationWarning: Call to deprecated `__getitem__` (Method will be removed in 4.0.0, use self.wv.__getitem__() instead).\n",
      "  sentence_embeddings=[[w2v[word][0] for word in words] for words in sentence_tokens]\n",
      "<ipython-input-98-37689534effe>:3: DeprecationWarning: Call to deprecated `__getitem__` (Method will be removed in 4.0.0, use self.wv.__getitem__() instead).\n",
      "  sentence_embeddings=[[w2v[word][0] for word in words] for words in sentence_tokens]\n",
      "<ipython-input-98-37689534effe>:3: DeprecationWarning: Call to deprecated `__getitem__` (Method will be removed in 4.0.0, use self.wv.__getitem__() instead).\n",
      "  sentence_embeddings=[[w2v[word][0] for word in words] for words in sentence_tokens]\n",
      "<ipython-input-98-37689534effe>:3: DeprecationWarning: Call to deprecated `__getitem__` (Method will be removed in 4.0.0, use self.wv.__getitem__() instead).\n",
      "  sentence_embeddings=[[w2v[word][0] for word in words] for words in sentence_tokens]\n",
      "<ipython-input-98-37689534effe>:3: DeprecationWarning: Call to deprecated `__getitem__` (Method will be removed in 4.0.0, use self.wv.__getitem__() instead).\n",
      "  sentence_embeddings=[[w2v[word][0] for word in words] for words in sentence_tokens]\n",
      "<ipython-input-98-37689534effe>:3: DeprecationWarning: Call to deprecated `__getitem__` (Method will be removed in 4.0.0, use self.wv.__getitem__() instead).\n",
      "  sentence_embeddings=[[w2v[word][0] for word in words] for words in sentence_tokens]\n",
      "<ipython-input-98-37689534effe>:3: DeprecationWarning: Call to deprecated `__getitem__` (Method will be removed in 4.0.0, use self.wv.__getitem__() instead).\n",
      "  sentence_embeddings=[[w2v[word][0] for word in words] for words in sentence_tokens]\n",
      "<ipython-input-98-37689534effe>:3: DeprecationWarning: Call to deprecated `__getitem__` (Method will be removed in 4.0.0, use self.wv.__getitem__() instead).\n",
      "  sentence_embeddings=[[w2v[word][0] for word in words] for words in sentence_tokens]\n",
      "<ipython-input-98-37689534effe>:3: DeprecationWarning: Call to deprecated `__getitem__` (Method will be removed in 4.0.0, use self.wv.__getitem__() instead).\n",
      "  sentence_embeddings=[[w2v[word][0] for word in words] for words in sentence_tokens]\n",
      "<ipython-input-98-37689534effe>:3: DeprecationWarning: Call to deprecated `__getitem__` (Method will be removed in 4.0.0, use self.wv.__getitem__() instead).\n",
      "  sentence_embeddings=[[w2v[word][0] for word in words] for words in sentence_tokens]\n",
      "<ipython-input-98-37689534effe>:3: DeprecationWarning: Call to deprecated `__getitem__` (Method will be removed in 4.0.0, use self.wv.__getitem__() instead).\n",
      "  sentence_embeddings=[[w2v[word][0] for word in words] for words in sentence_tokens]\n",
      "<ipython-input-98-37689534effe>:3: DeprecationWarning: Call to deprecated `__getitem__` (Method will be removed in 4.0.0, use self.wv.__getitem__() instead).\n",
      "  sentence_embeddings=[[w2v[word][0] for word in words] for words in sentence_tokens]\n",
      "<ipython-input-98-37689534effe>:3: DeprecationWarning: Call to deprecated `__getitem__` (Method will be removed in 4.0.0, use self.wv.__getitem__() instead).\n",
      "  sentence_embeddings=[[w2v[word][0] for word in words] for words in sentence_tokens]\n",
      "<ipython-input-98-37689534effe>:3: DeprecationWarning: Call to deprecated `__getitem__` (Method will be removed in 4.0.0, use self.wv.__getitem__() instead).\n",
      "  sentence_embeddings=[[w2v[word][0] for word in words] for words in sentence_tokens]\n",
      "<ipython-input-98-37689534effe>:3: DeprecationWarning: Call to deprecated `__getitem__` (Method will be removed in 4.0.0, use self.wv.__getitem__() instead).\n",
      "  sentence_embeddings=[[w2v[word][0] for word in words] for words in sentence_tokens]\n",
      "<ipython-input-98-37689534effe>:3: DeprecationWarning: Call to deprecated `__getitem__` (Method will be removed in 4.0.0, use self.wv.__getitem__() instead).\n",
      "  sentence_embeddings=[[w2v[word][0] for word in words] for words in sentence_tokens]\n",
      "<ipython-input-98-37689534effe>:3: DeprecationWarning: Call to deprecated `__getitem__` (Method will be removed in 4.0.0, use self.wv.__getitem__() instead).\n",
      "  sentence_embeddings=[[w2v[word][0] for word in words] for words in sentence_tokens]\n",
      "<ipython-input-98-37689534effe>:3: DeprecationWarning: Call to deprecated `__getitem__` (Method will be removed in 4.0.0, use self.wv.__getitem__() instead).\n",
      "  sentence_embeddings=[[w2v[word][0] for word in words] for words in sentence_tokens]\n",
      "<ipython-input-98-37689534effe>:3: DeprecationWarning: Call to deprecated `__getitem__` (Method will be removed in 4.0.0, use self.wv.__getitem__() instead).\n",
      "  sentence_embeddings=[[w2v[word][0] for word in words] for words in sentence_tokens]\n",
      "<ipython-input-98-37689534effe>:3: DeprecationWarning: Call to deprecated `__getitem__` (Method will be removed in 4.0.0, use self.wv.__getitem__() instead).\n",
      "  sentence_embeddings=[[w2v[word][0] for word in words] for words in sentence_tokens]\n",
      "<ipython-input-98-37689534effe>:3: DeprecationWarning: Call to deprecated `__getitem__` (Method will be removed in 4.0.0, use self.wv.__getitem__() instead).\n",
      "  sentence_embeddings=[[w2v[word][0] for word in words] for words in sentence_tokens]\n",
      "<ipython-input-98-37689534effe>:3: DeprecationWarning: Call to deprecated `__getitem__` (Method will be removed in 4.0.0, use self.wv.__getitem__() instead).\n",
      "  sentence_embeddings=[[w2v[word][0] for word in words] for words in sentence_tokens]\n",
      "<ipython-input-98-37689534effe>:3: DeprecationWarning: Call to deprecated `__getitem__` (Method will be removed in 4.0.0, use self.wv.__getitem__() instead).\n",
      "  sentence_embeddings=[[w2v[word][0] for word in words] for words in sentence_tokens]\n",
      "<ipython-input-98-37689534effe>:3: DeprecationWarning: Call to deprecated `__getitem__` (Method will be removed in 4.0.0, use self.wv.__getitem__() instead).\n",
      "  sentence_embeddings=[[w2v[word][0] for word in words] for words in sentence_tokens]\n",
      "<ipython-input-98-37689534effe>:3: DeprecationWarning: Call to deprecated `__getitem__` (Method will be removed in 4.0.0, use self.wv.__getitem__() instead).\n",
      "  sentence_embeddings=[[w2v[word][0] for word in words] for words in sentence_tokens]\n",
      "<ipython-input-98-37689534effe>:3: DeprecationWarning: Call to deprecated `__getitem__` (Method will be removed in 4.0.0, use self.wv.__getitem__() instead).\n",
      "  sentence_embeddings=[[w2v[word][0] for word in words] for words in sentence_tokens]\n",
      "<ipython-input-98-37689534effe>:3: DeprecationWarning: Call to deprecated `__getitem__` (Method will be removed in 4.0.0, use self.wv.__getitem__() instead).\n",
      "  sentence_embeddings=[[w2v[word][0] for word in words] for words in sentence_tokens]\n",
      "<ipython-input-98-37689534effe>:3: DeprecationWarning: Call to deprecated `__getitem__` (Method will be removed in 4.0.0, use self.wv.__getitem__() instead).\n",
      "  sentence_embeddings=[[w2v[word][0] for word in words] for words in sentence_tokens]\n",
      "<ipython-input-98-37689534effe>:3: DeprecationWarning: Call to deprecated `__getitem__` (Method will be removed in 4.0.0, use self.wv.__getitem__() instead).\n",
      "  sentence_embeddings=[[w2v[word][0] for word in words] for words in sentence_tokens]\n",
      "<ipython-input-98-37689534effe>:3: DeprecationWarning: Call to deprecated `__getitem__` (Method will be removed in 4.0.0, use self.wv.__getitem__() instead).\n",
      "  sentence_embeddings=[[w2v[word][0] for word in words] for words in sentence_tokens]\n",
      "<ipython-input-98-37689534effe>:3: DeprecationWarning: Call to deprecated `__getitem__` (Method will be removed in 4.0.0, use self.wv.__getitem__() instead).\n",
      "  sentence_embeddings=[[w2v[word][0] for word in words] for words in sentence_tokens]\n",
      "<ipython-input-98-37689534effe>:3: DeprecationWarning: Call to deprecated `__getitem__` (Method will be removed in 4.0.0, use self.wv.__getitem__() instead).\n",
      "  sentence_embeddings=[[w2v[word][0] for word in words] for words in sentence_tokens]\n",
      "<ipython-input-98-37689534effe>:3: DeprecationWarning: Call to deprecated `__getitem__` (Method will be removed in 4.0.0, use self.wv.__getitem__() instead).\n",
      "  sentence_embeddings=[[w2v[word][0] for word in words] for words in sentence_tokens]\n",
      "<ipython-input-98-37689534effe>:3: DeprecationWarning: Call to deprecated `__getitem__` (Method will be removed in 4.0.0, use self.wv.__getitem__() instead).\n",
      "  sentence_embeddings=[[w2v[word][0] for word in words] for words in sentence_tokens]\n",
      "<ipython-input-98-37689534effe>:3: DeprecationWarning: Call to deprecated `__getitem__` (Method will be removed in 4.0.0, use self.wv.__getitem__() instead).\n",
      "  sentence_embeddings=[[w2v[word][0] for word in words] for words in sentence_tokens]\n",
      "<ipython-input-98-37689534effe>:3: DeprecationWarning: Call to deprecated `__getitem__` (Method will be removed in 4.0.0, use self.wv.__getitem__() instead).\n",
      "  sentence_embeddings=[[w2v[word][0] for word in words] for words in sentence_tokens]\n",
      "<ipython-input-98-37689534effe>:3: DeprecationWarning: Call to deprecated `__getitem__` (Method will be removed in 4.0.0, use self.wv.__getitem__() instead).\n",
      "  sentence_embeddings=[[w2v[word][0] for word in words] for words in sentence_tokens]\n",
      "<ipython-input-98-37689534effe>:3: DeprecationWarning: Call to deprecated `__getitem__` (Method will be removed in 4.0.0, use self.wv.__getitem__() instead).\n",
      "  sentence_embeddings=[[w2v[word][0] for word in words] for words in sentence_tokens]\n",
      "<ipython-input-98-37689534effe>:3: DeprecationWarning: Call to deprecated `__getitem__` (Method will be removed in 4.0.0, use self.wv.__getitem__() instead).\n",
      "  sentence_embeddings=[[w2v[word][0] for word in words] for words in sentence_tokens]\n",
      "<ipython-input-98-37689534effe>:3: DeprecationWarning: Call to deprecated `__getitem__` (Method will be removed in 4.0.0, use self.wv.__getitem__() instead).\n",
      "  sentence_embeddings=[[w2v[word][0] for word in words] for words in sentence_tokens]\n",
      "<ipython-input-98-37689534effe>:3: DeprecationWarning: Call to deprecated `__getitem__` (Method will be removed in 4.0.0, use self.wv.__getitem__() instead).\n",
      "  sentence_embeddings=[[w2v[word][0] for word in words] for words in sentence_tokens]\n",
      "<ipython-input-98-37689534effe>:3: DeprecationWarning: Call to deprecated `__getitem__` (Method will be removed in 4.0.0, use self.wv.__getitem__() instead).\n",
      "  sentence_embeddings=[[w2v[word][0] for word in words] for words in sentence_tokens]\n",
      "<ipython-input-98-37689534effe>:3: DeprecationWarning: Call to deprecated `__getitem__` (Method will be removed in 4.0.0, use self.wv.__getitem__() instead).\n",
      "  sentence_embeddings=[[w2v[word][0] for word in words] for words in sentence_tokens]\n",
      "<ipython-input-98-37689534effe>:3: DeprecationWarning: Call to deprecated `__getitem__` (Method will be removed in 4.0.0, use self.wv.__getitem__() instead).\n",
      "  sentence_embeddings=[[w2v[word][0] for word in words] for words in sentence_tokens]\n",
      "<ipython-input-98-37689534effe>:3: DeprecationWarning: Call to deprecated `__getitem__` (Method will be removed in 4.0.0, use self.wv.__getitem__() instead).\n",
      "  sentence_embeddings=[[w2v[word][0] for word in words] for words in sentence_tokens]\n",
      "<ipython-input-98-37689534effe>:3: DeprecationWarning: Call to deprecated `__getitem__` (Method will be removed in 4.0.0, use self.wv.__getitem__() instead).\n",
      "  sentence_embeddings=[[w2v[word][0] for word in words] for words in sentence_tokens]\n",
      "<ipython-input-98-37689534effe>:3: DeprecationWarning: Call to deprecated `__getitem__` (Method will be removed in 4.0.0, use self.wv.__getitem__() instead).\n",
      "  sentence_embeddings=[[w2v[word][0] for word in words] for words in sentence_tokens]\n",
      "<ipython-input-98-37689534effe>:3: DeprecationWarning: Call to deprecated `__getitem__` (Method will be removed in 4.0.0, use self.wv.__getitem__() instead).\n",
      "  sentence_embeddings=[[w2v[word][0] for word in words] for words in sentence_tokens]\n",
      "<ipython-input-98-37689534effe>:3: DeprecationWarning: Call to deprecated `__getitem__` (Method will be removed in 4.0.0, use self.wv.__getitem__() instead).\n",
      "  sentence_embeddings=[[w2v[word][0] for word in words] for words in sentence_tokens]\n",
      "<ipython-input-98-37689534effe>:3: DeprecationWarning: Call to deprecated `__getitem__` (Method will be removed in 4.0.0, use self.wv.__getitem__() instead).\n",
      "  sentence_embeddings=[[w2v[word][0] for word in words] for words in sentence_tokens]\n",
      "<ipython-input-98-37689534effe>:3: DeprecationWarning: Call to deprecated `__getitem__` (Method will be removed in 4.0.0, use self.wv.__getitem__() instead).\n",
      "  sentence_embeddings=[[w2v[word][0] for word in words] for words in sentence_tokens]\n",
      "<ipython-input-98-37689534effe>:3: DeprecationWarning: Call to deprecated `__getitem__` (Method will be removed in 4.0.0, use self.wv.__getitem__() instead).\n",
      "  sentence_embeddings=[[w2v[word][0] for word in words] for words in sentence_tokens]\n",
      "<ipython-input-98-37689534effe>:3: DeprecationWarning: Call to deprecated `__getitem__` (Method will be removed in 4.0.0, use self.wv.__getitem__() instead).\n",
      "  sentence_embeddings=[[w2v[word][0] for word in words] for words in sentence_tokens]\n",
      "<ipython-input-98-37689534effe>:3: DeprecationWarning: Call to deprecated `__getitem__` (Method will be removed in 4.0.0, use self.wv.__getitem__() instead).\n",
      "  sentence_embeddings=[[w2v[word][0] for word in words] for words in sentence_tokens]\n",
      "<ipython-input-98-37689534effe>:3: DeprecationWarning: Call to deprecated `__getitem__` (Method will be removed in 4.0.0, use self.wv.__getitem__() instead).\n",
      "  sentence_embeddings=[[w2v[word][0] for word in words] for words in sentence_tokens]\n",
      "<ipython-input-98-37689534effe>:3: DeprecationWarning: Call to deprecated `__getitem__` (Method will be removed in 4.0.0, use self.wv.__getitem__() instead).\n",
      "  sentence_embeddings=[[w2v[word][0] for word in words] for words in sentence_tokens]\n",
      "<ipython-input-98-37689534effe>:3: DeprecationWarning: Call to deprecated `__getitem__` (Method will be removed in 4.0.0, use self.wv.__getitem__() instead).\n",
      "  sentence_embeddings=[[w2v[word][0] for word in words] for words in sentence_tokens]\n",
      "<ipython-input-98-37689534effe>:3: DeprecationWarning: Call to deprecated `__getitem__` (Method will be removed in 4.0.0, use self.wv.__getitem__() instead).\n",
      "  sentence_embeddings=[[w2v[word][0] for word in words] for words in sentence_tokens]\n",
      "<ipython-input-98-37689534effe>:3: DeprecationWarning: Call to deprecated `__getitem__` (Method will be removed in 4.0.0, use self.wv.__getitem__() instead).\n",
      "  sentence_embeddings=[[w2v[word][0] for word in words] for words in sentence_tokens]\n",
      "<ipython-input-98-37689534effe>:3: DeprecationWarning: Call to deprecated `__getitem__` (Method will be removed in 4.0.0, use self.wv.__getitem__() instead).\n",
      "  sentence_embeddings=[[w2v[word][0] for word in words] for words in sentence_tokens]\n",
      "<ipython-input-98-37689534effe>:3: DeprecationWarning: Call to deprecated `__getitem__` (Method will be removed in 4.0.0, use self.wv.__getitem__() instead).\n",
      "  sentence_embeddings=[[w2v[word][0] for word in words] for words in sentence_tokens]\n",
      "<ipython-input-98-37689534effe>:3: DeprecationWarning: Call to deprecated `__getitem__` (Method will be removed in 4.0.0, use self.wv.__getitem__() instead).\n",
      "  sentence_embeddings=[[w2v[word][0] for word in words] for words in sentence_tokens]\n",
      "<ipython-input-98-37689534effe>:3: DeprecationWarning: Call to deprecated `__getitem__` (Method will be removed in 4.0.0, use self.wv.__getitem__() instead).\n",
      "  sentence_embeddings=[[w2v[word][0] for word in words] for words in sentence_tokens]\n",
      "<ipython-input-98-37689534effe>:3: DeprecationWarning: Call to deprecated `__getitem__` (Method will be removed in 4.0.0, use self.wv.__getitem__() instead).\n",
      "  sentence_embeddings=[[w2v[word][0] for word in words] for words in sentence_tokens]\n",
      "<ipython-input-98-37689534effe>:3: DeprecationWarning: Call to deprecated `__getitem__` (Method will be removed in 4.0.0, use self.wv.__getitem__() instead).\n",
      "  sentence_embeddings=[[w2v[word][0] for word in words] for words in sentence_tokens]\n",
      "<ipython-input-98-37689534effe>:3: DeprecationWarning: Call to deprecated `__getitem__` (Method will be removed in 4.0.0, use self.wv.__getitem__() instead).\n",
      "  sentence_embeddings=[[w2v[word][0] for word in words] for words in sentence_tokens]\n",
      "<ipython-input-98-37689534effe>:3: DeprecationWarning: Call to deprecated `__getitem__` (Method will be removed in 4.0.0, use self.wv.__getitem__() instead).\n",
      "  sentence_embeddings=[[w2v[word][0] for word in words] for words in sentence_tokens]\n",
      "<ipython-input-98-37689534effe>:3: DeprecationWarning: Call to deprecated `__getitem__` (Method will be removed in 4.0.0, use self.wv.__getitem__() instead).\n",
      "  sentence_embeddings=[[w2v[word][0] for word in words] for words in sentence_tokens]\n",
      "<ipython-input-98-37689534effe>:3: DeprecationWarning: Call to deprecated `__getitem__` (Method will be removed in 4.0.0, use self.wv.__getitem__() instead).\n",
      "  sentence_embeddings=[[w2v[word][0] for word in words] for words in sentence_tokens]\n",
      "<ipython-input-98-37689534effe>:3: DeprecationWarning: Call to deprecated `__getitem__` (Method will be removed in 4.0.0, use self.wv.__getitem__() instead).\n",
      "  sentence_embeddings=[[w2v[word][0] for word in words] for words in sentence_tokens]\n",
      "<ipython-input-98-37689534effe>:3: DeprecationWarning: Call to deprecated `__getitem__` (Method will be removed in 4.0.0, use self.wv.__getitem__() instead).\n",
      "  sentence_embeddings=[[w2v[word][0] for word in words] for words in sentence_tokens]\n",
      "<ipython-input-98-37689534effe>:3: DeprecationWarning: Call to deprecated `__getitem__` (Method will be removed in 4.0.0, use self.wv.__getitem__() instead).\n",
      "  sentence_embeddings=[[w2v[word][0] for word in words] for words in sentence_tokens]\n",
      "<ipython-input-98-37689534effe>:3: DeprecationWarning: Call to deprecated `__getitem__` (Method will be removed in 4.0.0, use self.wv.__getitem__() instead).\n",
      "  sentence_embeddings=[[w2v[word][0] for word in words] for words in sentence_tokens]\n",
      "<ipython-input-98-37689534effe>:3: DeprecationWarning: Call to deprecated `__getitem__` (Method will be removed in 4.0.0, use self.wv.__getitem__() instead).\n",
      "  sentence_embeddings=[[w2v[word][0] for word in words] for words in sentence_tokens]\n",
      "<ipython-input-98-37689534effe>:3: DeprecationWarning: Call to deprecated `__getitem__` (Method will be removed in 4.0.0, use self.wv.__getitem__() instead).\n",
      "  sentence_embeddings=[[w2v[word][0] for word in words] for words in sentence_tokens]\n",
      "<ipython-input-98-37689534effe>:3: DeprecationWarning: Call to deprecated `__getitem__` (Method will be removed in 4.0.0, use self.wv.__getitem__() instead).\n",
      "  sentence_embeddings=[[w2v[word][0] for word in words] for words in sentence_tokens]\n",
      "<ipython-input-98-37689534effe>:3: DeprecationWarning: Call to deprecated `__getitem__` (Method will be removed in 4.0.0, use self.wv.__getitem__() instead).\n",
      "  sentence_embeddings=[[w2v[word][0] for word in words] for words in sentence_tokens]\n",
      "<ipython-input-98-37689534effe>:3: DeprecationWarning: Call to deprecated `__getitem__` (Method will be removed in 4.0.0, use self.wv.__getitem__() instead).\n",
      "  sentence_embeddings=[[w2v[word][0] for word in words] for words in sentence_tokens]\n",
      "<ipython-input-98-37689534effe>:3: DeprecationWarning: Call to deprecated `__getitem__` (Method will be removed in 4.0.0, use self.wv.__getitem__() instead).\n",
      "  sentence_embeddings=[[w2v[word][0] for word in words] for words in sentence_tokens]\n",
      "<ipython-input-98-37689534effe>:3: DeprecationWarning: Call to deprecated `__getitem__` (Method will be removed in 4.0.0, use self.wv.__getitem__() instead).\n",
      "  sentence_embeddings=[[w2v[word][0] for word in words] for words in sentence_tokens]\n",
      "<ipython-input-98-37689534effe>:3: DeprecationWarning: Call to deprecated `__getitem__` (Method will be removed in 4.0.0, use self.wv.__getitem__() instead).\n",
      "  sentence_embeddings=[[w2v[word][0] for word in words] for words in sentence_tokens]\n",
      "<ipython-input-98-37689534effe>:3: DeprecationWarning: Call to deprecated `__getitem__` (Method will be removed in 4.0.0, use self.wv.__getitem__() instead).\n",
      "  sentence_embeddings=[[w2v[word][0] for word in words] for words in sentence_tokens]\n",
      "<ipython-input-98-37689534effe>:3: DeprecationWarning: Call to deprecated `__getitem__` (Method will be removed in 4.0.0, use self.wv.__getitem__() instead).\n",
      "  sentence_embeddings=[[w2v[word][0] for word in words] for words in sentence_tokens]\n",
      "<ipython-input-98-37689534effe>:3: DeprecationWarning: Call to deprecated `__getitem__` (Method will be removed in 4.0.0, use self.wv.__getitem__() instead).\n",
      "  sentence_embeddings=[[w2v[word][0] for word in words] for words in sentence_tokens]\n",
      "<ipython-input-98-37689534effe>:3: DeprecationWarning: Call to deprecated `__getitem__` (Method will be removed in 4.0.0, use self.wv.__getitem__() instead).\n",
      "  sentence_embeddings=[[w2v[word][0] for word in words] for words in sentence_tokens]\n",
      "<ipython-input-98-37689534effe>:3: DeprecationWarning: Call to deprecated `__getitem__` (Method will be removed in 4.0.0, use self.wv.__getitem__() instead).\n",
      "  sentence_embeddings=[[w2v[word][0] for word in words] for words in sentence_tokens]\n",
      "<ipython-input-98-37689534effe>:3: DeprecationWarning: Call to deprecated `__getitem__` (Method will be removed in 4.0.0, use self.wv.__getitem__() instead).\n",
      "  sentence_embeddings=[[w2v[word][0] for word in words] for words in sentence_tokens]\n",
      "<ipython-input-98-37689534effe>:3: DeprecationWarning: Call to deprecated `__getitem__` (Method will be removed in 4.0.0, use self.wv.__getitem__() instead).\n",
      "  sentence_embeddings=[[w2v[word][0] for word in words] for words in sentence_tokens]\n",
      "<ipython-input-98-37689534effe>:3: DeprecationWarning: Call to deprecated `__getitem__` (Method will be removed in 4.0.0, use self.wv.__getitem__() instead).\n",
      "  sentence_embeddings=[[w2v[word][0] for word in words] for words in sentence_tokens]\n",
      "<ipython-input-98-37689534effe>:3: DeprecationWarning: Call to deprecated `__getitem__` (Method will be removed in 4.0.0, use self.wv.__getitem__() instead).\n",
      "  sentence_embeddings=[[w2v[word][0] for word in words] for words in sentence_tokens]\n",
      "<ipython-input-98-37689534effe>:3: DeprecationWarning: Call to deprecated `__getitem__` (Method will be removed in 4.0.0, use self.wv.__getitem__() instead).\n",
      "  sentence_embeddings=[[w2v[word][0] for word in words] for words in sentence_tokens]\n",
      "<ipython-input-98-37689534effe>:3: DeprecationWarning: Call to deprecated `__getitem__` (Method will be removed in 4.0.0, use self.wv.__getitem__() instead).\n",
      "  sentence_embeddings=[[w2v[word][0] for word in words] for words in sentence_tokens]\n",
      "<ipython-input-98-37689534effe>:3: DeprecationWarning: Call to deprecated `__getitem__` (Method will be removed in 4.0.0, use self.wv.__getitem__() instead).\n",
      "  sentence_embeddings=[[w2v[word][0] for word in words] for words in sentence_tokens]\n",
      "<ipython-input-98-37689534effe>:3: DeprecationWarning: Call to deprecated `__getitem__` (Method will be removed in 4.0.0, use self.wv.__getitem__() instead).\n",
      "  sentence_embeddings=[[w2v[word][0] for word in words] for words in sentence_tokens]\n",
      "<ipython-input-98-37689534effe>:3: DeprecationWarning: Call to deprecated `__getitem__` (Method will be removed in 4.0.0, use self.wv.__getitem__() instead).\n",
      "  sentence_embeddings=[[w2v[word][0] for word in words] for words in sentence_tokens]\n",
      "<ipython-input-98-37689534effe>:3: DeprecationWarning: Call to deprecated `__getitem__` (Method will be removed in 4.0.0, use self.wv.__getitem__() instead).\n",
      "  sentence_embeddings=[[w2v[word][0] for word in words] for words in sentence_tokens]\n",
      "<ipython-input-98-37689534effe>:3: DeprecationWarning: Call to deprecated `__getitem__` (Method will be removed in 4.0.0, use self.wv.__getitem__() instead).\n",
      "  sentence_embeddings=[[w2v[word][0] for word in words] for words in sentence_tokens]\n",
      "<ipython-input-98-37689534effe>:3: DeprecationWarning: Call to deprecated `__getitem__` (Method will be removed in 4.0.0, use self.wv.__getitem__() instead).\n",
      "  sentence_embeddings=[[w2v[word][0] for word in words] for words in sentence_tokens]\n",
      "<ipython-input-98-37689534effe>:3: DeprecationWarning: Call to deprecated `__getitem__` (Method will be removed in 4.0.0, use self.wv.__getitem__() instead).\n",
      "  sentence_embeddings=[[w2v[word][0] for word in words] for words in sentence_tokens]\n",
      "<ipython-input-98-37689534effe>:3: DeprecationWarning: Call to deprecated `__getitem__` (Method will be removed in 4.0.0, use self.wv.__getitem__() instead).\n",
      "  sentence_embeddings=[[w2v[word][0] for word in words] for words in sentence_tokens]\n",
      "<ipython-input-98-37689534effe>:3: DeprecationWarning: Call to deprecated `__getitem__` (Method will be removed in 4.0.0, use self.wv.__getitem__() instead).\n",
      "  sentence_embeddings=[[w2v[word][0] for word in words] for words in sentence_tokens]\n",
      "<ipython-input-98-37689534effe>:3: DeprecationWarning: Call to deprecated `__getitem__` (Method will be removed in 4.0.0, use self.wv.__getitem__() instead).\n",
      "  sentence_embeddings=[[w2v[word][0] for word in words] for words in sentence_tokens]\n",
      "<ipython-input-98-37689534effe>:3: DeprecationWarning: Call to deprecated `__getitem__` (Method will be removed in 4.0.0, use self.wv.__getitem__() instead).\n",
      "  sentence_embeddings=[[w2v[word][0] for word in words] for words in sentence_tokens]\n",
      "<ipython-input-98-37689534effe>:3: DeprecationWarning: Call to deprecated `__getitem__` (Method will be removed in 4.0.0, use self.wv.__getitem__() instead).\n",
      "  sentence_embeddings=[[w2v[word][0] for word in words] for words in sentence_tokens]\n",
      "<ipython-input-98-37689534effe>:3: DeprecationWarning: Call to deprecated `__getitem__` (Method will be removed in 4.0.0, use self.wv.__getitem__() instead).\n",
      "  sentence_embeddings=[[w2v[word][0] for word in words] for words in sentence_tokens]\n",
      "<ipython-input-98-37689534effe>:3: DeprecationWarning: Call to deprecated `__getitem__` (Method will be removed in 4.0.0, use self.wv.__getitem__() instead).\n",
      "  sentence_embeddings=[[w2v[word][0] for word in words] for words in sentence_tokens]\n",
      "<ipython-input-98-37689534effe>:3: DeprecationWarning: Call to deprecated `__getitem__` (Method will be removed in 4.0.0, use self.wv.__getitem__() instead).\n",
      "  sentence_embeddings=[[w2v[word][0] for word in words] for words in sentence_tokens]\n",
      "<ipython-input-98-37689534effe>:3: DeprecationWarning: Call to deprecated `__getitem__` (Method will be removed in 4.0.0, use self.wv.__getitem__() instead).\n",
      "  sentence_embeddings=[[w2v[word][0] for word in words] for words in sentence_tokens]\n",
      "<ipython-input-98-37689534effe>:3: DeprecationWarning: Call to deprecated `__getitem__` (Method will be removed in 4.0.0, use self.wv.__getitem__() instead).\n",
      "  sentence_embeddings=[[w2v[word][0] for word in words] for words in sentence_tokens]\n",
      "<ipython-input-98-37689534effe>:3: DeprecationWarning: Call to deprecated `__getitem__` (Method will be removed in 4.0.0, use self.wv.__getitem__() instead).\n",
      "  sentence_embeddings=[[w2v[word][0] for word in words] for words in sentence_tokens]\n",
      "<ipython-input-98-37689534effe>:3: DeprecationWarning: Call to deprecated `__getitem__` (Method will be removed in 4.0.0, use self.wv.__getitem__() instead).\n",
      "  sentence_embeddings=[[w2v[word][0] for word in words] for words in sentence_tokens]\n",
      "<ipython-input-98-37689534effe>:3: DeprecationWarning: Call to deprecated `__getitem__` (Method will be removed in 4.0.0, use self.wv.__getitem__() instead).\n",
      "  sentence_embeddings=[[w2v[word][0] for word in words] for words in sentence_tokens]\n",
      "<ipython-input-98-37689534effe>:3: DeprecationWarning: Call to deprecated `__getitem__` (Method will be removed in 4.0.0, use self.wv.__getitem__() instead).\n",
      "  sentence_embeddings=[[w2v[word][0] for word in words] for words in sentence_tokens]\n",
      "<ipython-input-98-37689534effe>:3: DeprecationWarning: Call to deprecated `__getitem__` (Method will be removed in 4.0.0, use self.wv.__getitem__() instead).\n",
      "  sentence_embeddings=[[w2v[word][0] for word in words] for words in sentence_tokens]\n",
      "<ipython-input-98-37689534effe>:3: DeprecationWarning: Call to deprecated `__getitem__` (Method will be removed in 4.0.0, use self.wv.__getitem__() instead).\n",
      "  sentence_embeddings=[[w2v[word][0] for word in words] for words in sentence_tokens]\n",
      "<ipython-input-98-37689534effe>:3: DeprecationWarning: Call to deprecated `__getitem__` (Method will be removed in 4.0.0, use self.wv.__getitem__() instead).\n",
      "  sentence_embeddings=[[w2v[word][0] for word in words] for words in sentence_tokens]\n",
      "<ipython-input-98-37689534effe>:3: DeprecationWarning: Call to deprecated `__getitem__` (Method will be removed in 4.0.0, use self.wv.__getitem__() instead).\n",
      "  sentence_embeddings=[[w2v[word][0] for word in words] for words in sentence_tokens]\n",
      "<ipython-input-98-37689534effe>:3: DeprecationWarning: Call to deprecated `__getitem__` (Method will be removed in 4.0.0, use self.wv.__getitem__() instead).\n",
      "  sentence_embeddings=[[w2v[word][0] for word in words] for words in sentence_tokens]\n",
      "<ipython-input-98-37689534effe>:3: DeprecationWarning: Call to deprecated `__getitem__` (Method will be removed in 4.0.0, use self.wv.__getitem__() instead).\n",
      "  sentence_embeddings=[[w2v[word][0] for word in words] for words in sentence_tokens]\n",
      "<ipython-input-98-37689534effe>:3: DeprecationWarning: Call to deprecated `__getitem__` (Method will be removed in 4.0.0, use self.wv.__getitem__() instead).\n",
      "  sentence_embeddings=[[w2v[word][0] for word in words] for words in sentence_tokens]\n",
      "<ipython-input-98-37689534effe>:3: DeprecationWarning: Call to deprecated `__getitem__` (Method will be removed in 4.0.0, use self.wv.__getitem__() instead).\n",
      "  sentence_embeddings=[[w2v[word][0] for word in words] for words in sentence_tokens]\n",
      "<ipython-input-98-37689534effe>:3: DeprecationWarning: Call to deprecated `__getitem__` (Method will be removed in 4.0.0, use self.wv.__getitem__() instead).\n",
      "  sentence_embeddings=[[w2v[word][0] for word in words] for words in sentence_tokens]\n",
      "<ipython-input-98-37689534effe>:3: DeprecationWarning: Call to deprecated `__getitem__` (Method will be removed in 4.0.0, use self.wv.__getitem__() instead).\n",
      "  sentence_embeddings=[[w2v[word][0] for word in words] for words in sentence_tokens]\n",
      "<ipython-input-98-37689534effe>:3: DeprecationWarning: Call to deprecated `__getitem__` (Method will be removed in 4.0.0, use self.wv.__getitem__() instead).\n",
      "  sentence_embeddings=[[w2v[word][0] for word in words] for words in sentence_tokens]\n",
      "<ipython-input-98-37689534effe>:3: DeprecationWarning: Call to deprecated `__getitem__` (Method will be removed in 4.0.0, use self.wv.__getitem__() instead).\n",
      "  sentence_embeddings=[[w2v[word][0] for word in words] for words in sentence_tokens]\n",
      "<ipython-input-98-37689534effe>:3: DeprecationWarning: Call to deprecated `__getitem__` (Method will be removed in 4.0.0, use self.wv.__getitem__() instead).\n",
      "  sentence_embeddings=[[w2v[word][0] for word in words] for words in sentence_tokens]\n",
      "<ipython-input-98-37689534effe>:3: DeprecationWarning: Call to deprecated `__getitem__` (Method will be removed in 4.0.0, use self.wv.__getitem__() instead).\n",
      "  sentence_embeddings=[[w2v[word][0] for word in words] for words in sentence_tokens]\n",
      "<ipython-input-98-37689534effe>:3: DeprecationWarning: Call to deprecated `__getitem__` (Method will be removed in 4.0.0, use self.wv.__getitem__() instead).\n",
      "  sentence_embeddings=[[w2v[word][0] for word in words] for words in sentence_tokens]\n",
      "<ipython-input-98-37689534effe>:3: DeprecationWarning: Call to deprecated `__getitem__` (Method will be removed in 4.0.0, use self.wv.__getitem__() instead).\n",
      "  sentence_embeddings=[[w2v[word][0] for word in words] for words in sentence_tokens]\n",
      "<ipython-input-98-37689534effe>:3: DeprecationWarning: Call to deprecated `__getitem__` (Method will be removed in 4.0.0, use self.wv.__getitem__() instead).\n",
      "  sentence_embeddings=[[w2v[word][0] for word in words] for words in sentence_tokens]\n",
      "<ipython-input-98-37689534effe>:3: DeprecationWarning: Call to deprecated `__getitem__` (Method will be removed in 4.0.0, use self.wv.__getitem__() instead).\n",
      "  sentence_embeddings=[[w2v[word][0] for word in words] for words in sentence_tokens]\n",
      "<ipython-input-98-37689534effe>:3: DeprecationWarning: Call to deprecated `__getitem__` (Method will be removed in 4.0.0, use self.wv.__getitem__() instead).\n",
      "  sentence_embeddings=[[w2v[word][0] for word in words] for words in sentence_tokens]\n",
      "<ipython-input-98-37689534effe>:3: DeprecationWarning: Call to deprecated `__getitem__` (Method will be removed in 4.0.0, use self.wv.__getitem__() instead).\n",
      "  sentence_embeddings=[[w2v[word][0] for word in words] for words in sentence_tokens]\n",
      "<ipython-input-98-37689534effe>:3: DeprecationWarning: Call to deprecated `__getitem__` (Method will be removed in 4.0.0, use self.wv.__getitem__() instead).\n",
      "  sentence_embeddings=[[w2v[word][0] for word in words] for words in sentence_tokens]\n",
      "<ipython-input-98-37689534effe>:3: DeprecationWarning: Call to deprecated `__getitem__` (Method will be removed in 4.0.0, use self.wv.__getitem__() instead).\n",
      "  sentence_embeddings=[[w2v[word][0] for word in words] for words in sentence_tokens]\n",
      "<ipython-input-98-37689534effe>:3: DeprecationWarning: Call to deprecated `__getitem__` (Method will be removed in 4.0.0, use self.wv.__getitem__() instead).\n",
      "  sentence_embeddings=[[w2v[word][0] for word in words] for words in sentence_tokens]\n",
      "<ipython-input-98-37689534effe>:3: DeprecationWarning: Call to deprecated `__getitem__` (Method will be removed in 4.0.0, use self.wv.__getitem__() instead).\n",
      "  sentence_embeddings=[[w2v[word][0] for word in words] for words in sentence_tokens]\n",
      "<ipython-input-98-37689534effe>:3: DeprecationWarning: Call to deprecated `__getitem__` (Method will be removed in 4.0.0, use self.wv.__getitem__() instead).\n",
      "  sentence_embeddings=[[w2v[word][0] for word in words] for words in sentence_tokens]\n",
      "<ipython-input-98-37689534effe>:3: DeprecationWarning: Call to deprecated `__getitem__` (Method will be removed in 4.0.0, use self.wv.__getitem__() instead).\n",
      "  sentence_embeddings=[[w2v[word][0] for word in words] for words in sentence_tokens]\n",
      "<ipython-input-98-37689534effe>:3: DeprecationWarning: Call to deprecated `__getitem__` (Method will be removed in 4.0.0, use self.wv.__getitem__() instead).\n",
      "  sentence_embeddings=[[w2v[word][0] for word in words] for words in sentence_tokens]\n",
      "<ipython-input-98-37689534effe>:3: DeprecationWarning: Call to deprecated `__getitem__` (Method will be removed in 4.0.0, use self.wv.__getitem__() instead).\n",
      "  sentence_embeddings=[[w2v[word][0] for word in words] for words in sentence_tokens]\n",
      "<ipython-input-98-37689534effe>:3: DeprecationWarning: Call to deprecated `__getitem__` (Method will be removed in 4.0.0, use self.wv.__getitem__() instead).\n",
      "  sentence_embeddings=[[w2v[word][0] for word in words] for words in sentence_tokens]\n",
      "<ipython-input-98-37689534effe>:3: DeprecationWarning: Call to deprecated `__getitem__` (Method will be removed in 4.0.0, use self.wv.__getitem__() instead).\n",
      "  sentence_embeddings=[[w2v[word][0] for word in words] for words in sentence_tokens]\n",
      "<ipython-input-98-37689534effe>:3: DeprecationWarning: Call to deprecated `__getitem__` (Method will be removed in 4.0.0, use self.wv.__getitem__() instead).\n",
      "  sentence_embeddings=[[w2v[word][0] for word in words] for words in sentence_tokens]\n",
      "<ipython-input-98-37689534effe>:3: DeprecationWarning: Call to deprecated `__getitem__` (Method will be removed in 4.0.0, use self.wv.__getitem__() instead).\n",
      "  sentence_embeddings=[[w2v[word][0] for word in words] for words in sentence_tokens]\n",
      "<ipython-input-98-37689534effe>:3: DeprecationWarning: Call to deprecated `__getitem__` (Method will be removed in 4.0.0, use self.wv.__getitem__() instead).\n",
      "  sentence_embeddings=[[w2v[word][0] for word in words] for words in sentence_tokens]\n",
      "<ipython-input-98-37689534effe>:3: DeprecationWarning: Call to deprecated `__getitem__` (Method will be removed in 4.0.0, use self.wv.__getitem__() instead).\n",
      "  sentence_embeddings=[[w2v[word][0] for word in words] for words in sentence_tokens]\n",
      "<ipython-input-98-37689534effe>:3: DeprecationWarning: Call to deprecated `__getitem__` (Method will be removed in 4.0.0, use self.wv.__getitem__() instead).\n",
      "  sentence_embeddings=[[w2v[word][0] for word in words] for words in sentence_tokens]\n",
      "<ipython-input-98-37689534effe>:3: DeprecationWarning: Call to deprecated `__getitem__` (Method will be removed in 4.0.0, use self.wv.__getitem__() instead).\n",
      "  sentence_embeddings=[[w2v[word][0] for word in words] for words in sentence_tokens]\n",
      "<ipython-input-98-37689534effe>:3: DeprecationWarning: Call to deprecated `__getitem__` (Method will be removed in 4.0.0, use self.wv.__getitem__() instead).\n",
      "  sentence_embeddings=[[w2v[word][0] for word in words] for words in sentence_tokens]\n",
      "<ipython-input-98-37689534effe>:3: DeprecationWarning: Call to deprecated `__getitem__` (Method will be removed in 4.0.0, use self.wv.__getitem__() instead).\n",
      "  sentence_embeddings=[[w2v[word][0] for word in words] for words in sentence_tokens]\n",
      "<ipython-input-98-37689534effe>:3: DeprecationWarning: Call to deprecated `__getitem__` (Method will be removed in 4.0.0, use self.wv.__getitem__() instead).\n",
      "  sentence_embeddings=[[w2v[word][0] for word in words] for words in sentence_tokens]\n",
      "<ipython-input-98-37689534effe>:3: DeprecationWarning: Call to deprecated `__getitem__` (Method will be removed in 4.0.0, use self.wv.__getitem__() instead).\n",
      "  sentence_embeddings=[[w2v[word][0] for word in words] for words in sentence_tokens]\n",
      "<ipython-input-98-37689534effe>:3: DeprecationWarning: Call to deprecated `__getitem__` (Method will be removed in 4.0.0, use self.wv.__getitem__() instead).\n",
      "  sentence_embeddings=[[w2v[word][0] for word in words] for words in sentence_tokens]\n",
      "<ipython-input-98-37689534effe>:3: DeprecationWarning: Call to deprecated `__getitem__` (Method will be removed in 4.0.0, use self.wv.__getitem__() instead).\n",
      "  sentence_embeddings=[[w2v[word][0] for word in words] for words in sentence_tokens]\n",
      "<ipython-input-98-37689534effe>:3: DeprecationWarning: Call to deprecated `__getitem__` (Method will be removed in 4.0.0, use self.wv.__getitem__() instead).\n",
      "  sentence_embeddings=[[w2v[word][0] for word in words] for words in sentence_tokens]\n",
      "<ipython-input-98-37689534effe>:3: DeprecationWarning: Call to deprecated `__getitem__` (Method will be removed in 4.0.0, use self.wv.__getitem__() instead).\n",
      "  sentence_embeddings=[[w2v[word][0] for word in words] for words in sentence_tokens]\n",
      "<ipython-input-98-37689534effe>:3: DeprecationWarning: Call to deprecated `__getitem__` (Method will be removed in 4.0.0, use self.wv.__getitem__() instead).\n",
      "  sentence_embeddings=[[w2v[word][0] for word in words] for words in sentence_tokens]\n",
      "<ipython-input-98-37689534effe>:3: DeprecationWarning: Call to deprecated `__getitem__` (Method will be removed in 4.0.0, use self.wv.__getitem__() instead).\n",
      "  sentence_embeddings=[[w2v[word][0] for word in words] for words in sentence_tokens]\n",
      "<ipython-input-98-37689534effe>:3: DeprecationWarning: Call to deprecated `__getitem__` (Method will be removed in 4.0.0, use self.wv.__getitem__() instead).\n",
      "  sentence_embeddings=[[w2v[word][0] for word in words] for words in sentence_tokens]\n",
      "<ipython-input-98-37689534effe>:3: DeprecationWarning: Call to deprecated `__getitem__` (Method will be removed in 4.0.0, use self.wv.__getitem__() instead).\n",
      "  sentence_embeddings=[[w2v[word][0] for word in words] for words in sentence_tokens]\n",
      "<ipython-input-98-37689534effe>:3: DeprecationWarning: Call to deprecated `__getitem__` (Method will be removed in 4.0.0, use self.wv.__getitem__() instead).\n",
      "  sentence_embeddings=[[w2v[word][0] for word in words] for words in sentence_tokens]\n",
      "<ipython-input-98-37689534effe>:3: DeprecationWarning: Call to deprecated `__getitem__` (Method will be removed in 4.0.0, use self.wv.__getitem__() instead).\n",
      "  sentence_embeddings=[[w2v[word][0] for word in words] for words in sentence_tokens]\n",
      "<ipython-input-98-37689534effe>:3: DeprecationWarning: Call to deprecated `__getitem__` (Method will be removed in 4.0.0, use self.wv.__getitem__() instead).\n",
      "  sentence_embeddings=[[w2v[word][0] for word in words] for words in sentence_tokens]\n",
      "<ipython-input-98-37689534effe>:3: DeprecationWarning: Call to deprecated `__getitem__` (Method will be removed in 4.0.0, use self.wv.__getitem__() instead).\n",
      "  sentence_embeddings=[[w2v[word][0] for word in words] for words in sentence_tokens]\n",
      "<ipython-input-98-37689534effe>:3: DeprecationWarning: Call to deprecated `__getitem__` (Method will be removed in 4.0.0, use self.wv.__getitem__() instead).\n",
      "  sentence_embeddings=[[w2v[word][0] for word in words] for words in sentence_tokens]\n",
      "<ipython-input-98-37689534effe>:3: DeprecationWarning: Call to deprecated `__getitem__` (Method will be removed in 4.0.0, use self.wv.__getitem__() instead).\n",
      "  sentence_embeddings=[[w2v[word][0] for word in words] for words in sentence_tokens]\n",
      "<ipython-input-98-37689534effe>:3: DeprecationWarning: Call to deprecated `__getitem__` (Method will be removed in 4.0.0, use self.wv.__getitem__() instead).\n",
      "  sentence_embeddings=[[w2v[word][0] for word in words] for words in sentence_tokens]\n",
      "<ipython-input-98-37689534effe>:3: DeprecationWarning: Call to deprecated `__getitem__` (Method will be removed in 4.0.0, use self.wv.__getitem__() instead).\n",
      "  sentence_embeddings=[[w2v[word][0] for word in words] for words in sentence_tokens]\n",
      "<ipython-input-98-37689534effe>:3: DeprecationWarning: Call to deprecated `__getitem__` (Method will be removed in 4.0.0, use self.wv.__getitem__() instead).\n",
      "  sentence_embeddings=[[w2v[word][0] for word in words] for words in sentence_tokens]\n",
      "<ipython-input-98-37689534effe>:3: DeprecationWarning: Call to deprecated `__getitem__` (Method will be removed in 4.0.0, use self.wv.__getitem__() instead).\n",
      "  sentence_embeddings=[[w2v[word][0] for word in words] for words in sentence_tokens]\n",
      "<ipython-input-98-37689534effe>:3: DeprecationWarning: Call to deprecated `__getitem__` (Method will be removed in 4.0.0, use self.wv.__getitem__() instead).\n",
      "  sentence_embeddings=[[w2v[word][0] for word in words] for words in sentence_tokens]\n",
      "<ipython-input-98-37689534effe>:3: DeprecationWarning: Call to deprecated `__getitem__` (Method will be removed in 4.0.0, use self.wv.__getitem__() instead).\n",
      "  sentence_embeddings=[[w2v[word][0] for word in words] for words in sentence_tokens]\n",
      "<ipython-input-98-37689534effe>:3: DeprecationWarning: Call to deprecated `__getitem__` (Method will be removed in 4.0.0, use self.wv.__getitem__() instead).\n",
      "  sentence_embeddings=[[w2v[word][0] for word in words] for words in sentence_tokens]\n",
      "<ipython-input-98-37689534effe>:3: DeprecationWarning: Call to deprecated `__getitem__` (Method will be removed in 4.0.0, use self.wv.__getitem__() instead).\n",
      "  sentence_embeddings=[[w2v[word][0] for word in words] for words in sentence_tokens]\n",
      "<ipython-input-98-37689534effe>:3: DeprecationWarning: Call to deprecated `__getitem__` (Method will be removed in 4.0.0, use self.wv.__getitem__() instead).\n",
      "  sentence_embeddings=[[w2v[word][0] for word in words] for words in sentence_tokens]\n",
      "<ipython-input-98-37689534effe>:3: DeprecationWarning: Call to deprecated `__getitem__` (Method will be removed in 4.0.0, use self.wv.__getitem__() instead).\n",
      "  sentence_embeddings=[[w2v[word][0] for word in words] for words in sentence_tokens]\n",
      "<ipython-input-98-37689534effe>:3: DeprecationWarning: Call to deprecated `__getitem__` (Method will be removed in 4.0.0, use self.wv.__getitem__() instead).\n",
      "  sentence_embeddings=[[w2v[word][0] for word in words] for words in sentence_tokens]\n",
      "<ipython-input-98-37689534effe>:3: DeprecationWarning: Call to deprecated `__getitem__` (Method will be removed in 4.0.0, use self.wv.__getitem__() instead).\n",
      "  sentence_embeddings=[[w2v[word][0] for word in words] for words in sentence_tokens]\n",
      "<ipython-input-98-37689534effe>:3: DeprecationWarning: Call to deprecated `__getitem__` (Method will be removed in 4.0.0, use self.wv.__getitem__() instead).\n",
      "  sentence_embeddings=[[w2v[word][0] for word in words] for words in sentence_tokens]\n",
      "<ipython-input-98-37689534effe>:3: DeprecationWarning: Call to deprecated `__getitem__` (Method will be removed in 4.0.0, use self.wv.__getitem__() instead).\n",
      "  sentence_embeddings=[[w2v[word][0] for word in words] for words in sentence_tokens]\n",
      "<ipython-input-98-37689534effe>:3: DeprecationWarning: Call to deprecated `__getitem__` (Method will be removed in 4.0.0, use self.wv.__getitem__() instead).\n",
      "  sentence_embeddings=[[w2v[word][0] for word in words] for words in sentence_tokens]\n",
      "<ipython-input-98-37689534effe>:3: DeprecationWarning: Call to deprecated `__getitem__` (Method will be removed in 4.0.0, use self.wv.__getitem__() instead).\n",
      "  sentence_embeddings=[[w2v[word][0] for word in words] for words in sentence_tokens]\n",
      "<ipython-input-98-37689534effe>:3: DeprecationWarning: Call to deprecated `__getitem__` (Method will be removed in 4.0.0, use self.wv.__getitem__() instead).\n",
      "  sentence_embeddings=[[w2v[word][0] for word in words] for words in sentence_tokens]\n",
      "<ipython-input-98-37689534effe>:3: DeprecationWarning: Call to deprecated `__getitem__` (Method will be removed in 4.0.0, use self.wv.__getitem__() instead).\n",
      "  sentence_embeddings=[[w2v[word][0] for word in words] for words in sentence_tokens]\n",
      "<ipython-input-98-37689534effe>:3: DeprecationWarning: Call to deprecated `__getitem__` (Method will be removed in 4.0.0, use self.wv.__getitem__() instead).\n",
      "  sentence_embeddings=[[w2v[word][0] for word in words] for words in sentence_tokens]\n",
      "<ipython-input-98-37689534effe>:3: DeprecationWarning: Call to deprecated `__getitem__` (Method will be removed in 4.0.0, use self.wv.__getitem__() instead).\n",
      "  sentence_embeddings=[[w2v[word][0] for word in words] for words in sentence_tokens]\n",
      "<ipython-input-98-37689534effe>:3: DeprecationWarning: Call to deprecated `__getitem__` (Method will be removed in 4.0.0, use self.wv.__getitem__() instead).\n",
      "  sentence_embeddings=[[w2v[word][0] for word in words] for words in sentence_tokens]\n",
      "<ipython-input-98-37689534effe>:3: DeprecationWarning: Call to deprecated `__getitem__` (Method will be removed in 4.0.0, use self.wv.__getitem__() instead).\n",
      "  sentence_embeddings=[[w2v[word][0] for word in words] for words in sentence_tokens]\n",
      "<ipython-input-98-37689534effe>:3: DeprecationWarning: Call to deprecated `__getitem__` (Method will be removed in 4.0.0, use self.wv.__getitem__() instead).\n",
      "  sentence_embeddings=[[w2v[word][0] for word in words] for words in sentence_tokens]\n",
      "<ipython-input-98-37689534effe>:3: DeprecationWarning: Call to deprecated `__getitem__` (Method will be removed in 4.0.0, use self.wv.__getitem__() instead).\n",
      "  sentence_embeddings=[[w2v[word][0] for word in words] for words in sentence_tokens]\n",
      "<ipython-input-98-37689534effe>:3: DeprecationWarning: Call to deprecated `__getitem__` (Method will be removed in 4.0.0, use self.wv.__getitem__() instead).\n",
      "  sentence_embeddings=[[w2v[word][0] for word in words] for words in sentence_tokens]\n",
      "<ipython-input-98-37689534effe>:3: DeprecationWarning: Call to deprecated `__getitem__` (Method will be removed in 4.0.0, use self.wv.__getitem__() instead).\n",
      "  sentence_embeddings=[[w2v[word][0] for word in words] for words in sentence_tokens]\n",
      "<ipython-input-98-37689534effe>:3: DeprecationWarning: Call to deprecated `__getitem__` (Method will be removed in 4.0.0, use self.wv.__getitem__() instead).\n",
      "  sentence_embeddings=[[w2v[word][0] for word in words] for words in sentence_tokens]\n",
      "<ipython-input-98-37689534effe>:3: DeprecationWarning: Call to deprecated `__getitem__` (Method will be removed in 4.0.0, use self.wv.__getitem__() instead).\n",
      "  sentence_embeddings=[[w2v[word][0] for word in words] for words in sentence_tokens]\n",
      "<ipython-input-98-37689534effe>:3: DeprecationWarning: Call to deprecated `__getitem__` (Method will be removed in 4.0.0, use self.wv.__getitem__() instead).\n",
      "  sentence_embeddings=[[w2v[word][0] for word in words] for words in sentence_tokens]\n",
      "<ipython-input-98-37689534effe>:3: DeprecationWarning: Call to deprecated `__getitem__` (Method will be removed in 4.0.0, use self.wv.__getitem__() instead).\n",
      "  sentence_embeddings=[[w2v[word][0] for word in words] for words in sentence_tokens]\n",
      "<ipython-input-98-37689534effe>:3: DeprecationWarning: Call to deprecated `__getitem__` (Method will be removed in 4.0.0, use self.wv.__getitem__() instead).\n",
      "  sentence_embeddings=[[w2v[word][0] for word in words] for words in sentence_tokens]\n",
      "<ipython-input-98-37689534effe>:3: DeprecationWarning: Call to deprecated `__getitem__` (Method will be removed in 4.0.0, use self.wv.__getitem__() instead).\n",
      "  sentence_embeddings=[[w2v[word][0] for word in words] for words in sentence_tokens]\n",
      "<ipython-input-98-37689534effe>:3: DeprecationWarning: Call to deprecated `__getitem__` (Method will be removed in 4.0.0, use self.wv.__getitem__() instead).\n",
      "  sentence_embeddings=[[w2v[word][0] for word in words] for words in sentence_tokens]\n",
      "<ipython-input-98-37689534effe>:3: DeprecationWarning: Call to deprecated `__getitem__` (Method will be removed in 4.0.0, use self.wv.__getitem__() instead).\n",
      "  sentence_embeddings=[[w2v[word][0] for word in words] for words in sentence_tokens]\n",
      "<ipython-input-98-37689534effe>:3: DeprecationWarning: Call to deprecated `__getitem__` (Method will be removed in 4.0.0, use self.wv.__getitem__() instead).\n",
      "  sentence_embeddings=[[w2v[word][0] for word in words] for words in sentence_tokens]\n",
      "<ipython-input-98-37689534effe>:3: DeprecationWarning: Call to deprecated `__getitem__` (Method will be removed in 4.0.0, use self.wv.__getitem__() instead).\n",
      "  sentence_embeddings=[[w2v[word][0] for word in words] for words in sentence_tokens]\n",
      "<ipython-input-98-37689534effe>:3: DeprecationWarning: Call to deprecated `__getitem__` (Method will be removed in 4.0.0, use self.wv.__getitem__() instead).\n",
      "  sentence_embeddings=[[w2v[word][0] for word in words] for words in sentence_tokens]\n",
      "<ipython-input-98-37689534effe>:3: DeprecationWarning: Call to deprecated `__getitem__` (Method will be removed in 4.0.0, use self.wv.__getitem__() instead).\n",
      "  sentence_embeddings=[[w2v[word][0] for word in words] for words in sentence_tokens]\n",
      "<ipython-input-98-37689534effe>:3: DeprecationWarning: Call to deprecated `__getitem__` (Method will be removed in 4.0.0, use self.wv.__getitem__() instead).\n",
      "  sentence_embeddings=[[w2v[word][0] for word in words] for words in sentence_tokens]\n",
      "<ipython-input-98-37689534effe>:3: DeprecationWarning: Call to deprecated `__getitem__` (Method will be removed in 4.0.0, use self.wv.__getitem__() instead).\n",
      "  sentence_embeddings=[[w2v[word][0] for word in words] for words in sentence_tokens]\n",
      "<ipython-input-98-37689534effe>:3: DeprecationWarning: Call to deprecated `__getitem__` (Method will be removed in 4.0.0, use self.wv.__getitem__() instead).\n",
      "  sentence_embeddings=[[w2v[word][0] for word in words] for words in sentence_tokens]\n",
      "<ipython-input-98-37689534effe>:3: DeprecationWarning: Call to deprecated `__getitem__` (Method will be removed in 4.0.0, use self.wv.__getitem__() instead).\n",
      "  sentence_embeddings=[[w2v[word][0] for word in words] for words in sentence_tokens]\n",
      "<ipython-input-98-37689534effe>:3: DeprecationWarning: Call to deprecated `__getitem__` (Method will be removed in 4.0.0, use self.wv.__getitem__() instead).\n",
      "  sentence_embeddings=[[w2v[word][0] for word in words] for words in sentence_tokens]\n",
      "<ipython-input-98-37689534effe>:3: DeprecationWarning: Call to deprecated `__getitem__` (Method will be removed in 4.0.0, use self.wv.__getitem__() instead).\n",
      "  sentence_embeddings=[[w2v[word][0] for word in words] for words in sentence_tokens]\n",
      "<ipython-input-98-37689534effe>:3: DeprecationWarning: Call to deprecated `__getitem__` (Method will be removed in 4.0.0, use self.wv.__getitem__() instead).\n",
      "  sentence_embeddings=[[w2v[word][0] for word in words] for words in sentence_tokens]\n",
      "<ipython-input-98-37689534effe>:3: DeprecationWarning: Call to deprecated `__getitem__` (Method will be removed in 4.0.0, use self.wv.__getitem__() instead).\n",
      "  sentence_embeddings=[[w2v[word][0] for word in words] for words in sentence_tokens]\n",
      "<ipython-input-98-37689534effe>:3: DeprecationWarning: Call to deprecated `__getitem__` (Method will be removed in 4.0.0, use self.wv.__getitem__() instead).\n",
      "  sentence_embeddings=[[w2v[word][0] for word in words] for words in sentence_tokens]\n",
      "<ipython-input-98-37689534effe>:3: DeprecationWarning: Call to deprecated `__getitem__` (Method will be removed in 4.0.0, use self.wv.__getitem__() instead).\n",
      "  sentence_embeddings=[[w2v[word][0] for word in words] for words in sentence_tokens]\n",
      "<ipython-input-98-37689534effe>:3: DeprecationWarning: Call to deprecated `__getitem__` (Method will be removed in 4.0.0, use self.wv.__getitem__() instead).\n",
      "  sentence_embeddings=[[w2v[word][0] for word in words] for words in sentence_tokens]\n",
      "<ipython-input-98-37689534effe>:3: DeprecationWarning: Call to deprecated `__getitem__` (Method will be removed in 4.0.0, use self.wv.__getitem__() instead).\n",
      "  sentence_embeddings=[[w2v[word][0] for word in words] for words in sentence_tokens]\n",
      "<ipython-input-98-37689534effe>:3: DeprecationWarning: Call to deprecated `__getitem__` (Method will be removed in 4.0.0, use self.wv.__getitem__() instead).\n",
      "  sentence_embeddings=[[w2v[word][0] for word in words] for words in sentence_tokens]\n",
      "<ipython-input-98-37689534effe>:3: DeprecationWarning: Call to deprecated `__getitem__` (Method will be removed in 4.0.0, use self.wv.__getitem__() instead).\n",
      "  sentence_embeddings=[[w2v[word][0] for word in words] for words in sentence_tokens]\n",
      "<ipython-input-98-37689534effe>:3: DeprecationWarning: Call to deprecated `__getitem__` (Method will be removed in 4.0.0, use self.wv.__getitem__() instead).\n",
      "  sentence_embeddings=[[w2v[word][0] for word in words] for words in sentence_tokens]\n",
      "<ipython-input-98-37689534effe>:3: DeprecationWarning: Call to deprecated `__getitem__` (Method will be removed in 4.0.0, use self.wv.__getitem__() instead).\n",
      "  sentence_embeddings=[[w2v[word][0] for word in words] for words in sentence_tokens]\n",
      "<ipython-input-98-37689534effe>:3: DeprecationWarning: Call to deprecated `__getitem__` (Method will be removed in 4.0.0, use self.wv.__getitem__() instead).\n",
      "  sentence_embeddings=[[w2v[word][0] for word in words] for words in sentence_tokens]\n",
      "<ipython-input-98-37689534effe>:3: DeprecationWarning: Call to deprecated `__getitem__` (Method will be removed in 4.0.0, use self.wv.__getitem__() instead).\n",
      "  sentence_embeddings=[[w2v[word][0] for word in words] for words in sentence_tokens]\n",
      "<ipython-input-98-37689534effe>:3: DeprecationWarning: Call to deprecated `__getitem__` (Method will be removed in 4.0.0, use self.wv.__getitem__() instead).\n",
      "  sentence_embeddings=[[w2v[word][0] for word in words] for words in sentence_tokens]\n",
      "<ipython-input-98-37689534effe>:3: DeprecationWarning: Call to deprecated `__getitem__` (Method will be removed in 4.0.0, use self.wv.__getitem__() instead).\n",
      "  sentence_embeddings=[[w2v[word][0] for word in words] for words in sentence_tokens]\n",
      "<ipython-input-98-37689534effe>:3: DeprecationWarning: Call to deprecated `__getitem__` (Method will be removed in 4.0.0, use self.wv.__getitem__() instead).\n",
      "  sentence_embeddings=[[w2v[word][0] for word in words] for words in sentence_tokens]\n",
      "<ipython-input-98-37689534effe>:3: DeprecationWarning: Call to deprecated `__getitem__` (Method will be removed in 4.0.0, use self.wv.__getitem__() instead).\n",
      "  sentence_embeddings=[[w2v[word][0] for word in words] for words in sentence_tokens]\n",
      "<ipython-input-98-37689534effe>:3: DeprecationWarning: Call to deprecated `__getitem__` (Method will be removed in 4.0.0, use self.wv.__getitem__() instead).\n",
      "  sentence_embeddings=[[w2v[word][0] for word in words] for words in sentence_tokens]\n",
      "<ipython-input-98-37689534effe>:3: DeprecationWarning: Call to deprecated `__getitem__` (Method will be removed in 4.0.0, use self.wv.__getitem__() instead).\n",
      "  sentence_embeddings=[[w2v[word][0] for word in words] for words in sentence_tokens]\n",
      "<ipython-input-98-37689534effe>:3: DeprecationWarning: Call to deprecated `__getitem__` (Method will be removed in 4.0.0, use self.wv.__getitem__() instead).\n",
      "  sentence_embeddings=[[w2v[word][0] for word in words] for words in sentence_tokens]\n",
      "<ipython-input-98-37689534effe>:3: DeprecationWarning: Call to deprecated `__getitem__` (Method will be removed in 4.0.0, use self.wv.__getitem__() instead).\n",
      "  sentence_embeddings=[[w2v[word][0] for word in words] for words in sentence_tokens]\n",
      "<ipython-input-98-37689534effe>:3: DeprecationWarning: Call to deprecated `__getitem__` (Method will be removed in 4.0.0, use self.wv.__getitem__() instead).\n",
      "  sentence_embeddings=[[w2v[word][0] for word in words] for words in sentence_tokens]\n",
      "<ipython-input-98-37689534effe>:3: DeprecationWarning: Call to deprecated `__getitem__` (Method will be removed in 4.0.0, use self.wv.__getitem__() instead).\n",
      "  sentence_embeddings=[[w2v[word][0] for word in words] for words in sentence_tokens]\n",
      "<ipython-input-98-37689534effe>:3: DeprecationWarning: Call to deprecated `__getitem__` (Method will be removed in 4.0.0, use self.wv.__getitem__() instead).\n",
      "  sentence_embeddings=[[w2v[word][0] for word in words] for words in sentence_tokens]\n",
      "<ipython-input-98-37689534effe>:3: DeprecationWarning: Call to deprecated `__getitem__` (Method will be removed in 4.0.0, use self.wv.__getitem__() instead).\n",
      "  sentence_embeddings=[[w2v[word][0] for word in words] for words in sentence_tokens]\n",
      "<ipython-input-98-37689534effe>:3: DeprecationWarning: Call to deprecated `__getitem__` (Method will be removed in 4.0.0, use self.wv.__getitem__() instead).\n",
      "  sentence_embeddings=[[w2v[word][0] for word in words] for words in sentence_tokens]\n",
      "<ipython-input-98-37689534effe>:3: DeprecationWarning: Call to deprecated `__getitem__` (Method will be removed in 4.0.0, use self.wv.__getitem__() instead).\n",
      "  sentence_embeddings=[[w2v[word][0] for word in words] for words in sentence_tokens]\n",
      "<ipython-input-98-37689534effe>:3: DeprecationWarning: Call to deprecated `__getitem__` (Method will be removed in 4.0.0, use self.wv.__getitem__() instead).\n",
      "  sentence_embeddings=[[w2v[word][0] for word in words] for words in sentence_tokens]\n",
      "<ipython-input-98-37689534effe>:3: DeprecationWarning: Call to deprecated `__getitem__` (Method will be removed in 4.0.0, use self.wv.__getitem__() instead).\n",
      "  sentence_embeddings=[[w2v[word][0] for word in words] for words in sentence_tokens]\n",
      "<ipython-input-98-37689534effe>:3: DeprecationWarning: Call to deprecated `__getitem__` (Method will be removed in 4.0.0, use self.wv.__getitem__() instead).\n",
      "  sentence_embeddings=[[w2v[word][0] for word in words] for words in sentence_tokens]\n",
      "<ipython-input-98-37689534effe>:3: DeprecationWarning: Call to deprecated `__getitem__` (Method will be removed in 4.0.0, use self.wv.__getitem__() instead).\n",
      "  sentence_embeddings=[[w2v[word][0] for word in words] for words in sentence_tokens]\n",
      "<ipython-input-98-37689534effe>:3: DeprecationWarning: Call to deprecated `__getitem__` (Method will be removed in 4.0.0, use self.wv.__getitem__() instead).\n",
      "  sentence_embeddings=[[w2v[word][0] for word in words] for words in sentence_tokens]\n",
      "<ipython-input-98-37689534effe>:3: DeprecationWarning: Call to deprecated `__getitem__` (Method will be removed in 4.0.0, use self.wv.__getitem__() instead).\n",
      "  sentence_embeddings=[[w2v[word][0] for word in words] for words in sentence_tokens]\n",
      "<ipython-input-98-37689534effe>:3: DeprecationWarning: Call to deprecated `__getitem__` (Method will be removed in 4.0.0, use self.wv.__getitem__() instead).\n",
      "  sentence_embeddings=[[w2v[word][0] for word in words] for words in sentence_tokens]\n",
      "<ipython-input-98-37689534effe>:3: DeprecationWarning: Call to deprecated `__getitem__` (Method will be removed in 4.0.0, use self.wv.__getitem__() instead).\n",
      "  sentence_embeddings=[[w2v[word][0] for word in words] for words in sentence_tokens]\n",
      "<ipython-input-98-37689534effe>:3: DeprecationWarning: Call to deprecated `__getitem__` (Method will be removed in 4.0.0, use self.wv.__getitem__() instead).\n",
      "  sentence_embeddings=[[w2v[word][0] for word in words] for words in sentence_tokens]\n",
      "<ipython-input-98-37689534effe>:3: DeprecationWarning: Call to deprecated `__getitem__` (Method will be removed in 4.0.0, use self.wv.__getitem__() instead).\n",
      "  sentence_embeddings=[[w2v[word][0] for word in words] for words in sentence_tokens]\n",
      "<ipython-input-98-37689534effe>:3: DeprecationWarning: Call to deprecated `__getitem__` (Method will be removed in 4.0.0, use self.wv.__getitem__() instead).\n",
      "  sentence_embeddings=[[w2v[word][0] for word in words] for words in sentence_tokens]\n",
      "<ipython-input-98-37689534effe>:3: DeprecationWarning: Call to deprecated `__getitem__` (Method will be removed in 4.0.0, use self.wv.__getitem__() instead).\n",
      "  sentence_embeddings=[[w2v[word][0] for word in words] for words in sentence_tokens]\n",
      "<ipython-input-98-37689534effe>:3: DeprecationWarning: Call to deprecated `__getitem__` (Method will be removed in 4.0.0, use self.wv.__getitem__() instead).\n",
      "  sentence_embeddings=[[w2v[word][0] for word in words] for words in sentence_tokens]\n",
      "<ipython-input-98-37689534effe>:3: DeprecationWarning: Call to deprecated `__getitem__` (Method will be removed in 4.0.0, use self.wv.__getitem__() instead).\n",
      "  sentence_embeddings=[[w2v[word][0] for word in words] for words in sentence_tokens]\n",
      "<ipython-input-98-37689534effe>:3: DeprecationWarning: Call to deprecated `__getitem__` (Method will be removed in 4.0.0, use self.wv.__getitem__() instead).\n",
      "  sentence_embeddings=[[w2v[word][0] for word in words] for words in sentence_tokens]\n",
      "<ipython-input-98-37689534effe>:3: DeprecationWarning: Call to deprecated `__getitem__` (Method will be removed in 4.0.0, use self.wv.__getitem__() instead).\n",
      "  sentence_embeddings=[[w2v[word][0] for word in words] for words in sentence_tokens]\n",
      "<ipython-input-98-37689534effe>:3: DeprecationWarning: Call to deprecated `__getitem__` (Method will be removed in 4.0.0, use self.wv.__getitem__() instead).\n",
      "  sentence_embeddings=[[w2v[word][0] for word in words] for words in sentence_tokens]\n",
      "<ipython-input-98-37689534effe>:3: DeprecationWarning: Call to deprecated `__getitem__` (Method will be removed in 4.0.0, use self.wv.__getitem__() instead).\n",
      "  sentence_embeddings=[[w2v[word][0] for word in words] for words in sentence_tokens]\n",
      "<ipython-input-98-37689534effe>:3: DeprecationWarning: Call to deprecated `__getitem__` (Method will be removed in 4.0.0, use self.wv.__getitem__() instead).\n",
      "  sentence_embeddings=[[w2v[word][0] for word in words] for words in sentence_tokens]\n",
      "<ipython-input-98-37689534effe>:3: DeprecationWarning: Call to deprecated `__getitem__` (Method will be removed in 4.0.0, use self.wv.__getitem__() instead).\n",
      "  sentence_embeddings=[[w2v[word][0] for word in words] for words in sentence_tokens]\n",
      "<ipython-input-98-37689534effe>:3: DeprecationWarning: Call to deprecated `__getitem__` (Method will be removed in 4.0.0, use self.wv.__getitem__() instead).\n",
      "  sentence_embeddings=[[w2v[word][0] for word in words] for words in sentence_tokens]\n",
      "<ipython-input-98-37689534effe>:3: DeprecationWarning: Call to deprecated `__getitem__` (Method will be removed in 4.0.0, use self.wv.__getitem__() instead).\n",
      "  sentence_embeddings=[[w2v[word][0] for word in words] for words in sentence_tokens]\n",
      "<ipython-input-98-37689534effe>:3: DeprecationWarning: Call to deprecated `__getitem__` (Method will be removed in 4.0.0, use self.wv.__getitem__() instead).\n",
      "  sentence_embeddings=[[w2v[word][0] for word in words] for words in sentence_tokens]\n",
      "<ipython-input-98-37689534effe>:3: DeprecationWarning: Call to deprecated `__getitem__` (Method will be removed in 4.0.0, use self.wv.__getitem__() instead).\n",
      "  sentence_embeddings=[[w2v[word][0] for word in words] for words in sentence_tokens]\n",
      "<ipython-input-98-37689534effe>:3: DeprecationWarning: Call to deprecated `__getitem__` (Method will be removed in 4.0.0, use self.wv.__getitem__() instead).\n",
      "  sentence_embeddings=[[w2v[word][0] for word in words] for words in sentence_tokens]\n",
      "<ipython-input-98-37689534effe>:3: DeprecationWarning: Call to deprecated `__getitem__` (Method will be removed in 4.0.0, use self.wv.__getitem__() instead).\n",
      "  sentence_embeddings=[[w2v[word][0] for word in words] for words in sentence_tokens]\n",
      "<ipython-input-98-37689534effe>:3: DeprecationWarning: Call to deprecated `__getitem__` (Method will be removed in 4.0.0, use self.wv.__getitem__() instead).\n",
      "  sentence_embeddings=[[w2v[word][0] for word in words] for words in sentence_tokens]\n",
      "<ipython-input-98-37689534effe>:3: DeprecationWarning: Call to deprecated `__getitem__` (Method will be removed in 4.0.0, use self.wv.__getitem__() instead).\n",
      "  sentence_embeddings=[[w2v[word][0] for word in words] for words in sentence_tokens]\n",
      "<ipython-input-98-37689534effe>:3: DeprecationWarning: Call to deprecated `__getitem__` (Method will be removed in 4.0.0, use self.wv.__getitem__() instead).\n",
      "  sentence_embeddings=[[w2v[word][0] for word in words] for words in sentence_tokens]\n",
      "<ipython-input-98-37689534effe>:3: DeprecationWarning: Call to deprecated `__getitem__` (Method will be removed in 4.0.0, use self.wv.__getitem__() instead).\n",
      "  sentence_embeddings=[[w2v[word][0] for word in words] for words in sentence_tokens]\n",
      "<ipython-input-98-37689534effe>:3: DeprecationWarning: Call to deprecated `__getitem__` (Method will be removed in 4.0.0, use self.wv.__getitem__() instead).\n",
      "  sentence_embeddings=[[w2v[word][0] for word in words] for words in sentence_tokens]\n",
      "<ipython-input-98-37689534effe>:3: DeprecationWarning: Call to deprecated `__getitem__` (Method will be removed in 4.0.0, use self.wv.__getitem__() instead).\n",
      "  sentence_embeddings=[[w2v[word][0] for word in words] for words in sentence_tokens]\n",
      "<ipython-input-98-37689534effe>:3: DeprecationWarning: Call to deprecated `__getitem__` (Method will be removed in 4.0.0, use self.wv.__getitem__() instead).\n",
      "  sentence_embeddings=[[w2v[word][0] for word in words] for words in sentence_tokens]\n",
      "<ipython-input-98-37689534effe>:3: DeprecationWarning: Call to deprecated `__getitem__` (Method will be removed in 4.0.0, use self.wv.__getitem__() instead).\n",
      "  sentence_embeddings=[[w2v[word][0] for word in words] for words in sentence_tokens]\n",
      "<ipython-input-98-37689534effe>:3: DeprecationWarning: Call to deprecated `__getitem__` (Method will be removed in 4.0.0, use self.wv.__getitem__() instead).\n",
      "  sentence_embeddings=[[w2v[word][0] for word in words] for words in sentence_tokens]\n",
      "<ipython-input-98-37689534effe>:3: DeprecationWarning: Call to deprecated `__getitem__` (Method will be removed in 4.0.0, use self.wv.__getitem__() instead).\n",
      "  sentence_embeddings=[[w2v[word][0] for word in words] for words in sentence_tokens]\n",
      "<ipython-input-98-37689534effe>:3: DeprecationWarning: Call to deprecated `__getitem__` (Method will be removed in 4.0.0, use self.wv.__getitem__() instead).\n",
      "  sentence_embeddings=[[w2v[word][0] for word in words] for words in sentence_tokens]\n"
     ]
    }
   ],
   "source": [
    "#applying sentence_embeddings\n",
    "w2v=Word2Vec(sentence_tokens,size=1,min_count=1,iter=1000)\n",
    "sentence_embeddings=[[w2v[word][0] for word in words] for words in sentence_tokens]\n",
    "max_len=max([len(tokens) for tokens in sentence_tokens])"
   ]
  },
  {
   "cell_type": "code",
   "execution_count": 99,
   "metadata": {},
   "outputs": [],
   "source": [
    "sentence_embeddings=[np.pad(embedding,(0,max_len-len(embedding)),'constant') for embedding in sentence_embeddings]"
   ]
  },
  {
   "cell_type": "code",
   "execution_count": 100,
   "metadata": {},
   "outputs": [],
   "source": [
    "#constructing similarity matrix for words \n",
    "similarity_matrix = np.zeros([len(sentence_tokens), len(sentence_tokens)])\n",
    "for i,row_embedding in enumerate(sentence_embeddings):\n",
    "    for j,column_embedding in enumerate(sentence_embeddings):\n",
    "        similarity_matrix[i][j]=1-spatial.distance.cosine(row_embedding,column_embedding)"
   ]
  },
  {
   "cell_type": "code",
   "execution_count": 101,
   "metadata": {},
   "outputs": [],
   "source": [
    "#building a graph and calculating pagerank \n",
    "nx_graph = nx.from_numpy_array(similarity_matrix)\n",
    "scores = nx.pagerank(nx_graph)"
   ]
  },
  {
   "cell_type": "code",
   "execution_count": 102,
   "metadata": {},
   "outputs": [],
   "source": [
    "#retrieving top 10 sentences\n",
    "top_sentence={sentence:scores[index] for index,sentence in enumerate(sentences)}\n",
    "top=dict(sorted(top_sentence.items(), key=lambda x: x[1], reverse=True)[:10])"
   ]
  },
  {
   "cell_type": "code",
   "execution_count": 103,
   "metadata": {},
   "outputs": [
    {
     "name": "stdout",
     "output_type": "stream",
     "text": [
      "Officers tear-gas elderly people on a pensioners' march.\n",
      "Initially this people's tsunami made the police disappear from the streets.\n",
      "Women screamed and raised their hands, begging the police not to take them.\n",
      "\"There are fewer opposition flags,\" said Vladimir (not his real name), an entrepreneur in Minsk.\n",
      "They include Andrey Pogerilo, a 29-year-old locksmith from Grodno.\n",
      "He was in a cafe when the first clashes took place in Minsk that night.\n",
      "That day police wanted to break people, not detain them.\"\n",
      "Prominent athletes openly demand new elections and an end to police violence.\n",
      "Their response to beatings is to turn up at the next rally carrying flowers.\n",
      "The past 100 days have illustrated how powerful this peaceful approach is.\n"
     ]
    }
   ],
   "source": [
    "for sent in sentences:\n",
    "    if sent in top.keys():\n",
    "        print(sent)"
   ]
  },
  {
   "cell_type": "markdown",
   "metadata": {},
   "source": [
    "Second method shows better results. Summary covers the entire text and conveys the main idea of the article."
   ]
  }
 ],
 "metadata": {
  "kernelspec": {
   "display_name": "Python 3",
   "language": "python",
   "name": "python3"
  },
  "language_info": {
   "codemirror_mode": {
    "name": "ipython",
    "version": 3
   },
   "file_extension": ".py",
   "mimetype": "text/x-python",
   "name": "python",
   "nbconvert_exporter": "python",
   "pygments_lexer": "ipython3",
   "version": "3.8.5"
  }
 },
 "nbformat": 4,
 "nbformat_minor": 4
}
